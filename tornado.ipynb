{
 "cells": [
  {
   "cell_type": "markdown",
   "metadata": {},
   "source": [
    "# Twister! United States tornadoes"
   ]
  },
  {
   "cell_type": "markdown",
   "metadata": {},
   "source": [
    "### Analyzing United States tornadoes\n",
    "Tornadoes occur in many parts of the world, including Australia, Europe, Africa, Asia, and South America, but they are found most frequently in the United States. Outside the United States, two of the highest concentrations of tornadoes are found in Argentina and Bangladesh.\n",
    "\n",
    "Tornadoes are the most violent of all atmospheric storms and in the United States alone have caused an average of more than 80 deaths and 1,400 injuries each year (based on 1950–2008 data). A tornado is a narrow, violently rotating column of air that extends from the base of a thunderstorm to the ground. Tornado formation is complex and no two tornadoes are the same; however, they need certain conditions to form, including intense or unseasonable heat. Wind speed within a tornado can vary from just above 0 mph up to 70 mph, with an average of 30 mph (NOAA). The Fujita damage scale is used to quantify the intensity of a tornado."
   ]
  },
  {
   "cell_type": "markdown",
   "metadata": {},
   "source": [
    "![](tornado_img/2.png)"
   ]
  },
  {
   "cell_type": "markdown",
   "metadata": {},
   "source": [
    "Explore the map of tornadoes across the United States: Twister! United States tornadoes from 1950 to 2012\n",
    "\n",
    "### Which states have had the most tornadoes?\n",
    "Using tornado location data from the United States severe weather report database, provided by the National Oceanic and Atmospheric Administration (NOAA)/National Weather Service Storm Prediction Center (http://www.spc.noaa.gov/gis/svrgis/), you can find the total number of tornadoes by state."
   ]
  },
  {
   "cell_type": "code",
   "execution_count": 3,
   "metadata": {},
   "outputs": [],
   "source": [
    "from arcgis.gis import GIS\n",
    "import pandas as pd"
   ]
  },
  {
   "cell_type": "code",
   "execution_count": 4,
   "metadata": {},
   "outputs": [],
   "source": [
    "gis = GIS(\"https://deldev.maps.arcgis.com\", \"demos_deldev\", \"DelDevs12\")"
   ]
  },
  {
   "cell_type": "code",
   "execution_count": 5,
   "metadata": {},
   "outputs": [],
   "source": [
    "data = gis.content.search('title:tornado_lyr', 'Feature layer',)"
   ]
  },
  {
   "cell_type": "code",
   "execution_count": 6,
   "metadata": {},
   "outputs": [
    {
     "data": {
      "text/html": [
       "<div class=\"item_container\" style=\"height: auto; overflow: hidden; border: 1px solid #cfcfcf; border-radius: 2px; background: #f6fafa; line-height: 1.21429em; padding: 10px;\">\n",
       "                    <div class=\"item_left\" style=\"width: 210px; float: left;\">\n",
       "                       <a href='https://deldev.maps.arcgis.com/home/item.html?id=862842af46234f6295a60c082406298f' target='_blank'>\n",
       "                        <img src='data:image/png;base64,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' width='200' height='133' class=\"itemThumbnail\">\n",
       "                       </a>\n",
       "                    </div>\n",
       "\n",
       "                    <div class=\"item_right\"     style=\"float: none; width: auto; overflow: hidden;\">\n",
       "                        <a href='https://deldev.maps.arcgis.com/home/item.html?id=862842af46234f6295a60c082406298f' target='_blank'><b>tornado_lyr</b>\n",
       "                        </a>\n",
       "                        <br/>Tornado Tracks for 1950-2011, Kansas, USA<img src='https://deldev.maps.arcgis.com/home/js/jsapi/esri/css/images/item_type_icons/featureshosted16.png' style=\"vertical-align:middle;\">Feature Layer Collection by demos_deldev\n",
       "                        <br/>Last Modified: October 12, 2018\n",
       "                        <br/>0 comments, 0 views\n",
       "                    </div>\n",
       "                </div>\n",
       "                "
      ],
      "text/plain": [
       "<Item title:\"tornado_lyr\" type:Feature Layer Collection owner:demos_deldev>"
      ]
     },
     "metadata": {},
     "output_type": "display_data"
    }
   ],
   "source": [
    "from IPython.display import display\n",
    "\n",
    "for item in data:\n",
    "    display(item)"
   ]
  },
  {
   "cell_type": "code",
   "execution_count": 11,
   "metadata": {},
   "outputs": [],
   "source": [
    "item = data[0]"
   ]
  },
  {
   "cell_type": "code",
   "execution_count": 12,
   "metadata": {},
   "outputs": [
    {
     "name": "stdout",
     "output_type": "stream",
     "text": [
      "StatePop_5011\n",
      "Kansas_tracks\n",
      "MeanTrack_Merge\n",
      "Kansas_counties10\n",
      "Tornadoes_5011\n"
     ]
    }
   ],
   "source": [
    "for lyr in item.layers:\n",
    "    print(lyr.properties.name)"
   ]
  },
  {
   "cell_type": "code",
   "execution_count": 14,
   "metadata": {},
   "outputs": [],
   "source": [
    "boundary = item.layers[0]"
   ]
  },
  {
   "cell_type": "code",
   "execution_count": 16,
   "metadata": {},
   "outputs": [],
   "source": [
    "tornado_lyr = item.layers[4]"
   ]
  },
  {
   "cell_type": "code",
   "execution_count": 17,
   "metadata": {},
   "outputs": [],
   "source": [
    "from arcgis.features.summarize_data import aggregate_points"
   ]
  },
  {
   "cell_type": "code",
   "execution_count": 18,
   "metadata": {},
   "outputs": [],
   "source": [
    "agg_points = aggregate_points(point_layer=tornado_lyr,  polygon_layer=boundary, keep_boundaries_with_no_points=True,\n",
    "                              output_name=\"agg_tornado_points\")"
   ]
  },
  {
   "cell_type": "code",
   "execution_count": 19,
   "metadata": {},
   "outputs": [
    {
     "data": {
      "text/html": [
       "<div class=\"item_container\" style=\"height: auto; overflow: hidden; border: 1px solid #cfcfcf; border-radius: 2px; background: #f6fafa; line-height: 1.21429em; padding: 10px;\">\n",
       "                    <div class=\"item_left\" style=\"width: 210px; float: left;\">\n",
       "                       <a href='https://deldev.maps.arcgis.com/home/item.html?id=5f9c031f0aef4e5f83907150981208ed' target='_blank'>\n",
       "                        <img src='http://static.arcgis.com/images/desktopapp.png' class=\"itemThumbnail\">\n",
       "                       </a>\n",
       "                    </div>\n",
       "\n",
       "                    <div class=\"item_right\"     style=\"float: none; width: auto; overflow: hidden;\">\n",
       "                        <a href='https://deldev.maps.arcgis.com/home/item.html?id=5f9c031f0aef4e5f83907150981208ed' target='_blank'><b>agg_tornado_points</b>\n",
       "                        </a>\n",
       "                        <br/><img src='https://deldev.maps.arcgis.com/home/js/jsapi/esri/css/images/item_type_icons/featureshosted16.png' style=\"vertical-align:middle;\">Feature Layer Collection by demos_deldev\n",
       "                        <br/>Last Modified: October 12, 2018\n",
       "                        <br/>0 comments, 1 views\n",
       "                    </div>\n",
       "                </div>\n",
       "                "
      ],
      "text/plain": [
       "<Item title:\"agg_tornado_points\" type:Feature Layer Collection owner:demos_deldev>"
      ]
     },
     "execution_count": 19,
     "metadata": {},
     "output_type": "execute_result"
    }
   ],
   "source": [
    "agg_points"
   ]
  },
  {
   "cell_type": "code",
   "execution_count": 20,
   "metadata": {},
   "outputs": [
    {
     "data": {
      "application/vnd.jupyter.widget-view+json": {
       "model_id": "01e58f8c8f8e4c8b99438c901eec4fa9",
       "version_major": 2,
       "version_minor": 0
      },
      "text/html": [
       "<p>Failed to display Jupyter Widget of type <code>MapView</code>.</p>\n",
       "<p>\n",
       "  If you're reading this message in the Jupyter Notebook or JupyterLab Notebook, it may mean\n",
       "  that the widgets JavaScript is still loading. If this message persists, it\n",
       "  likely means that the widgets JavaScript library is either not installed or\n",
       "  not enabled. See the <a href=\"https://ipywidgets.readthedocs.io/en/stable/user_install.html\">Jupyter\n",
       "  Widgets Documentation</a> for setup instructions.\n",
       "</p>\n",
       "<p>\n",
       "  If you're reading this message in another frontend (for example, a static\n",
       "  rendering on GitHub or <a href=\"https://nbviewer.jupyter.org/\">NBViewer</a>),\n",
       "  it may mean that your frontend doesn't currently support widgets.\n",
       "</p>\n"
      ],
      "text/plain": [
       "MapView(basemaps=['dark-gray', 'dark-gray-vector', 'gray', 'gray-vector', 'hybrid', 'national-geographic', 'oceans', 'osm', 'satellite', 'streets', 'streets-navigation-vector', 'streets-night-vector', 'streets-relief-vector', 'streets-vector', 'terrain', 'topo', 'topo-vector'], center=[0, 0])"
      ]
     },
     "metadata": {},
     "output_type": "display_data"
    }
   ],
   "source": [
    "m = gis.map('US')\n",
    "m"
   ]
  },
  {
   "cell_type": "markdown",
   "metadata": {},
   "source": [
    "Number of tornadoes by state, 1950–2011\n",
    "\n",
    "\n",
    "Some states are subject to many more tornadoes than others. Over a 62-year period (1950–2011), Texas had by far the most tornadoes (with 7,935), followed by Kansas (with 3,713), while others such as Vermont, Rhode Island, and the District of Columbia had fewer than 50.\n",
    "\n",
    "The ten states shown in the graph below had 20 percent of the total number of tornadoes.\n",
    "\n",
    "Graph of the ten states with the highest number of tornadoes"
   ]
  },
  {
   "cell_type": "code",
   "execution_count": 21,
   "metadata": {},
   "outputs": [],
   "source": [
    "m.add_layer(agg_points)"
   ]
  },
  {
   "cell_type": "markdown",
   "metadata": {},
   "source": [
    "### Who has suffered the most?"
   ]
  },
  {
   "cell_type": "markdown",
   "metadata": {},
   "source": [
    "There can be many devastating effects from a tornado, including loss of life, injuries, property damage, and financial losses. To identify populations that have been affected by tornadoes, you can aggregate the number of tornadoes to the state level and normalize by population."
   ]
  },
  {
   "cell_type": "markdown",
   "metadata": {},
   "source": [
    "To normalize by population data where it is already found in the state layer, click the arrow next to the aggregated layer and select Change Symbols. Change to use Color and to show Count of Points, normalized by population and put into three classes, using quantiles."
   ]
  },
  {
   "cell_type": "code",
   "execution_count": 25,
   "metadata": {},
   "outputs": [],
   "source": [
    "aggregate_lyr = agg_points.layers[0]"
   ]
  },
  {
   "cell_type": "code",
   "execution_count": 28,
   "metadata": {},
   "outputs": [
    {
     "ename": "SyntaxError",
     "evalue": "invalid syntax (<ipython-input-28-6ebb2d646d9a>, line 1)",
     "output_type": "error",
     "traceback": [
      "\u001b[1;36m  File \u001b[1;32m\"<ipython-input-28-6ebb2d646d9a>\"\u001b[1;36m, line \u001b[1;32m1\u001b[0m\n\u001b[1;33m    aggregate_lyr.query(out_fields=*, group_by_fields_for_statistics=\"CASE WHEN (Point_Count >= 2 AND Point_Count < 398.65) THEN 1 WHEN (Point_Count >= 398.65 AND Point_Count < 795.3) THEN 2 WHEN (Point_Count >= 795.3 AND Point_Count < 1191.9499999999998) THEN 3 WHEN (Point_Count >= 1191.9499999999998 AND Point_Count < 1588.6) THEN 4 WHEN (Point_Count >= 1588.6 AND Point_Count < 1985.25) THEN 5 WHEN (Point_Count >= 1985.25 AND Point_Count < 2381.9) THEN 6 WHEN (Point_Count >= 2381.9 AND Point_Count < 2778.55) THEN 7 WHEN (Point_Count >= 2778.55 AND Point_Count < 3175.2000000000003) THEN 8 WHEN (Point_Count >= 3175.2000000000003 AND Point_Count < 3571.8500000000004) THEN 9 WHEN (Point_Count >= 3571.8500000000004 AND Point_Count < 3968.5000000000005) THEN 10 WHEN (Point_Count >= 3968.5000000000005 AND Point_Count < 4365.150000000001) THEN 11 WHEN (Point_Count >= 4365.150000000001 AND Point_Count < 4761.8) THEN 12 WHEN (Point_Count >= 4761.8 AND Point_Count < 5158.45) THEN 13 WHEN (Point_Count >= 5158.45 AND Point_Count < 5555.099999999999) THEN 14 WHEN (Point_Count >= 5555.099999999999 AND Point_Count < 5951.749999999999) THEN 15 WHEN (Point_Count >= 5951.749999999999 AND Point_Count < 6348.399999999999) THEN 16 WHEN (Point_Count >= 6348.399999999999 AND Point_Count < 6745.049999999998) THEN 17 WHEN (Point_Count >= 6745.049999999998 AND Point_Count < 7141.699999999998) THEN 18 WHEN (Point_Count >= 7141.699999999998 AND Point_Count < 7538.349999999998) THEN 19 WHEN (Point_Count >= 7538.349999999998 AND Point_Count <= 7934.999999999997) THEN 20 ELSE 0 END, out_sr=102100, out_statistics=[{\"statisticType\":\"count\",\"onStatisticField\":\"*\",\"outStatisticFieldName\":\"countOFExpr\"}]\", order_by_fields=\"CASE WHEN (Point_Count >= 2 AND Point_Count < 398.65) THEN 1 WHEN (Point_Count >= 398.65 AND Point_Count < 795.3) THEN 2 WHEN (Point_Count >= 795.3 AND Point_Count < 1191.9499999999998) THEN 3 WHEN (Point_Count >= 1191.9499999999998 AND Point_Count < 1588.6) THEN 4 WHEN (Point_Count >= 1588.6 AND Point_Count < 1985.25) THEN 5 WHEN (Point_Count >= 1985.25 AND Point_Count < 2381.9) THEN 6 WHEN (Point_Count >= 2381.9 AND Point_Count < 2778.55) THEN 7 WHEN (Point_Count >= 2778.55 AND Point_Count < 3175.2000000000003) THEN 8 WHEN (Point_Count >= 3175.2000000000003 AND Point_Count < 3571.8500000000004) THEN 9 WHEN (Point_Count >= 3571.8500000000004 AND Point_Count < 3968.5000000000005) THEN 10 WHEN (Point_Count >= 3968.5000000000005 AND Point_Count < 4365.150000000001) THEN 11 WHEN (Point_Count >= 4365.150000000001 AND Point_Count < 4761.8) THEN 12 WHEN (Point_Count >= 4761.8 AND Point_Count < 5158.45) THEN 13 WHEN (Point_Count >= 5158.45 AND Point_Count < 5555.099999999999) THEN 14 WHEN (Point_Count >= 5555.099999999999 AND Point_Count < 5951.749999999999) THEN 15 WHEN (Point_Count >= 5951.749999999999 AND Point_Count < 6348.399999999999) THEN 16 WHEN (Point_Count >= 6348.399999999999 AND Point_Count < 6745.049999999998) THEN 17 WHEN (Point_Count >= 6745.049999999998 AND Point_Count < 7141.699999999998) THEN 18 WHEN (Point_Count >= 7141.699999999998 AND Point_Count < 7538.349999999998) THEN 19 WHEN (Point_Count >= 7538.349999999998 AND Point_Count <= 7934.999999999997) THEN 20 ELSE 0 END\")\u001b[0m\n\u001b[1;37m                                   ^\u001b[0m\n\u001b[1;31mSyntaxError\u001b[0m\u001b[1;31m:\u001b[0m invalid syntax\n"
     ]
    }
   ],
   "source": [
    "aggregate_lyr.query(out_fields=*, group_by_fields_for_statistics=\"CASE WHEN (Point_Count >= 2 AND Point_Count < 398.65) THEN 1 WHEN (Point_Count >= 398.65 AND Point_Count < 795.3) THEN 2 WHEN (Point_Count >= 795.3 AND Point_Count < 1191.9499999999998) THEN 3 WHEN (Point_Count >= 1191.9499999999998 AND Point_Count < 1588.6) THEN 4 WHEN (Point_Count >= 1588.6 AND Point_Count < 1985.25) THEN 5 WHEN (Point_Count >= 1985.25 AND Point_Count < 2381.9) THEN 6 WHEN (Point_Count >= 2381.9 AND Point_Count < 2778.55) THEN 7 WHEN (Point_Count >= 2778.55 AND Point_Count < 3175.2000000000003) THEN 8 WHEN (Point_Count >= 3175.2000000000003 AND Point_Count < 3571.8500000000004) THEN 9 WHEN (Point_Count >= 3571.8500000000004 AND Point_Count < 3968.5000000000005) THEN 10 WHEN (Point_Count >= 3968.5000000000005 AND Point_Count < 4365.150000000001) THEN 11 WHEN (Point_Count >= 4365.150000000001 AND Point_Count < 4761.8) THEN 12 WHEN (Point_Count >= 4761.8 AND Point_Count < 5158.45) THEN 13 WHEN (Point_Count >= 5158.45 AND Point_Count < 5555.099999999999) THEN 14 WHEN (Point_Count >= 5555.099999999999 AND Point_Count < 5951.749999999999) THEN 15 WHEN (Point_Count >= 5951.749999999999 AND Point_Count < 6348.399999999999) THEN 16 WHEN (Point_Count >= 6348.399999999999 AND Point_Count < 6745.049999999998) THEN 17 WHEN (Point_Count >= 6745.049999999998 AND Point_Count < 7141.699999999998) THEN 18 WHEN (Point_Count >= 7141.699999999998 AND Point_Count < 7538.349999999998) THEN 19 WHEN (Point_Count >= 7538.349999999998 AND Point_Count <= 7934.999999999997) THEN 20 ELSE 0 END, out_sr=102100, out_statistics=[{\"statisticType\":\"count\",\"onStatisticField\":\"*\",\"outStatisticFieldName\":\"countOFExpr\"}]\", order_by_fields=\"CASE WHEN (Point_Count >= 2 AND Point_Count < 398.65) THEN 1 WHEN (Point_Count >= 398.65 AND Point_Count < 795.3) THEN 2 WHEN (Point_Count >= 795.3 AND Point_Count < 1191.9499999999998) THEN 3 WHEN (Point_Count >= 1191.9499999999998 AND Point_Count < 1588.6) THEN 4 WHEN (Point_Count >= 1588.6 AND Point_Count < 1985.25) THEN 5 WHEN (Point_Count >= 1985.25 AND Point_Count < 2381.9) THEN 6 WHEN (Point_Count >= 2381.9 AND Point_Count < 2778.55) THEN 7 WHEN (Point_Count >= 2778.55 AND Point_Count < 3175.2000000000003) THEN 8 WHEN (Point_Count >= 3175.2000000000003 AND Point_Count < 3571.8500000000004) THEN 9 WHEN (Point_Count >= 3571.8500000000004 AND Point_Count < 3968.5000000000005) THEN 10 WHEN (Point_Count >= 3968.5000000000005 AND Point_Count < 4365.150000000001) THEN 11 WHEN (Point_Count >= 4365.150000000001 AND Point_Count < 4761.8) THEN 12 WHEN (Point_Count >= 4761.8 AND Point_Count < 5158.45) THEN 13 WHEN (Point_Count >= 5158.45 AND Point_Count < 5555.099999999999) THEN 14 WHEN (Point_Count >= 5555.099999999999 AND Point_Count < 5951.749999999999) THEN 15 WHEN (Point_Count >= 5951.749999999999 AND Point_Count < 6348.399999999999) THEN 16 WHEN (Point_Count >= 6348.399999999999 AND Point_Count < 6745.049999999998) THEN 17 WHEN (Point_Count >= 6745.049999999998 AND Point_Count < 7141.699999999998) THEN 18 WHEN (Point_Count >= 7141.699999999998 AND Point_Count < 7538.349999999998) THEN 19 WHEN (Point_Count >= 7538.349999999998 AND Point_Count <= 7934.999999999997) THEN 20 ELSE 0 END\")"
   ]
  },
  {
   "cell_type": "code",
   "execution_count": 29,
   "metadata": {},
   "outputs": [
    {
     "data": {
      "text/plain": [
       "{'objectIdFieldName': 'OBJECTID',\n",
       " 'objectIds': [1,\n",
       "  2,\n",
       "  3,\n",
       "  4,\n",
       "  5,\n",
       "  6,\n",
       "  7,\n",
       "  8,\n",
       "  9,\n",
       "  10,\n",
       "  11,\n",
       "  12,\n",
       "  13,\n",
       "  14,\n",
       "  15,\n",
       "  16,\n",
       "  17,\n",
       "  18,\n",
       "  19,\n",
       "  20,\n",
       "  21,\n",
       "  22,\n",
       "  23,\n",
       "  24,\n",
       "  25,\n",
       "  26,\n",
       "  27,\n",
       "  28,\n",
       "  29,\n",
       "  30,\n",
       "  31,\n",
       "  32,\n",
       "  33,\n",
       "  34,\n",
       "  35,\n",
       "  36,\n",
       "  37,\n",
       "  38,\n",
       "  39,\n",
       "  40,\n",
       "  41,\n",
       "  42,\n",
       "  43,\n",
       "  44,\n",
       "  45,\n",
       "  46,\n",
       "  47,\n",
       "  48,\n",
       "  49,\n",
       "  50,\n",
       "  51]}"
      ]
     },
     "execution_count": 29,
     "metadata": {},
     "output_type": "execute_result"
    }
   ],
   "source": [
    "aggregate_lyr.query(where='1=1', return_distinct_values=True, return_ids_only=True, return_geometry=False, out_sr=102100 )"
   ]
  },
  {
   "cell_type": "code",
   "execution_count": null,
   "metadata": {},
   "outputs": [],
   "source": []
  }
 ],
 "metadata": {
  "kernelspec": {
   "display_name": "Python 3",
   "language": "python",
   "name": "python3"
  },
  "language_info": {
   "codemirror_mode": {
    "name": "ipython",
    "version": 3
   },
   "file_extension": ".py",
   "mimetype": "text/x-python",
   "name": "python",
   "nbconvert_exporter": "python",
   "pygments_lexer": "ipython3",
   "version": "3.6.4"
  }
 },
 "nbformat": 4,
 "nbformat_minor": 2
}
