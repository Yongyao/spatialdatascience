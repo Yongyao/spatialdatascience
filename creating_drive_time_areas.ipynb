{
 "cells": [
  {
   "cell_type": "markdown",
   "metadata": {},
   "source": [
    "# Investigating emergency response times"
   ]
  },
  {
   "cell_type": "markdown",
   "metadata": {},
   "source": [
    "Note: This example use case presents an approach to using ArcGIS to find out which areas are within a four-minute drive time of a fire station in a particular city. While the data is real, the scenario, analysis, and resulting decisions are hypothetical. The purpose of the example is to illustrate the type of problem that can be addressed using the drive-time areas."
   ]
  },
  {
   "cell_type": "markdown",
   "metadata": {},
   "source": [
    "Prompted by a series of articles about emergency response times in a nearby large metropolitan area, a reporter for the local newspaper is writing an article on fire response times in her small city. To accompany the article, the reporter wants to include maps showing the areas of the city within a four-minute drive of a fire station. Her research has found that's a common standard for many cities."
   ]
  },
  {
   "cell_type": "markdown",
   "metadata": {},
   "source": [
    "Connect your ArcGIS online organization."
   ]
  },
  {
   "cell_type": "code",
   "execution_count": 1,
   "metadata": {},
   "outputs": [],
   "source": [
    "from arcgis import *"
   ]
  },
  {
   "cell_type": "code",
   "execution_count": 2,
   "metadata": {},
   "outputs": [],
   "source": [
    "gis = GIS(\"https://deldev.maps.arcgis.com\", \"demos_deldev\", \"DelDevs12\")"
   ]
  },
  {
   "cell_type": "markdown",
   "metadata": {},
   "source": [
    "Accessing the content property of your gis object you can use the search() method."
   ]
  },
  {
   "cell_type": "code",
   "execution_count": 3,
   "metadata": {},
   "outputs": [],
   "source": [
    "items = gis.content.search('title:layers')"
   ]
  },
  {
   "cell_type": "code",
   "execution_count": 4,
   "metadata": {},
   "outputs": [
    {
     "data": {
      "text/plain": [
       "[<Item title:\"Layers\" type:Feature Layer Collection owner:demos_deldev>,\n",
       " <Item title:\"Layers\" type:Service Definition owner:demos_deldev>,\n",
       " <Item title:\"layer_2am_\" type:Feature Layer Collection owner:demos_deldev>,\n",
       " <Item title:\"dissolved Layer1\" type:Feature Layer Collection owner:demos_deldev>,\n",
       " <Item title:\"unemployment_layer\" type:Feature Layer Collection owner:demo_deldev>]"
      ]
     },
     "execution_count": 4,
     "metadata": {},
     "output_type": "execute_result"
    }
   ],
   "source": [
    "items"
   ]
  },
  {
   "cell_type": "markdown",
   "metadata": {},
   "source": [
    "Importing the display module"
   ]
  },
  {
   "cell_type": "code",
   "execution_count": 5,
   "metadata": {},
   "outputs": [
    {
     "data": {
      "text/html": [
       "<div class=\"item_container\" style=\"height: auto; overflow: hidden; border: 1px solid #cfcfcf; border-radius: 2px; background: #f6fafa; line-height: 1.21429em; padding: 10px;\">\n",
       "                    <div class=\"item_left\" style=\"width: 210px; float: left;\">\n",
       "                       <a href='https://deldev.maps.arcgis.com/home/item.html?id=7e0b1ad7be6a439f8ba68b4e4fd35f67' target='_blank'>\n",
       "                        <img src='data:image/png;base64,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' width='200' height='133' class=\"itemThumbnail\">\n",
       "                       </a>\n",
       "                    </div>\n",
       "\n",
       "                    <div class=\"item_right\"     style=\"float: none; width: auto; overflow: hidden;\">\n",
       "                        <a href='https://deldev.maps.arcgis.com/home/item.html?id=7e0b1ad7be6a439f8ba68b4e4fd35f67' target='_blank'><b>Layers</b>\n",
       "                        </a>\n",
       "                        <br/>Contains data for use with the case study workflow for creating drive time areas around fire stations.<img src='https://deldev.maps.arcgis.com/home/js/jsapi/esri/css/images/item_type_icons/featureshosted16.png' style=\"vertical-align:middle;\">Feature Layer Collection by demos_deldev\n",
       "                        <br/>Last Modified: September 28, 2018\n",
       "                        <br/>0 comments, 0 views\n",
       "                    </div>\n",
       "                </div>\n",
       "                "
      ],
      "text/plain": [
       "<Item title:\"Layers\" type:Feature Layer Collection owner:demos_deldev>"
      ]
     },
     "metadata": {},
     "output_type": "display_data"
    },
    {
     "data": {
      "text/html": [
       "<div class=\"item_container\" style=\"height: auto; overflow: hidden; border: 1px solid #cfcfcf; border-radius: 2px; background: #f6fafa; line-height: 1.21429em; padding: 10px;\">\n",
       "                    <div class=\"item_left\" style=\"width: 210px; float: left;\">\n",
       "                       <a href='https://deldev.maps.arcgis.com/home/item.html?id=74e553ede5114afeb0c20b0dbaadfe3b' target='_blank'>\n",
       "                        <img src='data:image/png;base64,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' width='200' height='133' class=\"itemThumbnail\">\n",
       "                       </a>\n",
       "                    </div>\n",
       "\n",
       "                    <div class=\"item_right\"     style=\"float: none; width: auto; overflow: hidden;\">\n",
       "                        <a href='https://deldev.maps.arcgis.com/home/item.html?id=74e553ede5114afeb0c20b0dbaadfe3b' target='_blank'><b>Layers</b>\n",
       "                        </a>\n",
       "                        <br/>Contains data for use with the case study workflow for creating drive time areas around fire stations.<img src='https://deldev.maps.arcgis.com/home/js/jsapi/esri/css/images/item_type_icons/layers16.png' style=\"vertical-align:middle;\">Service Definition by demos_deldev\n",
       "                        <br/>Last Modified: September 28, 2018\n",
       "                        <br/>0 comments, 0 views\n",
       "                    </div>\n",
       "                </div>\n",
       "                "
      ],
      "text/plain": [
       "<Item title:\"Layers\" type:Service Definition owner:demos_deldev>"
      ]
     },
     "metadata": {},
     "output_type": "display_data"
    },
    {
     "data": {
      "text/html": [
       "<div class=\"item_container\" style=\"height: auto; overflow: hidden; border: 1px solid #cfcfcf; border-radius: 2px; background: #f6fafa; line-height: 1.21429em; padding: 10px;\">\n",
       "                    <div class=\"item_left\" style=\"width: 210px; float: left;\">\n",
       "                       <a href='https://deldev.maps.arcgis.com/home/item.html?id=ad2acbe3102b4a549af552c0b6094afb' target='_blank'>\n",
       "                        <img src='data:image/png;base64,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' width='200' height='133' class=\"itemThumbnail\">\n",
       "                       </a>\n",
       "                    </div>\n",
       "\n",
       "                    <div class=\"item_right\"     style=\"float: none; width: auto; overflow: hidden;\">\n",
       "                        <a href='https://deldev.maps.arcgis.com/home/item.html?id=ad2acbe3102b4a549af552c0b6094afb' target='_blank'><b>layer_2am_</b>\n",
       "                        </a>\n",
       "                        <br/>Feature layer generated from Create Drive Times<img src='https://deldev.maps.arcgis.com/home/js/jsapi/esri/css/images/item_type_icons/featureshosted16.png' style=\"vertical-align:middle;\">Feature Layer Collection by demos_deldev\n",
       "                        <br/>Last Modified: October 05, 2018\n",
       "                        <br/>0 comments, 1 views\n",
       "                    </div>\n",
       "                </div>\n",
       "                "
      ],
      "text/plain": [
       "<Item title:\"layer_2am_\" type:Feature Layer Collection owner:demos_deldev>"
      ]
     },
     "metadata": {},
     "output_type": "display_data"
    },
    {
     "data": {
      "text/html": [
       "<div class=\"item_container\" style=\"height: auto; overflow: hidden; border: 1px solid #cfcfcf; border-radius: 2px; background: #f6fafa; line-height: 1.21429em; padding: 10px;\">\n",
       "                    <div class=\"item_left\" style=\"width: 210px; float: left;\">\n",
       "                       <a href='https://deldev.maps.arcgis.com/home/item.html?id=cc393960ad724c7793d71eaec415e25b' target='_blank'>\n",
       "                        <img src='http://static.arcgis.com/images/desktopapp.png' class=\"itemThumbnail\">\n",
       "                       </a>\n",
       "                    </div>\n",
       "\n",
       "                    <div class=\"item_right\"     style=\"float: none; width: auto; overflow: hidden;\">\n",
       "                        <a href='https://deldev.maps.arcgis.com/home/item.html?id=cc393960ad724c7793d71eaec415e25b' target='_blank'><b>dissolved Layer1</b>\n",
       "                        </a>\n",
       "                        <br/><img src='https://deldev.maps.arcgis.com/home/js/jsapi/esri/css/images/item_type_icons/featureshosted16.png' style=\"vertical-align:middle;\">Feature Layer Collection by demos_deldev\n",
       "                        <br/>Last Modified: September 04, 2018\n",
       "                        <br/>0 comments, 0 views\n",
       "                    </div>\n",
       "                </div>\n",
       "                "
      ],
      "text/plain": [
       "<Item title:\"dissolved Layer1\" type:Feature Layer Collection owner:demos_deldev>"
      ]
     },
     "metadata": {},
     "output_type": "display_data"
    },
    {
     "data": {
      "text/html": [
       "<div class=\"item_container\" style=\"height: auto; overflow: hidden; border: 1px solid #cfcfcf; border-radius: 2px; background: #f6fafa; line-height: 1.21429em; padding: 10px;\">\n",
       "                    <div class=\"item_left\" style=\"width: 210px; float: left;\">\n",
       "                       <a href='https://deldev.maps.arcgis.com/home/item.html?id=e4a7650d94544e3d80ecc939e7a45163' target='_blank'>\n",
       "                        <img src='http://static.arcgis.com/images/desktopapp.png' class=\"itemThumbnail\">\n",
       "                       </a>\n",
       "                    </div>\n",
       "\n",
       "                    <div class=\"item_right\"     style=\"float: none; width: auto; overflow: hidden;\">\n",
       "                        <a href='https://deldev.maps.arcgis.com/home/item.html?id=e4a7650d94544e3d80ecc939e7a45163' target='_blank'><b>unemployment_layer</b>\n",
       "                        </a>\n",
       "                        <br/><img src='https://deldev.maps.arcgis.com/home/js/jsapi/esri/css/images/item_type_icons/featureshosted16.png' style=\"vertical-align:middle;\">Feature Layer Collection by demo_deldev\n",
       "                        <br/>Last Modified: June 05, 2018\n",
       "                        <br/>0 comments, 1 views\n",
       "                    </div>\n",
       "                </div>\n",
       "                "
      ],
      "text/plain": [
       "<Item title:\"unemployment_layer\" type:Feature Layer Collection owner:demo_deldev>"
      ]
     },
     "metadata": {},
     "output_type": "display_data"
    }
   ],
   "source": [
    "from IPython.display import display\n",
    "for item in items:\n",
    "    display(item)"
   ]
  },
  {
   "cell_type": "markdown",
   "metadata": {},
   "source": [
    "Getting the first item"
   ]
  },
  {
   "cell_type": "code",
   "execution_count": 6,
   "metadata": {},
   "outputs": [],
   "source": [
    "drive_item = items[0]"
   ]
  },
  {
   "cell_type": "markdown",
   "metadata": {},
   "source": [
    "Since the item is a Feature Layer Collection, accessing the layers property will give us a list of FeatureLayer objects."
   ]
  },
  {
   "cell_type": "code",
   "execution_count": 7,
   "metadata": {},
   "outputs": [],
   "source": [
    "fire_station = drive_item.layers[0]"
   ]
  },
  {
   "cell_type": "code",
   "execution_count": 8,
   "metadata": {},
   "outputs": [],
   "source": [
    "city_bound = drive_item.layers[1]"
   ]
  },
  {
   "cell_type": "code",
   "execution_count": 9,
   "metadata": {},
   "outputs": [
    {
     "data": {
      "text/html": [
       "<div class=\"item_container\" style=\"height: auto; overflow: hidden; border: 1px solid #cfcfcf; border-radius: 2px; background: #f6fafa; line-height: 1.21429em; padding: 10px;\">\n",
       "                    <div class=\"item_left\" style=\"width: 210px; float: left;\">\n",
       "                       <a href='https://deldev.maps.arcgis.com/home/item.html?id=7e0b1ad7be6a439f8ba68b4e4fd35f67' target='_blank'>\n",
       "                        <img src='data:image/png;base64,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' width='200' height='133' class=\"itemThumbnail\">\n",
       "                       </a>\n",
       "                    </div>\n",
       "\n",
       "                    <div class=\"item_right\"     style=\"float: none; width: auto; overflow: hidden;\">\n",
       "                        <a href='https://deldev.maps.arcgis.com/home/item.html?id=7e0b1ad7be6a439f8ba68b4e4fd35f67' target='_blank'><b>Layers</b>\n",
       "                        </a>\n",
       "                        <br/>Contains data for use with the case study workflow for creating drive time areas around fire stations.<img src='https://deldev.maps.arcgis.com/home/js/jsapi/esri/css/images/item_type_icons/featureshosted16.png' style=\"vertical-align:middle;\">Feature Layer Collection by demos_deldev\n",
       "                        <br/>Last Modified: September 28, 2018\n",
       "                        <br/>0 comments, 0 views\n",
       "                    </div>\n",
       "                </div>\n",
       "                "
      ],
      "text/plain": [
       "<Item title:\"Layers\" type:Feature Layer Collection owner:demos_deldev>"
      ]
     },
     "execution_count": 9,
     "metadata": {},
     "output_type": "execute_result"
    }
   ],
   "source": [
    "drive_item"
   ]
  },
  {
   "cell_type": "markdown",
   "metadata": {},
   "source": [
    "![](drive_time_img/2.PNG) \n",
    "![](drive_time_img/3.PNG)"
   ]
  },
  {
   "cell_type": "markdown",
   "metadata": {},
   "source": [
    "Creating drive-time areas\n",
    "To create the maps, the reporter will create drive-time areas around each fire station. Drive-time areas display the area within a specified distance or drive time of a location—in this case, four minutes.\n",
    "\n",
    "To start, the reporter adds the locations of fire stations from the city's online GIS database. After opening the drive-time analysis tool, she sees that she can specify the drive time using different traffic conditions by selecting a day of the week and time of day. She decides to see if the area covered within four minutes of a fire station changes during heavy and light traffic—say Friday afternoon rush hour versus 2:00 a.m. on a weekday. Including these maps will add some more interest to her story."
   ]
  },
  {
   "cell_type": "markdown",
   "metadata": {},
   "source": [
    "## Find areas within a four-minute drive time of a fire station during both light and heavy traffic conditions"
   ]
  },
  {
   "cell_type": "markdown",
   "metadata": {},
   "source": [
    "Use the Create Drive-Time Areas tool to find areas within four minutes of a fire station on a typical Tuesday morning at 2:00 a.m. Use the Dissolve option to create a single area rather than individual areas for each station."
   ]
  },
  {
   "cell_type": "code",
   "execution_count": 10,
   "metadata": {},
   "outputs": [],
   "source": [
    "from arcgis.features.use_proximity import create_drive_time_areas"
   ]
  },
  {
   "cell_type": "code",
   "execution_count": 12,
   "metadata": {},
   "outputs": [],
   "source": [
    "area1 = create_drive_time_areas(fire_station, break_values=[4], break_units='Minutes', overlap_policy='Dissolve',\n",
    "                        time_of_day='631245600000', output_name=\"area_within_four_mins\")"
   ]
  },
  {
   "cell_type": "code",
   "execution_count": 13,
   "metadata": {},
   "outputs": [],
   "source": [
    "arealyr = area1.layers[0]"
   ]
  },
  {
   "cell_type": "markdown",
   "metadata": {},
   "source": [
    "The GIS object includes a map widget for displaying geographic locations, visualizing GIS content, as well as the results of your analysis. To use the map widget, call gis.map() and assign it to a variable."
   ]
  },
  {
   "cell_type": "code",
   "execution_count": 16,
   "metadata": {},
   "outputs": [
    {
     "data": {
      "application/vnd.jupyter.widget-view+json": {
       "model_id": "88a1cd1837fc4279ac22bef8c614da2f",
       "version_major": 2,
       "version_minor": 0
      },
      "text/html": [
       "<p>Failed to display Jupyter Widget of type <code>MapView</code>.</p>\n",
       "<p>\n",
       "  If you're reading this message in the Jupyter Notebook or JupyterLab Notebook, it may mean\n",
       "  that the widgets JavaScript is still loading. If this message persists, it\n",
       "  likely means that the widgets JavaScript library is either not installed or\n",
       "  not enabled. See the <a href=\"https://ipywidgets.readthedocs.io/en/stable/user_install.html\">Jupyter\n",
       "  Widgets Documentation</a> for setup instructions.\n",
       "</p>\n",
       "<p>\n",
       "  If you're reading this message in another frontend (for example, a static\n",
       "  rendering on GitHub or <a href=\"https://nbviewer.jupyter.org/\">NBViewer</a>),\n",
       "  it may mean that your frontend doesn't currently support widgets.\n",
       "</p>\n"
      ],
      "text/plain": [
       "MapView(basemaps=['dark-gray', 'dark-gray-vector', 'gray', 'gray-vector', 'hybrid', 'national-geographic', 'oceans', 'osm', 'satellite', 'streets', 'streets-navigation-vector', 'streets-night-vector', 'streets-relief-vector', 'streets-vector', 'terrain', 'topo', 'topo-vector'], center=[0, 0])"
      ]
     },
     "metadata": {},
     "output_type": "display_data"
    }
   ],
   "source": [
    "m = gis.map('Poway')\n",
    "m"
   ]
  },
  {
   "cell_type": "markdown",
   "metadata": {},
   "source": [
    "![](drive_time_img/4.PNG)"
   ]
  },
  {
   "cell_type": "code",
   "execution_count": 17,
   "metadata": {},
   "outputs": [],
   "source": [
    "m.add_layer(arealyr)"
   ]
  },
  {
   "cell_type": "code",
   "execution_count": 18,
   "metadata": {},
   "outputs": [],
   "source": [
    "area2 = create_drive_time_areas(fire_station, break_values=[4], break_units='Minutes', overlap_policy='Dissolve',\n",
    "                        time_of_day='631558800000', output_name=\"area_5pm_fri\")"
   ]
  },
  {
   "cell_type": "code",
   "execution_count": 19,
   "metadata": {},
   "outputs": [],
   "source": [
    "area2lyr = area2.layers[0]"
   ]
  },
  {
   "cell_type": "code",
   "execution_count": 20,
   "metadata": {},
   "outputs": [
    {
     "data": {
      "application/vnd.jupyter.widget-view+json": {
       "model_id": "1fc8543213e448a0b45dfe1c713d0aae",
       "version_major": 2,
       "version_minor": 0
      },
      "text/html": [
       "<p>Failed to display Jupyter Widget of type <code>MapView</code>.</p>\n",
       "<p>\n",
       "  If you're reading this message in the Jupyter Notebook or JupyterLab Notebook, it may mean\n",
       "  that the widgets JavaScript is still loading. If this message persists, it\n",
       "  likely means that the widgets JavaScript library is either not installed or\n",
       "  not enabled. See the <a href=\"https://ipywidgets.readthedocs.io/en/stable/user_install.html\">Jupyter\n",
       "  Widgets Documentation</a> for setup instructions.\n",
       "</p>\n",
       "<p>\n",
       "  If you're reading this message in another frontend (for example, a static\n",
       "  rendering on GitHub or <a href=\"https://nbviewer.jupyter.org/\">NBViewer</a>),\n",
       "  it may mean that your frontend doesn't currently support widgets.\n",
       "</p>\n"
      ],
      "text/plain": [
       "MapView(basemaps=['dark-gray', 'dark-gray-vector', 'gray', 'gray-vector', 'hybrid', 'national-geographic', 'oceans', 'osm', 'satellite', 'streets', 'streets-navigation-vector', 'streets-night-vector', 'streets-relief-vector', 'streets-vector', 'terrain', 'topo', 'topo-vector'], center=[0, 0])"
      ]
     },
     "metadata": {},
     "output_type": "display_data"
    }
   ],
   "source": [
    "m2 = gis.map('Poway')\n",
    "m2"
   ]
  },
  {
   "cell_type": "code",
   "execution_count": 21,
   "metadata": {},
   "outputs": [],
   "source": [
    "m2.add_layer(area2lyr)"
   ]
  },
  {
   "cell_type": "markdown",
   "metadata": {},
   "source": [
    "![](drive_time_img/5.PNG)"
   ]
  },
  {
   "cell_type": "markdown",
   "metadata": {},
   "source": [
    "The maps show that while a large portion of the city is covered within a four-minute drive time of a fire station, several neighborhoods are not. And during Friday afternoon rush hour, even more neighborhoods are more than four minutes from a station. She makes a note to interview community leaders in these neighborhoods."
   ]
  },
  {
   "cell_type": "markdown",
   "metadata": {},
   "source": [
    "## Find out how many minutes from a fire station the farthest parts of the city are"
   ]
  },
  {
   "cell_type": "markdown",
   "metadata": {},
   "source": [
    "The reporter then decides to see how many minutes away from a station the farthest parts of the city are. She sees that she can create several drive-time areas at one time by entering multiple drive times. She enters 6, 8, 10, and 12 minutes. To assume the worst-case scenario, she again specifies Friday afternoon rush-hour traffic.\n",
    "\n",
    "As it turns out, most of the city is within a six-minute drive time of a fire station, and almost all of the city is within eight minutes—including all of the densely populated areas. However, there are a few streets in the easternmost part of the city that are more than 12 minutes from a fire station, at least in rush-hour traffic. Interestingly, there are neighboring communities to the west that are closer to a city fire station than some areas inside the city limits."
   ]
  },
  {
   "cell_type": "markdown",
   "metadata": {},
   "source": [
    "Use Create Drive-Time Areas to find areas within 6, 8, 10, and 12 minutes of a fire station on a typical Friday afternoon at 5:00 p.m."
   ]
  },
  {
   "cell_type": "code",
   "execution_count": 22,
   "metadata": {},
   "outputs": [],
   "source": [
    "area3 = create_drive_time_areas(fire_station, break_values=[6,8,10,12], break_units='Minutes', overlap_policy='Dissolve',\n",
    "                        time_of_day='631558800000', output_name=\"areas_within_multi_mins\")"
   ]
  },
  {
   "cell_type": "code",
   "execution_count": 23,
   "metadata": {},
   "outputs": [],
   "source": [
    "area3lyr = area3.layers[0]"
   ]
  },
  {
   "cell_type": "code",
   "execution_count": 24,
   "metadata": {},
   "outputs": [
    {
     "data": {
      "application/vnd.jupyter.widget-view+json": {
       "model_id": "14350cbbabf346f2a1a9cc3859a3cfba",
       "version_major": 2,
       "version_minor": 0
      },
      "text/html": [
       "<p>Failed to display Jupyter Widget of type <code>MapView</code>.</p>\n",
       "<p>\n",
       "  If you're reading this message in the Jupyter Notebook or JupyterLab Notebook, it may mean\n",
       "  that the widgets JavaScript is still loading. If this message persists, it\n",
       "  likely means that the widgets JavaScript library is either not installed or\n",
       "  not enabled. See the <a href=\"https://ipywidgets.readthedocs.io/en/stable/user_install.html\">Jupyter\n",
       "  Widgets Documentation</a> for setup instructions.\n",
       "</p>\n",
       "<p>\n",
       "  If you're reading this message in another frontend (for example, a static\n",
       "  rendering on GitHub or <a href=\"https://nbviewer.jupyter.org/\">NBViewer</a>),\n",
       "  it may mean that your frontend doesn't currently support widgets.\n",
       "</p>\n"
      ],
      "text/plain": [
       "MapView(basemaps=['dark-gray', 'dark-gray-vector', 'gray', 'gray-vector', 'hybrid', 'national-geographic', 'oceans', 'osm', 'satellite', 'streets', 'streets-navigation-vector', 'streets-night-vector', 'streets-relief-vector', 'streets-vector', 'terrain', 'topo', 'topo-vector'], center=[0, 0])"
      ]
     },
     "metadata": {},
     "output_type": "display_data"
    }
   ],
   "source": [
    "m3 = gis.map('Poway')\n",
    "m3"
   ]
  },
  {
   "cell_type": "code",
   "execution_count": 25,
   "metadata": {},
   "outputs": [],
   "source": [
    "m3.add_layer(area3lyr)"
   ]
  },
  {
   "cell_type": "markdown",
   "metadata": {},
   "source": [
    "![](drive_time_img/6.PNG)"
   ]
  },
  {
   "cell_type": "markdown",
   "metadata": {},
   "source": [
    "With the maps in hand, the reporter can add some angles to her story that she hadn't considered at the outset. After the story—complete with maps—appears on the paper's website, the city council decides to take up the subject at their next meeting. They send a request to the fire chief to attend to discuss what needs to be done to ensure more of the city can be reached within a four-minute drive time of a fire station."
   ]
  },
  {
   "cell_type": "code",
   "execution_count": null,
   "metadata": {},
   "outputs": [],
   "source": []
  }
 ],
 "metadata": {
  "kernelspec": {
   "display_name": "Python 3",
   "language": "python",
   "name": "python3"
  },
  "language_info": {
   "codemirror_mode": {
    "name": "ipython",
    "version": 3
   },
   "file_extension": ".py",
   "mimetype": "text/x-python",
   "name": "python",
   "nbconvert_exporter": "python",
   "pygments_lexer": "ipython3",
   "version": "3.6.4"
  }
 },
 "nbformat": 4,
 "nbformat_minor": 2
}
