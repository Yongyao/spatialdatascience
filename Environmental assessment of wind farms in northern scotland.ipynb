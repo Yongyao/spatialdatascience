{
 "cells": [
  {
   "cell_type": "markdown",
   "metadata": {},
   "source": [
    "# Workflow: Environmental Assessment of Wind Farms in Northern Scotland"
   ]
  },
  {
   "cell_type": "markdown",
   "metadata": {},
   "source": [
    "As the threat of climate change increases globally, many countries are turning to renewable energy to reduce carbon dioxide and other greenhouse gas emissions. Wind farms are an important source of green energy that are being used to replace electricity derived from fossil fuels, such as coal. While the environmental benefits of replacing fossil fuel derived energy with wind energy are vast, there can be some environmental concerns with installing wind farms in certain areas of ecological importance. \n",
    "Use this workflow to analyze wind farm proposals based on their proximity to protected **wild lands** and existing roads."
   ]
  },
  {
   "cell_type": "markdown",
   "metadata": {},
   "source": [
    "To learn more about this workflow please see the <a href=\"http://desktop.arcgis.com/en/analytics/case-studies/minimizing-the-environmental-impact-of-windfarm-installation.htm\">Case Study</a>."
   ]
  },
  {
   "cell_type": "code",
   "execution_count": 1,
   "metadata": {},
   "outputs": [],
   "source": [
    "from arcgis import *"
   ]
  },
  {
   "cell_type": "code",
   "execution_count": 2,
   "metadata": {},
   "outputs": [],
   "source": [
    "gis = GIS(\"https://deldev.maps.arcgis.com\", \"demo_deldev\", \"P@ssword123\")"
   ]
  },
  {
   "cell_type": "code",
   "execution_count": 3,
   "metadata": {},
   "outputs": [],
   "source": [
    "items = gis.content.search('NorthScotlandWindfarms owner:VickiCove', outside_org=True)"
   ]
  },
  {
   "cell_type": "code",
   "execution_count": 4,
   "metadata": {},
   "outputs": [
    {
     "data": {
      "text/plain": [
       "[<Item title:\"NorthScotlandWindfarms\" type:Feature Layer Collection owner:VickiCove>]"
      ]
     },
     "execution_count": 4,
     "metadata": {},
     "output_type": "execute_result"
    }
   ],
   "source": [
    "items"
   ]
  },
  {
   "cell_type": "code",
   "execution_count": 5,
   "metadata": {},
   "outputs": [],
   "source": [
    "from IPython.display import display"
   ]
  },
  {
   "cell_type": "code",
   "execution_count": 6,
   "metadata": {},
   "outputs": [
    {
     "data": {
      "text/html": [
       "<div class=\"item_container\" style=\"height: auto; overflow: hidden; border: 1px solid #cfcfcf; border-radius: 2px; background: #f6fafa; line-height: 1.21429em; padding: 10px;\">\n",
       "                    <div class=\"item_left\" style=\"width: 210px; float: left;\">\n",
       "                       <a href='https://deldev.maps.arcgis.com/home/item.html?id=f8b0a44b60604a03a3ce6d472d4dea47' target='_blank'>\n",
       "                        <img src='data:image/png;base64,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' width='200' height='133' class=\"itemThumbnail\">\n",
       "                       </a>\n",
       "                    </div>\n",
       "\n",
       "                    <div class=\"item_right\"     style=\"float: none; width: auto; overflow: hidden;\">\n",
       "                        <a href='https://deldev.maps.arcgis.com/home/item.html?id=f8b0a44b60604a03a3ce6d472d4dea47' target='_blank'><b>NorthScotlandWindfarms</b>\n",
       "                        </a>\n",
       "                        <br/>Data for  a preliminary environmental impact study on windfarm applications<img src='https://deldev.maps.arcgis.com/home/js/jsapi/esri/css/images/item_type_icons/featureshosted16.png' style=\"vertical-align:middle;\">Feature Layer Collection by VickiCove\n",
       "                        <br/>Last Modified: February 12, 2016\n",
       "                        <br/>0 comments, 1,853 views\n",
       "                    </div>\n",
       "                </div>\n",
       "                "
      ],
      "text/plain": [
       "<Item title:\"NorthScotlandWindfarms\" type:Feature Layer Collection owner:VickiCove>"
      ]
     },
     "metadata": {},
     "output_type": "display_data"
    }
   ],
   "source": [
    "for item in items:\n",
    "    display(item)"
   ]
  },
  {
   "cell_type": "code",
   "execution_count": 7,
   "metadata": {},
   "outputs": [],
   "source": [
    "windfarm_item = items[0]"
   ]
  },
  {
   "cell_type": "code",
   "execution_count": 10,
   "metadata": {},
   "outputs": [],
   "source": [
    "lyrs = windfarm_item.layers"
   ]
  },
  {
   "cell_type": "code",
   "execution_count": 11,
   "metadata": {},
   "outputs": [
    {
     "name": "stdout",
     "output_type": "stream",
     "text": [
      "North Scotland Wild Land Points\n",
      "North Scotland Roads\n",
      "North Scotland Wild Land Areas\n",
      "North Scotland Windfarm Proposals\n"
     ]
    }
   ],
   "source": [
    "for lyr in lyrs:\n",
    "    print(lyr.properties.name)"
   ]
  },
  {
   "cell_type": "code",
   "execution_count": 14,
   "metadata": {},
   "outputs": [],
   "source": [
    "Wild_Land_Points = lyrs[0]\n",
    "Roads = lyrs[1]\n",
    "Wild_Land_Areas = lyrs[2]\n",
    "Windfarm_Proposals = lyrs[3]"
   ]
  },
  {
   "cell_type": "markdown",
   "metadata": {},
   "source": [
    "## Wind farm visibility from wild lands\n",
    "\n",
    "Send keyboard focus to media\n",
    "Wild lands must be both physically and visibly remote. Viewsheds can be used to determine which wind farms will be visible from wild lands. However, the Create Viewshed tool requires point inputs. Therefore, the wild land areas must be converted to point features."
   ]
  },
  {
   "cell_type": "code",
   "execution_count": 16,
   "metadata": {},
   "outputs": [],
   "source": [
    "#from arcgis.features.find_locations import find_centroid"
   ]
  },
  {
   "cell_type": "code",
   "execution_count": 21,
   "metadata": {},
   "outputs": [],
   "source": [
    "#centroid_wild_land_areas = find_centroid()"
   ]
  },
  {
   "cell_type": "markdown",
   "metadata": {},
   "source": [
    "Now that you have centroids for your wild lands, you can create your viewsheds.\n",
    "Use the Create Viewshed tool to determine which areas are visible from each observer point."
   ]
  },
  {
   "cell_type": "code",
   "execution_count": 22,
   "metadata": {},
   "outputs": [],
   "source": [
    "from arcgis.features.find_locations import create_viewshed"
   ]
  },
  {
   "cell_type": "markdown",
   "metadata": {},
   "source": [
    "Note:\n",
    "\n",
    "The height of the observer is set to 1.78 meters (5'10\"), which is an average height of an adult male. The height of the other objects on the ground, in this case wind turbines, is 100 meters, which is the height of the most popular wind turbine model. The maximum viewing distance is 50 kilometers, which is the maximum distance allowed in the Create Viewsheds tool. The distances were set using meters and kilometers to complement the data's projected coordinate system during analysis."
   ]
  },
  {
   "cell_type": "code",
   "execution_count": null,
   "metadata": {},
   "outputs": [],
   "source": [
    "visible_areas = create_viewshed(input_layer=[ {'url': centroid_wild_land_areas.url} ])"
   ]
  },
  {
   "cell_type": "markdown",
   "metadata": {},
   "source": [
    "## Wind farm infringement on wild land areas and site accessibility"
   ]
  },
  {
   "cell_type": "markdown",
   "metadata": {},
   "source": [
    "The criteria for designating an area as a wild land include perceived naturalness of land cover, ruggedness of terrain, remoteness from public roads and modern artifacts, and visible lack of buildings, roads, and modern artifacts. Remove the wind farms that are located on wild lands or in view of Wild Lands.\n",
    "\n",
    " \n",
    "\n",
    "Wind farm installation will be less harmful to the environment if the site has existing road access. Remove the sites that are not located on existing roads.\n",
    "\n",
    " \n",
    "\n",
    "Proposals with the status Approved or Installed have already passed their reviews. Keep only the proposals in the Application or Scoping phase."
   ]
  },
  {
   "cell_type": "code",
   "execution_count": 24,
   "metadata": {},
   "outputs": [],
   "source": [
    "from arcgis.features.find_locations import find_existing_locations"
   ]
  },
  {
   "cell_type": "code",
   "execution_count": null,
   "metadata": {},
   "outputs": [],
   "source": [
    "windfarms_passed_review = find_existing_locations(input_layers=[{\"url\":Windfarm_Proposals.url},{\"url\":Wild_Land_Areas.url},\n",
    "                                                                {\"url\":visible_areas.url},{\"url\":Roads.url}],\n",
    "                                                 expressions=[{\"operator\":\"\",\"layer\":0,\"selectingLayer\":1,\"spatialRel\":\"notIntersects\"},\n",
    "                                                              {\"operator\":\"and\",\"layer\":0,\"selectingLayer\":2,\"spatialRel\":\"notIntersects\"},\n",
    "                                                              {\"operator\":\"and\",\"layer\":0,\"selectingLayer\":3,\"spatialRel\":\"intersects\"},\n",
    "                                                              {\"operator\":\"and\",\"layer\":0,\"where\":\"STATUS = 'Application'\"},\n",
    "                                                              {\"operator\":\"or\",\"layer\":0,\"where\":\"STATUS = 'Scoping'\"}],\n",
    "                                                 output_name=\"windfarms passed review\")"
   ]
  },
  {
   "cell_type": "code",
   "execution_count": null,
   "metadata": {},
   "outputs": [],
   "source": []
  }
 ],
 "metadata": {
  "kernelspec": {
   "display_name": "Python 3",
   "language": "python",
   "name": "python3"
  },
  "language_info": {
   "codemirror_mode": {
    "name": "ipython",
    "version": 3
   },
   "file_extension": ".py",
   "mimetype": "text/x-python",
   "name": "python",
   "nbconvert_exporter": "python",
   "pygments_lexer": "ipython3",
   "version": "3.6.4"
  }
 },
 "nbformat": 4,
 "nbformat_minor": 2
}
