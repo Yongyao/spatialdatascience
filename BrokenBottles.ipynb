{
 "cells": [
  {
   "cell_type": "markdown",
   "metadata": {},
   "source": [
    "# Analyzing violent crime, workflow\n",
    "## Workflow using Python ArcGIS\n"
   ]
  },
  {
   "cell_type": "markdown",
   "metadata": {},
   "source": [
    "Connect your ArcGIS online organization."
   ]
  },
  {
   "cell_type": "code",
   "execution_count": 194,
   "metadata": {},
   "outputs": [],
   "source": [
    "from arcgis import *"
   ]
  },
  {
   "cell_type": "code",
   "execution_count": 195,
   "metadata": {},
   "outputs": [],
   "source": [
    "gis = GIS(\"https://deldev.maps.arcgis.com\", \"demo_deldev\", \"P@ssword123\")"
   ]
  },
  {
   "cell_type": "markdown",
   "metadata": {},
   "source": [
    "Accessing the content property of your gis object you can use the `search()` method. \n",
    "Search for **CrimeAnalysisData** content made by other users by turning the **outside_org** to True."
   ]
  },
  {
   "cell_type": "code",
   "execution_count": 196,
   "metadata": {},
   "outputs": [],
   "source": [
    "items = gis.content.search('title:CrimeAnalysisData owner:lscott_ANGP', outside_org=True)"
   ]
  },
  {
   "cell_type": "markdown",
   "metadata": {},
   "source": [
    "Importing the **display** module"
   ]
  },
  {
   "cell_type": "code",
   "execution_count": 197,
   "metadata": {},
   "outputs": [],
   "source": [
    "from IPython.display import display"
   ]
  },
  {
   "cell_type": "code",
   "execution_count": 198,
   "metadata": {},
   "outputs": [
    {
     "data": {
      "text/html": [
       "<div class=\"item_container\" style=\"height: auto; overflow: hidden; border: 1px solid #cfcfcf; border-radius: 2px; background: #f6fafa; line-height: 1.21429em; padding: 10px;\">\n",
       "                    <div class=\"item_left\" style=\"width: 210px; float: left;\">\n",
       "                       <a href='https://deldev.maps.arcgis.com/home/item.html?id=ada3bf6996f340f59f23af5f92f6267b' target='_blank'>\n",
       "                        <img src='data:image/png;base64,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' width='200' height='133' class=\"itemThumbnail\">\n",
       "                       </a>\n",
       "                    </div>\n",
       "\n",
       "                    <div class=\"item_right\"     style=\"float: none; width: auto; overflow: hidden;\">\n",
       "                        <a href='https://deldev.maps.arcgis.com/home/item.html?id=ada3bf6996f340f59f23af5f92f6267b' target='_blank'><b>CrimeAnalysisData</b>\n",
       "                        </a>\n",
       "                        <br/>This service has all of the data needed to work through the Analyzing Violent Crime case study.  Much of the data was obtained from www.cityofchicago.org<img src='https://deldev.maps.arcgis.com/home/js/jsapi/esri/css/images/item_type_icons/featureshosted16.png' style=\"vertical-align:middle;\">Feature Layer Collection by lscott_ANGP\n",
       "                        <br/>Last Modified: April 22, 2016\n",
       "                        <br/>0 comments, 2,187 views\n",
       "                    </div>\n",
       "                </div>\n",
       "                "
      ],
      "text/plain": [
       "<Item title:\"CrimeAnalysisData\" type:Feature Layer Collection owner:lscott_ANGP>"
      ]
     },
     "metadata": {},
     "output_type": "display_data"
    }
   ],
   "source": [
    "for item in items:\n",
    "    display(item)"
   ]
  },
  {
   "cell_type": "markdown",
   "metadata": {},
   "source": [
    "Getting the first item "
   ]
  },
  {
   "cell_type": "code",
   "execution_count": 199,
   "metadata": {},
   "outputs": [],
   "source": [
    "crime_item = items[0]"
   ]
  },
  {
   "cell_type": "markdown",
   "metadata": {},
   "source": [
    "Since the item is a Feature Layer Collection, accessing the layers property will give us a list of FeatureLayer objects."
   ]
  },
  {
   "cell_type": "code",
   "execution_count": 200,
   "metadata": {},
   "outputs": [],
   "source": [
    "lyrs = crime_item.layers"
   ]
  },
  {
   "cell_type": "markdown",
   "metadata": {},
   "source": [
    "The code below cycles through the layers and print their names."
   ]
  },
  {
   "cell_type": "code",
   "execution_count": 201,
   "metadata": {},
   "outputs": [
    {
     "name": "stdout",
     "output_type": "stream",
     "text": [
      "Public High Schools\n",
      "Liquor Vendors\n",
      "Violent Crime 2014\n",
      "Analysis Boundary\n"
     ]
    }
   ],
   "source": [
    "for lyr in lyrs:\n",
    "    print(lyr.properties.name)"
   ]
  },
  {
   "cell_type": "markdown",
   "metadata": {},
   "source": [
    "Getting the second layer and saving it in **violent_crimes**."
   ]
  },
  {
   "cell_type": "code",
   "execution_count": 202,
   "metadata": {},
   "outputs": [],
   "source": [
    "violent_crimes = lyrs[2]"
   ]
  },
  {
   "cell_type": "code",
   "execution_count": 203,
   "metadata": {},
   "outputs": [
    {
     "data": {
      "text/plain": [
       "<FeatureLayer url:\"https://services1.arcgis.com/hLJbHVT9ZrDIzK0I/arcgis/rest/services/CrimeAnalysisData/FeatureServer/2\">"
      ]
     },
     "execution_count": 203,
     "metadata": {},
     "output_type": "execute_result"
    }
   ],
   "source": [
    "violent_crimes"
   ]
  },
  {
   "cell_type": "markdown",
   "metadata": {},
   "source": [
    "The GIS object includes a map widget for displaying geographic locations, visualizing GIS content, as well as the results of your analysis. To use the map widget, call gis.map() and assign it to a variable."
   ]
  },
  {
   "cell_type": "code",
   "execution_count": 204,
   "metadata": {},
   "outputs": [
    {
     "data": {
      "application/vnd.jupyter.widget-view+json": {
       "model_id": "ef539373e2dd432eb2f22d3c644f0f2c",
       "version_major": 2,
       "version_minor": 0
      },
      "text/html": [
       "<p>Failed to display Jupyter Widget of type <code>MapView</code>.</p>\n",
       "<p>\n",
       "  If you're reading this message in the Jupyter Notebook or JupyterLab Notebook, it may mean\n",
       "  that the widgets JavaScript is still loading. If this message persists, it\n",
       "  likely means that the widgets JavaScript library is either not installed or\n",
       "  not enabled. See the <a href=\"https://ipywidgets.readthedocs.io/en/stable/user_install.html\">Jupyter\n",
       "  Widgets Documentation</a> for setup instructions.\n",
       "</p>\n",
       "<p>\n",
       "  If you're reading this message in another frontend (for example, a static\n",
       "  rendering on GitHub or <a href=\"https://nbviewer.jupyter.org/\">NBViewer</a>),\n",
       "  it may mean that your frontend doesn't currently support widgets.\n",
       "</p>\n"
      ],
      "text/plain": [
       "MapView(basemaps=['dark-gray', 'dark-gray-vector', 'gray', 'gray-vector', 'hybrid', 'national-geographic', 'oceans', 'osm', 'satellite', 'streets', 'streets-navigation-vector', 'streets-night-vector', 'streets-relief-vector', 'streets-vector', 'terrain', 'topo', 'topo-vector'], center=[0, 0])"
      ]
     },
     "metadata": {},
     "output_type": "display_data"
    }
   ],
   "source": [
    "chicago_map = gis.map('Chicago')\n",
    "chicago_map"
   ]
  },
  {
   "cell_type": "markdown",
   "metadata": {},
   "source": [
    "![](images/map1.PNG)"
   ]
  },
  {
   "cell_type": "markdown",
   "metadata": {},
   "source": [
    "## Analyzing patterns in featurte data\n",
    "GIS has a set of tools to help you identify, quantify and visualize satial patterns in your data by identifying areas of statistically significant clusters. \n",
    "The  'find_hot_spots' tool allows you to visualize areas having significant clusters."
   ]
  },
  {
   "cell_type": "code",
   "execution_count": 205,
   "metadata": {},
   "outputs": [],
   "source": [
    "from arcgis.features.analyze_patterns import find_hot_spots"
   ]
  },
  {
   "cell_type": "code",
   "execution_count": 250,
   "metadata": {},
   "outputs": [],
   "source": [
    "crime_hot_spots = find_hot_spots(violent_crimes, output_name='Crime_HotSpots')"
   ]
  },
  {
   "cell_type": "code",
   "execution_count": 251,
   "metadata": {},
   "outputs": [
    {
     "data": {
      "text/html": [
       "<div class=\"item_container\" style=\"height: auto; overflow: hidden; border: 1px solid #cfcfcf; border-radius: 2px; background: #f6fafa; line-height: 1.21429em; padding: 10px;\">\n",
       "                    <div class=\"item_left\" style=\"width: 210px; float: left;\">\n",
       "                       <a href='https://deldev.maps.arcgis.com/home/item.html?id=cc879e77db264eafaa3489817286b235' target='_blank'>\n",
       "                        <img src='http://static.arcgis.com/images/desktopapp.png' class=\"itemThumbnail\">\n",
       "                       </a>\n",
       "                    </div>\n",
       "\n",
       "                    <div class=\"item_right\"     style=\"float: none; width: auto; overflow: hidden;\">\n",
       "                        <a href='https://deldev.maps.arcgis.com/home/item.html?id=cc879e77db264eafaa3489817286b235' target='_blank'><b>Crime_HotSpots</b>\n",
       "                        </a>\n",
       "                        <br/><img src='https://deldev.maps.arcgis.com/home/js/jsapi/esri/css/images/item_type_icons/featureshosted16.png' style=\"vertical-align:middle;\">Feature Layer Collection by demo_deldev\n",
       "                        <br/>Last Modified: June 07, 2018\n",
       "                        <br/>0 comments, 1 views\n",
       "                    </div>\n",
       "                </div>\n",
       "                "
      ],
      "text/plain": [
       "<Item title:\"Crime_HotSpots\" type:Feature Layer Collection owner:demo_deldev>"
      ]
     },
     "execution_count": 251,
     "metadata": {},
     "output_type": "execute_result"
    }
   ],
   "source": [
    "crime_hot_spots"
   ]
  },
  {
   "cell_type": "code",
   "execution_count": 244,
   "metadata": {},
   "outputs": [
    {
     "data": {
      "application/vnd.jupyter.widget-view+json": {
       "model_id": "f0b42758b2b141e99af952002da5257b",
       "version_major": 2,
       "version_minor": 0
      },
      "text/html": [
       "<p>Failed to display Jupyter Widget of type <code>MapView</code>.</p>\n",
       "<p>\n",
       "  If you're reading this message in the Jupyter Notebook or JupyterLab Notebook, it may mean\n",
       "  that the widgets JavaScript is still loading. If this message persists, it\n",
       "  likely means that the widgets JavaScript library is either not installed or\n",
       "  not enabled. See the <a href=\"https://ipywidgets.readthedocs.io/en/stable/user_install.html\">Jupyter\n",
       "  Widgets Documentation</a> for setup instructions.\n",
       "</p>\n",
       "<p>\n",
       "  If you're reading this message in another frontend (for example, a static\n",
       "  rendering on GitHub or <a href=\"https://nbviewer.jupyter.org/\">NBViewer</a>),\n",
       "  it may mean that your frontend doesn't currently support widgets.\n",
       "</p>\n"
      ],
      "text/plain": [
       "MapView(basemaps=['dark-gray', 'dark-gray-vector', 'gray', 'gray-vector', 'hybrid', 'national-geographic', 'oceans', 'osm', 'satellite', 'streets', 'streets-navigation-vector', 'streets-night-vector', 'streets-relief-vector', 'streets-vector', 'terrain', 'topo', 'topo-vector'], center=[0, 0])"
      ]
     },
     "metadata": {},
     "output_type": "display_data"
    }
   ],
   "source": [
    "crime_spots_map = gis.map('Chicago')\n",
    "crime_spots_map"
   ]
  },
  {
   "cell_type": "code",
   "execution_count": 245,
   "metadata": {},
   "outputs": [],
   "source": [
    "crime_spots_map.add_layer({\"type\":\"FeatureLayer\", \n",
    "               \"url\":crime_hot_spots.layers[0].url,\n",
    "               \"definition_expression\" : \"Gi_Bin=3\",\n",
    "               \n",
    "              })"
   ]
  },
  {
   "cell_type": "markdown",
   "metadata": {},
   "source": [
    "![](images/map2.PNG)"
   ]
  },
  {
   "cell_type": "markdown",
   "metadata": {},
   "source": [
    "You can add a number of different layer objects such as FeatureLayer, FeatureCollection, ImageryLayer, MapImageLayer to the map\n",
    "by calling the add_layer() method."
   ]
  },
  {
   "cell_type": "code",
   "execution_count": 222,
   "metadata": {},
   "outputs": [],
   "source": [
    "crime_spots_map.add_layer(crime_hot_spots)"
   ]
  },
  {
   "cell_type": "markdown",
   "metadata": {},
   "source": [
    "Getting the liquor_vendors layer from the lyrs item"
   ]
  },
  {
   "cell_type": "code",
   "execution_count": 210,
   "metadata": {},
   "outputs": [],
   "source": [
    "liquor_vendors = lyrs[1]"
   ]
  },
  {
   "cell_type": "markdown",
   "metadata": {},
   "source": [
    "Find hotspots for **liquor_vendors** layer"
   ]
  },
  {
   "cell_type": "code",
   "execution_count": 252,
   "metadata": {},
   "outputs": [],
   "source": [
    "liquor_vendor_hot_spots = find_hot_spots(liquor_vendors,\n",
    "                                         output_name='liquor_HotSpots')"
   ]
  },
  {
   "cell_type": "code",
   "execution_count": 253,
   "metadata": {
    "scrolled": true
   },
   "outputs": [
    {
     "data": {
      "text/html": [
       "<div class=\"item_container\" style=\"height: auto; overflow: hidden; border: 1px solid #cfcfcf; border-radius: 2px; background: #f6fafa; line-height: 1.21429em; padding: 10px;\">\n",
       "                    <div class=\"item_left\" style=\"width: 210px; float: left;\">\n",
       "                       <a href='https://deldev.maps.arcgis.com/home/item.html?id=8b2d4db257004cba97994d3c4d887a7d' target='_blank'>\n",
       "                        <img src='http://static.arcgis.com/images/desktopapp.png' class=\"itemThumbnail\">\n",
       "                       </a>\n",
       "                    </div>\n",
       "\n",
       "                    <div class=\"item_right\"     style=\"float: none; width: auto; overflow: hidden;\">\n",
       "                        <a href='https://deldev.maps.arcgis.com/home/item.html?id=8b2d4db257004cba97994d3c4d887a7d' target='_blank'><b>liquor_HotSpots</b>\n",
       "                        </a>\n",
       "                        <br/><img src='https://deldev.maps.arcgis.com/home/js/jsapi/esri/css/images/item_type_icons/featureshosted16.png' style=\"vertical-align:middle;\">Feature Layer Collection by demo_deldev\n",
       "                        <br/>Last Modified: June 07, 2018\n",
       "                        <br/>0 comments, 1 views\n",
       "                    </div>\n",
       "                </div>\n",
       "                "
      ],
      "text/plain": [
       "<Item title:\"liquor_HotSpots\" type:Feature Layer Collection owner:demo_deldev>"
      ]
     },
     "execution_count": 253,
     "metadata": {},
     "output_type": "execute_result"
    }
   ],
   "source": [
    "liquor_vendor_hot_spots"
   ]
  },
  {
   "cell_type": "markdown",
   "metadata": {},
   "source": [
    "visualizing **liquor_vendor_hot_spots** on map"
   ]
  },
  {
   "cell_type": "code",
   "execution_count": 235,
   "metadata": {},
   "outputs": [
    {
     "data": {
      "application/vnd.jupyter.widget-view+json": {
       "model_id": "f9d290b7c11d42cb88c1c8cbe04d1c7b",
       "version_major": 2,
       "version_minor": 0
      },
      "text/html": [
       "<p>Failed to display Jupyter Widget of type <code>MapView</code>.</p>\n",
       "<p>\n",
       "  If you're reading this message in the Jupyter Notebook or JupyterLab Notebook, it may mean\n",
       "  that the widgets JavaScript is still loading. If this message persists, it\n",
       "  likely means that the widgets JavaScript library is either not installed or\n",
       "  not enabled. See the <a href=\"https://ipywidgets.readthedocs.io/en/stable/user_install.html\">Jupyter\n",
       "  Widgets Documentation</a> for setup instructions.\n",
       "</p>\n",
       "<p>\n",
       "  If you're reading this message in another frontend (for example, a static\n",
       "  rendering on GitHub or <a href=\"https://nbviewer.jupyter.org/\">NBViewer</a>),\n",
       "  it may mean that your frontend doesn't currently support widgets.\n",
       "</p>\n"
      ],
      "text/plain": [
       "MapView(basemaps=['dark-gray', 'dark-gray-vector', 'gray', 'gray-vector', 'hybrid', 'national-geographic', 'oceans', 'osm', 'satellite', 'streets', 'streets-navigation-vector', 'streets-night-vector', 'streets-relief-vector', 'streets-vector', 'terrain', 'topo', 'topo-vector'], center=[0, 0])"
      ]
     },
     "metadata": {},
     "output_type": "display_data"
    }
   ],
   "source": [
    "liquor_hot_spots_map = gis.map('Chicago')\n",
    "liquor_hot_spots_map"
   ]
  },
  {
   "cell_type": "code",
   "execution_count": 240,
   "metadata": {},
   "outputs": [],
   "source": [
    "liquor_hot_spots_map.remove_layers(liquor_vendor_hot_spots)"
   ]
  },
  {
   "cell_type": "code",
   "execution_count": null,
   "metadata": {},
   "outputs": [],
   "source": [
    "{\"type\":\"FeatureLayer\", \n",
    "               \"url\":liquor_vendor_hot_spots.layers[0].url,\n",
    "               \"definition_expression\" : \"Gi_Bin=3\",\n",
    "               \n",
    "              }"
   ]
  },
  {
   "cell_type": "markdown",
   "metadata": {},
   "source": [
    "![](images/map3.PNG)"
   ]
  },
  {
   "cell_type": "markdown",
   "metadata": {},
   "source": [
    "### Enriching study areas\n",
    "The enrich_layer tool gives you demographic and landascape data for the people, places, and businesses in a specific area, or within a selected travel time or distance from a location. "
   ]
  },
  {
   "cell_type": "code",
   "execution_count": 215,
   "metadata": {},
   "outputs": [],
   "source": [
    "from arcgis.features.enrich_data import enrich_layer"
   ]
  },
  {
   "cell_type": "markdown",
   "metadata": {},
   "source": [
    "you can add analysis variables as a list variables you want to enrich your data with."
   ]
  },
  {
   "cell_type": "code",
   "execution_count": 254,
   "metadata": {},
   "outputs": [],
   "source": [
    "enriched_layer = enrich_layer(crime_hot_spots, \n",
    "                              analysis_variables=[\"households.ACSHHBPOV\"], \n",
    "                              output_name='PovertyData')"
   ]
  },
  {
   "cell_type": "code",
   "execution_count": 255,
   "metadata": {},
   "outputs": [
    {
     "data": {
      "text/html": [
       "<div class=\"item_container\" style=\"height: auto; overflow: hidden; border: 1px solid #cfcfcf; border-radius: 2px; background: #f6fafa; line-height: 1.21429em; padding: 10px;\">\n",
       "                    <div class=\"item_left\" style=\"width: 210px; float: left;\">\n",
       "                       <a href='https://deldev.maps.arcgis.com/home/item.html?id=b7c081ba14ea4160b38c093b92fc2847' target='_blank'>\n",
       "                        <img src='http://static.arcgis.com/images/desktopapp.png' class=\"itemThumbnail\">\n",
       "                       </a>\n",
       "                    </div>\n",
       "\n",
       "                    <div class=\"item_right\"     style=\"float: none; width: auto; overflow: hidden;\">\n",
       "                        <a href='https://deldev.maps.arcgis.com/home/item.html?id=b7c081ba14ea4160b38c093b92fc2847' target='_blank'><b>PovertyData</b>\n",
       "                        </a>\n",
       "                        <br/><img src='https://deldev.maps.arcgis.com/home/js/jsapi/esri/css/images/item_type_icons/featureshosted16.png' style=\"vertical-align:middle;\">Feature Layer Collection by demo_deldev\n",
       "                        <br/>Last Modified: June 07, 2018\n",
       "                        <br/>0 comments, 0 views\n",
       "                    </div>\n",
       "                </div>\n",
       "                "
      ],
      "text/plain": [
       "<Item title:\"PovertyData\" type:Feature Layer Collection owner:demo_deldev>"
      ]
     },
     "execution_count": 255,
     "metadata": {},
     "output_type": "execute_result"
    }
   ],
   "source": [
    "enriched_layer"
   ]
  },
  {
   "cell_type": "markdown",
   "metadata": {},
   "source": [
    "Loading map and visualizing"
   ]
  },
  {
   "cell_type": "code",
   "execution_count": 96,
   "metadata": {},
   "outputs": [
    {
     "data": {
      "application/vnd.jupyter.widget-view+json": {
       "model_id": "8fff5620feab4391a4f73bc97cece6bf",
       "version_major": 2,
       "version_minor": 0
      },
      "text/html": [
       "<p>Failed to display Jupyter Widget of type <code>MapView</code>.</p>\n",
       "<p>\n",
       "  If you're reading this message in the Jupyter Notebook or JupyterLab Notebook, it may mean\n",
       "  that the widgets JavaScript is still loading. If this message persists, it\n",
       "  likely means that the widgets JavaScript library is either not installed or\n",
       "  not enabled. See the <a href=\"https://ipywidgets.readthedocs.io/en/stable/user_install.html\">Jupyter\n",
       "  Widgets Documentation</a> for setup instructions.\n",
       "</p>\n",
       "<p>\n",
       "  If you're reading this message in another frontend (for example, a static\n",
       "  rendering on GitHub or <a href=\"https://nbviewer.jupyter.org/\">NBViewer</a>),\n",
       "  it may mean that your frontend doesn't currently support widgets.\n",
       "</p>\n"
      ],
      "text/plain": [
       "MapView(basemaps=['dark-gray', 'dark-gray-vector', 'gray', 'gray-vector', 'hybrid', 'national-geographic', 'oceans', 'osm', 'satellite', 'streets', 'streets-navigation-vector', 'streets-night-vector', 'streets-relief-vector', 'streets-vector', 'terrain', 'topo', 'topo-vector'], center=[0, 0])"
      ]
     },
     "metadata": {},
     "output_type": "display_data"
    }
   ],
   "source": [
    "crime_enriched_map = gis.map('Chicago')\n",
    "crime_enriched_map"
   ]
  },
  {
   "cell_type": "code",
   "execution_count": 100,
   "metadata": {},
   "outputs": [],
   "source": [
    "crime_enriched_map.add_layer(enriched_layer)"
   ]
  },
  {
   "cell_type": "markdown",
   "metadata": {},
   "source": [
    "![](images/map4.PNG)"
   ]
  },
  {
   "cell_type": "markdown",
   "metadata": {},
   "source": [
    "You can find hot spots of the enriched layer keeping the parameter aalysis_field as the field from the analyisis variable."
   ]
  },
  {
   "cell_type": "code",
   "execution_count": 263,
   "metadata": {},
   "outputs": [],
   "source": [
    "poverty_data_hot_spots = find_hot_spots(enriched_layer, analysis_field='ACSHHBPOV',\n",
    "                                         output_name='poverty_enriched_hotspots')"
   ]
  },
  {
   "cell_type": "markdown",
   "metadata": {},
   "source": [
    "Load the map again to visualize the poverty_data_hot_spots"
   ]
  },
  {
   "cell_type": "code",
   "execution_count": 101,
   "metadata": {
    "scrolled": true
   },
   "outputs": [
    {
     "data": {
      "application/vnd.jupyter.widget-view+json": {
       "model_id": "d8833a8783b741d5a95a2b9c8641a55e",
       "version_major": 2,
       "version_minor": 0
      },
      "text/html": [
       "<p>Failed to display Jupyter Widget of type <code>MapView</code>.</p>\n",
       "<p>\n",
       "  If you're reading this message in the Jupyter Notebook or JupyterLab Notebook, it may mean\n",
       "  that the widgets JavaScript is still loading. If this message persists, it\n",
       "  likely means that the widgets JavaScript library is either not installed or\n",
       "  not enabled. See the <a href=\"https://ipywidgets.readthedocs.io/en/stable/user_install.html\">Jupyter\n",
       "  Widgets Documentation</a> for setup instructions.\n",
       "</p>\n",
       "<p>\n",
       "  If you're reading this message in another frontend (for example, a static\n",
       "  rendering on GitHub or <a href=\"https://nbviewer.jupyter.org/\">NBViewer</a>),\n",
       "  it may mean that your frontend doesn't currently support widgets.\n",
       "</p>\n"
      ],
      "text/plain": [
       "MapView(basemaps=['dark-gray', 'dark-gray-vector', 'gray', 'gray-vector', 'hybrid', 'national-geographic', 'oceans', 'osm', 'satellite', 'streets', 'streets-navigation-vector', 'streets-night-vector', 'streets-relief-vector', 'streets-vector', 'terrain', 'topo', 'topo-vector'], center=[0, 0])"
      ]
     },
     "metadata": {},
     "output_type": "display_data"
    }
   ],
   "source": [
    "poverty_data_hot_spots_map = gis.map('Chicago')\n",
    "poverty_data_hot_spots_map"
   ]
  },
  {
   "cell_type": "code",
   "execution_count": 102,
   "metadata": {},
   "outputs": [],
   "source": [
    "poverty_data_hot_spots_map.add_layer(poverty_data_hot_spots)"
   ]
  },
  {
   "cell_type": "markdown",
   "metadata": {},
   "source": [
    "![](images/map5.PNG)"
   ]
  },
  {
   "cell_type": "markdown",
   "metadata": {},
   "source": [
    "Filter the crime_hot_spots,liquor_vendor_hot_spots, poverty_data_hot_spots by selecting only those places where the Gi_Bin attribute is 3 (this is the code for statistically significant hot spots at the 99 percent confidence level)"
   ]
  },
  {
   "cell_type": "markdown",
   "metadata": {},
   "source": [
    "# TODO: This filter isn't working"
   ]
  },
  {
   "cell_type": "code",
   "execution_count": 256,
   "metadata": {},
   "outputs": [],
   "source": [
    "crimelayer = crime_hot_spots.layers[0]\n",
    "crimelayer.filter = \"Gi_Bin = 3\""
   ]
  },
  {
   "cell_type": "code",
   "execution_count": 257,
   "metadata": {},
   "outputs": [],
   "source": [
    "liquorlayer = liquor_vendor_hot_spots.layers[0]\n",
    "liquorlayer.filter = \"Gi_Bin = 3\""
   ]
  },
  {
   "cell_type": "code",
   "execution_count": 180,
   "metadata": {},
   "outputs": [],
   "source": [
    "poverty_data_hot_spots.layers[0].filter = \"Gi_Bin = 3\""
   ]
  },
  {
   "cell_type": "markdown",
   "metadata": {},
   "source": [
    "# overlay_layers tool \n",
    "overlay_layers combines two or more layers into one single layer. You can think of overlay as peering through a stack of maps and creating a single map containing all the information found in the stack.\n",
    "The Overlay Layers tool requires two inputs: an input layer and an overlay layer. \n",
    "Use Overlay Layers to combine two layers into a single layer using an intersect, union, or erase method. "
   ]
  },
  {
   "cell_type": "code",
   "execution_count": 258,
   "metadata": {},
   "outputs": [],
   "source": [
    "from arcgis.features.manage_data import overlay_layers"
   ]
  },
  {
   "cell_type": "code",
   "execution_count": 261,
   "metadata": {},
   "outputs": [
    {
     "data": {
      "text/html": [
       "<div class=\"item_container\" style=\"height: auto; overflow: hidden; border: 1px solid #cfcfcf; border-radius: 2px; background: #f6fafa; line-height: 1.21429em; padding: 10px;\">\n",
       "                    <div class=\"item_left\" style=\"width: 210px; float: left;\">\n",
       "                       <a href='https://deldev.maps.arcgis.com/home/item.html?id=cc879e77db264eafaa3489817286b235' target='_blank'>\n",
       "                        <img src='http://static.arcgis.com/images/desktopapp.png' class=\"itemThumbnail\">\n",
       "                       </a>\n",
       "                    </div>\n",
       "\n",
       "                    <div class=\"item_right\"     style=\"float: none; width: auto; overflow: hidden;\">\n",
       "                        <a href='https://deldev.maps.arcgis.com/home/item.html?id=cc879e77db264eafaa3489817286b235' target='_blank'><b>Crime_HotSpots</b>\n",
       "                        </a>\n",
       "                        <br/><img src='https://deldev.maps.arcgis.com/home/js/jsapi/esri/css/images/item_type_icons/featureshosted16.png' style=\"vertical-align:middle;\">Feature Layer Collection by demo_deldev\n",
       "                        <br/>Last Modified: June 07, 2018\n",
       "                        <br/>0 comments, 1 views\n",
       "                    </div>\n",
       "                </div>\n",
       "                "
      ],
      "text/plain": [
       "<Item title:\"Crime_HotSpots\" type:Feature Layer Collection owner:demo_deldev>"
      ]
     },
     "execution_count": 261,
     "metadata": {},
     "output_type": "execute_result"
    }
   ],
   "source": [
    "crime_hot_spots"
   ]
  },
  {
   "cell_type": "code",
   "execution_count": 230,
   "metadata": {},
   "outputs": [
    {
     "data": {
      "text/plain": [
       "'Gi_Bin = 1'"
      ]
     },
     "execution_count": 230,
     "metadata": {},
     "output_type": "execute_result"
    }
   ],
   "source": [
    "crime_hot_spots.layers[0].filter"
   ]
  },
  {
   "cell_type": "code",
   "execution_count": 259,
   "metadata": {},
   "outputs": [],
   "source": [
    "intersect_of_crime_vendor = overlay_layers(crimelayer, liquorlayer, tolerance=0, context={},\n",
    "                           output_name=\"intersect_of_crime_vendor\")"
   ]
  },
  {
   "cell_type": "code",
   "execution_count": 260,
   "metadata": {},
   "outputs": [
    {
     "data": {
      "text/html": [
       "<div class=\"item_container\" style=\"height: auto; overflow: hidden; border: 1px solid #cfcfcf; border-radius: 2px; background: #f6fafa; line-height: 1.21429em; padding: 10px;\">\n",
       "                    <div class=\"item_left\" style=\"width: 210px; float: left;\">\n",
       "                       <a href='https://deldev.maps.arcgis.com/home/item.html?id=dad0fdca06774fbd930799703eeab3ff' target='_blank'>\n",
       "                        <img src='http://static.arcgis.com/images/desktopapp.png' class=\"itemThumbnail\">\n",
       "                       </a>\n",
       "                    </div>\n",
       "\n",
       "                    <div class=\"item_right\"     style=\"float: none; width: auto; overflow: hidden;\">\n",
       "                        <a href='https://deldev.maps.arcgis.com/home/item.html?id=dad0fdca06774fbd930799703eeab3ff' target='_blank'><b>intersect_of_crime_vendor</b>\n",
       "                        </a>\n",
       "                        <br/><img src='https://deldev.maps.arcgis.com/home/js/jsapi/esri/css/images/item_type_icons/featureshosted16.png' style=\"vertical-align:middle;\">Feature Layer Collection by demo_deldev\n",
       "                        <br/>Last Modified: June 07, 2018\n",
       "                        <br/>0 comments, 0 views\n",
       "                    </div>\n",
       "                </div>\n",
       "                "
      ],
      "text/plain": [
       "<Item title:\"intersect_of_crime_vendor\" type:Feature Layer Collection owner:demo_deldev>"
      ]
     },
     "execution_count": 260,
     "metadata": {},
     "output_type": "execute_result"
    }
   ],
   "source": [
    "intersect_of_crime_vendor"
   ]
  },
  {
   "cell_type": "code",
   "execution_count": 301,
   "metadata": {},
   "outputs": [
    {
     "name": "stderr",
     "output_type": "stream",
     "text": [
      "error return without exception set\n",
      "{\"messageCode\": \"AO_100013\", \"message\": \"OverlayLayers failed.\"}\n",
      "Failed to execute (OverlayLayers).\n",
      "Failed.\n"
     ]
    },
    {
     "ename": "Exception",
     "evalue": "Job failed.",
     "output_type": "error",
     "traceback": [
      "\u001b[1;31m---------------------------------------------------------------------------\u001b[0m",
      "\u001b[1;31mException\u001b[0m                                 Traceback (most recent call last)",
      "\u001b[1;32m<ipython-input-301-e0ddc2e05362>\u001b[0m in \u001b[0;36m<module>\u001b[1;34m()\u001b[0m\n\u001b[0;32m      1\u001b[0m intersected = overlay_layers(intersect_of_crime_vendor, poverty_data_hot_spots,\n\u001b[1;32m----> 2\u001b[1;33m                              output_name=\"intersect_of_crime_vendor_poverty\")\n\u001b[0m",
      "\u001b[1;32m~\\Anaconda3\\lib\\site-packages\\arcgis\\features\\manage_data.py\u001b[0m in \u001b[0;36moverlay_layers\u001b[1;34m(input_layer, overlay_layer, overlay_type, snap_to_input, output_type, tolerance, output_name, context, gis)\u001b[0m\n\u001b[0;32m    182\u001b[0m         \u001b[0mtolerance\u001b[0m\u001b[1;33m,\u001b[0m\u001b[1;33m\u001b[0m\u001b[0m\n\u001b[0;32m    183\u001b[0m         \u001b[0moutput_name\u001b[0m\u001b[1;33m,\u001b[0m\u001b[1;33m\u001b[0m\u001b[0m\n\u001b[1;32m--> 184\u001b[1;33m         context)\n\u001b[0m\u001b[0;32m    185\u001b[0m \u001b[1;33m\u001b[0m\u001b[0m\n\u001b[0;32m    186\u001b[0m def create_route_layers(\n",
      "\u001b[1;32m~\\Anaconda3\\lib\\site-packages\\arcgis\\_impl\\tools.py\u001b[0m in \u001b[0;36moverlay_layers\u001b[1;34m(self, input_layer, overlay_layer, overlay_type, snap_to_input, output_type, tolerance, output_name, context)\u001b[0m\n\u001b[0;32m   1212\u001b[0m         \u001b[0mtask_url\u001b[0m\u001b[1;33m,\u001b[0m \u001b[0mjob_info\u001b[0m\u001b[1;33m,\u001b[0m \u001b[0mjob_id\u001b[0m \u001b[1;33m=\u001b[0m \u001b[0msuper\u001b[0m\u001b[1;33m(\u001b[0m\u001b[1;33m)\u001b[0m\u001b[1;33m.\u001b[0m\u001b[0m_analysis_job\u001b[0m\u001b[1;33m(\u001b[0m\u001b[0mtask\u001b[0m\u001b[1;33m,\u001b[0m \u001b[0mparams\u001b[0m\u001b[1;33m)\u001b[0m\u001b[1;33m\u001b[0m\u001b[0m\n\u001b[0;32m   1213\u001b[0m \u001b[1;33m\u001b[0m\u001b[0m\n\u001b[1;32m-> 1214\u001b[1;33m         \u001b[0mjob_info\u001b[0m \u001b[1;33m=\u001b[0m \u001b[0msuper\u001b[0m\u001b[1;33m(\u001b[0m\u001b[1;33m)\u001b[0m\u001b[1;33m.\u001b[0m\u001b[0m_analysis_job_status\u001b[0m\u001b[1;33m(\u001b[0m\u001b[0mtask_url\u001b[0m\u001b[1;33m,\u001b[0m \u001b[0mjob_info\u001b[0m\u001b[1;33m)\u001b[0m\u001b[1;33m\u001b[0m\u001b[0m\n\u001b[0m\u001b[0;32m   1215\u001b[0m         \u001b[0mjob_values\u001b[0m \u001b[1;33m=\u001b[0m \u001b[0msuper\u001b[0m\u001b[1;33m(\u001b[0m\u001b[1;33m)\u001b[0m\u001b[1;33m.\u001b[0m\u001b[0m_analysis_job_results\u001b[0m\u001b[1;33m(\u001b[0m\u001b[0mtask_url\u001b[0m\u001b[1;33m,\u001b[0m \u001b[0mjob_info\u001b[0m\u001b[1;33m,\u001b[0m \u001b[0mjob_id\u001b[0m\u001b[1;33m)\u001b[0m\u001b[1;33m\u001b[0m\u001b[0m\n\u001b[0;32m   1216\u001b[0m         \u001b[1;31m#print(job_values)\u001b[0m\u001b[1;33m\u001b[0m\u001b[1;33m\u001b[0m\u001b[0m\n",
      "\u001b[1;32m~\\Anaconda3\\lib\\site-packages\\arcgis\\_impl\\tools.py\u001b[0m in \u001b[0;36m_analysis_job_status\u001b[1;34m(self, task_url, job_info)\u001b[0m\n\u001b[0;32m    186\u001b[0m \u001b[1;33m\u001b[0m\u001b[0m\n\u001b[0;32m    187\u001b[0m                     \u001b[1;32mif\u001b[0m \u001b[0mjob_response\u001b[0m\u001b[1;33m.\u001b[0m\u001b[0mget\u001b[0m\u001b[1;33m(\u001b[0m\u001b[1;34m\"jobStatus\"\u001b[0m\u001b[1;33m)\u001b[0m \u001b[1;33m==\u001b[0m \u001b[1;34m\"esriJobFailed\"\u001b[0m\u001b[1;33m:\u001b[0m\u001b[1;33m\u001b[0m\u001b[0m\n\u001b[1;32m--> 188\u001b[1;33m                         \u001b[1;32mraise\u001b[0m \u001b[0mException\u001b[0m\u001b[1;33m(\u001b[0m\u001b[1;34m\"Job failed.\"\u001b[0m\u001b[1;33m)\u001b[0m\u001b[1;33m\u001b[0m\u001b[0m\n\u001b[0m\u001b[0;32m    189\u001b[0m                     \u001b[1;32melif\u001b[0m \u001b[0mjob_response\u001b[0m\u001b[1;33m.\u001b[0m\u001b[0mget\u001b[0m\u001b[1;33m(\u001b[0m\u001b[1;34m\"jobStatus\"\u001b[0m\u001b[1;33m)\u001b[0m \u001b[1;33m==\u001b[0m \u001b[1;34m\"esriJobCancelled\"\u001b[0m\u001b[1;33m:\u001b[0m\u001b[1;33m\u001b[0m\u001b[0m\n\u001b[0;32m    190\u001b[0m                         \u001b[1;32mraise\u001b[0m \u001b[0mException\u001b[0m\u001b[1;33m(\u001b[0m\u001b[1;34m\"Job cancelled.\"\u001b[0m\u001b[1;33m)\u001b[0m\u001b[1;33m\u001b[0m\u001b[0m\n",
      "\u001b[1;31mException\u001b[0m: Job failed."
     ]
    }
   ],
   "source": [
    "intersected = overlay_layers(intersect_of_crime_vendor, poverty_data_hot_spots,\n",
    "                             output_name=\"intersect_of_crime_vendor_poverty\")"
   ]
  },
  {
   "cell_type": "code",
   "execution_count": 111,
   "metadata": {},
   "outputs": [
    {
     "data": {
      "text/html": [
       "<div class=\"item_container\" style=\"height: auto; overflow: hidden; border: 1px solid #cfcfcf; border-radius: 2px; background: #f6fafa; line-height: 1.21429em; padding: 10px;\">\n",
       "                    <div class=\"item_left\" style=\"width: 210px; float: left;\">\n",
       "                       <a href='https://deldev.maps.arcgis.com/home/item.html?id=b124c54431974882a0cad114ba4ed15a' target='_blank'>\n",
       "                        <img src='http://static.arcgis.com/images/desktopapp.png' class=\"itemThumbnail\">\n",
       "                       </a>\n",
       "                    </div>\n",
       "\n",
       "                    <div class=\"item_right\"     style=\"float: none; width: auto; overflow: hidden;\">\n",
       "                        <a href='https://deldev.maps.arcgis.com/home/item.html?id=b124c54431974882a0cad114ba4ed15a' target='_blank'><b>intersect_crime_vendor_poverty</b>\n",
       "                        </a>\n",
       "                        <br/><img src='https://deldev.maps.arcgis.com/home/js/jsapi/esri/css/images/item_type_icons/featureshosted16.png' style=\"vertical-align:middle;\">Feature Layer Collection by demo_deldev\n",
       "                        <br/>Last Modified: June 05, 2018\n",
       "                        <br/>0 comments, 0 views\n",
       "                    </div>\n",
       "                </div>\n",
       "                "
      ],
      "text/plain": [
       "<Item title:\"intersect_crime_vendor_poverty\" type:Feature Layer Collection owner:demo_deldev>"
      ]
     },
     "execution_count": 111,
     "metadata": {},
     "output_type": "execute_result"
    }
   ],
   "source": [
    "intersected"
   ]
  },
  {
   "cell_type": "markdown",
   "metadata": {},
   "source": [
    "Load the overlay layer on the map."
   ]
  },
  {
   "cell_type": "code",
   "execution_count": 186,
   "metadata": {},
   "outputs": [
    {
     "data": {
      "application/vnd.jupyter.widget-view+json": {
       "model_id": "f1c8b9a9f1e741d88faa9bfad2fa056c",
       "version_major": 2,
       "version_minor": 0
      },
      "text/html": [
       "<p>Failed to display Jupyter Widget of type <code>MapView</code>.</p>\n",
       "<p>\n",
       "  If you're reading this message in the Jupyter Notebook or JupyterLab Notebook, it may mean\n",
       "  that the widgets JavaScript is still loading. If this message persists, it\n",
       "  likely means that the widgets JavaScript library is either not installed or\n",
       "  not enabled. See the <a href=\"https://ipywidgets.readthedocs.io/en/stable/user_install.html\">Jupyter\n",
       "  Widgets Documentation</a> for setup instructions.\n",
       "</p>\n",
       "<p>\n",
       "  If you're reading this message in another frontend (for example, a static\n",
       "  rendering on GitHub or <a href=\"https://nbviewer.jupyter.org/\">NBViewer</a>),\n",
       "  it may mean that your frontend doesn't currently support widgets.\n",
       "</p>\n"
      ],
      "text/plain": [
       "MapView(basemaps=['dark-gray', 'dark-gray-vector', 'gray', 'gray-vector', 'hybrid', 'national-geographic', 'oceans', 'osm', 'satellite', 'streets', 'streets-navigation-vector', 'streets-night-vector', 'streets-relief-vector', 'streets-vector', 'terrain', 'topo', 'topo-vector'], center=[0, 0])"
      ]
     },
     "metadata": {},
     "output_type": "display_data"
    }
   ],
   "source": [
    "intersected_map = gis.map('Chicago')\n",
    "intersected_map"
   ]
  },
  {
   "cell_type": "code",
   "execution_count": 114,
   "metadata": {},
   "outputs": [],
   "source": [
    "intersected_map.add_layer(intersected)"
   ]
  },
  {
   "cell_type": "markdown",
   "metadata": {},
   "source": [
    "![](images/map6.PNG)"
   ]
  },
  {
   "cell_type": "markdown",
   "metadata": {},
   "source": [
    "Acsesing the content property of your gis use search() method to search for **ViolentCrimeTrend** feature layer collection outside organization."
   ]
  },
  {
   "cell_type": "code",
   "execution_count": 264,
   "metadata": {},
   "outputs": [],
   "source": [
    "crime_trend = gis.content.search('title:ViolentCrimeTrend owner:lscott_ANGP', outside_org=True)"
   ]
  },
  {
   "cell_type": "markdown",
   "metadata": {},
   "source": [
    "Display the items of the contents searchd."
   ]
  },
  {
   "cell_type": "code",
   "execution_count": 265,
   "metadata": {},
   "outputs": [
    {
     "data": {
      "text/html": [
       "<div class=\"item_container\" style=\"height: auto; overflow: hidden; border: 1px solid #cfcfcf; border-radius: 2px; background: #f6fafa; line-height: 1.21429em; padding: 10px;\">\n",
       "                    <div class=\"item_left\" style=\"width: 210px; float: left;\">\n",
       "                       <a href='https://deldev.maps.arcgis.com/home/item.html?id=fda8eef13b90478694dbcc2a86ce255c' target='_blank'>\n",
       "                        <img src='data:image/png;base64,iVBORw0KGgoAAAANSUhEUgAAAMgAAACFCAIAAACR/CB7AAAACXBIWXMAAAAnAAAAJwEqCZFPAAAP80lEQVR4nO2dz28bR5bHv8XfTYu/mrJEUj8sS3IsxxPERiaGvMEGmMNOMKcxNpPB+rCHHcxlFnvJnOY/mNNiD5u5ZoE9bE4B7MMu4JMHxsYx7Bk4a4/WliMpsiU2aUns5g+Z1aJI1hxKardISabIpqXurg8Mgyx2N4vw11Xv1Xv1ijDGIBBYjee4OyBwJkJYgr4ghCXoC0JYgr4ghCXoC77j7sAJZWlpiVIKQJZlVVXNHxktkiRNTk4eT/9OPGLE2odcLsdVJegaVwhL07RcLre0tKRpWifXd6gqSunS0lJvXXMsDp8Ki8UipVRVVVmWKaWUUkJIPB636vliYDsIhwurWq0CSCQS6XSaxxiq1eobhRUKhUKhEH9t3GjQ3iJox+HCCofD2WwWACHEmAf5i4sXLx50l67rxlBkvnHflkwmY3m3HYBzhDU3N4e9nhpvERwLDhGWYURzg1qSpDdaP9z1SyQSxvjEFWksNHT+1WLRoR17C4uLo0VG7S0Hwc15422Himx/yJGudwn2Xm5oUUbvT7PqUQK7jli5XA5CCicYuwqLO/yJRAKdrQh0uGrQ9Y2CFuwqLLPD/8YVgQ5benkUY0ysO5ixt40lOLEIYVkDD0cedy9OEEJYliE8CTNCWJZBKS0Wi8fdi5OCXY137g9yjssrbGTna8+fAkj/4jedR7hdgl2F1aFXaGR7dugV/uWXvzz921+DwDc44pEzb7gxPIQLQwByuVznEW6XYFdhtSBJUnsLjwMe6TmEkM2FlUAy5hscsa53bsSuwmoJ6iUSCfPkCIDnix7VoB767DPl8eOgGvMlMyG5y3WpdpW7ELsKa3Jy0pyGoChKy+DUnY829NlnyqNHtY1irVAKneu+b13e6SDsKqx2zHtpZFnu+jnjn3/e9b1i346BjYVlJBAfe6xQRA/bsbGwjAS9kxArNHuFwiWErYXVRVKetWwVVb2oAag/X/CdmT7GnpxAbLzynk6nT4L/VVpeXHt4/7h7ceKwsbCOnWBcjk1Moc28EtFo2Hoq7B/l5QUA0YmOZrfxn3zSUt9BVdV0Ot2vztkEewtrcnJSURTLvcL6c7b28E/l7x6890//LLzC7rC3sADIspzL5Qgh/G3nkcFDvELfmXOZM+cAaJrW3aNENqnthRUKhczzjiX7dhitACBSpMfnuBlhvAv6ghDWPhAp0uNwlcvljppY4TCEsPrF4uKim7VlexurBR5A3Ndxe/TlHwCkLv/49KUrvKX6zQ3pb35uXEPv3nxy59728JhxDXqLHqqq6lor3mnC4gHEfR230WvXX9y+VWWksDhXX8+Sq5+UPZJuuuxFnnqHR5sxubye8yzOvTmD9E0tU1NT1v9Cm+CuqTCVkUM1rbi0kFfU6jc3ANTmHzRVpeWyVxW6Wa72+F2JRMKo3uZCnDZiGdFDcxjx9QIEIQACQf8AISAMhHiTmdd2Ol8NIyQQ8AWC/h57ommaruuSJLlzFd5pwtr3X1FRdsckxkAQCPoCAR+aFIx5kyYbiBtKjPmtEBbaFtVcNYa5ayrk1JdX9T/eA5BX1Be3b/HIoJlXFZr9v8cvbt866pPLywsvbt+qzT94/OUXRqOqqjwe0FIv3tk4bcQ6iB3Hbfanjex8/uXL8vAgvXPPMzwGwLeyHR2KekfOJ/7+H2ofTJc+uAqCwKV3A++/iyd3jD2DrY/aryVajQ5RCU06NR3d3Lu5I51Ovx44XYBbhGVs/SuvlUt1P4vJdbBmTAZQqKO+Vo6GNQChf//XpkeqP19VK1TP01RGNu8Z5BziFZbXysU8BbBYKo/8qPWaPv/Ek4Xzp0LzuQG1+Qf1jdZhI3Z2imfI1OYfAMgrqi4n4++dS2X22ZFx+PwYnZge/8knAKbOj5rb+eaOXrZ42A63jFg7EOKjNKSqDAjmVrcaRE8mt4paeXmRAY1NPfT9/w+cuxgI+Gpb9VqtDmB75WlpvcJHGwaAkLWH9w9PRI6dnfafjhiL7u50DF0mLMZ8tIrCBhjCKyvEL+myrGuqrqncaIo+nBu4/AEINst0s0IBbL94WsrT18ICXj68P3K4sCam/LIMdx/k5PypsAVdTurJpPE2/uxZUC0Yr/e9JZWRh0fkU5GdhbGWaU6wL84fsfZED2d/Ogysf3c///BPFDS59H3+6lUP4C2pTSC89H3sz/dKIIHL79ZHRqulCoDnz1a2h8c8wNDlH0/93RUAmUymxb8TOaXtOF9Y7dFD35lzo2fOybKc//bWEIDdeU6JyS+vzjZiyYGIBKAZ8wOogw1dmAaBJ3KKP0HsNOwE5wvrEALnP9zzXtnx+OrPVzc31jdYc4b4KsPJvKLGz05Fu60RAmBubs5t2nKdjXUYu7FCEB5VJPrgIAFiZ6eDcRetFFiCq0esVnZjhWAAYwDTZdlbKsQm3Jv90jXOF5bh7RuhOmMJoJPg3Xu/+hdXxfiswvnCMmi3cniL4eKtllTfy1UGUvcSub41/mI1n0qduvOf7G//0XyX2GnYCS4S1kEYVWtGr13P3vivZkxmQCUml999P5WR15tUt6KUjdtylIXxfhh5RV2cX+39Oa6KEnLEiLWH4ctXXjFiDuCcIhZY7iJW6HaGLl9pMdVbCn50Ry6Xc5u2xFT4NnChXylGrNe1TGFdDVLhFQphvfYKYV05U3r3ZtkjmUNGbjvTUAirL4Q/uqa7b/ozI2ysvhwksb3y1PJn2gu3C8t8vEW/0TStvdSbU3G7sCwp1NaOf2xm33ZFUVxypqHbbaxE2+4/q7zC6jc3Fuaz5uI2rjrT0KXCUhSFENK+vGSVV0gIKXukoQvTRt4pvXtTv/Ax/9QNOaUuFdZbIK+oAIiiMjxOZeSWmg2OzykVwuqSraLarFYCQf+esiK7rD28D0JiE1MEYIA3ImF9obS86J6cQRcJa2lpCRZtHy0tL9aKarNa8Qf9MQD7JS/EJqbMMvKHfFiv9Pi9NsKBwtJ1fV+vnnt//G9N03pJZSn9sMAzILa2tgc2sjj3o5YL2oPZ/rGZ2CkXLZk6UFi88mfL1r9MJmM4boyxRCLRy3mFj0oqX6dpAtGU1H7Nk9//bnt4DHtLnroqeuhAYWHvsfIcC88rpHdv8izTUxFpICKV9/u6+vBoMyanMvLhuxEdHD10prD6Svija6lvbxnbXPOKuv7lF41YMr5btcYgr6jxYCLquuxRQKy8d4d3cMQTjgIEhAxEw3w3YrNa4WelACDAQDQMl9XEMiOE1SW1re3a1jaAgYh0anUVQLNaaRQU/se4bKuolZYXj62Xx4cQVjc0NrK6pta2tsEYGDu1sgLGADSr5cZGtrGRZcBmuQrGdE0t/dBa49RA07RcLufI6KEDbSxuDlt1ij337wwfkJ9g+OjJAm/hxeD9k2OekhryReq0rBYq0+dHpqaj3y6oADxAEwg9ufPkzr2Z3/2+/bsYY46MHhKn+sBzc3Pmt+17IvbdJdHeGHpy51me8vozvBTbpU+vq6pa+/P9eiHrOzOaV1RvqdCIJc17ey59ev27r78CEFILoY1C8Z133klJz/KUF5Js+S5HFmdz4IhlLeGPruHrr15VWlNr9KRcKmtM2aNCXs6U1ynlJUw3I1JRTqYycvjqJ+Oq+uL2LbIrPvnT6/wuSqnzQoeOFZYkSUaiFc8RNbccidjZadBKs1ppGdsJIQwIFQrB3GopPhiKJ3hRmoFoeHvl6d5TMIjxqFpRpUUNwNrD+68YcWr00LHG++TkpCRJkiTJsjw5OZlOp80t3A7rMCk5NjEVGR7iy6F8TiwtL24Vd1Y7Q4UC9wqDhrAikpGaHAj6ByKSEageiEj+wM5/5rWH980OIw9lOgbHjlgw1Zk5pKXFFDsUht0hy4gVArzsEYPZVH1dCAkgAIMhrMZGtlml/KOdkkm7UEpzuRx/LUmS3c15JwurEzrNIE0kMHXRaKmmJGPlfaE0SEE9JXXzOzVM2OlLV2iTnm6UF+az2PUKp5v0VKNc9UZX57Oe3WmCV7ZZvfHVzjXnR9K/+A0PcTrAT3SsV9ghXTiPRkt5eaH4wyIAwyvk02Xg/IfGNU1Vqa9neUv+21sANis7hb7fSUllj6T/8R527fmhj9/nWaYO8BPdPmL1QnRiOjoxXZt/sF4qAAiqhdC2hMhOsW5+zgWXUf72v42khhuxZCojD0R3DDU0aV5RzePS4vzqyIW3/jP6gxBWl2wV1a2ixs+z4LHCRjhclyTfrgPoHRwBEPKpIBpA1JXnsfigd3CE0UqzWgHAK53qg4P8eMT68qpht1FKuS1v33FLCKtLtopqeXmpCQA4PRhdr8OXHvEPDXn3HnQYCPp9EQlAYeW5Nz3uTWYYrRCp0igo/rGZgVfzm0iygK8Z9NcrNDEYaRQUbum/td2OfcKxyw1vAbbrDyaSUTAWjCekzBmzA9jYyDarZV4nF4xtbqwBIFLEm8yAMf/YzMBACIzVtrY3y1VdlhPJaGMje6y/yTLEiNUl3MDC7nlgqYyMmqb+99ebz16Mf/459haRv2Iy5zn808D5D8fP77TU5h+gSVtLz9sWtwur9w2rqyX19OnIwnxWTkZC0WD1bGrfvOc3tvBFipbjM+2L24XV+/bU0WvX15/cacb8uiTFJ6dH5Yymad1sc73w8StZ1vYubdg3cVnYWBbgH58ZiIZDCZlIkZaPGK20pP4dRKOgtNeoac+mtwtuH7Haw4WHtBzkqfnHZmJ63ROOHCSsfTe1dgilNGHD+dHtwjrSQpGiKAeNH4dJh7FOhOVNZozjMx2A24XVJ6rf3Kh5pMD5Dz1yJtDDsWH2RQjraHTo8Q00ygAk0xTWdTmklp23dkEI62h06PFRb7TskcxnpXRdDsmyrr9dhLBaMSfcGRZYLpc7Uu0///iMV69b3zn7IITVilk9mqbxYt1Hjdz5x2a8TjHDu0OsYx0Gt2/sHg8+FoSw+sLjL7/gMUTXIqbCVnqPHtK7N2eno+teSXiFgtf0Hj2seaTF+dVGzD/uYq9QTIV9gMvBtpqwBDFiAburCbDo+BNvMpMYzNdGnbkTtUPEiAXsnk9hlffnTWYSyahTtzh3iBCWoC+IqRAwnYVp1ZEnmd2tpz0+R3iF9iYcDlNKVVU9yC8Lh8PZbNZoeaM395f/+MPpC+fy//O/8atXo7OzHd7lJK9QCAsA4vF4PB4PhUK6rvPCITAtuPNKCqqqdm6EyYNRmIrMuBAhrNccnqhpdhhblLfPowajZSA2OxscHbWwhzZCCKtT2g9KOewQTQYwFpud7Xu3TipCWJZRvncPALeoxJnQQljdw7O1FEXh3lziZz8zPrLwQE3hFbqX7k5YcbZXKBZIBX1BCMt6LAk42h0xFVoPt73ai8i7CiGsXuHlFXo/tdVhCGH1i94zUWFnr9DtxW37h1Fbu0cSiQQPkNsLISxBXxBeoaAvCGEJ+oIQlqAvCGEJ+sJfARkXQGiZR+qWAAAAAElFTkSuQmCC' width='200' height='133' class=\"itemThumbnail\">\n",
       "                       </a>\n",
       "                    </div>\n",
       "\n",
       "                    <div class=\"item_right\"     style=\"float: none; width: auto; overflow: hidden;\">\n",
       "                        <a href='https://deldev.maps.arcgis.com/home/item.html?id=fda8eef13b90478694dbcc2a86ce255c' target='_blank'><b>ViolentCrimeTrends</b>\n",
       "                        </a>\n",
       "                        <br/>2014 Violent Crime Trends<img src='https://deldev.maps.arcgis.com/home/js/jsapi/esri/css/images/item_type_icons/featureshosted16.png' style=\"vertical-align:middle;\">Feature Layer Collection by lscott_ANGP\n",
       "                        <br/>Last Modified: April 23, 2016\n",
       "                        <br/>0 comments, 623 views\n",
       "                    </div>\n",
       "                </div>\n",
       "                "
      ],
      "text/plain": [
       "<Item title:\"ViolentCrimeTrends\" type:Feature Layer Collection owner:lscott_ANGP>"
      ]
     },
     "metadata": {},
     "output_type": "display_data"
    }
   ],
   "source": [
    "for item in crime_trend:\n",
    "    display(item)"
   ]
  },
  {
   "cell_type": "markdown",
   "metadata": {},
   "source": [
    "Get the first item from crime_trend. "
   ]
  },
  {
   "cell_type": "code",
   "execution_count": 266,
   "metadata": {},
   "outputs": [],
   "source": [
    "crime_trend_item = crime_trend[0]"
   ]
  },
  {
   "cell_type": "code",
   "execution_count": 267,
   "metadata": {},
   "outputs": [
    {
     "data": {
      "text/html": [
       "<div class=\"item_container\" style=\"height: auto; overflow: hidden; border: 1px solid #cfcfcf; border-radius: 2px; background: #f6fafa; line-height: 1.21429em; padding: 10px;\">\n",
       "                    <div class=\"item_left\" style=\"width: 210px; float: left;\">\n",
       "                       <a href='https://deldev.maps.arcgis.com/home/item.html?id=fda8eef13b90478694dbcc2a86ce255c' target='_blank'>\n",
       "                        <img src='data:image/png;base64,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' width='200' height='133' class=\"itemThumbnail\">\n",
       "                       </a>\n",
       "                    </div>\n",
       "\n",
       "                    <div class=\"item_right\"     style=\"float: none; width: auto; overflow: hidden;\">\n",
       "                        <a href='https://deldev.maps.arcgis.com/home/item.html?id=fda8eef13b90478694dbcc2a86ce255c' target='_blank'><b>ViolentCrimeTrends</b>\n",
       "                        </a>\n",
       "                        <br/>2014 Violent Crime Trends<img src='https://deldev.maps.arcgis.com/home/js/jsapi/esri/css/images/item_type_icons/featureshosted16.png' style=\"vertical-align:middle;\">Feature Layer Collection by lscott_ANGP\n",
       "                        <br/>Last Modified: April 23, 2016\n",
       "                        <br/>0 comments, 623 views\n",
       "                    </div>\n",
       "                </div>\n",
       "                "
      ],
      "text/plain": [
       "<Item title:\"ViolentCrimeTrends\" type:Feature Layer Collection owner:lscott_ANGP>"
      ]
     },
     "execution_count": 267,
     "metadata": {},
     "output_type": "execute_result"
    }
   ],
   "source": [
    "crime_trend_item"
   ]
  },
  {
   "cell_type": "markdown",
   "metadata": {},
   "source": [
    "Assign a variable name **crime_trend_layer** to the first layer from the features layer collection ."
   ]
  },
  {
   "cell_type": "code",
   "execution_count": 287,
   "metadata": {},
   "outputs": [],
   "source": [
    "crime_trend_layer = crime_trend_item.layers[0]"
   ]
  },
  {
   "cell_type": "markdown",
   "metadata": {},
   "source": [
    "Load and visualize the crime_trend_layer on map."
   ]
  },
  {
   "cell_type": "code",
   "execution_count": 288,
   "metadata": {},
   "outputs": [
    {
     "data": {
      "application/vnd.jupyter.widget-view+json": {
       "model_id": "073a9f64970e48208aa525405cb544c0",
       "version_major": 2,
       "version_minor": 0
      },
      "text/html": [
       "<p>Failed to display Jupyter Widget of type <code>MapView</code>.</p>\n",
       "<p>\n",
       "  If you're reading this message in the Jupyter Notebook or JupyterLab Notebook, it may mean\n",
       "  that the widgets JavaScript is still loading. If this message persists, it\n",
       "  likely means that the widgets JavaScript library is either not installed or\n",
       "  not enabled. See the <a href=\"https://ipywidgets.readthedocs.io/en/stable/user_install.html\">Jupyter\n",
       "  Widgets Documentation</a> for setup instructions.\n",
       "</p>\n",
       "<p>\n",
       "  If you're reading this message in another frontend (for example, a static\n",
       "  rendering on GitHub or <a href=\"https://nbviewer.jupyter.org/\">NBViewer</a>),\n",
       "  it may mean that your frontend doesn't currently support widgets.\n",
       "</p>\n"
      ],
      "text/plain": [
       "MapView(basemaps=['dark-gray', 'dark-gray-vector', 'gray', 'gray-vector', 'hybrid', 'national-geographic', 'oceans', 'osm', 'satellite', 'streets', 'streets-navigation-vector', 'streets-night-vector', 'streets-relief-vector', 'streets-vector', 'terrain', 'topo', 'topo-vector'], center=[0, 0])"
      ]
     },
     "metadata": {},
     "output_type": "display_data"
    }
   ],
   "source": [
    "crime_trends_map = gis.map('Chicago')\n",
    "crime_trends_map"
   ]
  },
  {
   "cell_type": "code",
   "execution_count": 290,
   "metadata": {},
   "outputs": [],
   "source": [
    "crime_trend_layer.filter = \"(PATTERN = 'Consecutive Hot Spot') OR (PATTERN = 'Intensifying Hot Spot') OR (PATTERN = 'Persistent Hot Spot')\""
   ]
  },
  {
   "cell_type": "code",
   "execution_count": 291,
   "metadata": {},
   "outputs": [],
   "source": [
    "crime_trends_map.add_layer(crime_trend_layer)"
   ]
  },
  {
   "cell_type": "markdown",
   "metadata": {},
   "source": [
    "![](images/map7.PNG)"
   ]
  },
  {
   "cell_type": "markdown",
   "metadata": {},
   "source": [
    "Publish a layer"
   ]
  },
  {
   "cell_type": "markdown",
   "metadata": {},
   "source": [
    "Use the enrich_layer tool to add more demographic information to the layer."
   ]
  },
  {
   "cell_type": "code",
   "execution_count": 271,
   "metadata": {},
   "outputs": [],
   "source": [
    "crime_trend_enriched_unemployment = enrich_layer(crime_trend_layer, \n",
    "                              analysis_variables=[\"industry.UNEMPRT_CY\"], \n",
    "                              output_name='UnemploymentLayer')"
   ]
  },
  {
   "cell_type": "markdown",
   "metadata": {},
   "source": [
    "Use find_hot_spots tool to spot hot spots of **cime_trend_enriched_unemployment** layer."
   ]
  },
  {
   "cell_type": "code",
   "execution_count": 292,
   "metadata": {},
   "outputs": [],
   "source": [
    "unemployment_rate_hot_spots = find_hot_spots(crime_trend_enriched_unemployment,\n",
    "                                             analysis_field='UNEMPRT_CY',\n",
    "                                         output_name='unemployment rate hotspots')"
   ]
  },
  {
   "cell_type": "markdown",
   "metadata": {},
   "source": [
    "Load and visualize hot spots on map."
   ]
  },
  {
   "cell_type": "code",
   "execution_count": 132,
   "metadata": {},
   "outputs": [
    {
     "data": {
      "application/vnd.jupyter.widget-view+json": {
       "model_id": "b576b442a2a7444aa90e774e6862fdd4",
       "version_major": 2,
       "version_minor": 0
      },
      "text/html": [
       "<p>Failed to display Jupyter Widget of type <code>MapView</code>.</p>\n",
       "<p>\n",
       "  If you're reading this message in the Jupyter Notebook or JupyterLab Notebook, it may mean\n",
       "  that the widgets JavaScript is still loading. If this message persists, it\n",
       "  likely means that the widgets JavaScript library is either not installed or\n",
       "  not enabled. See the <a href=\"https://ipywidgets.readthedocs.io/en/stable/user_install.html\">Jupyter\n",
       "  Widgets Documentation</a> for setup instructions.\n",
       "</p>\n",
       "<p>\n",
       "  If you're reading this message in another frontend (for example, a static\n",
       "  rendering on GitHub or <a href=\"https://nbviewer.jupyter.org/\">NBViewer</a>),\n",
       "  it may mean that your frontend doesn't currently support widgets.\n",
       "</p>\n"
      ],
      "text/plain": [
       "MapView(basemaps=['dark-gray', 'dark-gray-vector', 'gray', 'gray-vector', 'hybrid', 'national-geographic', 'oceans', 'osm', 'satellite', 'streets', 'streets-navigation-vector', 'streets-night-vector', 'streets-relief-vector', 'streets-vector', 'terrain', 'topo', 'topo-vector'], center=[0, 0])"
      ]
     },
     "metadata": {},
     "output_type": "display_data"
    }
   ],
   "source": [
    "unemployment_rate_hot_spots_map = gis.map('Chicago')\n",
    "unemployment_rate_hot_spots_map"
   ]
  },
  {
   "cell_type": "code",
   "execution_count": 133,
   "metadata": {},
   "outputs": [],
   "source": [
    "unemployment_rate_hot_spots_map.add_layer(unemployment_rate_hot_spots)"
   ]
  },
  {
   "cell_type": "markdown",
   "metadata": {},
   "source": [
    "![](images/map8.PNG)"
   ]
  },
  {
   "cell_type": "markdown",
   "metadata": {},
   "source": [
    "filter unemployment_rate_hot_spots to select locations where the Gi_Bin Fixed 4554_FDR field is 3 (this is the code for statistically significant hot spots at the 99 percent confidence level).\n",
    "Filter the most intense unemployment hot spots"
   ]
  },
  {
   "cell_type": "code",
   "execution_count": 293,
   "metadata": {},
   "outputs": [],
   "source": [
    "unemployment_rate_hot_spots.layers[0].filter = \"Gi_Bin = 3\""
   ]
  },
  {
   "cell_type": "markdown",
   "metadata": {},
   "source": [
    "For the crime trends map, you are interested in specific Pattern Type values: Intensifying, Consecutive, and Persistent hot spots. "
   ]
  },
  {
   "cell_type": "code",
   "execution_count": 294,
   "metadata": {},
   "outputs": [],
   "source": [
    "crime_trend_layer.filter = \"(PATTERN = 'Consecutive Hot Spot') OR (PATTERN = 'Intensifying Hot Spot') OR (PATTERN = 'Persistent Hot Spot')\""
   ]
  },
  {
   "cell_type": "markdown",
   "metadata": {},
   "source": [
    "Use overlay_layers tool to find areas that are common to crime trend layer and unemployment_rate_hot_spots."
   ]
  },
  {
   "cell_type": "code",
   "execution_count": 295,
   "metadata": {},
   "outputs": [],
   "source": [
    "overlay = overlay_layers(crime_trend_layer, unemployment_rate_hot_spots,\n",
    "                         output_name=\"overlay_unemployment_crimetrend\")"
   ]
  },
  {
   "cell_type": "code",
   "execution_count": 296,
   "metadata": {},
   "outputs": [
    {
     "data": {
      "text/html": [
       "<div class=\"item_container\" style=\"height: auto; overflow: hidden; border: 1px solid #cfcfcf; border-radius: 2px; background: #f6fafa; line-height: 1.21429em; padding: 10px;\">\n",
       "                    <div class=\"item_left\" style=\"width: 210px; float: left;\">\n",
       "                       <a href='https://deldev.maps.arcgis.com/home/item.html?id=7c2608b087ef4aa1891f21cdd61de61c' target='_blank'>\n",
       "                        <img src='http://static.arcgis.com/images/desktopapp.png' class=\"itemThumbnail\">\n",
       "                       </a>\n",
       "                    </div>\n",
       "\n",
       "                    <div class=\"item_right\"     style=\"float: none; width: auto; overflow: hidden;\">\n",
       "                        <a href='https://deldev.maps.arcgis.com/home/item.html?id=7c2608b087ef4aa1891f21cdd61de61c' target='_blank'><b>overlay_unemployment_crimetrend</b>\n",
       "                        </a>\n",
       "                        <br/><img src='https://deldev.maps.arcgis.com/home/js/jsapi/esri/css/images/item_type_icons/featureshosted16.png' style=\"vertical-align:middle;\">Feature Layer Collection by demo_deldev\n",
       "                        <br/>Last Modified: June 07, 2018\n",
       "                        <br/>0 comments, 0 views\n",
       "                    </div>\n",
       "                </div>\n",
       "                "
      ],
      "text/plain": [
       "<Item title:\"overlay_unemployment_crimetrend\" type:Feature Layer Collection owner:demo_deldev>"
      ]
     },
     "execution_count": 296,
     "metadata": {},
     "output_type": "execute_result"
    }
   ],
   "source": [
    "overlay"
   ]
  },
  {
   "cell_type": "markdown",
   "metadata": {},
   "source": [
    "Load and visualize on map."
   ]
  },
  {
   "cell_type": "code",
   "execution_count": 297,
   "metadata": {},
   "outputs": [
    {
     "data": {
      "application/vnd.jupyter.widget-view+json": {
       "model_id": "753b3a117c454452989d6423ede258d8",
       "version_major": 2,
       "version_minor": 0
      },
      "text/html": [
       "<p>Failed to display Jupyter Widget of type <code>MapView</code>.</p>\n",
       "<p>\n",
       "  If you're reading this message in the Jupyter Notebook or JupyterLab Notebook, it may mean\n",
       "  that the widgets JavaScript is still loading. If this message persists, it\n",
       "  likely means that the widgets JavaScript library is either not installed or\n",
       "  not enabled. See the <a href=\"https://ipywidgets.readthedocs.io/en/stable/user_install.html\">Jupyter\n",
       "  Widgets Documentation</a> for setup instructions.\n",
       "</p>\n",
       "<p>\n",
       "  If you're reading this message in another frontend (for example, a static\n",
       "  rendering on GitHub or <a href=\"https://nbviewer.jupyter.org/\">NBViewer</a>),\n",
       "  it may mean that your frontend doesn't currently support widgets.\n",
       "</p>\n"
      ],
      "text/plain": [
       "MapView(basemaps=['dark-gray', 'dark-gray-vector', 'gray', 'gray-vector', 'hybrid', 'national-geographic', 'oceans', 'osm', 'satellite', 'streets', 'streets-navigation-vector', 'streets-night-vector', 'streets-relief-vector', 'streets-vector', 'terrain', 'topo', 'topo-vector'], center=[0, 0])"
      ]
     },
     "metadata": {},
     "output_type": "display_data"
    }
   ],
   "source": [
    "overlay_map = gis.map('Chicago')\n",
    "overlay_map"
   ]
  },
  {
   "cell_type": "code",
   "execution_count": 298,
   "metadata": {},
   "outputs": [],
   "source": [
    "overlay_map.add_layer(overlay)"
   ]
  },
  {
   "cell_type": "markdown",
   "metadata": {},
   "source": [
    "![](images/map_9.PNG)"
   ]
  },
  {
   "cell_type": "markdown",
   "metadata": {},
   "source": [
    "Getting the first layer and saving it in **public_high_school_layer**."
   ]
  },
  {
   "cell_type": "code",
   "execution_count": 272,
   "metadata": {},
   "outputs": [],
   "source": [
    "public_high_school_layer = lyrs[0]"
   ]
  },
  {
   "cell_type": "code",
   "execution_count": 273,
   "metadata": {},
   "outputs": [],
   "source": [
    "from arcgis.features.find_locations import find_existing_locations "
   ]
  },
  {
   "cell_type": "code",
   "execution_count": 274,
   "metadata": {},
   "outputs": [
    {
     "data": {
      "text/plain": [
       "{'itemId': '95bfada660b9491bad7f8bf40f82140b', 'notSharedWith': []}"
      ]
     },
     "execution_count": 274,
     "metadata": {},
     "output_type": "execute_result"
    }
   ],
   "source": [
    "cime_trend_enriched_unemployment.share(True)"
   ]
  },
  {
   "cell_type": "code",
   "execution_count": 275,
   "metadata": {},
   "outputs": [
    {
     "data": {
      "text/plain": [
       "'https://services1.arcgis.com/hLJbHVT9ZrDIzK0I/arcgis/rest/services/CrimeAnalysisData/FeatureServer/0'"
      ]
     },
     "execution_count": 275,
     "metadata": {},
     "output_type": "execute_result"
    }
   ],
   "source": [
    "public_high_school_layer.url"
   ]
  },
  {
   "cell_type": "code",
   "execution_count": null,
   "metadata": {},
   "outputs": [],
   "source": [
    "[{\"operator\":\"\",\"layer\":0,\"selectingLayer\":1,\"spatialRel\":\"withinDistance\",\"distance\":0.25,\"units\":\"Miles\"}]"
   ]
  },
  {
   "cell_type": "code",
   "execution_count": 279,
   "metadata": {},
   "outputs": [],
   "source": [
    "nearby_schools = find_existing_locations(input_layers=[ {'url': public_high_school_layer.url},\n",
    "                                                       {'url': cime_trend_enriched_unemployment.layers[0].url}], \n",
    "                        expressions=[{\"operator\":\"\",\"layer\":0,\"selectingLayer\":1,\"spatialRel\":\"withinDistance\",\n",
    "                                      \"distance\":0.25,\"units\":\"Miles\"}], output_name='nearby_schools_2')"
   ]
  },
  {
   "cell_type": "code",
   "execution_count": 282,
   "metadata": {},
   "outputs": [
    {
     "data": {
      "text/html": [
       "<div class=\"item_container\" style=\"height: auto; overflow: hidden; border: 1px solid #cfcfcf; border-radius: 2px; background: #f6fafa; line-height: 1.21429em; padding: 10px;\">\n",
       "                    <div class=\"item_left\" style=\"width: 210px; float: left;\">\n",
       "                       <a href='https://deldev.maps.arcgis.com/home/item.html?id=ac478cc73f5540aea68a078b72f7ebe9' target='_blank'>\n",
       "                        <img src='http://static.arcgis.com/images/desktopapp.png' class=\"itemThumbnail\">\n",
       "                       </a>\n",
       "                    </div>\n",
       "\n",
       "                    <div class=\"item_right\"     style=\"float: none; width: auto; overflow: hidden;\">\n",
       "                        <a href='https://deldev.maps.arcgis.com/home/item.html?id=ac478cc73f5540aea68a078b72f7ebe9' target='_blank'><b>nearby_schools_2</b>\n",
       "                        </a>\n",
       "                        <br/><img src='https://deldev.maps.arcgis.com/home/js/jsapi/esri/css/images/item_type_icons/featureshosted16.png' style=\"vertical-align:middle;\">Feature Layer Collection by demo_deldev\n",
       "                        <br/>Last Modified: June 07, 2018\n",
       "                        <br/>0 comments, 0 views\n",
       "                    </div>\n",
       "                </div>\n",
       "                "
      ],
      "text/plain": [
       "<Item title:\"nearby_schools_2\" type:Feature Layer Collection owner:demo_deldev>"
      ]
     },
     "execution_count": 282,
     "metadata": {},
     "output_type": "execute_result"
    }
   ],
   "source": [
    "nearby_schools"
   ]
  },
  {
   "cell_type": "code",
   "execution_count": 284,
   "metadata": {},
   "outputs": [
    {
     "data": {
      "application/vnd.jupyter.widget-view+json": {
       "model_id": "0896275ee1374b928bae282e8874850e",
       "version_major": 2,
       "version_minor": 0
      },
      "text/html": [
       "<p>Failed to display Jupyter Widget of type <code>MapView</code>.</p>\n",
       "<p>\n",
       "  If you're reading this message in the Jupyter Notebook or JupyterLab Notebook, it may mean\n",
       "  that the widgets JavaScript is still loading. If this message persists, it\n",
       "  likely means that the widgets JavaScript library is either not installed or\n",
       "  not enabled. See the <a href=\"https://ipywidgets.readthedocs.io/en/stable/user_install.html\">Jupyter\n",
       "  Widgets Documentation</a> for setup instructions.\n",
       "</p>\n",
       "<p>\n",
       "  If you're reading this message in another frontend (for example, a static\n",
       "  rendering on GitHub or <a href=\"https://nbviewer.jupyter.org/\">NBViewer</a>),\n",
       "  it may mean that your frontend doesn't currently support widgets.\n",
       "</p>\n"
      ],
      "text/plain": [
       "MapView(basemaps=['dark-gray', 'dark-gray-vector', 'gray', 'gray-vector', 'hybrid', 'national-geographic', 'oceans', 'osm', 'satellite', 'streets', 'streets-navigation-vector', 'streets-night-vector', 'streets-relief-vector', 'streets-vector', 'terrain', 'topo', 'topo-vector'], center=[0, 0])"
      ]
     },
     "metadata": {},
     "output_type": "display_data"
    }
   ],
   "source": [
    "selected_high_schools_map = gis.map('Chicago')\n",
    "selected_high_schools_map"
   ]
  },
  {
   "cell_type": "code",
   "execution_count": 285,
   "metadata": {},
   "outputs": [],
   "source": [
    "selected_high_schools_map.add_layer(nearby_schools)"
   ]
  },
  {
   "cell_type": "markdown",
   "metadata": {},
   "source": [
    "![](images/map10.PNG) #not saved yet"
   ]
  }
 ],
 "metadata": {
  "kernelspec": {
   "display_name": "Python 3",
   "language": "python",
   "name": "python3"
  },
  "language_info": {
   "codemirror_mode": {
    "name": "ipython",
    "version": 3
   },
   "file_extension": ".py",
   "mimetype": "text/x-python",
   "name": "python",
   "nbconvert_exporter": "python",
   "pygments_lexer": "ipython3",
   "version": "3.6.4"
  }
 },
 "nbformat": 4,
 "nbformat_minor": 2
}
