{
 "cells": [
  {
   "cell_type": "code",
   "execution_count": 1,
   "metadata": {},
   "outputs": [],
   "source": [
    "from arcgis import GIS"
   ]
  },
  {
   "cell_type": "code",
   "execution_count": 47,
   "metadata": {},
   "outputs": [],
   "source": [
    "gis = GIS(\"https://deldev.maps.arcgis.com\", \"demo_deldev\", \"P@ssword123\")"
   ]
  },
  {
   "cell_type": "code",
   "execution_count": 48,
   "metadata": {},
   "outputs": [],
   "source": [
    "items = gis.content.search('title:CrimeAnalysisData owner:lscott_ANGP', outside_org=True)"
   ]
  },
  {
   "cell_type": "code",
   "execution_count": 49,
   "metadata": {},
   "outputs": [],
   "source": [
    "from IPython.display import display"
   ]
  },
  {
   "cell_type": "code",
   "execution_count": 50,
   "metadata": {},
   "outputs": [
    {
     "data": {
      "text/html": [
       "<div class=\"item_container\" style=\"height: auto; overflow: hidden; border: 1px solid #cfcfcf; border-radius: 2px; background: #f6fafa; line-height: 1.21429em; padding: 10px;\">\n",
       "                    <div class=\"item_left\" style=\"width: 210px; float: left;\">\n",
       "                       <a href='https://deldev.maps.arcgis.com/home/item.html?id=ada3bf6996f340f59f23af5f92f6267b' target='_blank'>\n",
       "                        <img src='data:image/png;base64,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' width='200' height='133' class=\"itemThumbnail\">\n",
       "                       </a>\n",
       "                    </div>\n",
       "\n",
       "                    <div class=\"item_right\"     style=\"float: none; width: auto; overflow: hidden;\">\n",
       "                        <a href='https://deldev.maps.arcgis.com/home/item.html?id=ada3bf6996f340f59f23af5f92f6267b' target='_blank'><b>CrimeAnalysisData</b>\n",
       "                        </a>\n",
       "                        <br/>This service has all of the data needed to work through the Analyzing Violent Crime case study.  Much of the data was obtained from www.cityofchicago.org<img src='https://deldev.maps.arcgis.com/home/js/jsapi/esri/css/images/item_type_icons/featureshosted16.png' style=\"vertical-align:middle;\">Feature Layer Collection by lscott_ANGP\n",
       "                        <br/>Last Modified: April 22, 2016\n",
       "                        <br/>0 comments, 2,187 views\n",
       "                    </div>\n",
       "                </div>\n",
       "                "
      ],
      "text/plain": [
       "<Item title:\"CrimeAnalysisData\" type:Feature Layer Collection owner:lscott_ANGP>"
      ]
     },
     "metadata": {},
     "output_type": "display_data"
    }
   ],
   "source": [
    "for item in items:\n",
    "    display(item)"
   ]
  },
  {
   "cell_type": "code",
   "execution_count": 51,
   "metadata": {},
   "outputs": [],
   "source": [
    "crime_item = items[0]"
   ]
  },
  {
   "cell_type": "code",
   "execution_count": 52,
   "metadata": {},
   "outputs": [],
   "source": [
    "lyrs = crime_item.layers"
   ]
  },
  {
   "cell_type": "code",
   "execution_count": 53,
   "metadata": {},
   "outputs": [
    {
     "name": "stdout",
     "output_type": "stream",
     "text": [
      "Public High Schools\n",
      "Liquor Vendors\n",
      "Violent Crime 2014\n",
      "Analysis Boundary\n"
     ]
    }
   ],
   "source": [
    "for lyr in lyrs:\n",
    "    print(lyr.properties.name)"
   ]
  },
  {
   "cell_type": "code",
   "execution_count": 54,
   "metadata": {},
   "outputs": [],
   "source": [
    "violent_crimes = lyrs[2]"
   ]
  },
  {
   "cell_type": "code",
   "execution_count": 59,
   "metadata": {},
   "outputs": [
    {
     "data": {
      "text/plain": [
       "<FeatureLayer url:\"https://services1.arcgis.com/hLJbHVT9ZrDIzK0I/arcgis/rest/services/CrimeAnalysisData/FeatureServer/2\">"
      ]
     },
     "execution_count": 59,
     "metadata": {},
     "output_type": "execute_result"
    }
   ],
   "source": [
    "violent_crimes"
   ]
  },
  {
   "cell_type": "code",
   "execution_count": 55,
   "metadata": {},
   "outputs": [],
   "source": [
    "from arcgis.features.analyze_patterns import find_hot_spots"
   ]
  },
  {
   "cell_type": "code",
   "execution_count": 56,
   "metadata": {},
   "outputs": [],
   "source": [
    "crime_hot_spots = find_hot_spots(violent_crimes, output_name='Crime Hot Spots')"
   ]
  },
  {
   "cell_type": "code",
   "execution_count": 62,
   "metadata": {},
   "outputs": [
    {
     "data": {
      "text/html": [
       "<div class=\"item_container\" style=\"height: auto; overflow: hidden; border: 1px solid #cfcfcf; border-radius: 2px; background: #f6fafa; line-height: 1.21429em; padding: 10px;\">\n",
       "                    <div class=\"item_left\" style=\"width: 210px; float: left;\">\n",
       "                       <a href='https://deldev.maps.arcgis.com/home/item.html?id=9024734ef43f4c6ba260581dfb037144' target='_blank'>\n",
       "                        <img src='http://static.arcgis.com/images/desktopapp.png' class=\"itemThumbnail\">\n",
       "                       </a>\n",
       "                    </div>\n",
       "\n",
       "                    <div class=\"item_right\"     style=\"float: none; width: auto; overflow: hidden;\">\n",
       "                        <a href='https://deldev.maps.arcgis.com/home/item.html?id=9024734ef43f4c6ba260581dfb037144' target='_blank'><b>Crime Hot Spots</b>\n",
       "                        </a>\n",
       "                        <br/><img src='https://deldev.maps.arcgis.com/home/js/jsapi/esri/css/images/item_type_icons/featureshosted16.png' style=\"vertical-align:middle;\">Feature Layer Collection by demo_deldev\n",
       "                        <br/>Last Modified: June 04, 2018\n",
       "                        <br/>0 comments, 1 views\n",
       "                    </div>\n",
       "                </div>\n",
       "                "
      ],
      "text/plain": [
       "<Item title:\"Crime Hot Spots\" type:Feature Layer Collection owner:demo_deldev>"
      ]
     },
     "execution_count": 62,
     "metadata": {},
     "output_type": "execute_result"
    }
   ],
   "source": [
    "crime_hot_spots"
   ]
  },
  {
   "cell_type": "code",
   "execution_count": 64,
   "metadata": {},
   "outputs": [],
   "source": [
    "liquor_vendors = lyrs[1]"
   ]
  },
  {
   "cell_type": "code",
   "execution_count": 65,
   "metadata": {},
   "outputs": [],
   "source": [
    "liquor_vendor_hot_spots = find_hot_spots(liquor_vendors,\n",
    "                                         output_name='liquor Hot Spots')"
   ]
  },
  {
   "cell_type": "code",
   "execution_count": 66,
   "metadata": {},
   "outputs": [
    {
     "data": {
      "text/html": [
       "<div class=\"item_container\" style=\"height: auto; overflow: hidden; border: 1px solid #cfcfcf; border-radius: 2px; background: #f6fafa; line-height: 1.21429em; padding: 10px;\">\n",
       "                    <div class=\"item_left\" style=\"width: 210px; float: left;\">\n",
       "                       <a href='https://deldev.maps.arcgis.com/home/item.html?id=3353ba90c5b64393811dd6d2025baa68' target='_blank'>\n",
       "                        <img src='http://static.arcgis.com/images/desktopapp.png' class=\"itemThumbnail\">\n",
       "                       </a>\n",
       "                    </div>\n",
       "\n",
       "                    <div class=\"item_right\"     style=\"float: none; width: auto; overflow: hidden;\">\n",
       "                        <a href='https://deldev.maps.arcgis.com/home/item.html?id=3353ba90c5b64393811dd6d2025baa68' target='_blank'><b>liquor Hot Spots</b>\n",
       "                        </a>\n",
       "                        <br/><img src='https://deldev.maps.arcgis.com/home/js/jsapi/esri/css/images/item_type_icons/featureshosted16.png' style=\"vertical-align:middle;\">Feature Layer Collection by demo_deldev\n",
       "                        <br/>Last Modified: June 04, 2018\n",
       "                        <br/>0 comments, 1 views\n",
       "                    </div>\n",
       "                </div>\n",
       "                "
      ],
      "text/plain": [
       "<Item title:\"liquor Hot Spots\" type:Feature Layer Collection owner:demo_deldev>"
      ]
     },
     "execution_count": 66,
     "metadata": {},
     "output_type": "execute_result"
    }
   ],
   "source": [
    "liquor_vendor_hot_spots"
   ]
  },
  {
   "cell_type": "code",
   "execution_count": 67,
   "metadata": {},
   "outputs": [],
   "source": [
    "from arcgis.features.enrich_data import enrich_layer"
   ]
  },
  {
   "cell_type": "code",
   "execution_count": 69,
   "metadata": {},
   "outputs": [],
   "source": [
    "enriched_layer = enrich_layer(crime_hot_spots, \n",
    "                              analysis_variables=[\"households.ACSHHBPOV\"], \n",
    "                              output_name='poverty_data')"
   ]
  },
  {
   "cell_type": "code",
   "execution_count": 70,
   "metadata": {},
   "outputs": [
    {
     "data": {
      "text/html": [
       "<div class=\"item_container\" style=\"height: auto; overflow: hidden; border: 1px solid #cfcfcf; border-radius: 2px; background: #f6fafa; line-height: 1.21429em; padding: 10px;\">\n",
       "                    <div class=\"item_left\" style=\"width: 210px; float: left;\">\n",
       "                       <a href='https://deldev.maps.arcgis.com/home/item.html?id=dc779b5072654ad8bc9320bbf11b1484' target='_blank'>\n",
       "                        <img src='http://static.arcgis.com/images/desktopapp.png' class=\"itemThumbnail\">\n",
       "                       </a>\n",
       "                    </div>\n",
       "\n",
       "                    <div class=\"item_right\"     style=\"float: none; width: auto; overflow: hidden;\">\n",
       "                        <a href='https://deldev.maps.arcgis.com/home/item.html?id=dc779b5072654ad8bc9320bbf11b1484' target='_blank'><b>poverty_data</b>\n",
       "                        </a>\n",
       "                        <br/><img src='https://deldev.maps.arcgis.com/home/js/jsapi/esri/css/images/item_type_icons/featureshosted16.png' style=\"vertical-align:middle;\">Feature Layer Collection by demo_deldev\n",
       "                        <br/>Last Modified: June 04, 2018\n",
       "                        <br/>0 comments, 0 views\n",
       "                    </div>\n",
       "                </div>\n",
       "                "
      ],
      "text/plain": [
       "<Item title:\"poverty_data\" type:Feature Layer Collection owner:demo_deldev>"
      ]
     },
     "execution_count": 70,
     "metadata": {},
     "output_type": "execute_result"
    }
   ],
   "source": [
    "enriched_layer"
   ]
  },
  {
   "cell_type": "code",
   "execution_count": 71,
   "metadata": {},
   "outputs": [
    {
     "name": "stderr",
     "output_type": "stream",
     "text": [
      "{\"messageCode\": \"AO_100011\", \"message\": \"Must provide an Analysis Field for polygon input.\"}\n",
      "{\"messageCode\": \"AO_100007\", \"message\": \"FindHotSpots failed.\"}\n",
      "Failed to execute (FindHotSpots).\n",
      "Failed.\n"
     ]
    },
    {
     "ename": "Exception",
     "evalue": "Job failed.",
     "output_type": "error",
     "traceback": [
      "\u001b[1;31m---------------------------------------------------------------------------\u001b[0m",
      "\u001b[1;31mException\u001b[0m                                 Traceback (most recent call last)",
      "\u001b[1;32m<ipython-input-71-6e8a90fa0d3f>\u001b[0m in \u001b[0;36m<module>\u001b[1;34m()\u001b[0m\n\u001b[0;32m      1\u001b[0m poverty_data_hot_spots = find_hot_spots(enriched_layer,\n\u001b[1;32m----> 2\u001b[1;33m                                          output_name='poberty data Hot Spots')\n\u001b[0m",
      "\u001b[1;32m~\\Anaconda3\\lib\\site-packages\\arcgis\\features\\analyze_patterns.py\u001b[0m in \u001b[0;36mfind_hot_spots\u001b[1;34m(analysis_layer, analysis_field, divided_by_field, bounding_polygon_layer, aggregation_polygon_layer, output_name, context, gis)\u001b[0m\n\u001b[0;32m    132\u001b[0m         \u001b[0maggregation_polygon_layer\u001b[0m\u001b[1;33m,\u001b[0m\u001b[1;33m\u001b[0m\u001b[0m\n\u001b[0;32m    133\u001b[0m         \u001b[0moutput_name\u001b[0m\u001b[1;33m,\u001b[0m\u001b[1;33m\u001b[0m\u001b[0m\n\u001b[1;32m--> 134\u001b[1;33m         context)\n\u001b[0m\u001b[0;32m    135\u001b[0m \u001b[1;33m\u001b[0m\u001b[0m\n\u001b[0;32m    136\u001b[0m \u001b[1;33m\u001b[0m\u001b[0m\n",
      "\u001b[1;32m~\\Anaconda3\\lib\\site-packages\\arcgis\\_impl\\tools.py\u001b[0m in \u001b[0;36mfind_hot_spots\u001b[1;34m(self, analysis_layer, analysis_field, divided_by_field, bounding_polygon_layer, aggregation_polygon_layer, output_name, context)\u001b[0m\n\u001b[0;32m    565\u001b[0m         \u001b[0mtask_url\u001b[0m\u001b[1;33m,\u001b[0m \u001b[0mjob_info\u001b[0m\u001b[1;33m,\u001b[0m \u001b[0mjob_id\u001b[0m \u001b[1;33m=\u001b[0m \u001b[0msuper\u001b[0m\u001b[1;33m(\u001b[0m\u001b[1;33m)\u001b[0m\u001b[1;33m.\u001b[0m\u001b[0m_analysis_job\u001b[0m\u001b[1;33m(\u001b[0m\u001b[0mtask\u001b[0m\u001b[1;33m,\u001b[0m \u001b[0mparams\u001b[0m\u001b[1;33m)\u001b[0m\u001b[1;33m\u001b[0m\u001b[0m\n\u001b[0;32m    566\u001b[0m \u001b[1;33m\u001b[0m\u001b[0m\n\u001b[1;32m--> 567\u001b[1;33m         \u001b[0mjob_info\u001b[0m \u001b[1;33m=\u001b[0m \u001b[0msuper\u001b[0m\u001b[1;33m(\u001b[0m\u001b[1;33m)\u001b[0m\u001b[1;33m.\u001b[0m\u001b[0m_analysis_job_status\u001b[0m\u001b[1;33m(\u001b[0m\u001b[0mtask_url\u001b[0m\u001b[1;33m,\u001b[0m \u001b[0mjob_info\u001b[0m\u001b[1;33m)\u001b[0m\u001b[1;33m\u001b[0m\u001b[0m\n\u001b[0m\u001b[0;32m    568\u001b[0m         \u001b[0mjob_values\u001b[0m \u001b[1;33m=\u001b[0m \u001b[0msuper\u001b[0m\u001b[1;33m(\u001b[0m\u001b[1;33m)\u001b[0m\u001b[1;33m.\u001b[0m\u001b[0m_analysis_job_results\u001b[0m\u001b[1;33m(\u001b[0m\u001b[0mtask_url\u001b[0m\u001b[1;33m,\u001b[0m \u001b[0mjob_info\u001b[0m\u001b[1;33m,\u001b[0m \u001b[0mjob_id\u001b[0m\u001b[1;33m)\u001b[0m\u001b[1;33m\u001b[0m\u001b[0m\n\u001b[0;32m    569\u001b[0m         \u001b[1;31m#print(job_values)\u001b[0m\u001b[1;33m\u001b[0m\u001b[1;33m\u001b[0m\u001b[0m\n",
      "\u001b[1;32m~\\Anaconda3\\lib\\site-packages\\arcgis\\_impl\\tools.py\u001b[0m in \u001b[0;36m_analysis_job_status\u001b[1;34m(self, task_url, job_info)\u001b[0m\n\u001b[0;32m    186\u001b[0m \u001b[1;33m\u001b[0m\u001b[0m\n\u001b[0;32m    187\u001b[0m                     \u001b[1;32mif\u001b[0m \u001b[0mjob_response\u001b[0m\u001b[1;33m.\u001b[0m\u001b[0mget\u001b[0m\u001b[1;33m(\u001b[0m\u001b[1;34m\"jobStatus\"\u001b[0m\u001b[1;33m)\u001b[0m \u001b[1;33m==\u001b[0m \u001b[1;34m\"esriJobFailed\"\u001b[0m\u001b[1;33m:\u001b[0m\u001b[1;33m\u001b[0m\u001b[0m\n\u001b[1;32m--> 188\u001b[1;33m                         \u001b[1;32mraise\u001b[0m \u001b[0mException\u001b[0m\u001b[1;33m(\u001b[0m\u001b[1;34m\"Job failed.\"\u001b[0m\u001b[1;33m)\u001b[0m\u001b[1;33m\u001b[0m\u001b[0m\n\u001b[0m\u001b[0;32m    189\u001b[0m                     \u001b[1;32melif\u001b[0m \u001b[0mjob_response\u001b[0m\u001b[1;33m.\u001b[0m\u001b[0mget\u001b[0m\u001b[1;33m(\u001b[0m\u001b[1;34m\"jobStatus\"\u001b[0m\u001b[1;33m)\u001b[0m \u001b[1;33m==\u001b[0m \u001b[1;34m\"esriJobCancelled\"\u001b[0m\u001b[1;33m:\u001b[0m\u001b[1;33m\u001b[0m\u001b[0m\n\u001b[0;32m    190\u001b[0m                         \u001b[1;32mraise\u001b[0m \u001b[0mException\u001b[0m\u001b[1;33m(\u001b[0m\u001b[1;34m\"Job cancelled.\"\u001b[0m\u001b[1;33m)\u001b[0m\u001b[1;33m\u001b[0m\u001b[0m\n",
      "\u001b[1;31mException\u001b[0m: Job failed."
     ]
    }
   ],
   "source": [
    "poverty_data_hot_spots = find_hot_spots(enriched_layer, analysis_field=\n",
    "                                         output_name='poverty data Hot Spots')"
   ]
  },
  {
   "cell_type": "code",
   "execution_count": null,
   "metadata": {},
   "outputs": [],
   "source": []
  }
 ],
 "metadata": {
  "kernelspec": {
   "display_name": "Python 3",
   "language": "python",
   "name": "python3"
  },
  "language_info": {
   "codemirror_mode": {
    "name": "ipython",
    "version": 3
   },
   "file_extension": ".py",
   "mimetype": "text/x-python",
   "name": "python",
   "nbconvert_exporter": "python",
   "pygments_lexer": "ipython3",
   "version": "3.6.4"
  }
 },
 "nbformat": 4,
 "nbformat_minor": 2
}
