{
 "cells": [
  {
   "cell_type": "markdown",
   "metadata": {},
   "source": [
    "# Locating a new retirement community\n",
    "* 🔬 Data Science\n",
    "* 🥠 Predictive Modeling\n",
    "* 👟 Ready To Run!\n",
    "\n",
    "This notebook demonstrates the utility of a number of spatial analysis methods including hot spot analysis, data clustering, defining drive time or distance areas, and attribute query. It also discusses several spatial analysis topics such as modeling supply versus demand, the small numbers problem, and boundary effects."
   ]
  },
  {
   "cell_type": "markdown",
   "metadata": {},
   "source": [
    "## A moving target\n",
    "\n",
    "An analyst of market research for a company that develops, designs, and manages resort-style retirement communities has been tasked with identifying candidate locations for a new facility. He knows he needs to be creative. While it may have been sufficient in the United States ten years ago to build sprawling developments in the warmest parts of the country, people approaching retirement today are not as willing to relocate. Many want to stay connected to friends and family, remain close to existing doctors, continue to work, to enjoy local cultural and educational opportunities, and to be surrounded by people of all ages. Consequently, as a first pass, he decides to look for locations projected to have large numbers of senior citizens but very few existing options for residential retirement. He will then narrow these locations by ranking how similar each candidate is to the company's current most successful resort retirement community."
   ]
  },
  {
   "cell_type": "markdown",
   "metadata": {},
   "source": [
    "![](locating_community_images/image1.png)\n",
    "\n",
    "<div class=\"alert alert-success\">\n",
    "**Note:** While the data used for the analyses outlined here are real, specific information about the company, as well as the proposed recommendations and final conclusions, are presented for illustrative purposes only.\n",
    "</div>"
   ]
  },
  {
   "cell_type": "markdown",
   "metadata": {},
   "source": [
    "### What data is needed?\n",
    "\n",
    "The analyst will first model supply versus demand for retirement housing opportunities.\n",
    "\n",
    "For the demand component of his model, he needs a variable representing potential retirement community residents. Since a new facility will not be open for a couple years, he obtains the projected 2019 age 55 and older population data, by ZIP Code, from [Business Analyst](https://www.esri.com/en-us/arcgis/products/arcgis-business-analyst/overview).\n",
    "\n",
    "The supply component of the model proves a bit more difficult. Retirement facilities range from private homes accommodating one or two people to whole villages housing as many as 100,000 residents. While he can easily get the number of businesses within each ZIP Code that are classified as retirement communities, retirement homes, independent living facilities, or senior citizen housing (SIC codes 805904, 805918, and 836114), his [business data](http://doc.arcgis.com/en/esri-demographics/data/business.htm) does not include information about the number of residents or the number of residential units associated with each facility.\n",
    "\n",
    "He decides to use the number of employees associated with these facilities as a surrogate for retirement community size, at least until better information is available."
   ]
  },
  {
   "cell_type": "markdown",
   "metadata": {},
   "source": [
    "![](locating_community_images/image2.png)"
   ]
  },
  {
   "cell_type": "markdown",
   "metadata": {},
   "source": [
    "He also gets housing unit vacancy data from [Business Analyst](https://www.esri.com/en-us/arcgis/products/arcgis-business-analyst/overview) since locations with high vacancy rates generally reflect low demand for new housing.\n",
    "\n",
    "### Where is the demand for retirement housing highest in relation to supply?\n",
    "While it may be tempting to calculate supply versus demand as a simple ratio—projected age 55+ population, divided by an estimate of retirement community housing resources (number of employees, for now)—this is problematic for at least three reasons:\n",
    "\n",
    "1. **Division by zero**: For ZIP Codes without any retirement community facilities, the denominator will be zero and the ratio will be undefined. If these ZIP Codes are removed from the analysis as a workaround, it will eliminate most of the ZIP Codes in the contiguous United States (see the map below) and will likely remove the very high-demand locations the analyst is hoping to discover.\n",
    "\n",
    "\n",
    "2. **Small numbers problem**: Extreme ratios due to small numerators and small denominators can also be a problem because they are unstable. The best example of this is mortality rates. Suppose you have a community with only two people and one dies from cancer. The cancer mortality rate for this community would be a very high 50 percent, an outlier that could throw off subsequent analyses. Similarly, a ZIP Code with very few senior citizens and very few retirement housing resources will result in ratios that are unstable.\n",
    "\n",
    "![ZIP Codes impacted by zero divide or the small numbers problem.](locating_community_images/image3.png)\n",
    "\n",
    "\n",
    "3. **Boundaries**: In addition, looking at a ZIP Code in isolation can be misleading. If a ZIP Code has lots of residential retirement opportunities and very few senior citizens, we might say it has more supply than demand. But what if it is surrounded by ZIP Codes with lots of senior citizens and no residential retirement opportunities? We will get a better picture of supply and demand if we evaluate each ZIP Code within the context of its neighboring ZIP Codes.\n",
    "Spatial Outliers\n",
    "\n",
    "![A number of high-supply ZIP Codes are surrounded by low-supply ZIP Codes.](locating_community_images/image4.png)"
   ]
  },
  {
   "cell_type": "markdown",
   "metadata": {},
   "source": [
    "To address the division by zero and small numbers problems, the analyst creates a level of service variable (*L*). The underlying assumption for the level of service variable is one of equity. If a ZIP Code contains 8 percent of the Country's projected 55+ population, it should also contain 8 percent of the Country's retirement community resources.\n",
    "\n",
    "How does he construct this variable? It's easy. He subtracts a supply ratio from a demand ratio:\n",
    "\n",
    "\\begin{align}\n",
    "\\frac{{d_i}}{{D}} - \\frac{r_i}{R} = {L}\\\\   \n",
    "\\end{align}\n",
    "\n",
    "The demand ratio **($d_{i}$/D)** is the projected age 55+ population in a ZIP Code,  ($d_{i}$), divided by the projected age 55+ population in all ZIP Codes ($D$). Because the denominator is a count of all age 55 or older people in all ZIP Codes, it will never be zero or small (unstable).\n",
    "\n",
    "Similarly, the supply ratio,**($r_{i}$/R)**, is the estimated number of retirement community employees in a ZIP Code ($r_{i}$), divided by the total number of retirement community employees in all ZIP Codes ($R$).\n",
    "\n",
    "Here are some examples of how this plays out:\n",
    "\n",
    "* Supply is equal to demand: When supply equals demand, $L$ is zero. Suppose a ZIP Code contains 5 percent of the Country's senior citizens and 5 percent of the Country's retirement community employees. When you subtract the supply ratio from the demand ratio (5 - 5 = 0), the result is zero.\n",
    "* Demand exceeds supply: When demand for retirement housing is larger than supply, $L$ is a positive number. Suppose a ZIP Code contains 10 percent of the Country's senior citizen population but only 2 percent of the Country's residential retirement employees. When you subtract the supply ratio from the demand ratio (10 - 2 = 8), the result is a positive number.\n",
    "* Supply exceeds demand: When the supply of retirement housing opportunities is larger than demand, on the other hand, $L$ is a negative number. For example, if you have a ZIP Code containing 3 percent of all senior citizens but 12 percent of all residential retirement employees, the difference (3 - 12 = -9) is a negative number.\n",
    "\n",
    "To address the boundary issue, the analyst uses Hot Spot Analysis on the level of service variable ($L$) which balances the surpluses or deficits within each ZIP Code with the surpluses and deficits for surrounding ZIP Codes. A spatial cluster of large positive values that is not balanced by nearby negative values will be identified as a hot spot for demand. Similarly, a spatial cluster of negative values that isn't balanced by nearby positive values will be identified as a cold spot for demand. The map below shows the results of this analysis."
   ]
  },
  {
   "cell_type": "markdown",
   "metadata": {},
   "source": [
    "![](locating_community_images/image6.png)\n",
    "\n",
    "High-demand, undersupplied areas are shown in red; low-demand, oversupplied areas are shown in blue."
   ]
  },
  {
   "cell_type": "markdown",
   "metadata": {},
   "source": [
    "## Where are vacancy rates lowest? Which areas are projected to have the largest number of people age 55 and older?\n",
    "\n",
    "Next, the analyst will take into account vacancy rates (2014) and the projected (2019) number of people, age 55 and older, across the country. The hot spot analysis maps for these variables are shown below."
   ]
  },
  {
   "cell_type": "markdown",
   "metadata": {},
   "source": [
    "![](locating_community_images/image7.png)\n",
    "\n",
    "The red areas have high housing unit vacancy rates."
   ]
  },
  {
   "cell_type": "markdown",
   "metadata": {},
   "source": [
    "![](locating_community_images/image8.png)\n",
    "\n",
    "Red regions are projected to have the largest numbers of age 55 and older people in 2019."
   ]
  },
  {
   "cell_type": "markdown",
   "metadata": {},
   "source": [
    "### Where are vacancies lowest and demand for retirement housing highest?\n",
    "The analyst selects ZIP Codes within statistically significant hot or cold spot areas that meet all of these criteria:\n",
    "\n",
    "* High demand and low supply of retirement housing opportunities\n",
    "* Low housing unit vacancy rates\n",
    "* Large projected age 55 and older populations\n",
    "\n",
    "He finds that there are 898 ZIP Codes satisfying all three of these criteria. These become the candidate ZIP Codes for further analysis."
   ]
  },
  {
   "cell_type": "markdown",
   "metadata": {},
   "source": [
    "![](locating_community_images/image9.png)\n",
    "\n",
    "ZIP Codes associated with lowest vacancies and highest demand"
   ]
  },
  {
   "cell_type": "markdown",
   "metadata": {},
   "source": [
    "# Get the data for your analysis"
   ]
  },
  {
   "cell_type": "code",
   "execution_count": 1,
   "metadata": {},
   "outputs": [],
   "source": [
    "from arcgis import GIS"
   ]
  },
  {
   "cell_type": "code",
   "execution_count": 2,
   "metadata": {},
   "outputs": [],
   "source": [
    "gis = GIS(\"https://deldev.maps.arcgis.com\", \"demos_deldev\", \"DelDevs12\")"
   ]
  },
  {
   "cell_type": "markdown",
   "metadata": {},
   "source": [
    "Search for the **LocatingRetirementCommunity** layer. You can specify the owner's name to get more specific results. To search for content from the Living Atlas, or content shared by other users on ArcGIS Online, set `outside_org=True`."
   ]
  },
  {
   "cell_type": "code",
   "execution_count": 3,
   "metadata": {},
   "outputs": [],
   "source": [
    "items = gis.content.search('title: LocatingRetirementCommunity owner:lscott_ANGP', 'Feature layer',\n",
    "                           outside_org=True)"
   ]
  },
  {
   "cell_type": "markdown",
   "metadata": {},
   "source": [
    "Display the list of results."
   ]
  },
  {
   "cell_type": "code",
   "execution_count": 4,
   "metadata": {},
   "outputs": [
    {
     "data": {
      "text/html": [
       "<div class=\"item_container\" style=\"height: auto; overflow: hidden; border: 1px solid #cfcfcf; border-radius: 2px; background: #f6fafa; line-height: 1.21429em; padding: 10px;\">\n",
       "                    <div class=\"item_left\" style=\"width: 210px; float: left;\">\n",
       "                       <a href='https://deldev.maps.arcgis.com/home/item.html?id=da1ed61ea3e64be19b26c6469a5419b2' target='_blank'>\n",
       "                        <img src='data:image/png;base64,iVBORw0KGgoAAAANSUhEUgAAAMgAAACFCAIAAACR/CB7AAAACXBIWXMAAAAnAAAAJwEqCZFPAAADpklEQVR4nO3dP0vccBzH8Z+tlqrg5cBWp+YnpXXTXAd3J+c8AwUfgD4BdRPaoTe4n4+gcdVS5PoMsolTQv8MRbj8liJd7HClUKHRnPlcQni/pgxBvuCb34Vc8ruJm5sbA5TtUdUDoJkICxKEBQnCggRhQYKwIEFYkCAsSBAWJAgLEoQFCcKCBGFBgrAgQViQICxIEBYkCAsShAUJwoIEYUGCsCBBWJAgLEgQFiQIC4U555xz+edMjmcUNEa/3z8/PzfGWGs3Nzf/dxphoYA0TaMoGh5nWZZzJmGhMM/ztra2fN/POYdrLBTg+/76+rq5a7kyxkywjRGKStM0f7kyrFg1F8dxt9tN07TqQf5xZ1WGsGpuMBgEQXCff2Td8FEICVYsSBAWJPLCiuN4bHOgYfLCOv10SlsYTV5Y8y+ef7n6OrZR0CR5Yb18tvQ9/Ta2UdAkeWENBoOZ1uzYRkGTcB8LEtxugARhQYKwIEFYkCAsSBAWJAgLEoQFCcKCBGFBgrAgQViQICxIjBhW3d50Q90UDiuO4+Pj4w8fT3hquW6urq82fmysXK18zj5XPUvBTUH6/X4URdbaN52OtVYzEkZ0+PPwbP7MGLM92L40l9UOU2zFstYGQZAkSRRFf7ezQU0smIXhwbyZr3YSY8zjg4OD+5/teV4QBNPT0xcXF9fX1+12e3FxUTYbill7ujbpJpd/LR/NHs1NzlU7zCj7Y3meZ61NksTzvNIHwsimJqb22ntVT/EHz7xDgvtYkCAsSBAWJAirOZxzb9+/Ozk5qXoQYwirSbIsezIx1W6379zdfwwIqzl838+yLIqi4Qb/1SKsRgnD0Frb6XSqHoT7WI3jnNvf39/d3a12S1zCaiDnXKvVqnYGwoIE11iQICxIEBYkCAsShAUJwoIEYUGCsCBBWJAgLEgQFiQICxKEBQnCggRhQYKwIEFYpUnTtA6vx9QEYZUpiiL2oxvi0eRyxHHc6/WGx91ut9ph6oAVqxzW2uGmTkEQVD1LLRBWOVqtVhiGM63ZMAyrnqUWCKs01trXS68qf++qJrjGggQrFiQICxKEBQnCggRhQYKwIEFYkCAs3FbKbwYSFm7r9Xo7OzsPfEyDsHDb8Av11dXVh/wRvtLBbc65JEkIC3XERyEkCAsShAUJwoIEYUGCsCBBWJAgLEgQFiQICxKEBQnCggRhQYKwIEFYkCAsSBAWJAgLEoQFCcKCBGFBgrAgQViQICxIEBYkfgM2h9bi2cW2yQAAAABJRU5ErkJggg==' width='200' height='133' class=\"itemThumbnail\">\n",
       "                       </a>\n",
       "                    </div>\n",
       "\n",
       "                    <div class=\"item_right\"     style=\"float: none; width: auto; overflow: hidden;\">\n",
       "                        <a href='https://deldev.maps.arcgis.com/home/item.html?id=da1ed61ea3e64be19b26c6469a5419b2' target='_blank'><b>LocatingRetirementCommunity</b>\n",
       "                        </a>\n",
       "                        <br/>Data to use with the Locating a New Retirement Community case study.<img src='https://deldev.maps.arcgis.com/home/js/jsapi/esri/css/images/item_type_icons/featureshosted16.png' style=\"vertical-align:middle;\">Feature Layer Collection by lscott_ANGP\n",
       "                        <br/>Last Modified: August 19, 2015\n",
       "                        <br/>0 comments, 87 views\n",
       "                    </div>\n",
       "                </div>\n",
       "                "
      ],
      "text/plain": [
       "<Item title:\"LocatingRetirementCommunity\" type:Feature Layer Collection owner:lscott_ANGP>"
      ]
     },
     "metadata": {},
     "output_type": "display_data"
    }
   ],
   "source": [
    "from IPython.display import display\n",
    "\n",
    "for item in items:\n",
    "    display(item)"
   ]
  },
  {
   "cell_type": "markdown",
   "metadata": {},
   "source": [
    "Since the first item is a Feature Layer Collection, accessing the layers property will give us a list of FeatureLayer objects."
   ]
  },
  {
   "cell_type": "code",
   "execution_count": 5,
   "metadata": {},
   "outputs": [],
   "source": [
    "lyrs = items[0].layers"
   ]
  },
  {
   "cell_type": "code",
   "execution_count": 6,
   "metadata": {},
   "outputs": [
    {
     "name": "stdout",
     "output_type": "stream",
     "text": [
      "TargetCommunity\n",
      "Candidates\n"
     ]
    }
   ],
   "source": [
    "for lyr in lyrs:\n",
    "    print(lyr.properties.name)"
   ]
  },
  {
   "cell_type": "markdown",
   "metadata": {},
   "source": [
    "The Feature Layer Collection includes two layers. The first layer, called **Target Communities**, contains the current best performing retirement community near Knoxville, Tennessee. The second layer, called **Candidates**, contains the 898 ZIP Codes in the continental USA associated with statistically significant hot or cold spot areas for all of these criteria:\n",
    "\n",
    "* High demand for retirement housing opportunities\n",
    "* Low supply of retirement housing\n",
    "* Low housing unit vacancy rates\n",
    "* Large projected age 55 and older populations\n",
    "\n",
    "Hot spot analysis to identify these candidate ZIP Codes was done using ArcMap. If you want to run through this analysis yourself, it is included in both the [ArcMap and ArcGIS Pro workflows]( http://desktop.arcgis.com/en/analytics/case-studies/locating-a-new-retirement-community.htm).\n",
    "\n",
    "\n",
    "In the workflow below, you will be using ArcGIS API for Python to create a 5-mile drive distance around the best performing community and obtaining [tapestry](http://www.esri.com/landing-pages/tapestry) and demographic data for the area. You will then obtain the same data for the candidate ZIP Codes. Finally, you will use the Find Similar Locations tool to identify the top four high demand, low vacancy, large projected age 55+ population ZIP Codes that are most similar to the area surrounding the best performing community."
   ]
  },
  {
   "cell_type": "code",
   "execution_count": 7,
   "metadata": {},
   "outputs": [],
   "source": [
    "target_community = lyrs[0]\n",
    "candidates = lyrs[1]"
   ]
  },
  {
   "cell_type": "code",
   "execution_count": 8,
   "metadata": {},
   "outputs": [
    {
     "data": {
      "application/vnd.jupyter.widget-view+json": {
       "model_id": "ecf604c1043e4eef81098807bae8f49f",
       "version_major": 2,
       "version_minor": 0
      },
      "text/html": [
       "<p>Failed to display Jupyter Widget of type <code>MapView</code>.</p>\n",
       "<p>\n",
       "  If you're reading this message in the Jupyter Notebook or JupyterLab Notebook, it may mean\n",
       "  that the widgets JavaScript is still loading. If this message persists, it\n",
       "  likely means that the widgets JavaScript library is either not installed or\n",
       "  not enabled. See the <a href=\"https://ipywidgets.readthedocs.io/en/stable/user_install.html\">Jupyter\n",
       "  Widgets Documentation</a> for setup instructions.\n",
       "</p>\n",
       "<p>\n",
       "  If you're reading this message in another frontend (for example, a static\n",
       "  rendering on GitHub or <a href=\"https://nbviewer.jupyter.org/\">NBViewer</a>),\n",
       "  it may mean that your frontend doesn't currently support widgets.\n",
       "</p>\n"
      ],
      "text/plain": [
       "MapView(layout=Layout(height='400px', width='100%'))"
      ]
     },
     "metadata": {},
     "output_type": "display_data"
    },
    {
     "data": {
      "text/html": [
       "<div class=\"map-static-img-preview-069ea2a0-e1c6-471b-b72c-f904c2f7905b\"><img src=\"\"></img></div>"
      ],
      "text/plain": [
       "<IPython.core.display.HTML object>"
      ]
     },
     "metadata": {},
     "output_type": "display_data"
    }
   ],
   "source": [
    "m = gis.map('Knoxville')\n",
    "m.add_layer(target_community)\n",
    "m"
   ]
  },
  {
   "cell_type": "markdown",
   "metadata": {},
   "source": [
    "![](locating_community_images/target_community.png)"
   ]
  },
  {
   "cell_type": "markdown",
   "metadata": {},
   "source": [
    "### Create a 5-mile drive time polygon around the best performing community."
   ]
  },
  {
   "cell_type": "markdown",
   "metadata": {},
   "source": [
    "### Proximity analysis\n",
    "\n",
    "\n",
    "Proximity analysis tools help you answer one of the most common questions posed in spatial analysis: What is near what?\n",
    "\n",
    "Proximity tools are available in the `features.use_proximity` module of ArcGIS API for Python. You can use the `create_drive_time_areas` tool to create a 5-mile drive distance buffer around the best performing community."
   ]
  },
  {
   "cell_type": "code",
   "execution_count": 9,
   "metadata": {},
   "outputs": [],
   "source": [
    "from arcgis.features.use_proximity import create_drive_time_areas"
   ]
  },
  {
   "cell_type": "code",
   "execution_count": 10,
   "metadata": {},
   "outputs": [],
   "source": [
    "target_area = create_drive_time_areas(target_community, break_values=[5], break_units='Miles',\n",
    "                        overlap_policy='Overlap',\n",
    "                        output_name='drive time areas of target community1111')"
   ]
  },
  {
   "cell_type": "code",
   "execution_count": 11,
   "metadata": {},
   "outputs": [
    {
     "data": {
      "text/html": [
       "<div class=\"item_container\" style=\"height: auto; overflow: hidden; border: 1px solid #cfcfcf; border-radius: 2px; background: #f6fafa; line-height: 1.21429em; padding: 10px;\">\n",
       "                    <div class=\"item_left\" style=\"width: 210px; float: left;\">\n",
       "                       <a href='https://deldev.maps.arcgis.com/home/item.html?id=8581f113ed1a402b90e4c1e080403c0b' target='_blank'>\n",
       "                        <img src='http://static.arcgis.com/images/desktopapp.png' class=\"itemThumbnail\">\n",
       "                       </a>\n",
       "                    </div>\n",
       "\n",
       "                    <div class=\"item_right\"     style=\"float: none; width: auto; overflow: hidden;\">\n",
       "                        <a href='https://deldev.maps.arcgis.com/home/item.html?id=8581f113ed1a402b90e4c1e080403c0b' target='_blank'><b>drive time areas of target community1111</b>\n",
       "                        </a>\n",
       "                        <br/><img src='https://deldev.maps.arcgis.com/home/js/jsapi/esri/css/images/item_type_icons/featureshosted16.png' style=\"vertical-align:middle;\">Feature Layer Collection by demos_deldev\n",
       "                        <br/>Last Modified: December 01, 2018\n",
       "                        <br/>0 comments, 1 views\n",
       "                    </div>\n",
       "                </div>\n",
       "                "
      ],
      "text/plain": [
       "<Item title:\"drive time areas of target community1111\" type:Feature Layer Collection owner:demos_deldev>"
      ]
     },
     "execution_count": 11,
     "metadata": {},
     "output_type": "execute_result"
    }
   ],
   "source": [
    "target_area"
   ]
  },
  {
   "cell_type": "code",
   "execution_count": 28,
   "metadata": {},
   "outputs": [],
   "source": [
    "target_area_map = gis.map('Knoxville')"
   ]
  },
  {
   "cell_type": "code",
   "execution_count": 29,
   "metadata": {},
   "outputs": [
    {
     "data": {
      "application/vnd.jupyter.widget-view+json": {
       "model_id": "1de344e0824d4c85b8e0baff15b3c830",
       "version_major": 2,
       "version_minor": 0
      },
      "text/html": [
       "<p>Failed to display Jupyter Widget of type <code>MapView</code>.</p>\n",
       "<p>\n",
       "  If you're reading this message in the Jupyter Notebook or JupyterLab Notebook, it may mean\n",
       "  that the widgets JavaScript is still loading. If this message persists, it\n",
       "  likely means that the widgets JavaScript library is either not installed or\n",
       "  not enabled. See the <a href=\"https://ipywidgets.readthedocs.io/en/stable/user_install.html\">Jupyter\n",
       "  Widgets Documentation</a> for setup instructions.\n",
       "</p>\n",
       "<p>\n",
       "  If you're reading this message in another frontend (for example, a static\n",
       "  rendering on GitHub or <a href=\"https://nbviewer.jupyter.org/\">NBViewer</a>),\n",
       "  it may mean that your frontend doesn't currently support widgets.\n",
       "</p>\n"
      ],
      "text/plain": [
       "MapView(layout=Layout(height='400px', width='100%'))"
      ]
     },
     "metadata": {},
     "output_type": "display_data"
    }
   ],
   "source": [
    "target_area_map"
   ]
  },
  {
   "cell_type": "markdown",
   "metadata": {},
   "source": [
    "![](locating_community_images/target_data.png)"
   ]
  },
  {
   "cell_type": "code",
   "execution_count": 31,
   "metadata": {},
   "outputs": [],
   "source": [
    "target_area_map.add_layer(target_area)"
   ]
  },
  {
   "cell_type": "markdown",
   "metadata": {},
   "source": [
    "### Determine the top tapestry segments.\n",
    "You will be looking for ZIP Codes that are similar to the area surrounding the best performing retirement community. You will take advantage of [tapestry variables](https://www.esri.com/en-us/arcgis/products/tapestry-segmentation/overview) because they summarize so many aspects of a population, such as age, income, home value, occupation, education, and consumer spending behaviors. To identify the top tapestries within the 5-mile drive distance area, you will obtain and compare all 68 tapestry segments. You will also obtain the tapestry base variable so you can calculate percentages."
   ]
  },
  {
   "cell_type": "code",
   "execution_count": 13,
   "metadata": {},
   "outputs": [],
   "source": [
    "from arcgis.gis import GIS\n",
    "from arcgis.geoenrichment import *\n",
    "countries = get_countries()\n",
    "usa = Country.get('US')\n",
    "type(usa)\n",
    "df = usa.data_collections\n",
    "# lifemodegroups_var = list(df.loc['lifemodegroupsNEW']['analysisVariable'].unique())\n",
    "tapestryhouseholds_var = list(df.loc['tapestryhouseholdsNEW']['analysisVariable'].unique())\n",
    "extra_var = [\"AtRisk.THHBASE\",\"KeyUSFacts.POPGRWCYFY\",\"AtRisk.TOTPOP_CY\",\"industry.UNEMPRT_CY\"]"
   ]
  },
  {
   "cell_type": "code",
   "execution_count": 14,
   "metadata": {},
   "outputs": [],
   "source": [
    "analysis_var =  tapestryhouseholds_var + extra_var"
   ]
  },
  {
   "cell_type": "code",
   "execution_count": 15,
   "metadata": {},
   "outputs": [
    {
     "data": {
      "text/plain": [
       "['tapestryhouseholdsNEW.TSEGNUM',\n",
       " 'tapestryhouseholdsNEW.TSEGCODE',\n",
       " 'tapestryhouseholdsNEW.TSEGNAME',\n",
       " 'tapestryhouseholdsNEW.THHBASE',\n",
       " 'tapestryhouseholdsNEW.THH01',\n",
       " 'tapestryhouseholdsNEW.THH02',\n",
       " 'tapestryhouseholdsNEW.THH03',\n",
       " 'tapestryhouseholdsNEW.THH04',\n",
       " 'tapestryhouseholdsNEW.THH05',\n",
       " 'tapestryhouseholdsNEW.THH06',\n",
       " 'tapestryhouseholdsNEW.THH07',\n",
       " 'tapestryhouseholdsNEW.THH08',\n",
       " 'tapestryhouseholdsNEW.THH09',\n",
       " 'tapestryhouseholdsNEW.THH10',\n",
       " 'tapestryhouseholdsNEW.THH11',\n",
       " 'tapestryhouseholdsNEW.THH12',\n",
       " 'tapestryhouseholdsNEW.THH13',\n",
       " 'tapestryhouseholdsNEW.THH14',\n",
       " 'tapestryhouseholdsNEW.THH15',\n",
       " 'tapestryhouseholdsNEW.THH16',\n",
       " 'tapestryhouseholdsNEW.THH17',\n",
       " 'tapestryhouseholdsNEW.THH18',\n",
       " 'tapestryhouseholdsNEW.THH19',\n",
       " 'tapestryhouseholdsNEW.THH20',\n",
       " 'tapestryhouseholdsNEW.THH21',\n",
       " 'tapestryhouseholdsNEW.THH22',\n",
       " 'tapestryhouseholdsNEW.THH23',\n",
       " 'tapestryhouseholdsNEW.THH24',\n",
       " 'tapestryhouseholdsNEW.THH25',\n",
       " 'tapestryhouseholdsNEW.THH26',\n",
       " 'tapestryhouseholdsNEW.THH27',\n",
       " 'tapestryhouseholdsNEW.THH28',\n",
       " 'tapestryhouseholdsNEW.THH29',\n",
       " 'tapestryhouseholdsNEW.THH30',\n",
       " 'tapestryhouseholdsNEW.THH31',\n",
       " 'tapestryhouseholdsNEW.THH32',\n",
       " 'tapestryhouseholdsNEW.THH33',\n",
       " 'tapestryhouseholdsNEW.THH34',\n",
       " 'tapestryhouseholdsNEW.THH35',\n",
       " 'tapestryhouseholdsNEW.THH36',\n",
       " 'tapestryhouseholdsNEW.THH37',\n",
       " 'tapestryhouseholdsNEW.THH38',\n",
       " 'tapestryhouseholdsNEW.THH39',\n",
       " 'tapestryhouseholdsNEW.THH40',\n",
       " 'tapestryhouseholdsNEW.THH41',\n",
       " 'tapestryhouseholdsNEW.THH42',\n",
       " 'tapestryhouseholdsNEW.THH43',\n",
       " 'tapestryhouseholdsNEW.THH44',\n",
       " 'tapestryhouseholdsNEW.THH45',\n",
       " 'tapestryhouseholdsNEW.THH46',\n",
       " 'tapestryhouseholdsNEW.THH47',\n",
       " 'tapestryhouseholdsNEW.THH48',\n",
       " 'tapestryhouseholdsNEW.THH49',\n",
       " 'tapestryhouseholdsNEW.THH50',\n",
       " 'tapestryhouseholdsNEW.THH51',\n",
       " 'tapestryhouseholdsNEW.THH52',\n",
       " 'tapestryhouseholdsNEW.THH53',\n",
       " 'tapestryhouseholdsNEW.THH54',\n",
       " 'tapestryhouseholdsNEW.THH55',\n",
       " 'tapestryhouseholdsNEW.THH56',\n",
       " 'tapestryhouseholdsNEW.THH57',\n",
       " 'tapestryhouseholdsNEW.THH58',\n",
       " 'tapestryhouseholdsNEW.THH59',\n",
       " 'tapestryhouseholdsNEW.THH60',\n",
       " 'tapestryhouseholdsNEW.THH61',\n",
       " 'tapestryhouseholdsNEW.THH62',\n",
       " 'tapestryhouseholdsNEW.THH63',\n",
       " 'tapestryhouseholdsNEW.THH64',\n",
       " 'tapestryhouseholdsNEW.THH65',\n",
       " 'tapestryhouseholdsNEW.THH66',\n",
       " 'tapestryhouseholdsNEW.THH67',\n",
       " 'tapestryhouseholdsNEW.THH68',\n",
       " 'tapestryhouseholdsNEW.THHGRPL1',\n",
       " 'tapestryhouseholdsNEW.THHGRPL2',\n",
       " 'tapestryhouseholdsNEW.THHGRPL3',\n",
       " 'tapestryhouseholdsNEW.THHGRPL4',\n",
       " 'tapestryhouseholdsNEW.THHGRPL5',\n",
       " 'tapestryhouseholdsNEW.THHGRPL6',\n",
       " 'tapestryhouseholdsNEW.THHGRPL7',\n",
       " 'tapestryhouseholdsNEW.THHGRPL8',\n",
       " 'tapestryhouseholdsNEW.THHGRPL9',\n",
       " 'tapestryhouseholdsNEW.THHGRPL10',\n",
       " 'tapestryhouseholdsNEW.THHGRPL11',\n",
       " 'tapestryhouseholdsNEW.THHGRPL12',\n",
       " 'tapestryhouseholdsNEW.THHGRPL13',\n",
       " 'tapestryhouseholdsNEW.THHGRPL14',\n",
       " 'tapestryhouseholdsNEW.THHGRPU1',\n",
       " 'tapestryhouseholdsNEW.THHGRPU2',\n",
       " 'tapestryhouseholdsNEW.THHGRPU3',\n",
       " 'tapestryhouseholdsNEW.THHGRPU4',\n",
       " 'tapestryhouseholdsNEW.THHGRPU5',\n",
       " 'tapestryhouseholdsNEW.THHGRPU6',\n",
       " 'AtRisk.THHBASE',\n",
       " 'KeyUSFacts.POPGRWCYFY',\n",
       " 'AtRisk.TOTPOP_CY',\n",
       " 'industry.UNEMPRT_CY']"
      ]
     },
     "execution_count": 15,
     "metadata": {},
     "output_type": "execute_result"
    }
   ],
   "source": [
    "analysis_var"
   ]
  },
  {
   "cell_type": "code",
   "execution_count": 80,
   "metadata": {},
   "outputs": [],
   "source": [
    "var=[]\n",
    "for item in analysis_var:\n",
    "    split = item.split('.')\n",
    "    var.append(split[1]) "
   ]
  },
  {
   "cell_type": "code",
   "execution_count": 22,
   "metadata": {},
   "outputs": [],
   "source": [
    "result=[]\n",
    "for item in analysis_var:\n",
    "    split = item.split('.')\n",
    "    if split[0]=='tapestryhouseholdsNEW':\n",
    "        if split[1] not in result:\n",
    "            result.append(split[1])\n",
    "        else: pass   "
   ]
  },
  {
   "cell_type": "markdown",
   "metadata": {},
   "source": [
    "### Enriching study areas\n",
    "\n",
    "\n",
    "The `enrich_layer` tool gives you demographic and landascape data for the people, places, and businesses in a specific area, or within a selected travel time or distance from a location.\n",
    "\n",
    "To obtain the tapestry and demographic data for the area, we will use `enrich_layer` tool fromm the enrich_data module."
   ]
  },
  {
   "cell_type": "code",
   "execution_count": 16,
   "metadata": {},
   "outputs": [],
   "source": [
    "from arcgis.features.enrich_data import enrich_layer"
   ]
  },
  {
   "cell_type": "code",
   "execution_count": 17,
   "metadata": {},
   "outputs": [],
   "source": [
    "target_area_data = enrich_layer(target_area,\n",
    "                                analysis_variables=analysis_var,\n",
    "                                output_name=\"get enriched results1111\")"
   ]
  },
  {
   "cell_type": "code",
   "execution_count": 18,
   "metadata": {},
   "outputs": [
    {
     "data": {
      "text/html": [
       "<div class=\"item_container\" style=\"height: auto; overflow: hidden; border: 1px solid #cfcfcf; border-radius: 2px; background: #f6fafa; line-height: 1.21429em; padding: 10px;\">\n",
       "                    <div class=\"item_left\" style=\"width: 210px; float: left;\">\n",
       "                       <a href='https://deldev.maps.arcgis.com/home/item.html?id=3cd0b88c8bbc4777a0c8b48e9c375bae' target='_blank'>\n",
       "                        <img src='http://static.arcgis.com/images/desktopapp.png' class=\"itemThumbnail\">\n",
       "                       </a>\n",
       "                    </div>\n",
       "\n",
       "                    <div class=\"item_right\"     style=\"float: none; width: auto; overflow: hidden;\">\n",
       "                        <a href='https://deldev.maps.arcgis.com/home/item.html?id=3cd0b88c8bbc4777a0c8b48e9c375bae' target='_blank'><b>get enriched results1111</b>\n",
       "                        </a>\n",
       "                        <br/><img src='https://deldev.maps.arcgis.com/home/js/jsapi/esri/css/images/item_type_icons/featureshosted16.png' style=\"vertical-align:middle;\">Feature Layer Collection by demos_deldev\n",
       "                        <br/>Last Modified: December 01, 2018\n",
       "                        <br/>0 comments, 0 views\n",
       "                    </div>\n",
       "                </div>\n",
       "                "
      ],
      "text/plain": [
       "<Item title:\"get enriched results1111\" type:Feature Layer Collection owner:demos_deldev>"
      ]
     },
     "execution_count": 18,
     "metadata": {},
     "output_type": "execute_result"
    }
   ],
   "source": [
    "target_area_data"
   ]
  },
  {
   "cell_type": "code",
   "execution_count": 19,
   "metadata": {},
   "outputs": [],
   "source": [
    "data_lyr = target_area_data.layers[0]"
   ]
  },
  {
   "cell_type": "markdown",
   "metadata": {},
   "source": [
    "Convert the layer into pandas dataframe to analyze top 4 tapestries. Determine the top four tapestries associated with the largest counts. "
   ]
  },
  {
   "cell_type": "code",
   "execution_count": 20,
   "metadata": {},
   "outputs": [
    {
     "data": {
      "text/html": [
       "<div>\n",
       "<style scoped>\n",
       "    .dataframe tbody tr th:only-of-type {\n",
       "        vertical-align: middle;\n",
       "    }\n",
       "\n",
       "    .dataframe tbody tr th {\n",
       "        vertical-align: top;\n",
       "    }\n",
       "\n",
       "    .dataframe thead th {\n",
       "        text-align: right;\n",
       "    }\n",
       "</style>\n",
       "<table border=\"1\" class=\"dataframe\">\n",
       "  <thead>\n",
       "    <tr style=\"text-align: right;\">\n",
       "      <th></th>\n",
       "      <th>AnalysisArea</th>\n",
       "      <th>ENRICH_FID</th>\n",
       "      <th>FAMGRW10_14</th>\n",
       "      <th>FacilityOID</th>\n",
       "      <th>FromBreak</th>\n",
       "      <th>HasData</th>\n",
       "      <th>ID</th>\n",
       "      <th>ID_1</th>\n",
       "      <th>Name</th>\n",
       "      <th>OBJECTID</th>\n",
       "      <th>...</th>\n",
       "      <th>UNEMPRT_CY_1</th>\n",
       "      <th>ZIP</th>\n",
       "      <th>aggregationMethod</th>\n",
       "      <th>apportionmentConfidence</th>\n",
       "      <th>p14Seg1B</th>\n",
       "      <th>p14Seg5A</th>\n",
       "      <th>p14Seg5B</th>\n",
       "      <th>p14Seg8C</th>\n",
       "      <th>populationToPolygonSizeRating</th>\n",
       "      <th>sourceCountry</th>\n",
       "    </tr>\n",
       "  </thead>\n",
       "  <tbody>\n",
       "    <tr>\n",
       "      <th>0</th>\n",
       "      <td>31.432614</td>\n",
       "      <td>1</td>\n",
       "      <td>0.48</td>\n",
       "      <td>1</td>\n",
       "      <td>0.0</td>\n",
       "      <td>1</td>\n",
       "      <td>Best Performing Community</td>\n",
       "      <td>0</td>\n",
       "      <td>Location 1 : 0 - 5.0</td>\n",
       "      <td>1</td>\n",
       "      <td>...</td>\n",
       "      <td>2.4</td>\n",
       "      <td>37922</td>\n",
       "      <td>BlockApportionment:US.BlockGroups</td>\n",
       "      <td>2.576</td>\n",
       "      <td>0.107575</td>\n",
       "      <td>0.107499</td>\n",
       "      <td>0.207002</td>\n",
       "      <td>0.104505</td>\n",
       "      <td>2.191</td>\n",
       "      <td>US</td>\n",
       "    </tr>\n",
       "  </tbody>\n",
       "</table>\n",
       "<p>1 rows × 119 columns</p>\n",
       "</div>"
      ],
      "text/plain": [
       "   AnalysisArea  ENRICH_FID  FAMGRW10_14  FacilityOID  FromBreak  HasData  \\\n",
       "0     31.432614           1         0.48            1        0.0        1   \n",
       "\n",
       "                          ID ID_1                  Name  OBJECTID  \\\n",
       "0  Best Performing Community    0  Location 1 : 0 - 5.0         1   \n",
       "\n",
       "       ...        UNEMPRT_CY_1    ZIP                  aggregationMethod  \\\n",
       "0      ...                 2.4  37922  BlockApportionment:US.BlockGroups   \n",
       "\n",
       "   apportionmentConfidence  p14Seg1B  p14Seg5A  p14Seg5B  p14Seg8C  \\\n",
       "0                    2.576  0.107575  0.107499  0.207002  0.104505   \n",
       "\n",
       "   populationToPolygonSizeRating  sourceCountry  \n",
       "0                          2.191             US  \n",
       "\n",
       "[1 rows x 119 columns]"
      ]
     },
     "execution_count": 20,
     "metadata": {},
     "output_type": "execute_result"
    }
   ],
   "source": [
    "import pandas as pd\n",
    "\n",
    "sdf = pd.DataFrame.spatial.from_layer(data_lyr)\n",
    "sdf.head()"
   ]
  },
  {
   "cell_type": "code",
   "execution_count": 23,
   "metadata": {},
   "outputs": [
    {
     "data": {
      "text/plain": [
       "Index(['THHBASE', 'THHGRPU3', 'THHGRPU4', 'THHGRPL5', 'THHGRPL1'], dtype='object')"
      ]
     },
     "execution_count": 23,
     "metadata": {},
     "output_type": "execute_result"
    }
   ],
   "source": [
    "df = sdf[result]\n",
    "df.select_dtypes(include=['float64','int64']).T.sort_values(by=0, ascending=False).head().index"
   ]
  },
  {
   "cell_type": "code",
   "execution_count": null,
   "metadata": {},
   "outputs": [],
   "source": []
  },
  {
   "cell_type": "markdown",
   "metadata": {},
   "source": [
    "### Convert the top four target area tapestry counts to percentages.\n",
    "Rather than counts, you will want to compare tapestry percentages between each candidate ZIP Code and the target area."
   ]
  },
  {
   "cell_type": "markdown",
   "metadata": {},
   "source": [
    "Create four new fields to hold the tapestry percentages.<br>\n",
    "You can create a feature layer instance to add new fields into your layer."
   ]
  },
  {
   "cell_type": "markdown",
   "metadata": {},
   "source": [
    "A feature service serves a collection of feature layers and tables, with the associated relationships among the entities. It is represented by arcgis.features.FeatureLayerCollection in the ArcGIS Python API.\n",
    "\n",
    "Instances of FeatureLayerCollection can be constructed using a feature service, as shown below:"
   ]
  },
  {
   "cell_type": "code",
   "execution_count": 24,
   "metadata": {},
   "outputs": [],
   "source": [
    "from arcgis.features import FeatureLayerCollection"
   ]
  },
  {
   "cell_type": "code",
   "execution_count": 25,
   "metadata": {},
   "outputs": [],
   "source": [
    "target_data = FeatureLayerCollection.fromitem(target_area_data)"
   ]
  },
  {
   "cell_type": "markdown",
   "metadata": {},
   "source": [
    "The collection of layers and tables in a FeatureLayerCollection can be accessed using the layers and tables properties respectively:"
   ]
  },
  {
   "cell_type": "code",
   "execution_count": 26,
   "metadata": {},
   "outputs": [],
   "source": [
    "data_layer = target_data.layers[0]"
   ]
  },
  {
   "cell_type": "code",
   "execution_count": 27,
   "metadata": {},
   "outputs": [
    {
     "data": {
      "text/plain": [
       "{'success': True}"
      ]
     },
     "execution_count": 27,
     "metadata": {},
     "output_type": "execute_result"
    }
   ],
   "source": [
    "data_layer.manager.add_to_definition({\"fields\":[{\"name\":\"THHGRPU3PERC\",\n",
    "                                                 \"type\":\"esriFieldTypeDouble\",\n",
    "                                                 \"alias\":\"2017 HHs: Urbanization Group 3 PERC\",\n",
    "                                                 \"nullable\":True,\"editable\":True,\"length\":256}]})"
   ]
  },
  {
   "cell_type": "code",
   "execution_count": 28,
   "metadata": {},
   "outputs": [
    {
     "data": {
      "text/plain": [
       "{'success': True}"
      ]
     },
     "execution_count": 28,
     "metadata": {},
     "output_type": "execute_result"
    }
   ],
   "source": [
    "data_layer.manager.add_to_definition({\"fields\":[{\"name\":\"THHGRPU4PERC\",\n",
    "                                         \"type\":\"esriFieldTypeDouble\",\n",
    "                                         \"alias\":\"2017 HHs: Urbanization Group 4 PERC\",\n",
    "                                         \"nullable\":True,\"editable\":True,\"length\":256}]})"
   ]
  },
  {
   "cell_type": "code",
   "execution_count": 29,
   "metadata": {},
   "outputs": [
    {
     "data": {
      "text/plain": [
       "{'success': True}"
      ]
     },
     "execution_count": 29,
     "metadata": {},
     "output_type": "execute_result"
    }
   ],
   "source": [
    "data_layer.manager.add_to_definition({\"fields\":[{\"name\":\"THHGRPL5PERC\",\n",
    "                                         \"type\":\"esriFieldTypeDouble\",\n",
    "                                         \"alias\":\"2017 HHs: LifeMode Group 5 PERC\",\n",
    "                                         \"nullable\":True,\"editable\":True,\"length\":256}]})"
   ]
  },
  {
   "cell_type": "code",
   "execution_count": 30,
   "metadata": {},
   "outputs": [
    {
     "data": {
      "text/plain": [
       "{'success': True}"
      ]
     },
     "execution_count": 30,
     "metadata": {},
     "output_type": "execute_result"
    }
   ],
   "source": [
    "data_layer.manager.add_to_definition({\"fields\":[{\"name\":\"THH17PERC\",\n",
    "                                         \"type\":\"esriFieldTypeDouble\",\n",
    "                                         \"alias\":\"2017 HHs in Tapestry Seg 5B PERC\",\n",
    "                                         \"nullable\":True,\"editable\":True,\"length\":256}]})"
   ]
  },
  {
   "cell_type": "markdown",
   "metadata": {},
   "source": [
    "Refresh to update the fields in your layer."
   ]
  },
  {
   "cell_type": "code",
   "execution_count": 31,
   "metadata": {},
   "outputs": [
    {
     "data": {
      "text/plain": [
       "{'success': True}"
      ]
     },
     "execution_count": 31,
     "metadata": {},
     "output_type": "execute_result"
    }
   ],
   "source": [
    "target_data.manager.refresh()"
   ]
  },
  {
   "cell_type": "code",
   "execution_count": 32,
   "metadata": {},
   "outputs": [],
   "source": [
    "df = pd.DataFrame.spatial.from_layer(data_layer)"
   ]
  },
  {
   "cell_type": "code",
   "execution_count": 33,
   "metadata": {},
   "outputs": [
    {
     "data": {
      "text/html": [
       "<div>\n",
       "<style scoped>\n",
       "    .dataframe tbody tr th:only-of-type {\n",
       "        vertical-align: middle;\n",
       "    }\n",
       "\n",
       "    .dataframe tbody tr th {\n",
       "        vertical-align: top;\n",
       "    }\n",
       "\n",
       "    .dataframe thead th {\n",
       "        text-align: right;\n",
       "    }\n",
       "</style>\n",
       "<table border=\"1\" class=\"dataframe\">\n",
       "  <thead>\n",
       "    <tr style=\"text-align: right;\">\n",
       "      <th></th>\n",
       "      <th>THHGRPU4PERC</th>\n",
       "      <th>THHGRPU3PERC</th>\n",
       "      <th>THHGRPL5PERC</th>\n",
       "      <th>THH17PERC</th>\n",
       "    </tr>\n",
       "  </thead>\n",
       "  <tbody>\n",
       "    <tr>\n",
       "      <th>0</th>\n",
       "      <td>0.0</td>\n",
       "      <td>0.0</td>\n",
       "      <td>0.0</td>\n",
       "      <td>0.0</td>\n",
       "    </tr>\n",
       "  </tbody>\n",
       "</table>\n",
       "</div>"
      ],
      "text/plain": [
       "   THHGRPU4PERC  THHGRPU3PERC  THHGRPL5PERC  THH17PERC\n",
       "0           0.0           0.0           0.0        0.0"
      ]
     },
     "execution_count": 33,
     "metadata": {},
     "output_type": "execute_result"
    }
   ],
   "source": [
    "df[['THHGRPU4PERC','THHGRPU3PERC','THHGRPL5PERC','THH17PERC']]"
   ]
  },
  {
   "cell_type": "markdown",
   "metadata": {},
   "source": [
    "Calculate percentage and add to the fields."
   ]
  },
  {
   "cell_type": "code",
   "execution_count": 34,
   "metadata": {
    "scrolled": true
   },
   "outputs": [
    {
     "data": {
      "text/plain": [
       "{'success': True, 'updatedFeatureCount': 1}"
      ]
     },
     "execution_count": 34,
     "metadata": {},
     "output_type": "execute_result"
    }
   ],
   "source": [
    "data_layer.calculate('1=1', \n",
    "                     calc_expression=[{\"field\":\"THHGRPU3PERC\",\"sqlExpression\":\"THHGRPU3 / THHBASE\"}])"
   ]
  },
  {
   "cell_type": "code",
   "execution_count": 35,
   "metadata": {},
   "outputs": [
    {
     "data": {
      "text/plain": [
       "{'success': True, 'updatedFeatureCount': 1}"
      ]
     },
     "execution_count": 35,
     "metadata": {},
     "output_type": "execute_result"
    }
   ],
   "source": [
    "data_layer.calculate('1=1', \n",
    "                     calc_expression=[{\"field\":\"THHGRPU4PERC\",\"sqlExpression\":\"THHGRPU4 / THHBASE\"}])"
   ]
  },
  {
   "cell_type": "code",
   "execution_count": 36,
   "metadata": {},
   "outputs": [
    {
     "data": {
      "text/plain": [
       "{'success': True, 'updatedFeatureCount': 1}"
      ]
     },
     "execution_count": 36,
     "metadata": {},
     "output_type": "execute_result"
    }
   ],
   "source": [
    "data_layer.calculate('1=1', \n",
    "                     calc_expression=[{\"field\":\"THHGRPL5PERC\",\"sqlExpression\":\"THHGRPL5 / THHBASE\"}])"
   ]
  },
  {
   "cell_type": "code",
   "execution_count": 37,
   "metadata": {},
   "outputs": [
    {
     "data": {
      "text/plain": [
       "{'success': True, 'updatedFeatureCount': 1}"
      ]
     },
     "execution_count": 37,
     "metadata": {},
     "output_type": "execute_result"
    }
   ],
   "source": [
    "data_layer.calculate('1=1', \n",
    "                     calc_expression=[{\"field\":\"THH17PERC\",\"sqlExpression\":\"THH17 / THHBASE\"}])"
   ]
  },
  {
   "cell_type": "code",
   "execution_count": 38,
   "metadata": {},
   "outputs": [],
   "source": [
    "sf = pd.DataFrame.spatial.from_layer(data_layer)"
   ]
  },
  {
   "cell_type": "code",
   "execution_count": 39,
   "metadata": {},
   "outputs": [
    {
     "data": {
      "text/html": [
       "<div>\n",
       "<style scoped>\n",
       "    .dataframe tbody tr th:only-of-type {\n",
       "        vertical-align: middle;\n",
       "    }\n",
       "\n",
       "    .dataframe tbody tr th {\n",
       "        vertical-align: top;\n",
       "    }\n",
       "\n",
       "    .dataframe thead th {\n",
       "        text-align: right;\n",
       "    }\n",
       "</style>\n",
       "<table border=\"1\" class=\"dataframe\">\n",
       "  <thead>\n",
       "    <tr style=\"text-align: right;\">\n",
       "      <th></th>\n",
       "      <th>THHGRPU3PERC</th>\n",
       "      <th>THHGRPU4PERC</th>\n",
       "      <th>THHGRPL5PERC</th>\n",
       "      <th>THH17PERC</th>\n",
       "    </tr>\n",
       "  </thead>\n",
       "  <tbody>\n",
       "    <tr>\n",
       "      <th>0</th>\n",
       "      <td>0.414781</td>\n",
       "      <td>0.329764</td>\n",
       "      <td>0.295488</td>\n",
       "      <td>0.200269</td>\n",
       "    </tr>\n",
       "  </tbody>\n",
       "</table>\n",
       "</div>"
      ],
      "text/plain": [
       "   THHGRPU3PERC  THHGRPU4PERC  THHGRPL5PERC  THH17PERC\n",
       "0      0.414781      0.329764      0.295488   0.200269"
      ]
     },
     "execution_count": 39,
     "metadata": {},
     "output_type": "execute_result"
    }
   ],
   "source": [
    "sf[['THHGRPU3PERC', 'THHGRPU4PERC', 'THHGRPL5PERC', 'THH17PERC']]"
   ]
  },
  {
   "cell_type": "markdown",
   "metadata": {},
   "source": [
    "### Obtain the same data for the candidate ZIP Codes.\n"
   ]
  },
  {
   "cell_type": "code",
   "execution_count": 40,
   "metadata": {},
   "outputs": [],
   "source": [
    "candidates_data = enrich_layer(candidates,\n",
    "                                analysis_variables=analysis_var, output_name=\"enrich candidates with tapestry11\")"
   ]
  },
  {
   "cell_type": "code",
   "execution_count": 41,
   "metadata": {},
   "outputs": [],
   "source": [
    "cand_data = FeatureLayerCollection.fromitem(candidates_data)"
   ]
  },
  {
   "cell_type": "code",
   "execution_count": 42,
   "metadata": {},
   "outputs": [],
   "source": [
    "cand_layer = cand_data.layers[0]"
   ]
  },
  {
   "cell_type": "code",
   "execution_count": 43,
   "metadata": {},
   "outputs": [
    {
     "data": {
      "text/plain": [
       "{'success': True}"
      ]
     },
     "execution_count": 43,
     "metadata": {},
     "output_type": "execute_result"
    }
   ],
   "source": [
    "cand_layer.manager.add_to_definition({\"fields\":[{\"name\":\"THHGRPU3PERC\",\n",
    "                                                 \"type\":\"esriFieldTypeDouble\",\n",
    "                                                 \"alias\":\"2017 HHs: Urbanization Group 3 PERC\",\n",
    "                                                 \"nullable\":True,\"editable\":True,\"length\":256}]})"
   ]
  },
  {
   "cell_type": "code",
   "execution_count": 44,
   "metadata": {},
   "outputs": [
    {
     "data": {
      "text/plain": [
       "{'success': True}"
      ]
     },
     "execution_count": 44,
     "metadata": {},
     "output_type": "execute_result"
    }
   ],
   "source": [
    "cand_layer.manager.add_to_definition({\"fields\":[{\"name\":\"THHGRPU4PERC\",\n",
    "                                         \"type\":\"esriFieldTypeDouble\",\n",
    "                                         \"alias\":\"2017 HHs: Urbanization Group 4 PERC\",\n",
    "                                         \"nullable\":True,\"editable\":True,\"length\":256}]})"
   ]
  },
  {
   "cell_type": "code",
   "execution_count": 45,
   "metadata": {},
   "outputs": [
    {
     "data": {
      "text/plain": [
       "{'success': True}"
      ]
     },
     "execution_count": 45,
     "metadata": {},
     "output_type": "execute_result"
    }
   ],
   "source": [
    "cand_layer.manager.add_to_definition({\"fields\":[{\"name\":\"THHGRPL5PERC\",\n",
    "                                         \"type\":\"esriFieldTypeDouble\",\n",
    "                                         \"alias\":\"2017 HHs: LifeMode Group 5 PERC\",\n",
    "                                         \"nullable\":True,\"editable\":True,\"length\":256}]})"
   ]
  },
  {
   "cell_type": "code",
   "execution_count": 46,
   "metadata": {},
   "outputs": [
    {
     "data": {
      "text/plain": [
       "{'success': True}"
      ]
     },
     "execution_count": 46,
     "metadata": {},
     "output_type": "execute_result"
    }
   ],
   "source": [
    "cand_layer.manager.add_to_definition({\"fields\":[{\"name\":\"THH17PERC\",\n",
    "                                         \"type\":\"esriFieldTypeDouble\",\n",
    "                                         \"alias\":\"2017 HHs in Tapestry Seg 5B PERC\",\n",
    "                                         \"nullable\":True,\"editable\":True,\"length\":256}]})"
   ]
  },
  {
   "cell_type": "code",
   "execution_count": 47,
   "metadata": {},
   "outputs": [],
   "source": [
    "rf = pd.DataFrame.spatial.from_layer(cand_layer)"
   ]
  },
  {
   "cell_type": "code",
   "execution_count": 48,
   "metadata": {},
   "outputs": [
    {
     "data": {
      "text/plain": [
       "789    0.0\n",
       "469    0.0\n",
       "715    0.0\n",
       "854    0.0\n",
       "369    0.0\n",
       "Name: THHBASE, dtype: float64"
      ]
     },
     "execution_count": 48,
     "metadata": {},
     "output_type": "execute_result"
    }
   ],
   "source": [
    "rf.THHBASE.sort_values().head()"
   ]
  },
  {
   "cell_type": "markdown",
   "metadata": {},
   "source": [
    " Notice that some of the base counts are zero. If you try to create the percentages with these zero values, you will get a zero divide. Filter these zero (or very small) population ZIP Codes, excluding them from further analysis."
   ]
  },
  {
   "cell_type": "code",
   "execution_count": 49,
   "metadata": {},
   "outputs": [
    {
     "data": {
      "text/plain": [
       "{'success': True, 'updatedFeatureCount': 886}"
      ]
     },
     "execution_count": 49,
     "metadata": {},
     "output_type": "execute_result"
    }
   ],
   "source": [
    "cand_layer.calculate('THHBASE > 0', \n",
    "                     calc_expression=[{\"field\":\"THHGRPU3PERC\",\"sqlExpression\":\"THHGRPU3 / THHBASE\"}])"
   ]
  },
  {
   "cell_type": "code",
   "execution_count": 50,
   "metadata": {},
   "outputs": [
    {
     "data": {
      "text/plain": [
       "{'success': True, 'updatedFeatureCount': 886}"
      ]
     },
     "execution_count": 50,
     "metadata": {},
     "output_type": "execute_result"
    }
   ],
   "source": [
    "cand_layer.calculate('THHBASE > 0', \n",
    "                     calc_expression=[{\"field\":\"THHGRPU4PERC\",\"sqlExpression\":\"THHGRPU4 / THHBASE\"}])"
   ]
  },
  {
   "cell_type": "code",
   "execution_count": 51,
   "metadata": {},
   "outputs": [
    {
     "data": {
      "text/plain": [
       "{'success': True, 'updatedFeatureCount': 886}"
      ]
     },
     "execution_count": 51,
     "metadata": {},
     "output_type": "execute_result"
    }
   ],
   "source": [
    "cand_layer.calculate('THHBASE > 0', \n",
    "                     calc_expression=[{\"field\":\"THHGRPL5PERC\",\"sqlExpression\":\"THHGRPL5 / THHBASE\"}])"
   ]
  },
  {
   "cell_type": "code",
   "execution_count": 52,
   "metadata": {},
   "outputs": [
    {
     "data": {
      "text/plain": [
       "{'success': True, 'updatedFeatureCount': 886}"
      ]
     },
     "execution_count": 52,
     "metadata": {},
     "output_type": "execute_result"
    }
   ],
   "source": [
    "cand_layer.calculate('THHBASE > 0', \n",
    "                     calc_expression=[{\"field\":\"THH17PERC\",\"sqlExpression\":\"THH17 / THHBASE\"}])"
   ]
  },
  {
   "cell_type": "code",
   "execution_count": 53,
   "metadata": {},
   "outputs": [],
   "source": [
    "cf = pd.DataFrame.spatial.from_layer(cand_layer)"
   ]
  },
  {
   "cell_type": "code",
   "execution_count": 54,
   "metadata": {},
   "outputs": [
    {
     "data": {
      "text/html": [
       "<div>\n",
       "<style scoped>\n",
       "    .dataframe tbody tr th:only-of-type {\n",
       "        vertical-align: middle;\n",
       "    }\n",
       "\n",
       "    .dataframe tbody tr th {\n",
       "        vertical-align: top;\n",
       "    }\n",
       "\n",
       "    .dataframe thead th {\n",
       "        text-align: right;\n",
       "    }\n",
       "</style>\n",
       "<table border=\"1\" class=\"dataframe\">\n",
       "  <thead>\n",
       "    <tr style=\"text-align: right;\">\n",
       "      <th></th>\n",
       "      <th>THHGRPU3PERC</th>\n",
       "      <th>THHGRPU4PERC</th>\n",
       "      <th>THHGRPL5PERC</th>\n",
       "      <th>THH17PERC</th>\n",
       "    </tr>\n",
       "  </thead>\n",
       "  <tbody>\n",
       "    <tr>\n",
       "      <th>0</th>\n",
       "      <td>0.000000</td>\n",
       "      <td>0.771362</td>\n",
       "      <td>0.176322</td>\n",
       "      <td>0.000000</td>\n",
       "    </tr>\n",
       "    <tr>\n",
       "      <th>1</th>\n",
       "      <td>0.037032</td>\n",
       "      <td>0.000000</td>\n",
       "      <td>0.000000</td>\n",
       "      <td>0.000000</td>\n",
       "    </tr>\n",
       "    <tr>\n",
       "      <th>2</th>\n",
       "      <td>0.000000</td>\n",
       "      <td>0.222418</td>\n",
       "      <td>0.000000</td>\n",
       "      <td>0.000000</td>\n",
       "    </tr>\n",
       "    <tr>\n",
       "      <th>3</th>\n",
       "      <td>0.000000</td>\n",
       "      <td>1.000000</td>\n",
       "      <td>0.000000</td>\n",
       "      <td>0.000000</td>\n",
       "    </tr>\n",
       "    <tr>\n",
       "      <th>4</th>\n",
       "      <td>0.000000</td>\n",
       "      <td>0.851347</td>\n",
       "      <td>0.000000</td>\n",
       "      <td>0.000000</td>\n",
       "    </tr>\n",
       "    <tr>\n",
       "      <th>5</th>\n",
       "      <td>0.000000</td>\n",
       "      <td>0.310435</td>\n",
       "      <td>0.000000</td>\n",
       "      <td>0.000000</td>\n",
       "    </tr>\n",
       "    <tr>\n",
       "      <th>6</th>\n",
       "      <td>0.000000</td>\n",
       "      <td>1.000000</td>\n",
       "      <td>0.000000</td>\n",
       "      <td>0.000000</td>\n",
       "    </tr>\n",
       "    <tr>\n",
       "      <th>7</th>\n",
       "      <td>0.057197</td>\n",
       "      <td>0.344327</td>\n",
       "      <td>0.000000</td>\n",
       "      <td>0.000000</td>\n",
       "    </tr>\n",
       "    <tr>\n",
       "      <th>8</th>\n",
       "      <td>0.109071</td>\n",
       "      <td>0.488638</td>\n",
       "      <td>0.000000</td>\n",
       "      <td>0.000000</td>\n",
       "    </tr>\n",
       "    <tr>\n",
       "      <th>9</th>\n",
       "      <td>0.067009</td>\n",
       "      <td>0.829081</td>\n",
       "      <td>0.000000</td>\n",
       "      <td>0.000000</td>\n",
       "    </tr>\n",
       "    <tr>\n",
       "      <th>10</th>\n",
       "      <td>0.144278</td>\n",
       "      <td>0.015103</td>\n",
       "      <td>0.000000</td>\n",
       "      <td>0.000000</td>\n",
       "    </tr>\n",
       "    <tr>\n",
       "      <th>11</th>\n",
       "      <td>0.255840</td>\n",
       "      <td>0.000000</td>\n",
       "      <td>0.000000</td>\n",
       "      <td>0.000000</td>\n",
       "    </tr>\n",
       "    <tr>\n",
       "      <th>12</th>\n",
       "      <td>0.000000</td>\n",
       "      <td>0.563063</td>\n",
       "      <td>0.000000</td>\n",
       "      <td>0.000000</td>\n",
       "    </tr>\n",
       "    <tr>\n",
       "      <th>13</th>\n",
       "      <td>0.000000</td>\n",
       "      <td>1.000000</td>\n",
       "      <td>0.000000</td>\n",
       "      <td>0.000000</td>\n",
       "    </tr>\n",
       "    <tr>\n",
       "      <th>14</th>\n",
       "      <td>0.100098</td>\n",
       "      <td>0.000000</td>\n",
       "      <td>0.000000</td>\n",
       "      <td>0.000000</td>\n",
       "    </tr>\n",
       "    <tr>\n",
       "      <th>15</th>\n",
       "      <td>0.000000</td>\n",
       "      <td>1.000000</td>\n",
       "      <td>0.000000</td>\n",
       "      <td>0.000000</td>\n",
       "    </tr>\n",
       "    <tr>\n",
       "      <th>16</th>\n",
       "      <td>0.057418</td>\n",
       "      <td>0.414100</td>\n",
       "      <td>0.000000</td>\n",
       "      <td>0.000000</td>\n",
       "    </tr>\n",
       "    <tr>\n",
       "      <th>17</th>\n",
       "      <td>0.000000</td>\n",
       "      <td>0.339879</td>\n",
       "      <td>0.198036</td>\n",
       "      <td>0.000000</td>\n",
       "    </tr>\n",
       "    <tr>\n",
       "      <th>18</th>\n",
       "      <td>0.000000</td>\n",
       "      <td>0.975039</td>\n",
       "      <td>0.000000</td>\n",
       "      <td>0.000000</td>\n",
       "    </tr>\n",
       "    <tr>\n",
       "      <th>19</th>\n",
       "      <td>0.000000</td>\n",
       "      <td>0.000000</td>\n",
       "      <td>0.000000</td>\n",
       "      <td>0.000000</td>\n",
       "    </tr>\n",
       "    <tr>\n",
       "      <th>20</th>\n",
       "      <td>0.019655</td>\n",
       "      <td>0.014314</td>\n",
       "      <td>0.000000</td>\n",
       "      <td>0.000000</td>\n",
       "    </tr>\n",
       "    <tr>\n",
       "      <th>21</th>\n",
       "      <td>0.086304</td>\n",
       "      <td>0.517197</td>\n",
       "      <td>0.000000</td>\n",
       "      <td>0.000000</td>\n",
       "    </tr>\n",
       "    <tr>\n",
       "      <th>22</th>\n",
       "      <td>0.000000</td>\n",
       "      <td>0.108679</td>\n",
       "      <td>0.000000</td>\n",
       "      <td>0.000000</td>\n",
       "    </tr>\n",
       "    <tr>\n",
       "      <th>23</th>\n",
       "      <td>0.000000</td>\n",
       "      <td>0.745768</td>\n",
       "      <td>0.000000</td>\n",
       "      <td>0.000000</td>\n",
       "    </tr>\n",
       "    <tr>\n",
       "      <th>24</th>\n",
       "      <td>0.072721</td>\n",
       "      <td>0.245135</td>\n",
       "      <td>0.047598</td>\n",
       "      <td>0.000000</td>\n",
       "    </tr>\n",
       "    <tr>\n",
       "      <th>25</th>\n",
       "      <td>0.000000</td>\n",
       "      <td>1.000000</td>\n",
       "      <td>0.000000</td>\n",
       "      <td>0.000000</td>\n",
       "    </tr>\n",
       "    <tr>\n",
       "      <th>26</th>\n",
       "      <td>0.000000</td>\n",
       "      <td>0.737148</td>\n",
       "      <td>0.000000</td>\n",
       "      <td>0.000000</td>\n",
       "    </tr>\n",
       "    <tr>\n",
       "      <th>27</th>\n",
       "      <td>0.000000</td>\n",
       "      <td>0.663273</td>\n",
       "      <td>0.000000</td>\n",
       "      <td>0.000000</td>\n",
       "    </tr>\n",
       "    <tr>\n",
       "      <th>28</th>\n",
       "      <td>0.052970</td>\n",
       "      <td>0.400974</td>\n",
       "      <td>0.000000</td>\n",
       "      <td>0.000000</td>\n",
       "    </tr>\n",
       "    <tr>\n",
       "      <th>29</th>\n",
       "      <td>0.000000</td>\n",
       "      <td>1.000000</td>\n",
       "      <td>0.000000</td>\n",
       "      <td>0.000000</td>\n",
       "    </tr>\n",
       "    <tr>\n",
       "      <th>...</th>\n",
       "      <td>...</td>\n",
       "      <td>...</td>\n",
       "      <td>...</td>\n",
       "      <td>...</td>\n",
       "    </tr>\n",
       "    <tr>\n",
       "      <th>868</th>\n",
       "      <td>0.000161</td>\n",
       "      <td>0.196037</td>\n",
       "      <td>0.000000</td>\n",
       "      <td>0.000000</td>\n",
       "    </tr>\n",
       "    <tr>\n",
       "      <th>869</th>\n",
       "      <td>0.000000</td>\n",
       "      <td>0.097109</td>\n",
       "      <td>0.000000</td>\n",
       "      <td>0.000000</td>\n",
       "    </tr>\n",
       "    <tr>\n",
       "      <th>870</th>\n",
       "      <td>0.000000</td>\n",
       "      <td>0.077927</td>\n",
       "      <td>0.000000</td>\n",
       "      <td>0.000000</td>\n",
       "    </tr>\n",
       "    <tr>\n",
       "      <th>871</th>\n",
       "      <td>0.135244</td>\n",
       "      <td>0.440806</td>\n",
       "      <td>0.058562</td>\n",
       "      <td>0.042964</td>\n",
       "    </tr>\n",
       "    <tr>\n",
       "      <th>872</th>\n",
       "      <td>0.052708</td>\n",
       "      <td>0.612694</td>\n",
       "      <td>0.000000</td>\n",
       "      <td>0.000000</td>\n",
       "    </tr>\n",
       "    <tr>\n",
       "      <th>873</th>\n",
       "      <td>0.000000</td>\n",
       "      <td>0.733910</td>\n",
       "      <td>0.029697</td>\n",
       "      <td>0.000000</td>\n",
       "    </tr>\n",
       "    <tr>\n",
       "      <th>874</th>\n",
       "      <td>0.000000</td>\n",
       "      <td>0.000000</td>\n",
       "      <td>0.000000</td>\n",
       "      <td>0.000000</td>\n",
       "    </tr>\n",
       "    <tr>\n",
       "      <th>875</th>\n",
       "      <td>0.029712</td>\n",
       "      <td>0.145554</td>\n",
       "      <td>0.000000</td>\n",
       "      <td>0.000000</td>\n",
       "    </tr>\n",
       "    <tr>\n",
       "      <th>876</th>\n",
       "      <td>0.087583</td>\n",
       "      <td>0.000000</td>\n",
       "      <td>0.000000</td>\n",
       "      <td>0.000000</td>\n",
       "    </tr>\n",
       "    <tr>\n",
       "      <th>877</th>\n",
       "      <td>0.000000</td>\n",
       "      <td>0.000000</td>\n",
       "      <td>0.000000</td>\n",
       "      <td>0.000000</td>\n",
       "    </tr>\n",
       "    <tr>\n",
       "      <th>878</th>\n",
       "      <td>0.093404</td>\n",
       "      <td>0.000000</td>\n",
       "      <td>0.029763</td>\n",
       "      <td>0.029763</td>\n",
       "    </tr>\n",
       "    <tr>\n",
       "      <th>879</th>\n",
       "      <td>0.059272</td>\n",
       "      <td>0.559138</td>\n",
       "      <td>0.000000</td>\n",
       "      <td>0.000000</td>\n",
       "    </tr>\n",
       "    <tr>\n",
       "      <th>880</th>\n",
       "      <td>0.000000</td>\n",
       "      <td>0.200936</td>\n",
       "      <td>0.000000</td>\n",
       "      <td>0.000000</td>\n",
       "    </tr>\n",
       "    <tr>\n",
       "      <th>881</th>\n",
       "      <td>0.000000</td>\n",
       "      <td>0.340713</td>\n",
       "      <td>0.000000</td>\n",
       "      <td>0.000000</td>\n",
       "    </tr>\n",
       "    <tr>\n",
       "      <th>882</th>\n",
       "      <td>0.000000</td>\n",
       "      <td>0.035669</td>\n",
       "      <td>0.000000</td>\n",
       "      <td>0.000000</td>\n",
       "    </tr>\n",
       "    <tr>\n",
       "      <th>883</th>\n",
       "      <td>0.058228</td>\n",
       "      <td>0.147473</td>\n",
       "      <td>0.000000</td>\n",
       "      <td>0.000000</td>\n",
       "    </tr>\n",
       "    <tr>\n",
       "      <th>884</th>\n",
       "      <td>0.000000</td>\n",
       "      <td>0.029061</td>\n",
       "      <td>0.000000</td>\n",
       "      <td>0.000000</td>\n",
       "    </tr>\n",
       "    <tr>\n",
       "      <th>885</th>\n",
       "      <td>0.000000</td>\n",
       "      <td>0.000000</td>\n",
       "      <td>0.000000</td>\n",
       "      <td>0.000000</td>\n",
       "    </tr>\n",
       "    <tr>\n",
       "      <th>886</th>\n",
       "      <td>0.000000</td>\n",
       "      <td>0.000000</td>\n",
       "      <td>0.000000</td>\n",
       "      <td>0.000000</td>\n",
       "    </tr>\n",
       "    <tr>\n",
       "      <th>887</th>\n",
       "      <td>0.000000</td>\n",
       "      <td>0.000000</td>\n",
       "      <td>0.000000</td>\n",
       "      <td>0.000000</td>\n",
       "    </tr>\n",
       "    <tr>\n",
       "      <th>888</th>\n",
       "      <td>0.000000</td>\n",
       "      <td>0.890864</td>\n",
       "      <td>0.000000</td>\n",
       "      <td>0.000000</td>\n",
       "    </tr>\n",
       "    <tr>\n",
       "      <th>889</th>\n",
       "      <td>0.191507</td>\n",
       "      <td>0.274215</td>\n",
       "      <td>0.000000</td>\n",
       "      <td>0.000000</td>\n",
       "    </tr>\n",
       "    <tr>\n",
       "      <th>890</th>\n",
       "      <td>0.000000</td>\n",
       "      <td>0.752216</td>\n",
       "      <td>0.000000</td>\n",
       "      <td>0.000000</td>\n",
       "    </tr>\n",
       "    <tr>\n",
       "      <th>891</th>\n",
       "      <td>0.000000</td>\n",
       "      <td>0.000000</td>\n",
       "      <td>0.000000</td>\n",
       "      <td>0.000000</td>\n",
       "    </tr>\n",
       "    <tr>\n",
       "      <th>892</th>\n",
       "      <td>0.023877</td>\n",
       "      <td>0.702910</td>\n",
       "      <td>0.000000</td>\n",
       "      <td>0.000000</td>\n",
       "    </tr>\n",
       "    <tr>\n",
       "      <th>893</th>\n",
       "      <td>0.035102</td>\n",
       "      <td>0.709768</td>\n",
       "      <td>0.000000</td>\n",
       "      <td>0.000000</td>\n",
       "    </tr>\n",
       "    <tr>\n",
       "      <th>894</th>\n",
       "      <td>0.000000</td>\n",
       "      <td>1.000000</td>\n",
       "      <td>0.000000</td>\n",
       "      <td>0.000000</td>\n",
       "    </tr>\n",
       "    <tr>\n",
       "      <th>895</th>\n",
       "      <td>0.000000</td>\n",
       "      <td>0.995300</td>\n",
       "      <td>0.000000</td>\n",
       "      <td>0.000000</td>\n",
       "    </tr>\n",
       "    <tr>\n",
       "      <th>896</th>\n",
       "      <td>0.108427</td>\n",
       "      <td>0.726148</td>\n",
       "      <td>0.041653</td>\n",
       "      <td>0.041653</td>\n",
       "    </tr>\n",
       "    <tr>\n",
       "      <th>897</th>\n",
       "      <td>0.000000</td>\n",
       "      <td>0.686938</td>\n",
       "      <td>0.000000</td>\n",
       "      <td>0.000000</td>\n",
       "    </tr>\n",
       "  </tbody>\n",
       "</table>\n",
       "<p>898 rows × 4 columns</p>\n",
       "</div>"
      ],
      "text/plain": [
       "     THHGRPU3PERC  THHGRPU4PERC  THHGRPL5PERC  THH17PERC\n",
       "0        0.000000      0.771362      0.176322   0.000000\n",
       "1        0.037032      0.000000      0.000000   0.000000\n",
       "2        0.000000      0.222418      0.000000   0.000000\n",
       "3        0.000000      1.000000      0.000000   0.000000\n",
       "4        0.000000      0.851347      0.000000   0.000000\n",
       "5        0.000000      0.310435      0.000000   0.000000\n",
       "6        0.000000      1.000000      0.000000   0.000000\n",
       "7        0.057197      0.344327      0.000000   0.000000\n",
       "8        0.109071      0.488638      0.000000   0.000000\n",
       "9        0.067009      0.829081      0.000000   0.000000\n",
       "10       0.144278      0.015103      0.000000   0.000000\n",
       "11       0.255840      0.000000      0.000000   0.000000\n",
       "12       0.000000      0.563063      0.000000   0.000000\n",
       "13       0.000000      1.000000      0.000000   0.000000\n",
       "14       0.100098      0.000000      0.000000   0.000000\n",
       "15       0.000000      1.000000      0.000000   0.000000\n",
       "16       0.057418      0.414100      0.000000   0.000000\n",
       "17       0.000000      0.339879      0.198036   0.000000\n",
       "18       0.000000      0.975039      0.000000   0.000000\n",
       "19       0.000000      0.000000      0.000000   0.000000\n",
       "20       0.019655      0.014314      0.000000   0.000000\n",
       "21       0.086304      0.517197      0.000000   0.000000\n",
       "22       0.000000      0.108679      0.000000   0.000000\n",
       "23       0.000000      0.745768      0.000000   0.000000\n",
       "24       0.072721      0.245135      0.047598   0.000000\n",
       "25       0.000000      1.000000      0.000000   0.000000\n",
       "26       0.000000      0.737148      0.000000   0.000000\n",
       "27       0.000000      0.663273      0.000000   0.000000\n",
       "28       0.052970      0.400974      0.000000   0.000000\n",
       "29       0.000000      1.000000      0.000000   0.000000\n",
       "..            ...           ...           ...        ...\n",
       "868      0.000161      0.196037      0.000000   0.000000\n",
       "869      0.000000      0.097109      0.000000   0.000000\n",
       "870      0.000000      0.077927      0.000000   0.000000\n",
       "871      0.135244      0.440806      0.058562   0.042964\n",
       "872      0.052708      0.612694      0.000000   0.000000\n",
       "873      0.000000      0.733910      0.029697   0.000000\n",
       "874      0.000000      0.000000      0.000000   0.000000\n",
       "875      0.029712      0.145554      0.000000   0.000000\n",
       "876      0.087583      0.000000      0.000000   0.000000\n",
       "877      0.000000      0.000000      0.000000   0.000000\n",
       "878      0.093404      0.000000      0.029763   0.029763\n",
       "879      0.059272      0.559138      0.000000   0.000000\n",
       "880      0.000000      0.200936      0.000000   0.000000\n",
       "881      0.000000      0.340713      0.000000   0.000000\n",
       "882      0.000000      0.035669      0.000000   0.000000\n",
       "883      0.058228      0.147473      0.000000   0.000000\n",
       "884      0.000000      0.029061      0.000000   0.000000\n",
       "885      0.000000      0.000000      0.000000   0.000000\n",
       "886      0.000000      0.000000      0.000000   0.000000\n",
       "887      0.000000      0.000000      0.000000   0.000000\n",
       "888      0.000000      0.890864      0.000000   0.000000\n",
       "889      0.191507      0.274215      0.000000   0.000000\n",
       "890      0.000000      0.752216      0.000000   0.000000\n",
       "891      0.000000      0.000000      0.000000   0.000000\n",
       "892      0.023877      0.702910      0.000000   0.000000\n",
       "893      0.035102      0.709768      0.000000   0.000000\n",
       "894      0.000000      1.000000      0.000000   0.000000\n",
       "895      0.000000      0.995300      0.000000   0.000000\n",
       "896      0.108427      0.726148      0.041653   0.041653\n",
       "897      0.000000      0.686938      0.000000   0.000000\n",
       "\n",
       "[898 rows x 4 columns]"
      ]
     },
     "execution_count": 54,
     "metadata": {},
     "output_type": "execute_result"
    }
   ],
   "source": [
    "cf[['THHGRPU3PERC', 'THHGRPU4PERC', 'THHGRPL5PERC', 'THH17PERC']]"
   ]
  },
  {
   "cell_type": "markdown",
   "metadata": {},
   "source": [
    "### Rank the candidate ZIP Codes by their similarity to the target area."
   ]
  },
  {
   "cell_type": "code",
   "execution_count": 55,
   "metadata": {},
   "outputs": [],
   "source": [
    "from arcgis import *\n",
    "gis = GIS(\"https://deldev.maps.arcgis.com\", \"demos_deldev\", \"DelDevs12\")"
   ]
  },
  {
   "cell_type": "code",
   "execution_count": 56,
   "metadata": {},
   "outputs": [],
   "source": [
    "from arcgis.features.find_locations import find_similar_locations"
   ]
  },
  {
   "cell_type": "code",
   "execution_count": 57,
   "metadata": {},
   "outputs": [],
   "source": [
    "top_4_most_similar_results = find_similar_locations(data_layer,cand_layer,\n",
    "                       analysis_fields=['THHGRPU3','THHGRPU4','THHGRPL5','THH17','POPDENS14','FAMGRW10_14','UNEMPRT_CY'],\n",
    "                                        output_name = \"top 4 similar locations111\",\n",
    "                                                    number_of_results=4)"
   ]
  },
  {
   "cell_type": "code",
   "execution_count": 58,
   "metadata": {},
   "outputs": [
    {
     "data": {
      "text/html": [
       "<div class=\"item_container\" style=\"height: auto; overflow: hidden; border: 1px solid #cfcfcf; border-radius: 2px; background: #f6fafa; line-height: 1.21429em; padding: 10px;\">\n",
       "                    <div class=\"item_left\" style=\"width: 210px; float: left;\">\n",
       "                       <a href='https://deldev.maps.arcgis.com/home/item.html?id=446991b6f7754018b541a4b4f08909f9' target='_blank'>\n",
       "                        <img src='http://static.arcgis.com/images/desktopapp.png' class=\"itemThumbnail\">\n",
       "                       </a>\n",
       "                    </div>\n",
       "\n",
       "                    <div class=\"item_right\"     style=\"float: none; width: auto; overflow: hidden;\">\n",
       "                        <a href='https://deldev.maps.arcgis.com/home/item.html?id=446991b6f7754018b541a4b4f08909f9' target='_blank'><b>top 4 similar locations111</b>\n",
       "                        </a>\n",
       "                        <br/><img src='https://deldev.maps.arcgis.com/home/js/jsapi/esri/css/images/item_type_icons/featureshosted16.png' style=\"vertical-align:middle;\">Feature Layer Collection by demos_deldev\n",
       "                        <br/>Last Modified: December 01, 2018\n",
       "                        <br/>0 comments, 0 views\n",
       "                    </div>\n",
       "                </div>\n",
       "                "
      ],
      "text/plain": [
       "<Item title:\"top 4 similar locations111\" type:Feature Layer Collection owner:demos_deldev>"
      ]
     },
     "execution_count": 58,
     "metadata": {},
     "output_type": "execute_result"
    }
   ],
   "source": [
    "top_4_most_similar_results"
   ]
  },
  {
   "cell_type": "code",
   "execution_count": 60,
   "metadata": {},
   "outputs": [],
   "source": [
    "map1 = gis.map('Atlanta')\n",
    "map1.add_layer(top_4_most_similar_results)"
   ]
  },
  {
   "cell_type": "code",
   "execution_count": 61,
   "metadata": {},
   "outputs": [],
   "source": [
    "map2 = gis.map('Houston')\n",
    "map2.add_layer(top_4_most_similar_results)"
   ]
  },
  {
   "cell_type": "code",
   "execution_count": 62,
   "metadata": {},
   "outputs": [
    {
     "data": {
      "application/vnd.jupyter.widget-view+json": {
       "model_id": "0987ce749c9d443381a7ef5ba9a37399",
       "version_major": 2,
       "version_minor": 0
      },
      "text/html": [
       "<p>Failed to display Jupyter Widget of type <code>HBox</code>.</p>\n",
       "<p>\n",
       "  If you're reading this message in the Jupyter Notebook or JupyterLab Notebook, it may mean\n",
       "  that the widgets JavaScript is still loading. If this message persists, it\n",
       "  likely means that the widgets JavaScript library is either not installed or\n",
       "  not enabled. See the <a href=\"https://ipywidgets.readthedocs.io/en/stable/user_install.html\">Jupyter\n",
       "  Widgets Documentation</a> for setup instructions.\n",
       "</p>\n",
       "<p>\n",
       "  If you're reading this message in another frontend (for example, a static\n",
       "  rendering on GitHub or <a href=\"https://nbviewer.jupyter.org/\">NBViewer</a>),\n",
       "  it may mean that your frontend doesn't currently support widgets.\n",
       "</p>\n"
      ],
      "text/plain": [
       "HBox(children=(MapView(layout=Layout(flex='1 1', height='420px', padding='10px')), MapView(layout=Layout(flex='1 1', height='420px', padding='10px'))))"
      ]
     },
     "metadata": {},
     "output_type": "display_data"
    }
   ],
   "source": [
    "from ipywidgets import *\n",
    "\n",
    "map1.layout=Layout(flex='1 1', padding='10px', height='420px')\n",
    "map2.layout=Layout(flex='1 1', padding='10px', height='420px')\n",
    "\n",
    "box = HBox([map1, map2])\n",
    "box"
   ]
  },
  {
   "cell_type": "markdown",
   "metadata": {},
   "source": [
    "![](locating_community_images/hbox.png)"
   ]
  },
  {
   "cell_type": "markdown",
   "metadata": {},
   "source": [
    "Two of the top ZIP Codes will be located near Houston and two will be located near Atlanta."
   ]
  },
  {
   "cell_type": "markdown",
   "metadata": {},
   "source": [
    "### References\n",
    "Brennan, Morgan. 2012. \"America's Friendliest Towns.\" Forbes, December 19, 2012. http://www.forbes.com/sites/morganbrennan/2012/12/19/americas-friendliest-towns/\n",
    "\n",
    "City of Roswell, Georgia. \"City Awards and Achievements.\" http://www.roswellgov.com/discover-us/city-awards-achievements\n",
    "\n",
    "City of Taylor Lake Village, Texas. http://www.taylorlakevillage.us\n",
    "\n",
    "Grunewald, Will. 2014. \"How Baby Boomers Are Changing Retirement Living.\" Washingtonian, March 13, 2014. http://www.washingtonian.com/articles/people/how-baby-boomers-are-changing-retirement-living/\n",
    "\n",
    "Heneghan, Carolyn. 2014. \"The 50 Safest Cities in Georgia.\" The SafeWise Report, Safewise.com, February 17, 2014. http://www.safewise.com/blog/50-safest-cities-georgia/\n",
    "\n",
    "Holley, Peter; Lomax, John; and Shilcutt, Katharine. 2014. \"Where to Live Now: The 25 Hottest Neighborhoods of 2014.\" Houstonia, April 3, 2014. http://www.houstoniamag.com/articles/2014/4/3/where-to-live-now-hottest-neighborhoods-april-2014\n",
    "\n",
    "Kilborn, Peter T. 2009. \"In Depth: America's 25 Best Places to Move.\" Forbes, July 7, 2009. http://www.forbes.com/2009/07/07/relocate-relocation-cities-lifestyle-real-estate-affordable-moving_slide.html\n",
    "\n",
    "Northern, Amanda. 2015. \"Here Are The Best Places To Live In Georgia… And Why.\" OnlyInYourState.com, June 19, 2015. http://www.onlyinyourstate.com/georgia/best-places-to-live-in-ga/\n"
   ]
  },
  {
   "cell_type": "markdown",
   "metadata": {},
   "source": [
    "### Photo Attribution"
   ]
  },
  {
   "cell_type": "markdown",
   "metadata": {},
   "source": [
    "|                                                    \t|                                                                                                                                                                                             \t|\n",
    "|----------------------------------------------------\t|---------------------------------------------------------------------------------------------------------------------------------------------------------------------------------------------\t|\n",
    "| Robinwood Retirement Community                     \t| Used with permission from Resort Lifestyle Communities                                                                                                                                      \t|\n",
    "| Lakeside houses on Clear Lake southeast of Houston \t| This photo was taken by Mike Fisher and is licensed under CC BY 2.0 via Wikimedia Commons—https://commons.wikimedia.org/wiki/File:Lakeside_Houses_in_Nassau_Bay_TX.jpg                      \t|\n",
    "| Seabrook, Texas                                    \t| \"Seabrook-tx-kemah-bridge.\" Licensed under CC BY-SA 2.5 via Wikimedia Commons—https://commons.wikimedia.org/wiki/File:Seabrook-tx-kemah-bridge.jpg#/media/File:Seabrook-tx-kemah-bridge.jpg \t|\n",
    "| Memorial Park                                      \t| Public domain license,https://commons.wikimedia.org/wiki/File:MemorialParkHouston.JPG                                                                                                       \t|\n",
    "| Alpharetta City Hall                               \t| Public domain,https://commons.wikimedia.org/wiki/File:Alpharetta,_Georgia_City_Hall.jpg                                                                                                     \t|\n",
    "| Chattahoochee Nature Center near Roswell, Georgia  \t| This photo was taken by WWALS Watershed Coalition and is licensed under CC BY 2.0 via Wikimedia Commons—https://commons.wikimedia.org/wiki/File:PaddlingUpperPondCNCApr6_2013.jpg           \t|\n",
    "| Smyrna Village Market                              \t| Public domain,https://commons.wikimedia.org/wiki/File:Smyrna_Georgia_Market_Village.JPG                                                                                                     \t|"
   ]
  }
 ],
 "metadata": {
  "kernelspec": {
   "display_name": "Python 3",
   "language": "python",
   "name": "python3"
  },
  "language_info": {
   "codemirror_mode": {
    "name": "ipython",
    "version": 3
   },
   "file_extension": ".py",
   "mimetype": "text/x-python",
   "name": "python",
   "nbconvert_exporter": "python",
   "pygments_lexer": "ipython3",
   "version": "3.6.4"
  }
 },
 "nbformat": 4,
 "nbformat_minor": 2
}
