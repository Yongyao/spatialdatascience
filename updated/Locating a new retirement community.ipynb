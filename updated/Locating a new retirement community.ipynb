{
 "cells": [
  {
   "cell_type": "markdown",
   "metadata": {},
   "source": [
    "# Locating a new retirement community\n",
    "* 🔬 Data Science\n",
    "* 🥠 Predictive Modeling\n",
    "* 👟 Ready To Run!\n",
    "\n",
    "This notebook demonstrates the utility of a number of spatial analysis methods including hot spot analysis, data clustering, defining drive time or distance areas, and attribute query. It also discusses several spatial analysis topics such as modeling supply versus demand, the small numbers problem, and boundary effects."
   ]
  },
  {
   "cell_type": "markdown",
   "metadata": {},
   "source": [
    "## A moving target\n",
    "\n",
    "An analyst of market research for a company that develops, designs, and manages resort-style retirement communities has been tasked with identifying candidate locations for a new facility. He knows he needs to be creative. While it may have been sufficient in the United States ten years ago to build sprawling developments in the warmest parts of the country, people approaching retirement today are not as willing to relocate. Many want to stay connected to friends and family, remain close to existing doctors, continue to work, to enjoy local cultural and educational opportunities, and to be surrounded by people of all ages. Consequently, as a first pass, he decides to look for locations projected to have large numbers of senior citizens but very few existing options for residential retirement. He will then narrow these locations by ranking how similar each candidate is to the company's current most successful resort retirement community."
   ]
  },
  {
   "cell_type": "markdown",
   "metadata": {},
   "source": [
    "![](locating_community_images/image1.png)\n",
    "\n",
    "<div class=\"alert alert-success\">\n",
    "**Note:** While the data used for the analyses outlined here are real, specific information about the company, as well as the proposed recommendations and final conclusions, are presented for illustrative purposes only.\n",
    "</div>"
   ]
  },
  {
   "cell_type": "markdown",
   "metadata": {},
   "source": [
    "### What data is needed?\n",
    "\n",
    "The analyst will first model supply versus demand for retirement housing opportunities.\n",
    "\n",
    "For the demand component of his model, he needs a variable representing potential retirement community residents. Since a new facility will not be open for a couple years, he obtains the projected 2019 age 55 and older population data, by ZIP Code, from [Business Analyst](https://www.esri.com/en-us/arcgis/products/arcgis-business-analyst/overview).\n",
    "\n",
    "The supply component of the model proves a bit more difficult. Retirement facilities range from private homes accommodating one or two people to whole villages housing as many as 100,000 residents. While he can easily get the number of businesses within each ZIP Code that are classified as retirement communities, retirement homes, independent living facilities, or senior citizen housing (SIC codes 805904, 805918, and 836114), his [business data](http://doc.arcgis.com/en/esri-demographics/data/business.htm) does not include information about the number of residents or the number of residential units associated with each facility.\n",
    "\n",
    "He decides to use the number of employees associated with these facilities as a surrogate for retirement community size, at least until better information is available."
   ]
  },
  {
   "cell_type": "markdown",
   "metadata": {},
   "source": [
    "![](locating_community_images/image2.png)"
   ]
  },
  {
   "cell_type": "markdown",
   "metadata": {},
   "source": [
    "He also gets housing unit vacancy data from [Business Analyst](https://www.esri.com/en-us/arcgis/products/arcgis-business-analyst/overview) since locations with high vacancy rates generally reflect low demand for new housing.\n",
    "\n",
    "### Where is the demand for retirement housing highest in relation to supply?\n",
    "While it may be tempting to calculate supply versus demand as a simple ratio—projected age 55+ population, divided by an estimate of retirement community housing resources (number of employees, for now)—this is problematic for at least three reasons:\n",
    "\n",
    "1. **Division by zero**: For ZIP Codes without any retirement community facilities, the denominator will be zero and the ratio will be undefined. If these ZIP Codes are removed from the analysis as a workaround, it will eliminate most of the ZIP Codes in the contiguous United States (see the map below) and will likely remove the very high-demand locations the analyst is hoping to discover.\n",
    "\n",
    "\n",
    "2. **Small numbers problem**: Extreme ratios due to small numerators and small denominators can also be a problem because they are unstable. The best example of this is mortality rates. Suppose you have a community with only two people and one dies from cancer. The cancer mortality rate for this community would be a very high 50 percent, an outlier that could throw off subsequent analyses. Similarly, a ZIP Code with very few senior citizens and very few retirement housing resources will result in ratios that are unstable.\n",
    "\n",
    "![ZIP Codes impacted by zero divide or the small numbers problem.](locating_community_images/image3.png)\n",
    "\n",
    "\n",
    "3. **Boundaries**: In addition, looking at a ZIP Code in isolation can be misleading. If a ZIP Code has lots of residential retirement opportunities and very few senior citizens, we might say it has more supply than demand. But what if it is surrounded by ZIP Codes with lots of senior citizens and no residential retirement opportunities? We will get a better picture of supply and demand if we evaluate each ZIP Code within the context of its neighboring ZIP Codes.\n",
    "Spatial Outliers\n",
    "\n",
    "![A number of high-supply ZIP Codes are surrounded by low-supply ZIP Codes.](locating_community_images/image4.png)"
   ]
  },
  {
   "cell_type": "markdown",
   "metadata": {},
   "source": [
    "To address the division by zero and small numbers problems, the analyst creates a level of service variable (*L*). The underlying assumption for the level of service variable is one of equity. If a ZIP Code contains 8 percent of the Country's projected 55+ population, it should also contain 8 percent of the Country's retirement community resources.\n",
    "\n",
    "How does he construct this variable? It's easy. He subtracts a supply ratio from a demand ratio:\n",
    "\n",
    "\\begin{align}\n",
    "\\frac{{d_i}}{{D}} - \\frac{r_i}{R} = {L}\\\\   \n",
    "\\end{align}\n",
    "\n",
    "The demand ratio **($d_{i}$/D)** is the projected age 55+ population in a ZIP Code,  ($d_{i}$), divided by the projected age 55+ population in all ZIP Codes ($D$). Because the denominator is a count of all age 55 or older people in all ZIP Codes, it will never be zero or small (unstable).\n",
    "\n",
    "Similarly, the supply ratio,**($r_{i}$/R)**, is the estimated number of retirement community employees in a ZIP Code ($r_{i}$), divided by the total number of retirement community employees in all ZIP Codes ($R$).\n",
    "\n",
    "Here are some examples of how this plays out:\n",
    "\n",
    "* Supply is equal to demand: When supply equals demand, $L$ is zero. Suppose a ZIP Code contains 5 percent of the Country's senior citizens and 5 percent of the Country's retirement community employees. When you subtract the supply ratio from the demand ratio (5 - 5 = 0), the result is zero.\n",
    "* Demand exceeds supply: When demand for retirement housing is larger than supply, $L$ is a positive number. Suppose a ZIP Code contains 10 percent of the Country's senior citizen population but only 2 percent of the Country's residential retirement employees. When you subtract the supply ratio from the demand ratio (10 - 2 = 8), the result is a positive number.\n",
    "* Supply exceeds demand: When the supply of retirement housing opportunities is larger than demand, on the other hand, $L$ is a negative number. For example, if you have a ZIP Code containing 3 percent of all senior citizens but 12 percent of all residential retirement employees, the difference (3 - 12 = -9) is a negative number.\n",
    "\n",
    "To address the boundary issue, the analyst uses Hot Spot Analysis on the level of service variable ($L$) which balances the surpluses or deficits within each ZIP Code with the surpluses and deficits for surrounding ZIP Codes. A spatial cluster of large positive values that is not balanced by nearby negative values will be identified as a hot spot for demand. Similarly, a spatial cluster of negative values that isn't balanced by nearby positive values will be identified as a cold spot for demand. The map below shows the results of this analysis."
   ]
  },
  {
   "cell_type": "markdown",
   "metadata": {},
   "source": [
    "![](locating_community_images/image6.png)\n",
    "\n",
    "High-demand, undersupplied areas are shown in red; low-demand, oversupplied areas are shown in blue."
   ]
  },
  {
   "cell_type": "markdown",
   "metadata": {},
   "source": [
    "## Where are vacancy rates lowest? Which areas are projected to have the largest number of people age 55 and older?\n",
    "\n",
    "Next, the analyst will take into account vacancy rates (2014) and the projected (2019) number of people, age 55 and older, across the country. The hot spot analysis maps for these variables are shown below."
   ]
  },
  {
   "cell_type": "markdown",
   "metadata": {},
   "source": [
    "![](locating_community_images/image7.png)\n",
    "\n",
    "The red areas have high housing unit vacancy rates."
   ]
  },
  {
   "cell_type": "markdown",
   "metadata": {},
   "source": [
    "![](locating_community_images/image8.png)\n",
    "\n",
    "Red regions are projected to have the largest numbers of age 55 and older people in 2019."
   ]
  },
  {
   "cell_type": "markdown",
   "metadata": {},
   "source": [
    "### Where are vacancies lowest and demand for retirement housing highest?\n",
    "The analyst selects ZIP Codes within statistically significant hot or cold spot areas that meet all of these criteria:\n",
    "\n",
    "* High demand and low supply of retirement housing opportunities\n",
    "* Low housing unit vacancy rates\n",
    "* Large projected age 55 and older populations\n",
    "\n",
    "He finds that there are 898 ZIP Codes satisfying all three of these criteria. These become the candidate ZIP Codes for further analysis."
   ]
  },
  {
   "cell_type": "markdown",
   "metadata": {},
   "source": [
    "![](locating_community_images/image9.png)\n",
    "\n",
    "ZIP Codes associated with lowest vacancies and highest demand"
   ]
  },
  {
   "cell_type": "markdown",
   "metadata": {},
   "source": [
    "# Get the data for your analysis"
   ]
  },
  {
   "cell_type": "code",
   "execution_count": 1,
   "metadata": {},
   "outputs": [],
   "source": [
    "from arcgis import GIS"
   ]
  },
  {
   "cell_type": "code",
   "execution_count": 2,
   "metadata": {},
   "outputs": [],
   "source": [
    "gis = GIS(\"https://deldev.maps.arcgis.com\", \"demos_deldev\", \"DelDevs12\")"
   ]
  },
  {
   "cell_type": "markdown",
   "metadata": {},
   "source": [
    "Search for the **LocatingRetirementCommunity** layer. You can specify the owner's name to get more specific results. To search for content from the Living Atlas, or content shared by other users on ArcGIS Online, set `outside_org=True`."
   ]
  },
  {
   "cell_type": "code",
   "execution_count": 3,
   "metadata": {},
   "outputs": [],
   "source": [
    "items = gis.content.search('title: LocatingRetirementCommunity owner:lscott_ANGP', 'Feature layer',\n",
    "                           outside_org=True)"
   ]
  },
  {
   "cell_type": "markdown",
   "metadata": {},
   "source": [
    "Display the list of results."
   ]
  },
  {
   "cell_type": "code",
   "execution_count": 4,
   "metadata": {},
   "outputs": [
    {
     "data": {
      "text/html": [
       "<div class=\"item_container\" style=\"height: auto; overflow: hidden; border: 1px solid #cfcfcf; border-radius: 2px; background: #f6fafa; line-height: 1.21429em; padding: 10px;\">\n",
       "                    <div class=\"item_left\" style=\"width: 210px; float: left;\">\n",
       "                       <a href='https://deldev.maps.arcgis.com/home/item.html?id=da1ed61ea3e64be19b26c6469a5419b2' target='_blank'>\n",
       "                        <img src='data:image/png;base64,iVBORw0KGgoAAAANSUhEUgAAAMgAAACFCAIAAACR/CB7AAAACXBIWXMAAAAnAAAAJwEqCZFPAAADpklEQVR4nO3dP0vccBzH8Z+tlqrg5cBWp+YnpXXTXAd3J+c8AwUfgD4BdRPaoTe4n4+gcdVS5PoMsolTQv8MRbj8liJd7HClUKHRnPlcQni/pgxBvuCb34Vc8ruJm5sbA5TtUdUDoJkICxKEBQnCggRhQYKwIEFYkCAsSBAWJAgLEoQFCcKCBGFBgrAgQViQICxIEBYkCAsShAUJwoIEYUGCsCBBWJAgLEgQFiQIC4U555xz+edMjmcUNEa/3z8/PzfGWGs3Nzf/dxphoYA0TaMoGh5nWZZzJmGhMM/ztra2fN/POYdrLBTg+/76+rq5a7kyxkywjRGKStM0f7kyrFg1F8dxt9tN07TqQf5xZ1WGsGpuMBgEQXCff2Td8FEICVYsSBAWJPLCiuN4bHOgYfLCOv10SlsYTV5Y8y+ef7n6OrZR0CR5Yb18tvQ9/Ta2UdAkeWENBoOZ1uzYRkGTcB8LEtxugARhQYKwIEFYkCAsSBAWJAgLEoQFCcKCBGFBgrAgQViQICxIjBhW3d50Q90UDiuO4+Pj4w8fT3hquW6urq82fmysXK18zj5XPUvBTUH6/X4URdbaN52OtVYzEkZ0+PPwbP7MGLM92L40l9UOU2zFstYGQZAkSRRFf7ezQU0smIXhwbyZr3YSY8zjg4OD+5/teV4QBNPT0xcXF9fX1+12e3FxUTYbill7ujbpJpd/LR/NHs1NzlU7zCj7Y3meZ61NksTzvNIHwsimJqb22ntVT/EHz7xDgvtYkCAsSBAWJAirOZxzb9+/Ozk5qXoQYwirSbIsezIx1W6379zdfwwIqzl838+yLIqi4Qb/1SKsRgnD0Frb6XSqHoT7WI3jnNvf39/d3a12S1zCaiDnXKvVqnYGwoIE11iQICxIEBYkCAsShAUJwoIEYUGCsCBBWJAgLEgQFiQICxKEBQnCggRhQYKwIEFYpUnTtA6vx9QEYZUpiiL2oxvi0eRyxHHc6/WGx91ut9ph6oAVqxzW2uGmTkEQVD1LLRBWOVqtVhiGM63ZMAyrnqUWCKs01trXS68qf++qJrjGggQrFiQICxKEBQnCggRhQYKwIEFYkCAs3FbKbwYSFm7r9Xo7OzsPfEyDsHDb8Av11dXVh/wRvtLBbc65JEkIC3XERyEkCAsShAUJwoIEYUGCsCBBWJAgLEgQFiQICxKEBQnCggRhQYKwIEFYkCAsSBAWJAgLEoQFCcKCBGFBgrAgQViQICxIEBYkfgM2h9bi2cW2yQAAAABJRU5ErkJggg==' width='200' height='133' class=\"itemThumbnail\">\n",
       "                       </a>\n",
       "                    </div>\n",
       "\n",
       "                    <div class=\"item_right\"     style=\"float: none; width: auto; overflow: hidden;\">\n",
       "                        <a href='https://deldev.maps.arcgis.com/home/item.html?id=da1ed61ea3e64be19b26c6469a5419b2' target='_blank'><b>LocatingRetirementCommunity</b>\n",
       "                        </a>\n",
       "                        <br/>Data to use with the Locating a New Retirement Community case study.<img src='https://deldev.maps.arcgis.com/home/js/jsapi/esri/css/images/item_type_icons/featureshosted16.png' style=\"vertical-align:middle;\">Feature Layer Collection by lscott_ANGP\n",
       "                        <br/>Last Modified: August 19, 2015\n",
       "                        <br/>0 comments, 260 views\n",
       "                    </div>\n",
       "                </div>\n",
       "                "
      ],
      "text/plain": [
       "<Item title:\"LocatingRetirementCommunity\" type:Feature Layer Collection owner:lscott_ANGP>"
      ]
     },
     "metadata": {},
     "output_type": "display_data"
    }
   ],
   "source": [
    "from IPython.display import display\n",
    "\n",
    "for item in items:\n",
    "    display(item)"
   ]
  },
  {
   "cell_type": "markdown",
   "metadata": {},
   "source": [
    "Since the first item is a Feature Layer Collection, accessing the layers property will give us a list of FeatureLayer objects."
   ]
  },
  {
   "cell_type": "code",
   "execution_count": 5,
   "metadata": {},
   "outputs": [],
   "source": [
    "lyrs = items[0].layers"
   ]
  },
  {
   "cell_type": "code",
   "execution_count": 6,
   "metadata": {},
   "outputs": [
    {
     "name": "stdout",
     "output_type": "stream",
     "text": [
      "TargetCommunity\n",
      "Candidates\n"
     ]
    }
   ],
   "source": [
    "for lyr in lyrs:\n",
    "    print(lyr.properties.name)"
   ]
  },
  {
   "cell_type": "markdown",
   "metadata": {},
   "source": [
    "The Feature Layer Collection includes two layers. The first layer, called **Target Communities**, contains the current best performing retirement community near Knoxville, Tennessee. The second layer, called **Candidates**, contains the 898 ZIP Codes in the continental USA associated with statistically significant hot or cold spot areas for all of these criteria:\n",
    "\n",
    "* High demand for retirement housing opportunities\n",
    "* Low supply of retirement housing\n",
    "* Low housing unit vacancy rates\n",
    "* Large projected age 55 and older populations\n",
    "\n",
    "Hot spot analysis to identify these candidate ZIP Codes was done using ArcMap. If you want to run through this analysis yourself, it is included in both the [ArcMap and ArcGIS Pro workflows]( http://desktop.arcgis.com/en/analytics/case-studies/locating-a-new-retirement-community.htm).\n",
    "\n",
    "\n",
    "In the workflow below, you will be using ArcGIS API for Python to create a 5-mile drive distance around the best performing community and obtaining [tapestry](http://www.esri.com/landing-pages/tapestry) and demographic data for the area. You will then obtain the same data for the candidate ZIP Codes. Finally, you will use the Find Similar Locations tool to identify the top four high demand, low vacancy, large projected age 55+ population ZIP Codes that are most similar to the area surrounding the best performing community."
   ]
  },
  {
   "cell_type": "code",
   "execution_count": 7,
   "metadata": {},
   "outputs": [],
   "source": [
    "target_community = lyrs[0]\n",
    "candidates = lyrs[1]"
   ]
  },
  {
   "cell_type": "code",
   "execution_count": 8,
   "metadata": {},
   "outputs": [
    {
     "data": {
      "application/vnd.jupyter.widget-view+json": {
       "model_id": "a92c685e508d414da1042051ee597118",
       "version_major": 2,
       "version_minor": 0
      },
      "text/html": [
       "<p>Failed to display Jupyter Widget of type <code>MapView</code>.</p>\n",
       "<p>\n",
       "  If you're reading this message in the Jupyter Notebook or JupyterLab Notebook, it may mean\n",
       "  that the widgets JavaScript is still loading. If this message persists, it\n",
       "  likely means that the widgets JavaScript library is either not installed or\n",
       "  not enabled. See the <a href=\"https://ipywidgets.readthedocs.io/en/stable/user_install.html\">Jupyter\n",
       "  Widgets Documentation</a> for setup instructions.\n",
       "</p>\n",
       "<p>\n",
       "  If you're reading this message in another frontend (for example, a static\n",
       "  rendering on GitHub or <a href=\"https://nbviewer.jupyter.org/\">NBViewer</a>),\n",
       "  it may mean that your frontend doesn't currently support widgets.\n",
       "</p>\n"
      ],
      "text/plain": [
       "MapView(layout=Layout(height='400px', width='100%'))"
      ]
     },
     "metadata": {},
     "output_type": "display_data"
    },
    {
     "data": {
      "text/html": [
       "<div class=\"map-static-img-preview-42ab0634-096f-4048-863b-d9ce7876fa55\"><img src=\"\"></img></div>"
      ],
      "text/plain": [
       "<IPython.core.display.HTML object>"
      ]
     },
     "metadata": {},
     "output_type": "display_data"
    }
   ],
   "source": [
    "m = gis.map('Knoxville')\n",
    "m.add_layer(target_community)\n",
    "m"
   ]
  },
  {
   "cell_type": "markdown",
   "metadata": {},
   "source": [
    "![](locating_community_images/target_community.png)"
   ]
  },
  {
   "cell_type": "markdown",
   "metadata": {},
   "source": [
    "### Create a 5-mile drive time polygon around the best performing community."
   ]
  },
  {
   "cell_type": "markdown",
   "metadata": {},
   "source": [
    "### Proximity analysis\n",
    "\n",
    "\n",
    "Proximity analysis tools help you answer one of the most common questions posed in spatial analysis: What is near what?\n",
    "\n",
    "Proximity tools are available in the `features.use_proximity` module of ArcGIS API for Python. You can use the `create_drive_time_areas` tool to create a 5-mile drive distance buffer around the best performing community."
   ]
  },
  {
   "cell_type": "code",
   "execution_count": 9,
   "metadata": {},
   "outputs": [],
   "source": [
    "from arcgis.features.use_proximity import create_drive_time_areas"
   ]
  },
  {
   "cell_type": "code",
   "execution_count": 10,
   "metadata": {},
   "outputs": [],
   "source": [
    "target_area = create_drive_time_areas(target_community, break_values=[5], break_units='Miles',\n",
    "                        overlap_policy='Overlap',\n",
    "                        output_name='drive time areas of target communities')"
   ]
  },
  {
   "cell_type": "code",
   "execution_count": 11,
   "metadata": {},
   "outputs": [
    {
     "data": {
      "text/html": [
       "<div class=\"item_container\" style=\"height: auto; overflow: hidden; border: 1px solid #cfcfcf; border-radius: 2px; background: #f6fafa; line-height: 1.21429em; padding: 10px;\">\n",
       "                    <div class=\"item_left\" style=\"width: 210px; float: left;\">\n",
       "                       <a href='https://deldev.maps.arcgis.com/home/item.html?id=e998772d24e54c7bbc59e83bce5d171b' target='_blank'>\n",
       "                        <img src='http://static.arcgis.com/images/desktopapp.png' class=\"itemThumbnail\">\n",
       "                       </a>\n",
       "                    </div>\n",
       "\n",
       "                    <div class=\"item_right\"     style=\"float: none; width: auto; overflow: hidden;\">\n",
       "                        <a href='https://deldev.maps.arcgis.com/home/item.html?id=e998772d24e54c7bbc59e83bce5d171b' target='_blank'><b>drive time areas of target communities</b>\n",
       "                        </a>\n",
       "                        <br/><img src='https://deldev.maps.arcgis.com/home/js/jsapi/esri/css/images/item_type_icons/featureshosted16.png' style=\"vertical-align:middle;\">Feature Layer Collection by demos_deldev\n",
       "                        <br/>Last Modified: December 06, 2018\n",
       "                        <br/>0 comments, 0 views\n",
       "                    </div>\n",
       "                </div>\n",
       "                "
      ],
      "text/plain": [
       "<Item title:\"drive time areas of target communities\" type:Feature Layer Collection owner:demos_deldev>"
      ]
     },
     "execution_count": 11,
     "metadata": {},
     "output_type": "execute_result"
    }
   ],
   "source": [
    "target_area"
   ]
  },
  {
   "cell_type": "code",
   "execution_count": 12,
   "metadata": {},
   "outputs": [],
   "source": [
    "target_area_map = gis.map('Knoxville')"
   ]
  },
  {
   "cell_type": "code",
   "execution_count": 13,
   "metadata": {},
   "outputs": [
    {
     "data": {
      "application/vnd.jupyter.widget-view+json": {
       "model_id": "46a514f0c3164104878e2e6185655208",
       "version_major": 2,
       "version_minor": 0
      },
      "text/html": [
       "<p>Failed to display Jupyter Widget of type <code>MapView</code>.</p>\n",
       "<p>\n",
       "  If you're reading this message in the Jupyter Notebook or JupyterLab Notebook, it may mean\n",
       "  that the widgets JavaScript is still loading. If this message persists, it\n",
       "  likely means that the widgets JavaScript library is either not installed or\n",
       "  not enabled. See the <a href=\"https://ipywidgets.readthedocs.io/en/stable/user_install.html\">Jupyter\n",
       "  Widgets Documentation</a> for setup instructions.\n",
       "</p>\n",
       "<p>\n",
       "  If you're reading this message in another frontend (for example, a static\n",
       "  rendering on GitHub or <a href=\"https://nbviewer.jupyter.org/\">NBViewer</a>),\n",
       "  it may mean that your frontend doesn't currently support widgets.\n",
       "</p>\n"
      ],
      "text/plain": [
       "MapView(layout=Layout(height='400px', width='100%'))"
      ]
     },
     "metadata": {},
     "output_type": "display_data"
    },
    {
     "data": {
      "text/html": [
       "<div class=\"map-static-img-preview-bb078871-e6fc-4415-a878-11d8f7c2363b\"><img src=\"\"></img></div>"
      ],
      "text/plain": [
       "<IPython.core.display.HTML object>"
      ]
     },
     "metadata": {},
     "output_type": "display_data"
    }
   ],
   "source": [
    "target_area_map"
   ]
  },
  {
   "cell_type": "markdown",
   "metadata": {},
   "source": [
    "![](locating_community_images/targetdata.png)"
   ]
  },
  {
   "cell_type": "code",
   "execution_count": 14,
   "metadata": {},
   "outputs": [],
   "source": [
    "target_area_map.add_layer(target_area)\n",
    "target_area_map.add_layer(target_community)"
   ]
  },
  {
   "cell_type": "markdown",
   "metadata": {},
   "source": [
    "### Determine the top tapestry segments.\n",
    "You will be looking for ZIP Codes that are similar to the area surrounding the best performing retirement community. You will take advantage of [tapestry variables](https://www.esri.com/en-us/arcgis/products/tapestry-segmentation/overview) because they summarize so many aspects of a population, such as age, income, home value, occupation, education, and consumer spending behaviors. To identify the top tapestries within the 5-mile drive distance area, you will obtain and compare all 68 tapestry segments. You will also obtain the tapestry base variable so you can calculate percentages."
   ]
  },
  {
   "cell_type": "code",
   "execution_count": 15,
   "metadata": {},
   "outputs": [],
   "source": [
    "from arcgis.gis import GIS\n",
    "from arcgis.geoenrichment import *\n",
    "countries = get_countries()\n",
    "usa = Country.get('US')\n",
    "type(usa)\n",
    "df = usa.data_collections\n",
    "tapestryhouseholds_var = list(df.loc['tapestryhouseholdsNEW']['analysisVariable'].unique())\n",
    "extra_var = [\"KeyUSFacts.POPGRWCYFY\",\"AtRisk.TOTPOP_CY\",\"industry.UNEMPRT_CY\"]"
   ]
  },
  {
   "cell_type": "code",
   "execution_count": 16,
   "metadata": {
    "scrolled": true
   },
   "outputs": [],
   "source": [
    "tot_var = tapestryhouseholds_var + extra_var"
   ]
  },
  {
   "cell_type": "code",
   "execution_count": 17,
   "metadata": {},
   "outputs": [],
   "source": [
    "analysis_var = [tot_var[x] for x in range(len(tot_var)) if not tot_var[x].split('.')[1].startswith('THHG')]"
   ]
  },
  {
   "cell_type": "code",
   "execution_count": 18,
   "metadata": {},
   "outputs": [],
   "source": [
    "result = [ x.split('.')[1] for x in analysis_var]"
   ]
  },
  {
   "cell_type": "markdown",
   "metadata": {},
   "source": [
    "The 68 distinct markets of Tapestry detail the diversity of the American population.There are 14 LifeMode groups and 6 Urbanization groups which summarize markets that share similar traits.We will not use this for our case study.Click\n",
    "<a href=\"https://doc.arcgis.com/en/esri-demographics/data/tapestry-segmentation.htm\"> Tapestry Segmentation </a> for detailed view."
   ]
  },
  {
   "cell_type": "markdown",
   "metadata": {},
   "source": [
    "### Enriching study areas\n",
    "\n",
    "\n",
    "The `enrich_layer` tool gives you demographic and landascape data for the people, places, and businesses in a specific area, or within a selected travel time or distance from a location.\n",
    "\n",
    "To obtain the tapestry and demographic data for the area, we will use `enrich_layer` tool fromm the enrich_data module."
   ]
  },
  {
   "cell_type": "code",
   "execution_count": 19,
   "metadata": {},
   "outputs": [],
   "source": [
    "from arcgis.features.enrich_data import enrich_layer"
   ]
  },
  {
   "cell_type": "code",
   "execution_count": 20,
   "metadata": {},
   "outputs": [],
   "source": [
    "target_area_data = enrich_layer(target_area,\n",
    "                                analysis_variables=analysis_var,\n",
    "                                output_name=\"get enriched household tapestry\")"
   ]
  },
  {
   "cell_type": "code",
   "execution_count": 21,
   "metadata": {},
   "outputs": [
    {
     "data": {
      "text/html": [
       "<div class=\"item_container\" style=\"height: auto; overflow: hidden; border: 1px solid #cfcfcf; border-radius: 2px; background: #f6fafa; line-height: 1.21429em; padding: 10px;\">\n",
       "                    <div class=\"item_left\" style=\"width: 210px; float: left;\">\n",
       "                       <a href='https://deldev.maps.arcgis.com/home/item.html?id=0825f3f7b14d43b1834031b1c7064280' target='_blank'>\n",
       "                        <img src='http://static.arcgis.com/images/desktopapp.png' class=\"itemThumbnail\">\n",
       "                       </a>\n",
       "                    </div>\n",
       "\n",
       "                    <div class=\"item_right\"     style=\"float: none; width: auto; overflow: hidden;\">\n",
       "                        <a href='https://deldev.maps.arcgis.com/home/item.html?id=0825f3f7b14d43b1834031b1c7064280' target='_blank'><b>get enriched household tapestry</b>\n",
       "                        </a>\n",
       "                        <br/><img src='https://deldev.maps.arcgis.com/home/js/jsapi/esri/css/images/item_type_icons/featureshosted16.png' style=\"vertical-align:middle;\">Feature Layer Collection by demos_deldev\n",
       "                        <br/>Last Modified: December 06, 2018\n",
       "                        <br/>0 comments, 0 views\n",
       "                    </div>\n",
       "                </div>\n",
       "                "
      ],
      "text/plain": [
       "<Item title:\"get enriched household tapestry\" type:Feature Layer Collection owner:demos_deldev>"
      ]
     },
     "execution_count": 21,
     "metadata": {},
     "output_type": "execute_result"
    }
   ],
   "source": [
    "target_area_data"
   ]
  },
  {
   "cell_type": "code",
   "execution_count": 22,
   "metadata": {},
   "outputs": [],
   "source": [
    "data_lyr = target_area_data.layers[0]"
   ]
  },
  {
   "cell_type": "markdown",
   "metadata": {},
   "source": [
    "Convert the layer into pandas dataframe to analyze top 4 tapestries. Determine the top four tapestries associated with the largest counts. "
   ]
  },
  {
   "cell_type": "code",
   "execution_count": 23,
   "metadata": {},
   "outputs": [
    {
     "data": {
      "text/html": [
       "<div>\n",
       "<style scoped>\n",
       "    .dataframe tbody tr th:only-of-type {\n",
       "        vertical-align: middle;\n",
       "    }\n",
       "\n",
       "    .dataframe tbody tr th {\n",
       "        vertical-align: top;\n",
       "    }\n",
       "\n",
       "    .dataframe thead th {\n",
       "        text-align: right;\n",
       "    }\n",
       "</style>\n",
       "<table border=\"1\" class=\"dataframe\">\n",
       "  <thead>\n",
       "    <tr style=\"text-align: right;\">\n",
       "      <th></th>\n",
       "      <th>AnalysisArea</th>\n",
       "      <th>ENRICH_FID</th>\n",
       "      <th>FAMGRW10_14</th>\n",
       "      <th>FacilityOID</th>\n",
       "      <th>FromBreak</th>\n",
       "      <th>HasData</th>\n",
       "      <th>ID</th>\n",
       "      <th>ID_1</th>\n",
       "      <th>Name</th>\n",
       "      <th>OBJECTID</th>\n",
       "      <th>...</th>\n",
       "      <th>UNEMPRT_CY_1</th>\n",
       "      <th>ZIP</th>\n",
       "      <th>aggregationMethod</th>\n",
       "      <th>apportionmentConfidence</th>\n",
       "      <th>p14Seg1B</th>\n",
       "      <th>p14Seg5A</th>\n",
       "      <th>p14Seg5B</th>\n",
       "      <th>p14Seg8C</th>\n",
       "      <th>populationToPolygonSizeRating</th>\n",
       "      <th>sourceCountry</th>\n",
       "    </tr>\n",
       "  </thead>\n",
       "  <tbody>\n",
       "    <tr>\n",
       "      <th>0</th>\n",
       "      <td>31.432614</td>\n",
       "      <td>1</td>\n",
       "      <td>0.48</td>\n",
       "      <td>1</td>\n",
       "      <td>0.0</td>\n",
       "      <td>1</td>\n",
       "      <td>Best Performing Community</td>\n",
       "      <td>0</td>\n",
       "      <td>Location 1 : 0 - 5.0</td>\n",
       "      <td>1</td>\n",
       "      <td>...</td>\n",
       "      <td>2.4</td>\n",
       "      <td>37922</td>\n",
       "      <td>BlockApportionment:US.BlockGroups</td>\n",
       "      <td>2.576</td>\n",
       "      <td>0.107575</td>\n",
       "      <td>0.107499</td>\n",
       "      <td>0.207002</td>\n",
       "      <td>0.104505</td>\n",
       "      <td>2.191</td>\n",
       "      <td>US</td>\n",
       "    </tr>\n",
       "  </tbody>\n",
       "</table>\n",
       "<p>1 rows × 98 columns</p>\n",
       "</div>"
      ],
      "text/plain": [
       "   AnalysisArea  ENRICH_FID  FAMGRW10_14  FacilityOID  FromBreak  HasData  \\\n",
       "0     31.432614           1         0.48            1        0.0        1   \n",
       "\n",
       "                          ID ID_1                  Name  OBJECTID  \\\n",
       "0  Best Performing Community    0  Location 1 : 0 - 5.0         1   \n",
       "\n",
       "       ...        UNEMPRT_CY_1    ZIP                  aggregationMethod  \\\n",
       "0      ...                 2.4  37922  BlockApportionment:US.BlockGroups   \n",
       "\n",
       "   apportionmentConfidence  p14Seg1B  p14Seg5A  p14Seg5B  p14Seg8C  \\\n",
       "0                    2.576  0.107575  0.107499  0.207002  0.104505   \n",
       "\n",
       "   populationToPolygonSizeRating  sourceCountry  \n",
       "0                          2.191             US  \n",
       "\n",
       "[1 rows x 98 columns]"
      ]
     },
     "execution_count": 23,
     "metadata": {},
     "output_type": "execute_result"
    }
   ],
   "source": [
    "import pandas as pd\n",
    "\n",
    "sdf = pd.DataFrame.spatial.from_layer(data_lyr)\n",
    "sdf.head()"
   ]
  },
  {
   "cell_type": "code",
   "execution_count": 24,
   "metadata": {},
   "outputs": [
    {
     "data": {
      "text/plain": [
       "Index(['TOTPOP_CY', 'THHBASE', 'THH17', 'THH35', 'THH02'], dtype='object')"
      ]
     },
     "execution_count": 24,
     "metadata": {},
     "output_type": "execute_result"
    }
   ],
   "source": [
    "df = sdf[result]\n",
    "df.select_dtypes(include=['float64','int64']).T.sort_values(by=0, ascending=False).head().index"
   ]
  },
  {
   "cell_type": "markdown",
   "metadata": {},
   "source": [
    "THHBASE contains the total and the highest four tapestry segments in the target community are 'THHBASE', 'THH17', 'THH35', 'THH02', 'THH05'. We will normalize them by the base value."
   ]
  },
  {
   "cell_type": "markdown",
   "metadata": {},
   "source": [
    "### Convert the top four target area tapestry counts to percentages.\n",
    "Rather than counts, you will want to compare tapestry percentages between each candidate ZIP Code and the target area."
   ]
  },
  {
   "cell_type": "markdown",
   "metadata": {},
   "source": [
    "Create four new fields to hold the tapestry percentages.<br>\n",
    "You can create a feature layer instance to add new fields into your layer."
   ]
  },
  {
   "cell_type": "markdown",
   "metadata": {},
   "source": [
    "A feature service serves a collection of feature layers and tables, with the associated relationships among the entities. It is represented by arcgis.features.FeatureLayerCollection in the ArcGIS Python API.\n",
    "\n",
    "Instances of FeatureLayerCollection can be constructed using a feature service, as shown below:"
   ]
  },
  {
   "cell_type": "code",
   "execution_count": 25,
   "metadata": {},
   "outputs": [],
   "source": [
    "from arcgis.features import FeatureLayerCollection"
   ]
  },
  {
   "cell_type": "code",
   "execution_count": 26,
   "metadata": {},
   "outputs": [],
   "source": [
    "target_data = FeatureLayerCollection.fromitem(target_area_data)"
   ]
  },
  {
   "cell_type": "markdown",
   "metadata": {},
   "source": [
    "The collection of layers and tables in a FeatureLayerCollection can be accessed using the layers and tables properties respectively:"
   ]
  },
  {
   "cell_type": "code",
   "execution_count": 27,
   "metadata": {},
   "outputs": [],
   "source": [
    "data_layer = target_data.layers[0]"
   ]
  },
  {
   "cell_type": "code",
   "execution_count": 28,
   "metadata": {},
   "outputs": [
    {
     "data": {
      "text/plain": [
       "{'success': True}"
      ]
     },
     "execution_count": 28,
     "metadata": {},
     "output_type": "execute_result"
    }
   ],
   "source": [
    "data_layer.manager.add_to_definition({\"fields\":[{\"name\":\"THH17PERC\",\n",
    "                                                 \"type\":\"esriFieldTypeDouble\",\n",
    "                                                 \"alias\":\"In Style (5B) PERC\",\n",
    "                                                 \"nullable\":True,\"editable\":True,\"length\":256}]})"
   ]
  },
  {
   "cell_type": "code",
   "execution_count": 29,
   "metadata": {},
   "outputs": [
    {
     "data": {
      "text/plain": [
       "{'success': True}"
      ]
     },
     "execution_count": 29,
     "metadata": {},
     "output_type": "execute_result"
    }
   ],
   "source": [
    "data_layer.manager.add_to_definition({\"fields\":[{\"name\":\"THH35PERC\",\n",
    "                                         \"type\":\"esriFieldTypeDouble\",\n",
    "                                         \"alias\":\"Bright Young Professionals (8C) PERC\",\n",
    "                                         \"nullable\":True,\"editable\":True,\"length\":256}]})"
   ]
  },
  {
   "cell_type": "code",
   "execution_count": 30,
   "metadata": {},
   "outputs": [
    {
     "data": {
      "text/plain": [
       "{'success': True}"
      ]
     },
     "execution_count": 30,
     "metadata": {},
     "output_type": "execute_result"
    }
   ],
   "source": [
    "data_layer.manager.add_to_definition({\"fields\":[{\"name\":\"THH02PERC\",\n",
    "                                         \"type\":\"esriFieldTypeDouble\",\n",
    "                                         \"alias\":\"Professional Pride (1B) PERC\",\n",
    "                                         \"nullable\":True,\"editable\":True,\"length\":256}]})"
   ]
  },
  {
   "cell_type": "code",
   "execution_count": 31,
   "metadata": {},
   "outputs": [
    {
     "data": {
      "text/plain": [
       "{'success': True}"
      ]
     },
     "execution_count": 31,
     "metadata": {},
     "output_type": "execute_result"
    }
   ],
   "source": [
    "data_layer.manager.add_to_definition({\"fields\":[{\"name\":\"THH05PERC\",\n",
    "                                         \"type\":\"esriFieldTypeDouble\",\n",
    "                                         \"alias\":\"Exurbanites\",\n",
    "                                         \"nullable\":True,\"editable\":True,\"length\":256}]})"
   ]
  },
  {
   "cell_type": "markdown",
   "metadata": {},
   "source": [
    "Refresh to update the fields in your layer."
   ]
  },
  {
   "cell_type": "code",
   "execution_count": 32,
   "metadata": {},
   "outputs": [
    {
     "data": {
      "text/plain": [
       "{'success': True}"
      ]
     },
     "execution_count": 32,
     "metadata": {},
     "output_type": "execute_result"
    }
   ],
   "source": [
    "target_data.manager.refresh()"
   ]
  },
  {
   "cell_type": "code",
   "execution_count": 33,
   "metadata": {},
   "outputs": [],
   "source": [
    "df = pd.DataFrame.spatial.from_layer(data_layer)"
   ]
  },
  {
   "cell_type": "code",
   "execution_count": 34,
   "metadata": {},
   "outputs": [
    {
     "data": {
      "text/html": [
       "<div>\n",
       "<style scoped>\n",
       "    .dataframe tbody tr th:only-of-type {\n",
       "        vertical-align: middle;\n",
       "    }\n",
       "\n",
       "    .dataframe tbody tr th {\n",
       "        vertical-align: top;\n",
       "    }\n",
       "\n",
       "    .dataframe thead th {\n",
       "        text-align: right;\n",
       "    }\n",
       "</style>\n",
       "<table border=\"1\" class=\"dataframe\">\n",
       "  <thead>\n",
       "    <tr style=\"text-align: right;\">\n",
       "      <th></th>\n",
       "      <th>THH17PERC</th>\n",
       "      <th>THH35PERC</th>\n",
       "      <th>THH02PERC</th>\n",
       "      <th>THH05PERC</th>\n",
       "    </tr>\n",
       "  </thead>\n",
       "  <tbody>\n",
       "    <tr>\n",
       "      <th>0</th>\n",
       "      <td>0.0</td>\n",
       "      <td>0.0</td>\n",
       "      <td>0.0</td>\n",
       "      <td>0.0</td>\n",
       "    </tr>\n",
       "  </tbody>\n",
       "</table>\n",
       "</div>"
      ],
      "text/plain": [
       "   THH17PERC  THH35PERC  THH02PERC  THH05PERC\n",
       "0        0.0        0.0        0.0        0.0"
      ]
     },
     "execution_count": 34,
     "metadata": {},
     "output_type": "execute_result"
    }
   ],
   "source": [
    "df[['THH17PERC','THH35PERC','THH02PERC','THH05PERC']]"
   ]
  },
  {
   "cell_type": "markdown",
   "metadata": {},
   "source": [
    "Calculate percentage and add to the fields."
   ]
  },
  {
   "cell_type": "code",
   "execution_count": 35,
   "metadata": {
    "scrolled": true
   },
   "outputs": [
    {
     "data": {
      "text/plain": [
       "{'success': True, 'updatedFeatureCount': 1}"
      ]
     },
     "execution_count": 35,
     "metadata": {},
     "output_type": "execute_result"
    }
   ],
   "source": [
    "data_layer.calculate('1=1', \n",
    "                     calc_expression=[{\"field\":\"THH17PERC\",\"sqlExpression\":\"THH17 / THHBASE\"}])"
   ]
  },
  {
   "cell_type": "code",
   "execution_count": 36,
   "metadata": {},
   "outputs": [
    {
     "data": {
      "text/plain": [
       "{'success': True, 'updatedFeatureCount': 1}"
      ]
     },
     "execution_count": 36,
     "metadata": {},
     "output_type": "execute_result"
    }
   ],
   "source": [
    "data_layer.calculate('1=1', \n",
    "                     calc_expression=[{\"field\":\"THH35PERC\",\"sqlExpression\":\"THH35 / THHBASE\"}])"
   ]
  },
  {
   "cell_type": "code",
   "execution_count": 37,
   "metadata": {},
   "outputs": [
    {
     "data": {
      "text/plain": [
       "{'success': True, 'updatedFeatureCount': 1}"
      ]
     },
     "execution_count": 37,
     "metadata": {},
     "output_type": "execute_result"
    }
   ],
   "source": [
    "data_layer.calculate('1=1', \n",
    "                     calc_expression=[{\"field\":\"THH02PERC\",\"sqlExpression\":\"THH02 / THHBASE\"}])"
   ]
  },
  {
   "cell_type": "code",
   "execution_count": 38,
   "metadata": {},
   "outputs": [
    {
     "data": {
      "text/plain": [
       "{'success': True, 'updatedFeatureCount': 1}"
      ]
     },
     "execution_count": 38,
     "metadata": {},
     "output_type": "execute_result"
    }
   ],
   "source": [
    "data_layer.calculate('1=1', \n",
    "                     calc_expression=[{\"field\":\"THH05PERC\",\"sqlExpression\":\"THH05 / THHBASE\"}])"
   ]
  },
  {
   "cell_type": "code",
   "execution_count": 39,
   "metadata": {},
   "outputs": [],
   "source": [
    "sf = pd.DataFrame.spatial.from_layer(data_layer)"
   ]
  },
  {
   "cell_type": "code",
   "execution_count": 40,
   "metadata": {},
   "outputs": [
    {
     "data": {
      "text/html": [
       "<div>\n",
       "<style scoped>\n",
       "    .dataframe tbody tr th:only-of-type {\n",
       "        vertical-align: middle;\n",
       "    }\n",
       "\n",
       "    .dataframe tbody tr th {\n",
       "        vertical-align: top;\n",
       "    }\n",
       "\n",
       "    .dataframe thead th {\n",
       "        text-align: right;\n",
       "    }\n",
       "</style>\n",
       "<table border=\"1\" class=\"dataframe\">\n",
       "  <thead>\n",
       "    <tr style=\"text-align: right;\">\n",
       "      <th></th>\n",
       "      <th>THH17PERC</th>\n",
       "      <th>THH35PERC</th>\n",
       "      <th>THH02PERC</th>\n",
       "      <th>THH05PERC</th>\n",
       "    </tr>\n",
       "  </thead>\n",
       "  <tbody>\n",
       "    <tr>\n",
       "      <th>0</th>\n",
       "      <td>0.200269</td>\n",
       "      <td>0.130942</td>\n",
       "      <td>0.110235</td>\n",
       "      <td>0.095993</td>\n",
       "    </tr>\n",
       "  </tbody>\n",
       "</table>\n",
       "</div>"
      ],
      "text/plain": [
       "   THH17PERC  THH35PERC  THH02PERC  THH05PERC\n",
       "0   0.200269   0.130942   0.110235   0.095993"
      ]
     },
     "execution_count": 40,
     "metadata": {},
     "output_type": "execute_result"
    }
   ],
   "source": [
    "sf[['THH17PERC', 'THH35PERC', 'THH02PERC', 'THH05PERC']]"
   ]
  },
  {
   "cell_type": "code",
   "execution_count": 41,
   "metadata": {},
   "outputs": [
    {
     "data": {
      "text/html": [
       "<div>\n",
       "<style scoped>\n",
       "    .dataframe tbody tr th:only-of-type {\n",
       "        vertical-align: middle;\n",
       "    }\n",
       "\n",
       "    .dataframe tbody tr th {\n",
       "        vertical-align: top;\n",
       "    }\n",
       "\n",
       "    .dataframe thead th {\n",
       "        text-align: right;\n",
       "    }\n",
       "</style>\n",
       "<table border=\"1\" class=\"dataframe\">\n",
       "  <thead>\n",
       "    <tr style=\"text-align: right;\">\n",
       "      <th></th>\n",
       "      <th>THH17PERC</th>\n",
       "      <th>THH35PERC</th>\n",
       "      <th>THH02PERC</th>\n",
       "      <th>THH05PERC</th>\n",
       "    </tr>\n",
       "  </thead>\n",
       "  <tbody>\n",
       "    <tr>\n",
       "      <th>0</th>\n",
       "      <td>20.0269</td>\n",
       "      <td>13.0942</td>\n",
       "      <td>11.0235</td>\n",
       "      <td>9.5993</td>\n",
       "    </tr>\n",
       "  </tbody>\n",
       "</table>\n",
       "</div>"
      ],
      "text/plain": [
       "   THH17PERC  THH35PERC  THH02PERC  THH05PERC\n",
       "0    20.0269    13.0942    11.0235     9.5993"
      ]
     },
     "execution_count": 41,
     "metadata": {},
     "output_type": "execute_result"
    }
   ],
   "source": [
    "sf[['THH17PERC', 'THH35PERC', 'THH02PERC', 'THH05PERC']]*100"
   ]
  },
  {
   "cell_type": "markdown",
   "metadata": {},
   "source": [
    "### Obtain the same data for the candidate ZIP Codes.\n"
   ]
  },
  {
   "cell_type": "code",
   "execution_count": 42,
   "metadata": {},
   "outputs": [],
   "source": [
    "candidates_data = enrich_layer(candidates,\n",
    "                                analysis_variables=analysis_var, output_name=\"enrich candidates with household tapestry\")"
   ]
  },
  {
   "cell_type": "code",
   "execution_count": 43,
   "metadata": {},
   "outputs": [],
   "source": [
    "cand_data = FeatureLayerCollection.fromitem(candidates_data)"
   ]
  },
  {
   "cell_type": "code",
   "execution_count": 44,
   "metadata": {},
   "outputs": [],
   "source": [
    "cand_layer = cand_data.layers[0]"
   ]
  },
  {
   "cell_type": "code",
   "execution_count": 45,
   "metadata": {},
   "outputs": [
    {
     "data": {
      "text/plain": [
       "{'success': True}"
      ]
     },
     "execution_count": 45,
     "metadata": {},
     "output_type": "execute_result"
    }
   ],
   "source": [
    "cand_layer.manager.add_to_definition({\"fields\":[{\"name\":\"THH17PERC\",\n",
    "                                                 \"type\":\"esriFieldTypeDouble\",\n",
    "                                                 \"alias\":\"In Style (5B) PERC\",\n",
    "                                                 \"nullable\":True,\"editable\":True,\"length\":256}]})"
   ]
  },
  {
   "cell_type": "code",
   "execution_count": 46,
   "metadata": {},
   "outputs": [
    {
     "data": {
      "text/plain": [
       "{'success': True}"
      ]
     },
     "execution_count": 46,
     "metadata": {},
     "output_type": "execute_result"
    }
   ],
   "source": [
    "cand_layer.manager.add_to_definition({\"fields\":[{\"name\":\"THH35PERC\",\n",
    "                                         \"type\":\"esriFieldTypeDouble\",\n",
    "                                         \"alias\":\"Bright Young Professionals (8C) PERC\",\n",
    "                                         \"nullable\":True,\"editable\":True,\"length\":256}]})"
   ]
  },
  {
   "cell_type": "code",
   "execution_count": 47,
   "metadata": {},
   "outputs": [
    {
     "data": {
      "text/plain": [
       "{'success': True}"
      ]
     },
     "execution_count": 47,
     "metadata": {},
     "output_type": "execute_result"
    }
   ],
   "source": [
    "cand_layer.manager.add_to_definition({\"fields\":[{\"name\":\"THH02PERC\",\n",
    "                                         \"type\":\"esriFieldTypeDouble\",\n",
    "                                         \"alias\":\"Professional Pride (1B) PERC\",\n",
    "                                         \"nullable\":True,\"editable\":True,\"length\":256}]})"
   ]
  },
  {
   "cell_type": "code",
   "execution_count": 48,
   "metadata": {},
   "outputs": [
    {
     "data": {
      "text/plain": [
       "{'success': True}"
      ]
     },
     "execution_count": 48,
     "metadata": {},
     "output_type": "execute_result"
    }
   ],
   "source": [
    "cand_layer.manager.add_to_definition({\"fields\":[{\"name\":\"THH05PERC\",\n",
    "                                         \"type\":\"esriFieldTypeDouble\",\n",
    "                                         \"alias\":\"Exurbanites\",\n",
    "                                         \"nullable\":True,\"editable\":True,\"length\":256}]})"
   ]
  },
  {
   "cell_type": "code",
   "execution_count": 49,
   "metadata": {},
   "outputs": [],
   "source": [
    "rf = pd.DataFrame.spatial.from_layer(cand_layer)"
   ]
  },
  {
   "cell_type": "code",
   "execution_count": 50,
   "metadata": {},
   "outputs": [
    {
     "data": {
      "text/plain": [
       "789    0.0\n",
       "469    0.0\n",
       "715    0.0\n",
       "854    0.0\n",
       "369    0.0\n",
       "Name: THHBASE, dtype: float64"
      ]
     },
     "execution_count": 50,
     "metadata": {},
     "output_type": "execute_result"
    }
   ],
   "source": [
    "rf.THHBASE.sort_values().head()"
   ]
  },
  {
   "cell_type": "markdown",
   "metadata": {},
   "source": [
    " Notice that some of the base counts are zero. If you try to create the percentages with these zero values, you will get a zero divide. Filter these zero (or very small) population ZIP Codes, excluding them from further analysis."
   ]
  },
  {
   "cell_type": "code",
   "execution_count": 51,
   "metadata": {},
   "outputs": [
    {
     "data": {
      "text/plain": [
       "{'success': True, 'updatedFeatureCount': 886}"
      ]
     },
     "execution_count": 51,
     "metadata": {},
     "output_type": "execute_result"
    }
   ],
   "source": [
    "cand_layer.calculate('THHBASE > 0', \n",
    "                     calc_expression=[{\"field\":\"THH17PERC\",\"sqlExpression\":\"THH17 / THHBASE\"}])"
   ]
  },
  {
   "cell_type": "code",
   "execution_count": 52,
   "metadata": {},
   "outputs": [
    {
     "data": {
      "text/plain": [
       "{'success': True, 'updatedFeatureCount': 886}"
      ]
     },
     "execution_count": 52,
     "metadata": {},
     "output_type": "execute_result"
    }
   ],
   "source": [
    "cand_layer.calculate('THHBASE > 0', \n",
    "                     calc_expression=[{\"field\":\"THH35PERC\",\"sqlExpression\":\"THH35 / THHBASE\"}])"
   ]
  },
  {
   "cell_type": "code",
   "execution_count": 53,
   "metadata": {},
   "outputs": [
    {
     "data": {
      "text/plain": [
       "{'success': True, 'updatedFeatureCount': 886}"
      ]
     },
     "execution_count": 53,
     "metadata": {},
     "output_type": "execute_result"
    }
   ],
   "source": [
    "cand_layer.calculate('THHBASE > 0', \n",
    "                     calc_expression=[{\"field\":\"THH02PERC\",\"sqlExpression\":\"THH02 / THHBASE\"}])"
   ]
  },
  {
   "cell_type": "code",
   "execution_count": 54,
   "metadata": {},
   "outputs": [
    {
     "data": {
      "text/plain": [
       "{'success': True, 'updatedFeatureCount': 886}"
      ]
     },
     "execution_count": 54,
     "metadata": {},
     "output_type": "execute_result"
    }
   ],
   "source": [
    "cand_layer.calculate('THHBASE > 0', \n",
    "                     calc_expression=[{\"field\":\"THH05PERC\",\"sqlExpression\":\"THH05 / THHBASE\"}])"
   ]
  },
  {
   "cell_type": "code",
   "execution_count": 55,
   "metadata": {},
   "outputs": [],
   "source": [
    "cf = pd.DataFrame.spatial.from_layer(cand_layer)"
   ]
  },
  {
   "cell_type": "code",
   "execution_count": 56,
   "metadata": {},
   "outputs": [
    {
     "data": {
      "text/html": [
       "<div>\n",
       "<style scoped>\n",
       "    .dataframe tbody tr th:only-of-type {\n",
       "        vertical-align: middle;\n",
       "    }\n",
       "\n",
       "    .dataframe tbody tr th {\n",
       "        vertical-align: top;\n",
       "    }\n",
       "\n",
       "    .dataframe thead th {\n",
       "        text-align: right;\n",
       "    }\n",
       "</style>\n",
       "<table border=\"1\" class=\"dataframe\">\n",
       "  <thead>\n",
       "    <tr style=\"text-align: right;\">\n",
       "      <th></th>\n",
       "      <th>THH17PERC</th>\n",
       "      <th>THH35PERC</th>\n",
       "      <th>THH02PERC</th>\n",
       "      <th>THH05PERC</th>\n",
       "    </tr>\n",
       "  </thead>\n",
       "  <tbody>\n",
       "    <tr>\n",
       "      <th>0</th>\n",
       "      <td>0.000000</td>\n",
       "      <td>0.000000</td>\n",
       "      <td>0.000000</td>\n",
       "      <td>0.000000</td>\n",
       "    </tr>\n",
       "    <tr>\n",
       "      <th>1</th>\n",
       "      <td>0.000000</td>\n",
       "      <td>0.000000</td>\n",
       "      <td>0.000000</td>\n",
       "      <td>0.000000</td>\n",
       "    </tr>\n",
       "    <tr>\n",
       "      <th>2</th>\n",
       "      <td>0.000000</td>\n",
       "      <td>0.000000</td>\n",
       "      <td>0.000000</td>\n",
       "      <td>0.000000</td>\n",
       "    </tr>\n",
       "    <tr>\n",
       "      <th>3</th>\n",
       "      <td>0.000000</td>\n",
       "      <td>0.000000</td>\n",
       "      <td>0.000000</td>\n",
       "      <td>0.199850</td>\n",
       "    </tr>\n",
       "    <tr>\n",
       "      <th>4</th>\n",
       "      <td>0.000000</td>\n",
       "      <td>0.000000</td>\n",
       "      <td>0.000000</td>\n",
       "      <td>0.000000</td>\n",
       "    </tr>\n",
       "    <tr>\n",
       "      <th>5</th>\n",
       "      <td>0.000000</td>\n",
       "      <td>0.000000</td>\n",
       "      <td>0.000000</td>\n",
       "      <td>0.000000</td>\n",
       "    </tr>\n",
       "    <tr>\n",
       "      <th>6</th>\n",
       "      <td>0.000000</td>\n",
       "      <td>0.000000</td>\n",
       "      <td>0.000000</td>\n",
       "      <td>0.213139</td>\n",
       "    </tr>\n",
       "    <tr>\n",
       "      <th>7</th>\n",
       "      <td>0.000000</td>\n",
       "      <td>0.000000</td>\n",
       "      <td>0.000000</td>\n",
       "      <td>0.000000</td>\n",
       "    </tr>\n",
       "    <tr>\n",
       "      <th>8</th>\n",
       "      <td>0.000000</td>\n",
       "      <td>0.000000</td>\n",
       "      <td>0.000000</td>\n",
       "      <td>0.029358</td>\n",
       "    </tr>\n",
       "    <tr>\n",
       "      <th>9</th>\n",
       "      <td>0.000000</td>\n",
       "      <td>0.000000</td>\n",
       "      <td>0.069309</td>\n",
       "      <td>0.000000</td>\n",
       "    </tr>\n",
       "    <tr>\n",
       "      <th>10</th>\n",
       "      <td>0.000000</td>\n",
       "      <td>0.000000</td>\n",
       "      <td>0.000069</td>\n",
       "      <td>0.000000</td>\n",
       "    </tr>\n",
       "    <tr>\n",
       "      <th>11</th>\n",
       "      <td>0.000000</td>\n",
       "      <td>0.000000</td>\n",
       "      <td>0.000000</td>\n",
       "      <td>0.000000</td>\n",
       "    </tr>\n",
       "    <tr>\n",
       "      <th>12</th>\n",
       "      <td>0.000000</td>\n",
       "      <td>0.000000</td>\n",
       "      <td>0.000000</td>\n",
       "      <td>0.000000</td>\n",
       "    </tr>\n",
       "    <tr>\n",
       "      <th>13</th>\n",
       "      <td>0.000000</td>\n",
       "      <td>0.000000</td>\n",
       "      <td>0.000000</td>\n",
       "      <td>0.000000</td>\n",
       "    </tr>\n",
       "    <tr>\n",
       "      <th>14</th>\n",
       "      <td>0.000000</td>\n",
       "      <td>0.000000</td>\n",
       "      <td>0.000000</td>\n",
       "      <td>0.000000</td>\n",
       "    </tr>\n",
       "    <tr>\n",
       "      <th>15</th>\n",
       "      <td>0.000000</td>\n",
       "      <td>0.000000</td>\n",
       "      <td>0.211090</td>\n",
       "      <td>0.000000</td>\n",
       "    </tr>\n",
       "    <tr>\n",
       "      <th>16</th>\n",
       "      <td>0.000000</td>\n",
       "      <td>0.000000</td>\n",
       "      <td>0.000000</td>\n",
       "      <td>0.000000</td>\n",
       "    </tr>\n",
       "    <tr>\n",
       "      <th>17</th>\n",
       "      <td>0.000000</td>\n",
       "      <td>0.000000</td>\n",
       "      <td>0.000000</td>\n",
       "      <td>0.000000</td>\n",
       "    </tr>\n",
       "    <tr>\n",
       "      <th>18</th>\n",
       "      <td>0.000000</td>\n",
       "      <td>0.000000</td>\n",
       "      <td>0.392234</td>\n",
       "      <td>0.000000</td>\n",
       "    </tr>\n",
       "    <tr>\n",
       "      <th>19</th>\n",
       "      <td>0.000000</td>\n",
       "      <td>0.000000</td>\n",
       "      <td>0.000000</td>\n",
       "      <td>0.000000</td>\n",
       "    </tr>\n",
       "    <tr>\n",
       "      <th>20</th>\n",
       "      <td>0.000000</td>\n",
       "      <td>0.000000</td>\n",
       "      <td>0.000000</td>\n",
       "      <td>0.000000</td>\n",
       "    </tr>\n",
       "    <tr>\n",
       "      <th>21</th>\n",
       "      <td>0.000000</td>\n",
       "      <td>0.000000</td>\n",
       "      <td>0.000000</td>\n",
       "      <td>0.000000</td>\n",
       "    </tr>\n",
       "    <tr>\n",
       "      <th>22</th>\n",
       "      <td>0.000000</td>\n",
       "      <td>0.000000</td>\n",
       "      <td>0.000000</td>\n",
       "      <td>0.000000</td>\n",
       "    </tr>\n",
       "    <tr>\n",
       "      <th>23</th>\n",
       "      <td>0.000000</td>\n",
       "      <td>0.000000</td>\n",
       "      <td>0.000000</td>\n",
       "      <td>0.000000</td>\n",
       "    </tr>\n",
       "    <tr>\n",
       "      <th>24</th>\n",
       "      <td>0.000000</td>\n",
       "      <td>0.000000</td>\n",
       "      <td>0.000000</td>\n",
       "      <td>0.000000</td>\n",
       "    </tr>\n",
       "    <tr>\n",
       "      <th>25</th>\n",
       "      <td>0.000000</td>\n",
       "      <td>0.000000</td>\n",
       "      <td>0.102909</td>\n",
       "      <td>0.054188</td>\n",
       "    </tr>\n",
       "    <tr>\n",
       "      <th>26</th>\n",
       "      <td>0.000000</td>\n",
       "      <td>0.000000</td>\n",
       "      <td>0.039415</td>\n",
       "      <td>0.000000</td>\n",
       "    </tr>\n",
       "    <tr>\n",
       "      <th>27</th>\n",
       "      <td>0.000000</td>\n",
       "      <td>0.000000</td>\n",
       "      <td>0.000000</td>\n",
       "      <td>0.000000</td>\n",
       "    </tr>\n",
       "    <tr>\n",
       "      <th>28</th>\n",
       "      <td>0.000000</td>\n",
       "      <td>0.000000</td>\n",
       "      <td>0.000000</td>\n",
       "      <td>0.000000</td>\n",
       "    </tr>\n",
       "    <tr>\n",
       "      <th>29</th>\n",
       "      <td>0.000000</td>\n",
       "      <td>0.000000</td>\n",
       "      <td>0.000000</td>\n",
       "      <td>0.000000</td>\n",
       "    </tr>\n",
       "    <tr>\n",
       "      <th>...</th>\n",
       "      <td>...</td>\n",
       "      <td>...</td>\n",
       "      <td>...</td>\n",
       "      <td>...</td>\n",
       "    </tr>\n",
       "    <tr>\n",
       "      <th>868</th>\n",
       "      <td>0.000000</td>\n",
       "      <td>0.000000</td>\n",
       "      <td>0.039223</td>\n",
       "      <td>0.000000</td>\n",
       "    </tr>\n",
       "    <tr>\n",
       "      <th>869</th>\n",
       "      <td>0.000000</td>\n",
       "      <td>0.000000</td>\n",
       "      <td>0.000000</td>\n",
       "      <td>0.017223</td>\n",
       "    </tr>\n",
       "    <tr>\n",
       "      <th>870</th>\n",
       "      <td>0.000000</td>\n",
       "      <td>0.000000</td>\n",
       "      <td>0.000000</td>\n",
       "      <td>0.000000</td>\n",
       "    </tr>\n",
       "    <tr>\n",
       "      <th>871</th>\n",
       "      <td>0.042964</td>\n",
       "      <td>0.038995</td>\n",
       "      <td>0.000000</td>\n",
       "      <td>0.048521</td>\n",
       "    </tr>\n",
       "    <tr>\n",
       "      <th>872</th>\n",
       "      <td>0.000000</td>\n",
       "      <td>0.000000</td>\n",
       "      <td>0.014048</td>\n",
       "      <td>0.036941</td>\n",
       "    </tr>\n",
       "    <tr>\n",
       "      <th>873</th>\n",
       "      <td>0.000000</td>\n",
       "      <td>0.000000</td>\n",
       "      <td>0.000000</td>\n",
       "      <td>0.149811</td>\n",
       "    </tr>\n",
       "    <tr>\n",
       "      <th>874</th>\n",
       "      <td>0.000000</td>\n",
       "      <td>0.000000</td>\n",
       "      <td>0.000000</td>\n",
       "      <td>0.000000</td>\n",
       "    </tr>\n",
       "    <tr>\n",
       "      <th>875</th>\n",
       "      <td>0.000000</td>\n",
       "      <td>0.000000</td>\n",
       "      <td>0.000000</td>\n",
       "      <td>0.011015</td>\n",
       "    </tr>\n",
       "    <tr>\n",
       "      <th>876</th>\n",
       "      <td>0.000000</td>\n",
       "      <td>0.000000</td>\n",
       "      <td>0.000000</td>\n",
       "      <td>0.000000</td>\n",
       "    </tr>\n",
       "    <tr>\n",
       "      <th>877</th>\n",
       "      <td>0.000000</td>\n",
       "      <td>0.000000</td>\n",
       "      <td>0.000000</td>\n",
       "      <td>0.000000</td>\n",
       "    </tr>\n",
       "    <tr>\n",
       "      <th>878</th>\n",
       "      <td>0.029763</td>\n",
       "      <td>0.000000</td>\n",
       "      <td>0.000000</td>\n",
       "      <td>0.000000</td>\n",
       "    </tr>\n",
       "    <tr>\n",
       "      <th>879</th>\n",
       "      <td>0.000000</td>\n",
       "      <td>0.000000</td>\n",
       "      <td>0.023548</td>\n",
       "      <td>0.080144</td>\n",
       "    </tr>\n",
       "    <tr>\n",
       "      <th>880</th>\n",
       "      <td>0.000000</td>\n",
       "      <td>0.000000</td>\n",
       "      <td>0.000000</td>\n",
       "      <td>0.055476</td>\n",
       "    </tr>\n",
       "    <tr>\n",
       "      <th>881</th>\n",
       "      <td>0.000000</td>\n",
       "      <td>0.000000</td>\n",
       "      <td>0.000000</td>\n",
       "      <td>0.143125</td>\n",
       "    </tr>\n",
       "    <tr>\n",
       "      <th>882</th>\n",
       "      <td>0.000000</td>\n",
       "      <td>0.000000</td>\n",
       "      <td>0.000000</td>\n",
       "      <td>0.000000</td>\n",
       "    </tr>\n",
       "    <tr>\n",
       "      <th>883</th>\n",
       "      <td>0.000000</td>\n",
       "      <td>0.059280</td>\n",
       "      <td>0.000000</td>\n",
       "      <td>0.000000</td>\n",
       "    </tr>\n",
       "    <tr>\n",
       "      <th>884</th>\n",
       "      <td>0.000000</td>\n",
       "      <td>0.000000</td>\n",
       "      <td>0.000000</td>\n",
       "      <td>0.000000</td>\n",
       "    </tr>\n",
       "    <tr>\n",
       "      <th>885</th>\n",
       "      <td>0.000000</td>\n",
       "      <td>0.000000</td>\n",
       "      <td>0.000000</td>\n",
       "      <td>0.000000</td>\n",
       "    </tr>\n",
       "    <tr>\n",
       "      <th>886</th>\n",
       "      <td>0.000000</td>\n",
       "      <td>0.000000</td>\n",
       "      <td>0.000000</td>\n",
       "      <td>0.000000</td>\n",
       "    </tr>\n",
       "    <tr>\n",
       "      <th>887</th>\n",
       "      <td>0.000000</td>\n",
       "      <td>0.000000</td>\n",
       "      <td>0.000000</td>\n",
       "      <td>0.000000</td>\n",
       "    </tr>\n",
       "    <tr>\n",
       "      <th>888</th>\n",
       "      <td>0.000000</td>\n",
       "      <td>0.000000</td>\n",
       "      <td>0.000000</td>\n",
       "      <td>0.095757</td>\n",
       "    </tr>\n",
       "    <tr>\n",
       "      <th>889</th>\n",
       "      <td>0.000000</td>\n",
       "      <td>0.000000</td>\n",
       "      <td>0.000000</td>\n",
       "      <td>0.000000</td>\n",
       "    </tr>\n",
       "    <tr>\n",
       "      <th>890</th>\n",
       "      <td>0.000000</td>\n",
       "      <td>0.000000</td>\n",
       "      <td>0.380585</td>\n",
       "      <td>0.012765</td>\n",
       "    </tr>\n",
       "    <tr>\n",
       "      <th>891</th>\n",
       "      <td>0.000000</td>\n",
       "      <td>0.000000</td>\n",
       "      <td>0.000000</td>\n",
       "      <td>0.000000</td>\n",
       "    </tr>\n",
       "    <tr>\n",
       "      <th>892</th>\n",
       "      <td>0.000000</td>\n",
       "      <td>0.000000</td>\n",
       "      <td>0.065382</td>\n",
       "      <td>0.000000</td>\n",
       "    </tr>\n",
       "    <tr>\n",
       "      <th>893</th>\n",
       "      <td>0.000000</td>\n",
       "      <td>0.000000</td>\n",
       "      <td>0.069086</td>\n",
       "      <td>0.021716</td>\n",
       "    </tr>\n",
       "    <tr>\n",
       "      <th>894</th>\n",
       "      <td>0.000000</td>\n",
       "      <td>0.000000</td>\n",
       "      <td>0.339260</td>\n",
       "      <td>0.011854</td>\n",
       "    </tr>\n",
       "    <tr>\n",
       "      <th>895</th>\n",
       "      <td>0.000000</td>\n",
       "      <td>0.000000</td>\n",
       "      <td>0.172826</td>\n",
       "      <td>0.144199</td>\n",
       "    </tr>\n",
       "    <tr>\n",
       "      <th>896</th>\n",
       "      <td>0.041653</td>\n",
       "      <td>0.039816</td>\n",
       "      <td>0.105618</td>\n",
       "      <td>0.000000</td>\n",
       "    </tr>\n",
       "    <tr>\n",
       "      <th>897</th>\n",
       "      <td>0.000000</td>\n",
       "      <td>0.000000</td>\n",
       "      <td>0.052814</td>\n",
       "      <td>0.006123</td>\n",
       "    </tr>\n",
       "  </tbody>\n",
       "</table>\n",
       "<p>898 rows × 4 columns</p>\n",
       "</div>"
      ],
      "text/plain": [
       "     THH17PERC  THH35PERC  THH02PERC  THH05PERC\n",
       "0     0.000000   0.000000   0.000000   0.000000\n",
       "1     0.000000   0.000000   0.000000   0.000000\n",
       "2     0.000000   0.000000   0.000000   0.000000\n",
       "3     0.000000   0.000000   0.000000   0.199850\n",
       "4     0.000000   0.000000   0.000000   0.000000\n",
       "5     0.000000   0.000000   0.000000   0.000000\n",
       "6     0.000000   0.000000   0.000000   0.213139\n",
       "7     0.000000   0.000000   0.000000   0.000000\n",
       "8     0.000000   0.000000   0.000000   0.029358\n",
       "9     0.000000   0.000000   0.069309   0.000000\n",
       "10    0.000000   0.000000   0.000069   0.000000\n",
       "11    0.000000   0.000000   0.000000   0.000000\n",
       "12    0.000000   0.000000   0.000000   0.000000\n",
       "13    0.000000   0.000000   0.000000   0.000000\n",
       "14    0.000000   0.000000   0.000000   0.000000\n",
       "15    0.000000   0.000000   0.211090   0.000000\n",
       "16    0.000000   0.000000   0.000000   0.000000\n",
       "17    0.000000   0.000000   0.000000   0.000000\n",
       "18    0.000000   0.000000   0.392234   0.000000\n",
       "19    0.000000   0.000000   0.000000   0.000000\n",
       "20    0.000000   0.000000   0.000000   0.000000\n",
       "21    0.000000   0.000000   0.000000   0.000000\n",
       "22    0.000000   0.000000   0.000000   0.000000\n",
       "23    0.000000   0.000000   0.000000   0.000000\n",
       "24    0.000000   0.000000   0.000000   0.000000\n",
       "25    0.000000   0.000000   0.102909   0.054188\n",
       "26    0.000000   0.000000   0.039415   0.000000\n",
       "27    0.000000   0.000000   0.000000   0.000000\n",
       "28    0.000000   0.000000   0.000000   0.000000\n",
       "29    0.000000   0.000000   0.000000   0.000000\n",
       "..         ...        ...        ...        ...\n",
       "868   0.000000   0.000000   0.039223   0.000000\n",
       "869   0.000000   0.000000   0.000000   0.017223\n",
       "870   0.000000   0.000000   0.000000   0.000000\n",
       "871   0.042964   0.038995   0.000000   0.048521\n",
       "872   0.000000   0.000000   0.014048   0.036941\n",
       "873   0.000000   0.000000   0.000000   0.149811\n",
       "874   0.000000   0.000000   0.000000   0.000000\n",
       "875   0.000000   0.000000   0.000000   0.011015\n",
       "876   0.000000   0.000000   0.000000   0.000000\n",
       "877   0.000000   0.000000   0.000000   0.000000\n",
       "878   0.029763   0.000000   0.000000   0.000000\n",
       "879   0.000000   0.000000   0.023548   0.080144\n",
       "880   0.000000   0.000000   0.000000   0.055476\n",
       "881   0.000000   0.000000   0.000000   0.143125\n",
       "882   0.000000   0.000000   0.000000   0.000000\n",
       "883   0.000000   0.059280   0.000000   0.000000\n",
       "884   0.000000   0.000000   0.000000   0.000000\n",
       "885   0.000000   0.000000   0.000000   0.000000\n",
       "886   0.000000   0.000000   0.000000   0.000000\n",
       "887   0.000000   0.000000   0.000000   0.000000\n",
       "888   0.000000   0.000000   0.000000   0.095757\n",
       "889   0.000000   0.000000   0.000000   0.000000\n",
       "890   0.000000   0.000000   0.380585   0.012765\n",
       "891   0.000000   0.000000   0.000000   0.000000\n",
       "892   0.000000   0.000000   0.065382   0.000000\n",
       "893   0.000000   0.000000   0.069086   0.021716\n",
       "894   0.000000   0.000000   0.339260   0.011854\n",
       "895   0.000000   0.000000   0.172826   0.144199\n",
       "896   0.041653   0.039816   0.105618   0.000000\n",
       "897   0.000000   0.000000   0.052814   0.006123\n",
       "\n",
       "[898 rows x 4 columns]"
      ]
     },
     "execution_count": 56,
     "metadata": {},
     "output_type": "execute_result"
    }
   ],
   "source": [
    "cf[['THH17PERC', 'THH35PERC', 'THH02PERC', 'THH05PERC']]"
   ]
  },
  {
   "cell_type": "markdown",
   "metadata": {},
   "source": [
    "### Rank the candidate ZIP Codes by their similarity to the target area."
   ]
  },
  {
   "cell_type": "code",
   "execution_count": 65,
   "metadata": {},
   "outputs": [],
   "source": [
    "from arcgis import *\n",
    "gis = GIS(\"https://deldev.maps.arcgis.com\", \"demos_deldev\", \"DelDevs12\")"
   ]
  },
  {
   "cell_type": "code",
   "execution_count": 66,
   "metadata": {},
   "outputs": [],
   "source": [
    "from arcgis.features.find_locations import find_similar_locations"
   ]
  },
  {
   "cell_type": "code",
   "execution_count": 67,
   "metadata": {},
   "outputs": [],
   "source": [
    "top_4_most_similar_results = find_similar_locations(data_layer,cand_layer,\n",
    "                       analysis_fields=['THH17','THH35','THH02','THH05','POPDENS14','FAMGRW10_14','UNEMPRT_CY'],\n",
    "                                        output_name = \"top 4 similar locations\",\n",
    "                                                    number_of_results=4)"
   ]
  },
  {
   "cell_type": "code",
   "execution_count": 68,
   "metadata": {},
   "outputs": [
    {
     "data": {
      "text/html": [
       "<div class=\"item_container\" style=\"height: auto; overflow: hidden; border: 1px solid #cfcfcf; border-radius: 2px; background: #f6fafa; line-height: 1.21429em; padding: 10px;\">\n",
       "                    <div class=\"item_left\" style=\"width: 210px; float: left;\">\n",
       "                       <a href='https://deldev.maps.arcgis.com/home/item.html?id=4d3a3ddf1d9845c0b8338d840d18c3bf' target='_blank'>\n",
       "                        <img src='http://static.arcgis.com/images/desktopapp.png' class=\"itemThumbnail\">\n",
       "                       </a>\n",
       "                    </div>\n",
       "\n",
       "                    <div class=\"item_right\"     style=\"float: none; width: auto; overflow: hidden;\">\n",
       "                        <a href='https://deldev.maps.arcgis.com/home/item.html?id=4d3a3ddf1d9845c0b8338d840d18c3bf' target='_blank'><b>top 4 similar locations</b>\n",
       "                        </a>\n",
       "                        <br/><img src='https://deldev.maps.arcgis.com/home/js/jsapi/esri/css/images/item_type_icons/featureshosted16.png' style=\"vertical-align:middle;\">Feature Layer Collection by demos_deldev\n",
       "                        <br/>Last Modified: December 06, 2018\n",
       "                        <br/>0 comments, 0 views\n",
       "                    </div>\n",
       "                </div>\n",
       "                "
      ],
      "text/plain": [
       "<Item title:\"top 4 similar locations\" type:Feature Layer Collection owner:demos_deldev>"
      ]
     },
     "execution_count": 68,
     "metadata": {},
     "output_type": "execute_result"
    }
   ],
   "source": [
    "top_4_most_similar_results"
   ]
  },
  {
   "cell_type": "code",
   "execution_count": 69,
   "metadata": {},
   "outputs": [],
   "source": [
    "map1 = gis.map('Atlanta')\n",
    "map1.add_layer(top_4_most_similar_results)"
   ]
  },
  {
   "cell_type": "code",
   "execution_count": 70,
   "metadata": {},
   "outputs": [],
   "source": [
    "map2 = gis.map('Houston')\n",
    "map2.add_layer(top_4_most_similar_results)"
   ]
  },
  {
   "cell_type": "code",
   "execution_count": 71,
   "metadata": {},
   "outputs": [
    {
     "data": {
      "application/vnd.jupyter.widget-view+json": {
       "model_id": "46f02f3b319a4988bb38315a7ab7b1b7",
       "version_major": 2,
       "version_minor": 0
      },
      "text/html": [
       "<p>Failed to display Jupyter Widget of type <code>HBox</code>.</p>\n",
       "<p>\n",
       "  If you're reading this message in the Jupyter Notebook or JupyterLab Notebook, it may mean\n",
       "  that the widgets JavaScript is still loading. If this message persists, it\n",
       "  likely means that the widgets JavaScript library is either not installed or\n",
       "  not enabled. See the <a href=\"https://ipywidgets.readthedocs.io/en/stable/user_install.html\">Jupyter\n",
       "  Widgets Documentation</a> for setup instructions.\n",
       "</p>\n",
       "<p>\n",
       "  If you're reading this message in another frontend (for example, a static\n",
       "  rendering on GitHub or <a href=\"https://nbviewer.jupyter.org/\">NBViewer</a>),\n",
       "  it may mean that your frontend doesn't currently support widgets.\n",
       "</p>\n"
      ],
      "text/plain": [
       "HBox(children=(MapView(layout=Layout(flex='1 1', height='420px', padding='10px')), MapView(layout=Layout(flex='1 1', height='420px', padding='10px'))))"
      ]
     },
     "metadata": {},
     "output_type": "display_data"
    }
   ],
   "source": [
    "from ipywidgets import *\n",
    "\n",
    "map1.layout=Layout(flex='1 1', padding='10px', height='420px')\n",
    "map2.layout=Layout(flex='1 1', padding='10px', height='420px')\n",
    "\n",
    "box = HBox([map1, map2])\n",
    "box"
   ]
  },
  {
   "cell_type": "markdown",
   "metadata": {},
   "source": [
    "![](locating_community_images/imageMAP.png)"
   ]
  },
  {
   "cell_type": "markdown",
   "metadata": {},
   "source": [
    "One of the top ZIP Codes will be located near Houston and three will be located near Atlanta."
   ]
  },
  {
   "cell_type": "markdown",
   "metadata": {},
   "source": [
    "### References\n",
    "Brennan, Morgan. 2012. \"America's Friendliest Towns.\" Forbes, December 19, 2012. http://www.forbes.com/sites/morganbrennan/2012/12/19/americas-friendliest-towns/\n",
    "\n",
    "City of Roswell, Georgia. \"City Awards and Achievements.\" http://www.roswellgov.com/discover-us/city-awards-achievements\n",
    "\n",
    "City of Taylor Lake Village, Texas. http://www.taylorlakevillage.us\n",
    "\n",
    "Grunewald, Will. 2014. \"How Baby Boomers Are Changing Retirement Living.\" Washingtonian, March 13, 2014. http://www.washingtonian.com/articles/people/how-baby-boomers-are-changing-retirement-living/\n",
    "\n",
    "Heneghan, Carolyn. 2014. \"The 50 Safest Cities in Georgia.\" The SafeWise Report, Safewise.com, February 17, 2014. http://www.safewise.com/blog/50-safest-cities-georgia/\n",
    "\n",
    "Holley, Peter; Lomax, John; and Shilcutt, Katharine. 2014. \"Where to Live Now: The 25 Hottest Neighborhoods of 2014.\" Houstonia, April 3, 2014. http://www.houstoniamag.com/articles/2014/4/3/where-to-live-now-hottest-neighborhoods-april-2014\n",
    "\n",
    "Kilborn, Peter T. 2009. \"In Depth: America's 25 Best Places to Move.\" Forbes, July 7, 2009. http://www.forbes.com/2009/07/07/relocate-relocation-cities-lifestyle-real-estate-affordable-moving_slide.html\n",
    "\n",
    "Northern, Amanda. 2015. \"Here Are The Best Places To Live In Georgia… And Why.\" OnlyInYourState.com, June 19, 2015. http://www.onlyinyourstate.com/georgia/best-places-to-live-in-ga/\n"
   ]
  },
  {
   "cell_type": "markdown",
   "metadata": {},
   "source": [
    "### Photo Attribution"
   ]
  },
  {
   "cell_type": "markdown",
   "metadata": {},
   "source": [
    "|                                                    \t|                                                                                                                                                                                             \t|\n",
    "|----------------------------------------------------\t|---------------------------------------------------------------------------------------------------------------------------------------------------------------------------------------------\t|\n",
    "| Robinwood Retirement Community                     \t| Used with permission from Resort Lifestyle Communities                                                                                                                                      \t|\n",
    "| Lakeside houses on Clear Lake southeast of Houston \t| This photo was taken by Mike Fisher and is licensed under CC BY 2.0 via Wikimedia Commons—https://commons.wikimedia.org/wiki/File:Lakeside_Houses_in_Nassau_Bay_TX.jpg                      \t|\n",
    "| Seabrook, Texas                                    \t| \"Seabrook-tx-kemah-bridge.\" Licensed under CC BY-SA 2.5 via Wikimedia Commons—https://commons.wikimedia.org/wiki/File:Seabrook-tx-kemah-bridge.jpg#/media/File:Seabrook-tx-kemah-bridge.jpg \t|\n",
    "| Memorial Park                                      \t| Public domain license,https://commons.wikimedia.org/wiki/File:MemorialParkHouston.JPG                                                                                                       \t|\n",
    "| Alpharetta City Hall                               \t| Public domain,https://commons.wikimedia.org/wiki/File:Alpharetta,_Georgia_City_Hall.jpg                                                                                                     \t|\n",
    "| Chattahoochee Nature Center near Roswell, Georgia  \t| This photo was taken by WWALS Watershed Coalition and is licensed under CC BY 2.0 via Wikimedia Commons—https://commons.wikimedia.org/wiki/File:PaddlingUpperPondCNCApr6_2013.jpg           \t|\n",
    "| Smyrna Village Market                              \t| Public domain,https://commons.wikimedia.org/wiki/File:Smyrna_Georgia_Market_Village.JPG                                                                                                     \t|"
   ]
  }
 ],
 "metadata": {
  "kernelspec": {
   "display_name": "Python 3",
   "language": "python",
   "name": "python3"
  },
  "language_info": {
   "codemirror_mode": {
    "name": "ipython",
    "version": 3
   },
   "file_extension": ".py",
   "mimetype": "text/x-python",
   "name": "python",
   "nbconvert_exporter": "python",
   "pygments_lexer": "ipython3",
   "version": "3.6.4"
  }
 },
 "nbformat": 4,
 "nbformat_minor": 2
}
