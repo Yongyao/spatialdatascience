{
 "cells": [
  {
   "cell_type": "markdown",
   "metadata": {},
   "source": [
    "# Workflow: Designate Bike Routes for Commuting Professionals\n",
    "## Workflow using Python ArcGIS"
   ]
  },
  {
   "cell_type": "markdown",
   "metadata": {},
   "source": [
    "Connect your ArcGIS online organization."
   ]
  },
  {
   "cell_type": "code",
   "execution_count": 3,
   "metadata": {},
   "outputs": [],
   "source": [
    "from arcgis import *"
   ]
  },
  {
   "cell_type": "code",
   "execution_count": 4,
   "metadata": {},
   "outputs": [],
   "source": [
    "gis = GIS(\"https://deldev.maps.arcgis.com\", \"demo_deldev\", \"P@ssword123\")"
   ]
  },
  {
   "cell_type": "markdown",
   "metadata": {},
   "source": [
    "Accessing the content property of your gis object you can use the `search()` method. \n",
    "Search for **SeattleBikeRoutes** content made by other users by turning the **outside_org** to True."
   ]
  },
  {
   "cell_type": "code",
   "execution_count": 5,
   "metadata": {},
   "outputs": [
    {
     "data": {
      "text/html": [
       "<div class=\"item_container\" style=\"height: auto; overflow: hidden; border: 1px solid #cfcfcf; border-radius: 2px; background: #f6fafa; line-height: 1.21429em; padding: 10px;\">\n",
       "                    <div class=\"item_left\" style=\"width: 210px; float: left;\">\n",
       "                       <a href='https://deldev.maps.arcgis.com/home/item.html?id=0e199091d6b9416b9abb6655e1975d44' target='_blank'>\n",
       "                        <img src='data:image/png;base64,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' width='200' height='133' class=\"itemThumbnail\">\n",
       "                       </a>\n",
       "                    </div>\n",
       "\n",
       "                    <div class=\"item_right\"     style=\"float: none; width: auto; overflow: hidden;\">\n",
       "                        <a href='https://deldev.maps.arcgis.com/home/item.html?id=0e199091d6b9416b9abb6655e1975d44' target='_blank'><b>SeattleBikeRoutes</b>\n",
       "                        </a>\n",
       "                        <br/>Seattle bike routes case study<img src='https://deldev.maps.arcgis.com/home/js/jsapi/esri/css/images/item_type_icons/featureshosted16.png' style=\"vertical-align:middle;\">Feature Layer Collection by VickiCove\n",
       "                        <br/>Last Modified: April 12, 2016\n",
       "                        <br/>0 comments, 22 views\n",
       "                    </div>\n",
       "                </div>\n",
       "                "
      ],
      "text/plain": [
       "<Item title:\"SeattleBikeRoutes\" type:Feature Layer Collection owner:VickiCove>"
      ]
     },
     "execution_count": 5,
     "metadata": {},
     "output_type": "execute_result"
    }
   ],
   "source": [
    "SeattleBikeRoutes = gis.content.search('title: \"SeattleBikeRoutes\"', 'Feature layer', outside_org=True)[0]\n",
    "SeattleBikeRoutes"
   ]
  },
  {
   "cell_type": "markdown",
   "metadata": {},
   "source": [
    "Import the **display** module to display the items."
   ]
  },
  {
   "cell_type": "code",
   "execution_count": 6,
   "metadata": {},
   "outputs": [],
   "source": [
    "from IPython.display import display"
   ]
  },
  {
   "cell_type": "code",
   "execution_count": 7,
   "metadata": {},
   "outputs": [
    {
     "data": {
      "text/plain": [
       "'Streets'"
      ]
     },
     "metadata": {},
     "output_type": "display_data"
    },
    {
     "data": {
      "text/plain": [
       "'Neighborhoods'"
      ]
     },
     "metadata": {},
     "output_type": "display_data"
    },
    {
     "data": {
      "text/plain": [
       "'Zoning'"
      ]
     },
     "metadata": {},
     "output_type": "display_data"
    }
   ],
   "source": [
    "for lyr in SeattleBikeRoutes.layers:\n",
    "    display(lyr.properties.name)"
   ]
  },
  {
   "cell_type": "code",
   "execution_count": 8,
   "metadata": {},
   "outputs": [],
   "source": [
    "bike_route_zoning = SeattleBikeRoutes.layers[2]"
   ]
  },
  {
   "cell_type": "code",
   "execution_count": 9,
   "metadata": {},
   "outputs": [
    {
     "data": {
      "application/vnd.jupyter.widget-view+json": {
       "model_id": "8dcebfaa518345018369a3ce54cab9b3",
       "version_major": 2,
       "version_minor": 0
      },
      "text/html": [
       "<p>Failed to display Jupyter Widget of type <code>MapView</code>.</p>\n",
       "<p>\n",
       "  If you're reading this message in the Jupyter Notebook or JupyterLab Notebook, it may mean\n",
       "  that the widgets JavaScript is still loading. If this message persists, it\n",
       "  likely means that the widgets JavaScript library is either not installed or\n",
       "  not enabled. See the <a href=\"https://ipywidgets.readthedocs.io/en/stable/user_install.html\">Jupyter\n",
       "  Widgets Documentation</a> for setup instructions.\n",
       "</p>\n",
       "<p>\n",
       "  If you're reading this message in another frontend (for example, a static\n",
       "  rendering on GitHub or <a href=\"https://nbviewer.jupyter.org/\">NBViewer</a>),\n",
       "  it may mean that your frontend doesn't currently support widgets.\n",
       "</p>\n"
      ],
      "text/plain": [
       "MapView(basemaps=['dark-gray', 'dark-gray-vector', 'gray', 'gray-vector', 'hybrid', 'national-geographic', 'oceans', 'osm', 'satellite', 'streets', 'streets-navigation-vector', 'streets-night-vector', 'streets-relief-vector', 'streets-vector', 'terrain', 'topo', 'topo-vector'], center=[0, 0])"
      ]
     },
     "metadata": {},
     "output_type": "display_data"
    }
   ],
   "source": [
    "bike_zoning_map = gis.map('Seattle')\n",
    "bike_zoning_map"
   ]
  },
  {
   "cell_type": "code",
   "execution_count": 10,
   "metadata": {},
   "outputs": [],
   "source": [
    "#(ZONELUT_DE = 'Downtown Office Core 1') OR (ZONELUT_DE = 'Downtown Office Core 2')"
   ]
  },
  {
   "cell_type": "markdown",
   "metadata": {},
   "source": [
    "Use a Filter on the Zoning layer to select the downtown office core. The downtown office core is a good starting point for creating commuter bike lanes because it is expected to have a large number of commuters each day."
   ]
  },
  {
   "cell_type": "code",
   "execution_count": 11,
   "metadata": {},
   "outputs": [],
   "source": [
    "bike_route_zoning.filter = \"(ZONELUT_DE = 'Downtown Office Core 1') OR (ZONELUT_DE = 'Downtown Office Core 2')\""
   ]
  },
  {
   "cell_type": "markdown",
   "metadata": {},
   "source": [
    "Esri's Tapestry Segmentation is a resource for businesses that classifies every Zip code in the United States into one of 67 segments based on demographic and socioeconomic factors.  \n",
    "\n",
    "Search the Esri Tapestry Segmentation feature layer."
   ]
  },
  {
   "cell_type": "code",
   "execution_count": 13,
   "metadata": {},
   "outputs": [
    {
     "data": {
      "text/plain": [
       "[<Item title:\"2017 USA Tapestry Segmentation-Copy\" type:Map Image Layer owner:William.Floyd@cbre.com_dimension>,\n",
       " <Item title:\"2017 USA Tapestry Segmentation\" type:Map Image Layer owner:esri>,\n",
       " <Item title:\"2017 USA Tapestry Segmentation Layer - Demo\" type:Map Image Layer owner:esri_devlabs>,\n",
       " <Item title:\"2017 USA Tapestry Segmentation - Copy\" type:Map Image Layer owner:kelly.peoples@cbre.com_dimension>,\n",
       " <Item title:\"2017 USA Tapestry Segmentation - Copy\" type:Map Image Layer owner:swoodward@lbschools.net>]"
      ]
     },
     "execution_count": 13,
     "metadata": {},
     "output_type": "execute_result"
    }
   ],
   "source": [
    "Tapestry_segmentation = gis.content.search('\"2017 USA Tapestry segmentation\"','Map Image Layer', outside_org=True)\n",
    "Tapestry_segmentation"
   ]
  },
  {
   "cell_type": "code",
   "execution_count": 11,
   "metadata": {},
   "outputs": [
    {
     "data": {
      "text/html": [
       "<div class=\"item_container\" style=\"height: auto; overflow: hidden; border: 1px solid #cfcfcf; border-radius: 2px; background: #f6fafa; line-height: 1.21429em; padding: 10px;\">\n",
       "                    <div class=\"item_left\" style=\"width: 210px; float: left;\">\n",
       "                       <a href='https://deldev.maps.arcgis.com/home/item.html?id=bfb483f746c749d1b7ac0dcbb4744a61' target='_blank'>\n",
       "                        <img src='data:image/png;base64,iVBORw0KGgoAAAANSUhEUgAAAMgAAACFCAIAAACR/CB7AAAACXBIWXMAAA7EAAAOxAGVKw4bAAABbElEQVR4nO3SwQ3AIBDAsNL9dz6WIEJC9gR5ZM3MB6f9twN4k7FIGIuEsUgYi4SxSBiLhLFIGIuEsUgYi4SxSBiLhLFIGIuEsUgYi4SxSBiLhLFIGIuEsUgYi4SxSBiLhLFIGIuEsUgYi4SxSBiLhLFIGIuEsUgYi4SxSBiLhLFIGIuEsUgYi4SxSBiLhLFIGIuEsUgYi4SxSBiLhLFIGIuEsUgYi4SxSBiLhLFIGIuEsUgYi4SxSBiLhLFIGIuEsUgYi4SxSBiLhLFIGIuEsUgYi4SxSBiLhLFIGIuEsUgYi4SxSBiLhLFIGIuEsUgYi4SxSBiLhLFIGIuEsUgYi4SxSBiLhLFIGIuEsUgYi4SxSBiLhLFIGIuEsUgYi4SxSBiLhLFIGIuEsUgYi4SxSBiLhLFIGIuEsUgYi4SxSBiLhLFIGIuEsUgYi4SxSBiLhLFIGIuEsUgYi4SxSBiLhLFIGIuEsUgYi4SxSGy4dQQHgizXSQAAAABJRU5ErkJggg==' width='200' height='133' class=\"itemThumbnail\">\n",
       "                       </a>\n",
       "                    </div>\n",
       "\n",
       "                    <div class=\"item_right\"     style=\"float: none; width: auto; overflow: hidden;\">\n",
       "                        <a href='https://deldev.maps.arcgis.com/home/item.html?id=bfb483f746c749d1b7ac0dcbb4744a61' target='_blank'><b>2017 USA Tapestry Segmentation-Copy</b>\n",
       "                        </a>\n",
       "                        <br/>This layer shows the dominant LifeMode Summary Group in the United States in 2017 by state, county, ZIP Code, tract, and block group based on Esri's Tapestry Segmentation system. ArcGIS Online subscription required.<img src='https://deldev.maps.arcgis.com/home/js/jsapi/esri/css/images/item_type_icons/mapimages16.png' style=\"vertical-align:middle;\">Map Image Layer by William.Floyd@cbre.com_dimension\n",
       "                        <br/>Last Modified: August 16, 2017\n",
       "                        <br/>0 comments, 208 views\n",
       "                    </div>\n",
       "                </div>\n",
       "                "
      ],
      "text/plain": [
       "<Item title:\"2017 USA Tapestry Segmentation-Copy\" type:Map Image Layer owner:William.Floyd@cbre.com_dimension>"
      ]
     },
     "metadata": {},
     "output_type": "display_data"
    },
    {
     "data": {
      "text/html": [
       "<div class=\"item_container\" style=\"height: auto; overflow: hidden; border: 1px solid #cfcfcf; border-radius: 2px; background: #f6fafa; line-height: 1.21429em; padding: 10px;\">\n",
       "                    <div class=\"item_left\" style=\"width: 210px; float: left;\">\n",
       "                       <a href='https://deldev.maps.arcgis.com/home/item.html?id=eda0f20edc8448adaa3373cce237a57f' target='_blank'>\n",
       "                        <img src='data:image/png;base64,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' width='200' height='133' class=\"itemThumbnail\">\n",
       "                       </a>\n",
       "                    </div>\n",
       "\n",
       "                    <div class=\"item_right\"     style=\"float: none; width: auto; overflow: hidden;\">\n",
       "                        <a href='https://deldev.maps.arcgis.com/home/item.html?id=eda0f20edc8448adaa3373cce237a57f' target='_blank'><b>2017 USA Tapestry Segmentation</b>\n",
       "                        </a>\n",
       "                        <br/>This layer shows the dominant LifeMode Summary Group in the United States in 2017 by state, county, ZIP Code, tract, and block group based on Esri's Tapestry Segmentation system. ArcGIS Online subscription required.<img src='https://deldev.maps.arcgis.com/home/js/jsapi/esri/css/images/item_type_icons/mapimages16.png' style=\"vertical-align:middle;\">Map Image Layer by esri\n",
       "                        <br/>Last Modified: June 30, 2017\n",
       "                        <br/>0 comments, 1,47,081 views\n",
       "                    </div>\n",
       "                </div>\n",
       "                "
      ],
      "text/plain": [
       "<Item title:\"2017 USA Tapestry Segmentation\" type:Map Image Layer owner:esri>"
      ]
     },
     "metadata": {},
     "output_type": "display_data"
    },
    {
     "data": {
      "text/html": [
       "<div class=\"item_container\" style=\"height: auto; overflow: hidden; border: 1px solid #cfcfcf; border-radius: 2px; background: #f6fafa; line-height: 1.21429em; padding: 10px;\">\n",
       "                    <div class=\"item_left\" style=\"width: 210px; float: left;\">\n",
       "                       <a href='https://deldev.maps.arcgis.com/home/item.html?id=2aaac52171ec4221a09e2b392f09f9e5' target='_blank'>\n",
       "                        <img src='data:image/png;base64,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' width='200' height='133' class=\"itemThumbnail\">\n",
       "                       </a>\n",
       "                    </div>\n",
       "\n",
       "                    <div class=\"item_right\"     style=\"float: none; width: auto; overflow: hidden;\">\n",
       "                        <a href='https://deldev.maps.arcgis.com/home/item.html?id=2aaac52171ec4221a09e2b392f09f9e5' target='_blank'><b>2017 USA Tapestry Segmentation Layer - Demo</b>\n",
       "                        </a>\n",
       "                        <br/>This layer shows the dominant LifeMode Summary Group in the United States in 2017 by state, county, ZIP Code, tract, and block group based on Esri's Tapestry Segmentation system. ArcGIS Online subscription required.<img src='https://deldev.maps.arcgis.com/home/js/jsapi/esri/css/images/item_type_icons/mapimages16.png' style=\"vertical-align:middle;\">Map Image Layer by esri_devlabs\n",
       "                        <br/>Last Modified: January 24, 2018\n",
       "                        <br/>0 comments, 3,374 views\n",
       "                    </div>\n",
       "                </div>\n",
       "                "
      ],
      "text/plain": [
       "<Item title:\"2017 USA Tapestry Segmentation Layer - Demo\" type:Map Image Layer owner:esri_devlabs>"
      ]
     },
     "metadata": {},
     "output_type": "display_data"
    },
    {
     "data": {
      "text/html": [
       "<div class=\"item_container\" style=\"height: auto; overflow: hidden; border: 1px solid #cfcfcf; border-radius: 2px; background: #f6fafa; line-height: 1.21429em; padding: 10px;\">\n",
       "                    <div class=\"item_left\" style=\"width: 210px; float: left;\">\n",
       "                       <a href='https://deldev.maps.arcgis.com/home/item.html?id=25b2d57154a4476ebbdf9df6b03aed4d' target='_blank'>\n",
       "                        <img src='data:image/png;base64,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' width='200' height='133' class=\"itemThumbnail\">\n",
       "                       </a>\n",
       "                    </div>\n",
       "\n",
       "                    <div class=\"item_right\"     style=\"float: none; width: auto; overflow: hidden;\">\n",
       "                        <a href='https://deldev.maps.arcgis.com/home/item.html?id=25b2d57154a4476ebbdf9df6b03aed4d' target='_blank'><b>2017 USA Tapestry Segmentation - Copy</b>\n",
       "                        </a>\n",
       "                        <br/>This layer shows the dominant LifeMode Summary Group in the United States in 2017 by state, county, ZIP Code, tract, and block group based on Esri's Tapestry Segmentation system. ArcGIS Online subscription required.<img src='https://deldev.maps.arcgis.com/home/js/jsapi/esri/css/images/item_type_icons/mapimages16.png' style=\"vertical-align:middle;\">Map Image Layer by kelly.peoples@cbre.com_dimension\n",
       "                        <br/>Last Modified: October 07, 2017\n",
       "                        <br/>0 comments, 470 views\n",
       "                    </div>\n",
       "                </div>\n",
       "                "
      ],
      "text/plain": [
       "<Item title:\"2017 USA Tapestry Segmentation - Copy\" type:Map Image Layer owner:kelly.peoples@cbre.com_dimension>"
      ]
     },
     "metadata": {},
     "output_type": "display_data"
    },
    {
     "data": {
      "text/html": [
       "<div class=\"item_container\" style=\"height: auto; overflow: hidden; border: 1px solid #cfcfcf; border-radius: 2px; background: #f6fafa; line-height: 1.21429em; padding: 10px;\">\n",
       "                    <div class=\"item_left\" style=\"width: 210px; float: left;\">\n",
       "                       <a href='https://deldev.maps.arcgis.com/home/item.html?id=928258c6a0564be8aca6070cf3b1f53b' target='_blank'>\n",
       "                        <img src='data:image/png;base64,iVBORw0KGgoAAAANSUhEUgAAAMgAAACFCAIAAACR/CB7AAAACXBIWXMAAA7EAAAOxAGVKw4bAAABbElEQVR4nO3SwQ3AIBDAsNL9dz6WIEJC9gR5ZM3MB6f9twN4k7FIGIuEsUgYi4SxSBiLhLFIGIuEsUgYi4SxSBiLhLFIGIuEsUgYi4SxSBiLhLFIGIuEsUgYi4SxSBiLhLFIGIuEsUgYi4SxSBiLhLFIGIuEsUgYi4SxSBiLhLFIGIuEsUgYi4SxSBiLhLFIGIuEsUgYi4SxSBiLhLFIGIuEsUgYi4SxSBiLhLFIGIuEsUgYi4SxSBiLhLFIGIuEsUgYi4SxSBiLhLFIGIuEsUgYi4SxSBiLhLFIGIuEsUgYi4SxSBiLhLFIGIuEsUgYi4SxSBiLhLFIGIuEsUgYi4SxSBiLhLFIGIuEsUgYi4SxSBiLhLFIGIuEsUgYi4SxSBiLhLFIGIuEsUgYi4SxSBiLhLFIGIuEsUgYi4SxSBiLhLFIGIuEsUgYi4SxSBiLhLFIGIuEsUgYi4SxSBiLhLFIGIuEsUgYi4SxSGy4dQQHgizXSQAAAABJRU5ErkJggg==' width='200' height='133' class=\"itemThumbnail\">\n",
       "                       </a>\n",
       "                    </div>\n",
       "\n",
       "                    <div class=\"item_right\"     style=\"float: none; width: auto; overflow: hidden;\">\n",
       "                        <a href='https://deldev.maps.arcgis.com/home/item.html?id=928258c6a0564be8aca6070cf3b1f53b' target='_blank'><b>2017 USA Tapestry Segmentation - Copy</b>\n",
       "                        </a>\n",
       "                        <br/>This layer shows the dominant LifeMode Summary Group in the United States in 2017 by state, county, ZIP Code, tract, and block group based on Esri's Tapestry Segmentation system. ArcGIS Online subscription required.<img src='https://deldev.maps.arcgis.com/home/js/jsapi/esri/css/images/item_type_icons/mapimages16.png' style=\"vertical-align:middle;\">Map Image Layer by swoodward@lbschools.net\n",
       "                        <br/>Last Modified: April 06, 2018\n",
       "                        <br/>0 comments, 152 views\n",
       "                    </div>\n",
       "                </div>\n",
       "                "
      ],
      "text/plain": [
       "<Item title:\"2017 USA Tapestry Segmentation - Copy\" type:Map Image Layer owner:swoodward@lbschools.net>"
      ]
     },
     "metadata": {},
     "output_type": "display_data"
    }
   ],
   "source": [
    "for item in Tapestry_segmentation:\n",
    "    display(item)"
   ]
  },
  {
   "cell_type": "code",
   "execution_count": 14,
   "metadata": {},
   "outputs": [],
   "source": [
    "bike_route_neighbourhood = SeattleBikeRoutes.layers[1]"
   ]
  },
  {
   "cell_type": "markdown",
   "metadata": {},
   "source": [
    "Apply a Filter to the Neighborhoods so that only Capitol Hill is showing."
   ]
  },
  {
   "cell_type": "code",
   "execution_count": 15,
   "metadata": {},
   "outputs": [],
   "source": [
    "bike_route_neighbourhood.filter = \"L_HOOD = 'CAPITOL HILL'\""
   ]
  },
  {
   "cell_type": "code",
   "execution_count": 30,
   "metadata": {},
   "outputs": [],
   "source": [
    "tapestry = Tapestry_segmentation[1]"
   ]
  },
  {
   "cell_type": "code",
   "execution_count": 16,
   "metadata": {},
   "outputs": [],
   "source": [
    "bike_route_streets = SeattleBikeRoutes.layers[0]"
   ]
  },
  {
   "cell_type": "code",
   "execution_count": 17,
   "metadata": {
    "scrolled": true
   },
   "outputs": [
    {
     "data": {
      "application/vnd.jupyter.widget-view+json": {
       "model_id": "46f14938125d4bbd99df2bf5b065261c",
       "version_major": 2,
       "version_minor": 0
      },
      "text/html": [
       "<p>Failed to display Jupyter Widget of type <code>MapView</code>.</p>\n",
       "<p>\n",
       "  If you're reading this message in the Jupyter Notebook or JupyterLab Notebook, it may mean\n",
       "  that the widgets JavaScript is still loading. If this message persists, it\n",
       "  likely means that the widgets JavaScript library is either not installed or\n",
       "  not enabled. See the <a href=\"https://ipywidgets.readthedocs.io/en/stable/user_install.html\">Jupyter\n",
       "  Widgets Documentation</a> for setup instructions.\n",
       "</p>\n",
       "<p>\n",
       "  If you're reading this message in another frontend (for example, a static\n",
       "  rendering on GitHub or <a href=\"https://nbviewer.jupyter.org/\">NBViewer</a>),\n",
       "  it may mean that your frontend doesn't currently support widgets.\n",
       "</p>\n"
      ],
      "text/plain": [
       "MapView(basemaps=['dark-gray', 'dark-gray-vector', 'gray', 'gray-vector', 'hybrid', 'national-geographic', 'oceans', 'osm', 'satellite', 'streets', 'streets-navigation-vector', 'streets-night-vector', 'streets-relief-vector', 'streets-vector', 'terrain', 'topo', 'topo-vector'], center=[0, 0])"
      ]
     },
     "metadata": {},
     "output_type": "display_data"
    }
   ],
   "source": [
    "bike_street_map = gis.map('Seattle')\n",
    "bike_street_map"
   ]
  },
  {
   "cell_type": "code",
   "execution_count": 18,
   "metadata": {},
   "outputs": [],
   "source": [
    "bike_street_map.add_layer(bike_route_streets)"
   ]
  },
  {
   "cell_type": "markdown",
   "metadata": {},
   "source": [
    "Identify potential bike routes\n",
    "\n",
    "The Streets layer includes main streets, trails, and other street types. Look at the trails first to determine if they can be used for commuting.\n",
    "Filter the Streets so that only the trails are showing.\n",
    "There are only three trails in the neighborhood and they are not long enough to be used for commuting. Remove the filter from the Streets layer."
   ]
  },
  {
   "cell_type": "code",
   "execution_count": 1,
   "metadata": {},
   "outputs": [
    {
     "ename": "NameError",
     "evalue": "name 'gis' is not defined",
     "output_type": "error",
     "traceback": [
      "\u001b[1;31m---------------------------------------------------------------------------\u001b[0m",
      "\u001b[1;31mNameError\u001b[0m                                 Traceback (most recent call last)",
      "\u001b[1;32m<ipython-input-1-a5249afb5bec>\u001b[0m in \u001b[0;36m<module>\u001b[1;34m()\u001b[0m\n\u001b[1;32m----> 1\u001b[1;33m \u001b[0mbike_street_filtered_map\u001b[0m \u001b[1;33m=\u001b[0m \u001b[0mgis\u001b[0m\u001b[1;33m.\u001b[0m\u001b[0mmap\u001b[0m\u001b[1;33m(\u001b[0m\u001b[1;34m'Seattle'\u001b[0m\u001b[1;33m)\u001b[0m\u001b[1;33m\u001b[0m\u001b[0m\n\u001b[0m\u001b[0;32m      2\u001b[0m \u001b[0mbike_street_filtered_map\u001b[0m\u001b[1;33m\u001b[0m\u001b[0m\n",
      "\u001b[1;31mNameError\u001b[0m: name 'gis' is not defined"
     ]
    }
   ],
   "source": [
    "bike_street_filtered_map = gis.map('Seattle')\n",
    "bike_street_filtered_map"
   ]
  },
  {
   "cell_type": "code",
   "execution_count": 48,
   "metadata": {},
   "outputs": [],
   "source": [
    "bike_street_filtered_map.add_layer({\"type\":\"FeatureLayer\", \n",
    "               \"url\":bike_route_streets.url,\n",
    "               \"definition_expression\" : \"SEGMENT_TY = 8\",\n",
    "               \n",
    "              })"
   ]
  },
  {
   "cell_type": "markdown",
   "metadata": {},
   "source": [
    "There are not enough trails in the Capitol Hill neighborhood so bike lanes will have to be created on pre-existing streets. Since Seattle wants to build protected bike lanes, we will look at busier streets first to find the most direct routes"
   ]
  },
  {
   "cell_type": "markdown",
   "metadata": {},
   "source": [
    "There are not enough trails in the Capitol Hill neighborhood so bike lanes will have to be created on pre-existing streets. Since Seattle wants to build protected bike lanes, we will look at busier streets first to find the most direct routes. \n",
    "Use Find Existing Locations tool to select the arterial streets."
   ]
  },
  {
   "cell_type": "code",
   "execution_count": 19,
   "metadata": {},
   "outputs": [],
   "source": [
    "from arcgis.features.find_locations import find_existing_locations"
   ]
  },
  {
   "cell_type": "code",
   "execution_count": 30,
   "metadata": {},
   "outputs": [
    {
     "data": {
      "text/plain": [
       "'https://services6.arcgis.com/sdbe23RSJ4l0hdpd/arcgis/rest/services/SeattleBikeRoutes/FeatureServer/0'"
      ]
     },
     "execution_count": 30,
     "metadata": {},
     "output_type": "execute_result"
    }
   ],
   "source": [
    " bike_route_streets.url"
   ]
  },
  {
   "cell_type": "code",
   "execution_count": 20,
   "metadata": {},
   "outputs": [],
   "source": [
    "busy_streets = find_existing_locations(input_layers=[ {'url': bike_route_streets.url}], \n",
    "                        expressions=[{\"operator\":\"\",\"layer\":0,\"where\":\"SEGMENT_TY = 1\"},\n",
    "                                     {\"operator\":\"and\",\"layer\":0,\"where\":\"ARTERIAL_C = 1\"}],\n",
    "                                       output_name='Arterial_Streets22')"
   ]
  },
  {
   "cell_type": "code",
   "execution_count": 31,
   "metadata": {},
   "outputs": [],
   "source": [
    "from arcgis.features import FeatureLayerCollection"
   ]
  },
  {
   "cell_type": "code",
   "execution_count": 43,
   "metadata": {},
   "outputs": [
    {
     "data": {
      "text/plain": [
       "<FeatureSet> 6605 features"
      ]
     },
     "execution_count": 43,
     "metadata": {},
     "output_type": "execute_result"
    }
   ],
   "source": [
    "busy_streets.layers[0].query(return_geometry=False, where='1=1')"
   ]
  },
  {
   "cell_type": "code",
   "execution_count": 29,
   "metadata": {},
   "outputs": [
    {
     "data": {
      "text/html": [
       "<div class=\"item_container\" style=\"height: auto; overflow: hidden; border: 1px solid #cfcfcf; border-radius: 2px; background: #f6fafa; line-height: 1.21429em; padding: 10px;\">\n",
       "                    <div class=\"item_left\" style=\"width: 210px; float: left;\">\n",
       "                       <a href='https://deldev.maps.arcgis.com/home/item.html?id=e87dcdb8192a44749b4e35a60c1d51be' target='_blank'>\n",
       "                        <img src='http://static.arcgis.com/images/desktopapp.png' class=\"itemThumbnail\">\n",
       "                       </a>\n",
       "                    </div>\n",
       "\n",
       "                    <div class=\"item_right\"     style=\"float: none; width: auto; overflow: hidden;\">\n",
       "                        <a href='https://deldev.maps.arcgis.com/home/item.html?id=e87dcdb8192a44749b4e35a60c1d51be' target='_blank'><b>Arterial_Streets22</b>\n",
       "                        </a>\n",
       "                        <br/><img src='https://deldev.maps.arcgis.com/home/js/jsapi/esri/css/images/item_type_icons/featureshosted16.png' style=\"vertical-align:middle;\">Feature Layer Collection by demo_deldev\n",
       "                        <br/>Last Modified: June 13, 2018\n",
       "                        <br/>0 comments, 0 views\n",
       "                    </div>\n",
       "                </div>\n",
       "                "
      ],
      "text/plain": [
       "<Item title:\"Arterial_Streets22\" type:Feature Layer Collection owner:demo_deldev>"
      ]
     },
     "execution_count": 29,
     "metadata": {},
     "output_type": "execute_result"
    }
   ],
   "source": [
    "busy_streets"
   ]
  },
  {
   "cell_type": "code",
   "execution_count": 21,
   "metadata": {},
   "outputs": [
    {
     "data": {
      "application/vnd.jupyter.widget-view+json": {
       "model_id": "4ec1372aedb54aadbc257ef713dfb0ad",
       "version_major": 2,
       "version_minor": 0
      },
      "text/html": [
       "<p>Failed to display Jupyter Widget of type <code>MapView</code>.</p>\n",
       "<p>\n",
       "  If you're reading this message in the Jupyter Notebook or JupyterLab Notebook, it may mean\n",
       "  that the widgets JavaScript is still loading. If this message persists, it\n",
       "  likely means that the widgets JavaScript library is either not installed or\n",
       "  not enabled. See the <a href=\"https://ipywidgets.readthedocs.io/en/stable/user_install.html\">Jupyter\n",
       "  Widgets Documentation</a> for setup instructions.\n",
       "</p>\n",
       "<p>\n",
       "  If you're reading this message in another frontend (for example, a static\n",
       "  rendering on GitHub or <a href=\"https://nbviewer.jupyter.org/\">NBViewer</a>),\n",
       "  it may mean that your frontend doesn't currently support widgets.\n",
       "</p>\n"
      ],
      "text/plain": [
       "MapView(basemaps=['dark-gray', 'dark-gray-vector', 'gray', 'gray-vector', 'hybrid', 'national-geographic', 'oceans', 'osm', 'satellite', 'streets', 'streets-navigation-vector', 'streets-night-vector', 'streets-relief-vector', 'streets-vector', 'terrain', 'topo', 'topo-vector'], center=[0, 0])"
      ]
     },
     "metadata": {},
     "output_type": "display_data"
    }
   ],
   "source": [
    "busy_streets_map = gis.map('Seattle')\n",
    "busy_streets_map"
   ]
  },
  {
   "cell_type": "code",
   "execution_count": 22,
   "metadata": {},
   "outputs": [],
   "source": [
    "busy_streets_map.add_layer(busy_streets)"
   ]
  },
  {
   "cell_type": "markdown",
   "metadata": {},
   "source": [
    "Examine the arterial roads in and around the Capitol Hill neighborhood. One road runs through the entire south-eastern side of the neighborhood and into the Downtown Office Core. "
   ]
  },
  {
   "cell_type": "code",
   "execution_count": 65,
   "metadata": {},
   "outputs": [
    {
     "data": {
      "text/plain": [
       "{'itemId': '915ae541a0114f029b08d8e2aa536fb7', 'notSharedWith': []}"
      ]
     },
     "execution_count": 65,
     "metadata": {},
     "output_type": "execute_result"
    }
   ],
   "source": [
    "busy_streets.share(everyone=True)"
   ]
  },
  {
   "cell_type": "code",
   "execution_count": 24,
   "metadata": {},
   "outputs": [],
   "source": [
    "busy_streets_layer = busy_streets.layers[0]"
   ]
  },
  {
   "cell_type": "code",
   "execution_count": 25,
   "metadata": {},
   "outputs": [
    {
     "data": {
      "text/plain": [
       "'https://services6.arcgis.com/SMX5BErCXLM7eDtY/arcgis/rest/services/Arterial_Streets22/FeatureServer/0'"
      ]
     },
     "execution_count": 25,
     "metadata": {},
     "output_type": "execute_result"
    }
   ],
   "source": [
    "busy_streets_layer.url"
   ]
  },
  {
   "cell_type": "markdown",
   "metadata": {},
   "source": [
    "Use Find Existing Locations to select the segments of Madison Street that are within 3.5 feet of Capitol Hill. The distance has to be used because the street shares a border with Capitol Hill and some segments are located just outside of the boundary. Note that the actual bike lane would run all the way to the Downtown Office Core , but this analysis is determining how well the lanes service a specific neighborhood, so only the sections of the road within that neighborhood are required. The Neighborhoods filter will be applied to the tool."
   ]
  },
  {
   "cell_type": "code",
   "execution_count": 34,
   "metadata": {},
   "outputs": [
    {
     "data": {
      "text/plain": [
       "'https://services6.arcgis.com/sdbe23RSJ4l0hdpd/arcgis/rest/services/SeattleBikeRoutes/FeatureServer/1'"
      ]
     },
     "execution_count": 34,
     "metadata": {},
     "output_type": "execute_result"
    }
   ],
   "source": [
    "bike_route_neighbourhood.url"
   ]
  },
  {
   "cell_type": "code",
   "execution_count": 35,
   "metadata": {},
   "outputs": [
    {
     "data": {
      "text/plain": [
       "'https://services6.arcgis.com/SMX5BErCXLM7eDtY/arcgis/rest/services/Arterial_Streets22/FeatureServer/0'"
      ]
     },
     "execution_count": 35,
     "metadata": {},
     "output_type": "execute_result"
    }
   ],
   "source": [
    "busy_streets_layer.url"
   ]
  },
  {
   "cell_type": "code",
   "execution_count": null,
   "metadata": {},
   "outputs": [],
   "source": [
    "[{\"operator\":\"\",\"layer\":0,\"where\":\"ORD_STREET = 'MADISON'\"},{\"operator\":\"and\",\"layer\":0,\"selectingLayer\":1,\"spatialRel\":\"withinDistance\",\"distance\":3.5,\"units\":\"Feet\"}]\n",
    "[{\"operator\":\"\",\"layer\":0,\"where\":\"ORD_STREET = 'MADISON'\"},{\"operator\":\"and\",\"layer\":0,\"selectingLayer\":1,\"spatialRel\":\"withinDistance\",\"distance\":3.5,\"units\":\"Feet\"}]\n",
    "\n"
   ]
  },
  {
   "cell_type": "markdown",
   "metadata": {},
   "source": [
    "# Python API Bug!!!"
   ]
  },
  {
   "cell_type": "code",
   "execution_count": 40,
   "metadata": {},
   "outputs": [
    {
     "ename": "TypeError",
     "evalue": "Object of type 'FeatureLayer' is not JSON serializable",
     "output_type": "error",
     "traceback": [
      "\u001b[1;31m---------------------------------------------------------------------------\u001b[0m",
      "\u001b[1;31mTypeError\u001b[0m                                 Traceback (most recent call last)",
      "\u001b[1;32m<ipython-input-40-8697719311b8>\u001b[0m in \u001b[0;36m<module>\u001b[1;34m()\u001b[0m\n\u001b[0;32m      2\u001b[0m                         expressions=[{\"operator\":\"\",\"layer\":0,\"where\":\"ORD_STREET = 'MADISON'\"},\n\u001b[0;32m      3\u001b[0m                                      {\"operator\":\"and\",\"layer\":0,\"selectingLayer\":1,\"spatialRel\":\"withinDistance\",\"distance\":3.5,\"units\":\"Feet\"}],\n\u001b[1;32m----> 4\u001b[1;33m                                        output_name='Madisonstreet202sss')\n\u001b[0m",
      "\u001b[1;32m~\\Anaconda3\\lib\\site-packages\\arcgis\\features\\find_locations.py\u001b[0m in \u001b[0;36mfind_existing_locations\u001b[1;34m(input_layers, expressions, output_name, context, gis)\u001b[0m\n\u001b[0;32m     53\u001b[0m         \u001b[0mexpressions\u001b[0m\u001b[1;33m,\u001b[0m\u001b[1;33m\u001b[0m\u001b[0m\n\u001b[0;32m     54\u001b[0m         \u001b[0moutput_name\u001b[0m\u001b[1;33m,\u001b[0m\u001b[1;33m\u001b[0m\u001b[0m\n\u001b[1;32m---> 55\u001b[1;33m         context)\n\u001b[0m\u001b[0;32m     56\u001b[0m \u001b[1;33m\u001b[0m\u001b[0m\n\u001b[0;32m     57\u001b[0m \u001b[1;33m\u001b[0m\u001b[0m\n",
      "\u001b[1;32m~\\Anaconda3\\lib\\site-packages\\arcgis\\_impl\\tools.py\u001b[0m in \u001b[0;36mfind_existing_locations\u001b[1;34m(self, input_layers, expressions, output_name, context)\u001b[0m\n\u001b[0;32m   1316\u001b[0m             \u001b[0mparams\u001b[0m\u001b[1;33m[\u001b[0m\u001b[1;34m\"context\"\u001b[0m\u001b[1;33m]\u001b[0m \u001b[1;33m=\u001b[0m \u001b[0mcontext\u001b[0m\u001b[1;33m\u001b[0m\u001b[0m\n\u001b[0;32m   1317\u001b[0m \u001b[1;33m\u001b[0m\u001b[0m\n\u001b[1;32m-> 1318\u001b[1;33m         \u001b[0mtask_url\u001b[0m\u001b[1;33m,\u001b[0m \u001b[0mjob_info\u001b[0m\u001b[1;33m,\u001b[0m \u001b[0mjob_id\u001b[0m \u001b[1;33m=\u001b[0m \u001b[0msuper\u001b[0m\u001b[1;33m(\u001b[0m\u001b[1;33m)\u001b[0m\u001b[1;33m.\u001b[0m\u001b[0m_analysis_job\u001b[0m\u001b[1;33m(\u001b[0m\u001b[0mtask\u001b[0m\u001b[1;33m,\u001b[0m \u001b[0mparams\u001b[0m\u001b[1;33m)\u001b[0m\u001b[1;33m\u001b[0m\u001b[0m\n\u001b[0m\u001b[0;32m   1319\u001b[0m \u001b[1;33m\u001b[0m\u001b[0m\n\u001b[0;32m   1320\u001b[0m         \u001b[0mjob_info\u001b[0m \u001b[1;33m=\u001b[0m \u001b[0msuper\u001b[0m\u001b[1;33m(\u001b[0m\u001b[1;33m)\u001b[0m\u001b[1;33m.\u001b[0m\u001b[0m_analysis_job_status\u001b[0m\u001b[1;33m(\u001b[0m\u001b[0mtask_url\u001b[0m\u001b[1;33m,\u001b[0m \u001b[0mjob_info\u001b[0m\u001b[1;33m)\u001b[0m\u001b[1;33m\u001b[0m\u001b[0m\n",
      "\u001b[1;32m~\\Anaconda3\\lib\\site-packages\\arcgis\\_impl\\tools.py\u001b[0m in \u001b[0;36m_analysis_job\u001b[1;34m(self, task, params)\u001b[0m\n\u001b[0;32m    142\u001b[0m         \u001b[0mparams\u001b[0m\u001b[1;33m[\u001b[0m\u001b[1;34m\"f\"\u001b[0m\u001b[1;33m]\u001b[0m \u001b[1;33m=\u001b[0m \u001b[1;34m\"json\"\u001b[0m\u001b[1;33m\u001b[0m\u001b[0m\n\u001b[0;32m    143\u001b[0m \u001b[1;33m\u001b[0m\u001b[0m\n\u001b[1;32m--> 144\u001b[1;33m         \u001b[0mresp\u001b[0m \u001b[1;33m=\u001b[0m \u001b[0mself\u001b[0m\u001b[1;33m.\u001b[0m\u001b[0m_con\u001b[0m\u001b[1;33m.\u001b[0m\u001b[0mpost\u001b[0m\u001b[1;33m(\u001b[0m\u001b[0msubmit_url\u001b[0m\u001b[1;33m,\u001b[0m \u001b[0mparams\u001b[0m\u001b[1;33m,\u001b[0m \u001b[0mtoken\u001b[0m\u001b[1;33m=\u001b[0m\u001b[0mself\u001b[0m\u001b[1;33m.\u001b[0m\u001b[0m_token\u001b[0m\u001b[1;33m)\u001b[0m\u001b[1;33m\u001b[0m\u001b[0m\n\u001b[0m\u001b[0;32m    145\u001b[0m         \u001b[1;31m#print(resp)\u001b[0m\u001b[1;33m\u001b[0m\u001b[1;33m\u001b[0m\u001b[0m\n\u001b[0;32m    146\u001b[0m         \u001b[1;32mreturn\u001b[0m \u001b[0mtask_url\u001b[0m\u001b[1;33m,\u001b[0m \u001b[0mresp\u001b[0m\u001b[1;33m,\u001b[0m \u001b[0mresp\u001b[0m\u001b[1;33m[\u001b[0m\u001b[1;34m'jobId'\u001b[0m\u001b[1;33m]\u001b[0m\u001b[1;33m\u001b[0m\u001b[0m\n",
      "\u001b[1;32m~\\Anaconda3\\lib\\site-packages\\arcgis\\_impl\\connection.py\u001b[0m in \u001b[0;36mpost\u001b[1;34m(self, path, postdata, files, ssl, compress, is_retry, use_ordered_dict, add_token, verify_cert, token, try_json, out_folder, file_name, force_bytes, add_headers)\u001b[0m\n\u001b[0;32m   1086\u001b[0m             \u001b[0mencoded_postdata\u001b[0m \u001b[1;33m=\u001b[0m \u001b[1;32mNone\u001b[0m\u001b[1;33m\u001b[0m\u001b[0m\n\u001b[0;32m   1087\u001b[0m             \u001b[1;32mif\u001b[0m \u001b[0mpostdata\u001b[0m\u001b[1;33m:\u001b[0m\u001b[1;33m\u001b[0m\u001b[0m\n\u001b[1;32m-> 1088\u001b[1;33m                 \u001b[0mpostdata\u001b[0m \u001b[1;33m=\u001b[0m \u001b[1;33m{\u001b[0m\u001b[0mk\u001b[0m\u001b[1;33m:\u001b[0m \u001b[0mjsonize_dict\u001b[0m\u001b[1;33m(\u001b[0m\u001b[0mv\u001b[0m\u001b[1;33m)\u001b[0m \u001b[1;32mfor\u001b[0m \u001b[0mk\u001b[0m\u001b[1;33m,\u001b[0m \u001b[0mv\u001b[0m \u001b[1;32min\u001b[0m \u001b[0mpostdata\u001b[0m\u001b[1;33m.\u001b[0m\u001b[0mitems\u001b[0m\u001b[1;33m(\u001b[0m\u001b[1;33m)\u001b[0m\u001b[1;33m}\u001b[0m\u001b[1;33m\u001b[0m\u001b[0m\n\u001b[0m\u001b[0;32m   1089\u001b[0m                 \u001b[0mencoded_postdata\u001b[0m \u001b[1;33m=\u001b[0m \u001b[0murlencode\u001b[0m\u001b[1;33m(\u001b[0m\u001b[0mpostdata\u001b[0m\u001b[1;33m)\u001b[0m\u001b[1;33m\u001b[0m\u001b[0m\n\u001b[0;32m   1090\u001b[0m             \u001b[1;32mif\u001b[0m \u001b[0mself\u001b[0m\u001b[1;33m.\u001b[0m\u001b[0m_referer\u001b[0m\u001b[1;33m:\u001b[0m\u001b[1;33m\u001b[0m\u001b[0m\n",
      "\u001b[1;32m~\\Anaconda3\\lib\\site-packages\\arcgis\\_impl\\connection.py\u001b[0m in \u001b[0;36m<dictcomp>\u001b[1;34m(.0)\u001b[0m\n\u001b[0;32m   1086\u001b[0m             \u001b[0mencoded_postdata\u001b[0m \u001b[1;33m=\u001b[0m \u001b[1;32mNone\u001b[0m\u001b[1;33m\u001b[0m\u001b[0m\n\u001b[0;32m   1087\u001b[0m             \u001b[1;32mif\u001b[0m \u001b[0mpostdata\u001b[0m\u001b[1;33m:\u001b[0m\u001b[1;33m\u001b[0m\u001b[0m\n\u001b[1;32m-> 1088\u001b[1;33m                 \u001b[0mpostdata\u001b[0m \u001b[1;33m=\u001b[0m \u001b[1;33m{\u001b[0m\u001b[0mk\u001b[0m\u001b[1;33m:\u001b[0m \u001b[0mjsonize_dict\u001b[0m\u001b[1;33m(\u001b[0m\u001b[0mv\u001b[0m\u001b[1;33m)\u001b[0m \u001b[1;32mfor\u001b[0m \u001b[0mk\u001b[0m\u001b[1;33m,\u001b[0m \u001b[0mv\u001b[0m \u001b[1;32min\u001b[0m \u001b[0mpostdata\u001b[0m\u001b[1;33m.\u001b[0m\u001b[0mitems\u001b[0m\u001b[1;33m(\u001b[0m\u001b[1;33m)\u001b[0m\u001b[1;33m}\u001b[0m\u001b[1;33m\u001b[0m\u001b[0m\n\u001b[0m\u001b[0;32m   1089\u001b[0m                 \u001b[0mencoded_postdata\u001b[0m \u001b[1;33m=\u001b[0m \u001b[0murlencode\u001b[0m\u001b[1;33m(\u001b[0m\u001b[0mpostdata\u001b[0m\u001b[1;33m)\u001b[0m\u001b[1;33m\u001b[0m\u001b[0m\n\u001b[0;32m   1090\u001b[0m             \u001b[1;32mif\u001b[0m \u001b[0mself\u001b[0m\u001b[1;33m.\u001b[0m\u001b[0m_referer\u001b[0m\u001b[1;33m:\u001b[0m\u001b[1;33m\u001b[0m\u001b[0m\n",
      "\u001b[1;32m~\\Anaconda3\\lib\\site-packages\\arcgis\\_impl\\connection.py\u001b[0m in \u001b[0;36mjsonize_dict\u001b[1;34m(val)\u001b[0m\n\u001b[0;32m    198\u001b[0m \u001b[1;32mdef\u001b[0m \u001b[0mjsonize_dict\u001b[0m\u001b[1;33m(\u001b[0m\u001b[0mval\u001b[0m\u001b[1;33m)\u001b[0m\u001b[1;33m:\u001b[0m\u001b[1;33m\u001b[0m\u001b[0m\n\u001b[0;32m    199\u001b[0m     \u001b[1;32mif\u001b[0m \u001b[0misinstance\u001b[0m\u001b[1;33m(\u001b[0m\u001b[0mval\u001b[0m\u001b[1;33m,\u001b[0m \u001b[1;33m(\u001b[0m\u001b[0mdict\u001b[0m\u001b[1;33m,\u001b[0m \u001b[0mlist\u001b[0m\u001b[1;33m)\u001b[0m\u001b[1;33m)\u001b[0m\u001b[1;33m:\u001b[0m\u001b[1;33m\u001b[0m\u001b[0m\n\u001b[1;32m--> 200\u001b[1;33m         \u001b[1;32mreturn\u001b[0m \u001b[0mjson\u001b[0m\u001b[1;33m.\u001b[0m\u001b[0mdumps\u001b[0m\u001b[1;33m(\u001b[0m\u001b[0mval\u001b[0m\u001b[1;33m)\u001b[0m\u001b[1;33m\u001b[0m\u001b[0m\n\u001b[0m\u001b[0;32m    201\u001b[0m     \u001b[1;32melse\u001b[0m\u001b[1;33m:\u001b[0m\u001b[1;33m\u001b[0m\u001b[0m\n\u001b[0;32m    202\u001b[0m         \u001b[1;32mreturn\u001b[0m \u001b[0mval\u001b[0m\u001b[1;33m\u001b[0m\u001b[0m\n",
      "\u001b[1;32m~\\Anaconda3\\lib\\json\\__init__.py\u001b[0m in \u001b[0;36mdumps\u001b[1;34m(obj, skipkeys, ensure_ascii, check_circular, allow_nan, cls, indent, separators, default, sort_keys, **kw)\u001b[0m\n\u001b[0;32m    229\u001b[0m         \u001b[0mcls\u001b[0m \u001b[1;32mis\u001b[0m \u001b[1;32mNone\u001b[0m \u001b[1;32mand\u001b[0m \u001b[0mindent\u001b[0m \u001b[1;32mis\u001b[0m \u001b[1;32mNone\u001b[0m \u001b[1;32mand\u001b[0m \u001b[0mseparators\u001b[0m \u001b[1;32mis\u001b[0m \u001b[1;32mNone\u001b[0m \u001b[1;32mand\u001b[0m\u001b[1;33m\u001b[0m\u001b[0m\n\u001b[0;32m    230\u001b[0m         default is None and not sort_keys and not kw):\n\u001b[1;32m--> 231\u001b[1;33m         \u001b[1;32mreturn\u001b[0m \u001b[0m_default_encoder\u001b[0m\u001b[1;33m.\u001b[0m\u001b[0mencode\u001b[0m\u001b[1;33m(\u001b[0m\u001b[0mobj\u001b[0m\u001b[1;33m)\u001b[0m\u001b[1;33m\u001b[0m\u001b[0m\n\u001b[0m\u001b[0;32m    232\u001b[0m     \u001b[1;32mif\u001b[0m \u001b[0mcls\u001b[0m \u001b[1;32mis\u001b[0m \u001b[1;32mNone\u001b[0m\u001b[1;33m:\u001b[0m\u001b[1;33m\u001b[0m\u001b[0m\n\u001b[0;32m    233\u001b[0m         \u001b[0mcls\u001b[0m \u001b[1;33m=\u001b[0m \u001b[0mJSONEncoder\u001b[0m\u001b[1;33m\u001b[0m\u001b[0m\n",
      "\u001b[1;32m~\\Anaconda3\\lib\\json\\encoder.py\u001b[0m in \u001b[0;36mencode\u001b[1;34m(self, o)\u001b[0m\n\u001b[0;32m    197\u001b[0m         \u001b[1;31m# exceptions aren't as detailed.  The list call should be roughly\u001b[0m\u001b[1;33m\u001b[0m\u001b[1;33m\u001b[0m\u001b[0m\n\u001b[0;32m    198\u001b[0m         \u001b[1;31m# equivalent to the PySequence_Fast that ''.join() would do.\u001b[0m\u001b[1;33m\u001b[0m\u001b[1;33m\u001b[0m\u001b[0m\n\u001b[1;32m--> 199\u001b[1;33m         \u001b[0mchunks\u001b[0m \u001b[1;33m=\u001b[0m \u001b[0mself\u001b[0m\u001b[1;33m.\u001b[0m\u001b[0miterencode\u001b[0m\u001b[1;33m(\u001b[0m\u001b[0mo\u001b[0m\u001b[1;33m,\u001b[0m \u001b[0m_one_shot\u001b[0m\u001b[1;33m=\u001b[0m\u001b[1;32mTrue\u001b[0m\u001b[1;33m)\u001b[0m\u001b[1;33m\u001b[0m\u001b[0m\n\u001b[0m\u001b[0;32m    200\u001b[0m         \u001b[1;32mif\u001b[0m \u001b[1;32mnot\u001b[0m \u001b[0misinstance\u001b[0m\u001b[1;33m(\u001b[0m\u001b[0mchunks\u001b[0m\u001b[1;33m,\u001b[0m \u001b[1;33m(\u001b[0m\u001b[0mlist\u001b[0m\u001b[1;33m,\u001b[0m \u001b[0mtuple\u001b[0m\u001b[1;33m)\u001b[0m\u001b[1;33m)\u001b[0m\u001b[1;33m:\u001b[0m\u001b[1;33m\u001b[0m\u001b[0m\n\u001b[0;32m    201\u001b[0m             \u001b[0mchunks\u001b[0m \u001b[1;33m=\u001b[0m \u001b[0mlist\u001b[0m\u001b[1;33m(\u001b[0m\u001b[0mchunks\u001b[0m\u001b[1;33m)\u001b[0m\u001b[1;33m\u001b[0m\u001b[0m\n",
      "\u001b[1;32m~\\Anaconda3\\lib\\json\\encoder.py\u001b[0m in \u001b[0;36miterencode\u001b[1;34m(self, o, _one_shot)\u001b[0m\n\u001b[0;32m    255\u001b[0m                 \u001b[0mself\u001b[0m\u001b[1;33m.\u001b[0m\u001b[0mkey_separator\u001b[0m\u001b[1;33m,\u001b[0m \u001b[0mself\u001b[0m\u001b[1;33m.\u001b[0m\u001b[0mitem_separator\u001b[0m\u001b[1;33m,\u001b[0m \u001b[0mself\u001b[0m\u001b[1;33m.\u001b[0m\u001b[0msort_keys\u001b[0m\u001b[1;33m,\u001b[0m\u001b[1;33m\u001b[0m\u001b[0m\n\u001b[0;32m    256\u001b[0m                 self.skipkeys, _one_shot)\n\u001b[1;32m--> 257\u001b[1;33m         \u001b[1;32mreturn\u001b[0m \u001b[0m_iterencode\u001b[0m\u001b[1;33m(\u001b[0m\u001b[0mo\u001b[0m\u001b[1;33m,\u001b[0m \u001b[1;36m0\u001b[0m\u001b[1;33m)\u001b[0m\u001b[1;33m\u001b[0m\u001b[0m\n\u001b[0m\u001b[0;32m    258\u001b[0m \u001b[1;33m\u001b[0m\u001b[0m\n\u001b[0;32m    259\u001b[0m def _make_iterencode(markers, _default, _encoder, _indent, _floatstr,\n",
      "\u001b[1;32m~\\Anaconda3\\lib\\json\\encoder.py\u001b[0m in \u001b[0;36mdefault\u001b[1;34m(self, o)\u001b[0m\n\u001b[0;32m    178\u001b[0m         \"\"\"\n\u001b[0;32m    179\u001b[0m         raise TypeError(\"Object of type '%s' is not JSON serializable\" %\n\u001b[1;32m--> 180\u001b[1;33m                         o.__class__.__name__)\n\u001b[0m\u001b[0;32m    181\u001b[0m \u001b[1;33m\u001b[0m\u001b[0m\n\u001b[0;32m    182\u001b[0m     \u001b[1;32mdef\u001b[0m \u001b[0mencode\u001b[0m\u001b[1;33m(\u001b[0m\u001b[0mself\u001b[0m\u001b[1;33m,\u001b[0m \u001b[0mo\u001b[0m\u001b[1;33m)\u001b[0m\u001b[1;33m:\u001b[0m\u001b[1;33m\u001b[0m\u001b[0m\n",
      "\u001b[1;31mTypeError\u001b[0m: Object of type 'FeatureLayer' is not JSON serializable"
     ]
    }
   ],
   "source": [
    "madison_street = find_existing_locations(input_layers=[  busy_streets_layer,  bike_route_neighbourhood], \n",
    "                        expressions=[{\"operator\":\"\",\"layer\":0,\"where\":\"ORD_STREET = 'MADISON'\"},\n",
    "                                     {\"operator\":\"and\",\"layer\":0,\"selectingLayer\":1,\"spatialRel\":\"withinDistance\",\"distance\":3.5,\"units\":\"Feet\"}],\n",
    "                                       output_name='Madisonstreet202sss')"
   ]
  },
  {
   "cell_type": "code",
   "execution_count": null,
   "metadata": {},
   "outputs": [],
   "source": []
  },
  {
   "cell_type": "code",
   "execution_count": 26,
   "metadata": {},
   "outputs": [],
   "source": [
    "madison_street = find_existing_locations(input_layers=[ {'url': busy_streets_layer.url}, {'url': bike_route_neighbourhood.url}], \n",
    "                        expressions=[{\"operator\":\"\",\"layer\":0,\"where\":\"ORD_STREET = 'MADISON'\"},\n",
    "                                     {\"operator\":\"and\",\"layer\":0,\"selectingLayer\":1,\"spatialRel\":\"withinDistance\",\"distance\":3.5,\"units\":\"Feet\"}],\n",
    "                                       output_name='Madisonstreet202')"
   ]
  },
  {
   "cell_type": "code",
   "execution_count": 45,
   "metadata": {},
   "outputs": [],
   "source": [
    "FS = madison_street.layers[0].query(where='1=1', returnGeometry=False, spatialRel='esriSpatialRelIntersects',\n",
    "                               outFields='Length',\n",
    "                               outStatistics=[{\"statisticType\":\"count\",\"onStatisticField\":\"Length\",\"outStatisticFieldName\":\"countField\"},{\"statisticType\":\"sum\",\"onStatisticField\":\"Length\",\"outStatisticFieldName\":\"sumField\"},{\"statisticType\":\"min\",\"onStatisticField\":\"Length\",\"outStatisticFieldName\":\"minField\"},{\"statisticType\":\"max\",\"onStatisticField\":\"Length\",\"outStatisticFieldName\":\"maxField\"},{\"statisticType\":\"avg\",\"onStatisticField\":\"Length\",\"outStatisticFieldName\":\"avgField\"},{\"statisticType\":\"stddev\",\"onStatisticField\":\"Length\",\"outStatisticFieldName\":\"stddevField\"}])"
   ]
  },
  {
   "cell_type": "code",
   "execution_count": 47,
   "metadata": {},
   "outputs": [
    {
     "data": {
      "text/plain": [
       "{\"attributes\": {\"countField\": 66, \"sumField\": 3.66824041, \"minField\": 0.00818107, \"maxField\": 0.17686315, \"avgField\": 0.0555794, \"stddevField\": 0.0283236715461108}}"
      ]
     },
     "execution_count": 47,
     "metadata": {},
     "output_type": "execute_result"
    }
   ],
   "source": [
    "FS.features[0]"
   ]
  },
  {
   "cell_type": "code",
   "execution_count": null,
   "metadata": {},
   "outputs": [],
   "source": []
  },
  {
   "cell_type": "code",
   "execution_count": 39,
   "metadata": {},
   "outputs": [
    {
     "data": {
      "text/plain": [
       "\"L_HOOD = 'CAPITOL HILL'\""
      ]
     },
     "execution_count": 39,
     "metadata": {},
     "output_type": "execute_result"
    }
   ],
   "source": [
    "bike_route_neighbourhood.filter"
   ]
  },
  {
   "cell_type": "code",
   "execution_count": 182,
   "metadata": {},
   "outputs": [],
   "source": [
    "madison_street_layer = madison_street.layers[0]"
   ]
  },
  {
   "cell_type": "code",
   "execution_count": 27,
   "metadata": {},
   "outputs": [
    {
     "data": {
      "application/vnd.jupyter.widget-view+json": {
       "model_id": "36ba170415174af48cef3f35783632a7",
       "version_major": 2,
       "version_minor": 0
      },
      "text/html": [
       "<p>Failed to display Jupyter Widget of type <code>MapView</code>.</p>\n",
       "<p>\n",
       "  If you're reading this message in the Jupyter Notebook or JupyterLab Notebook, it may mean\n",
       "  that the widgets JavaScript is still loading. If this message persists, it\n",
       "  likely means that the widgets JavaScript library is either not installed or\n",
       "  not enabled. See the <a href=\"https://ipywidgets.readthedocs.io/en/stable/user_install.html\">Jupyter\n",
       "  Widgets Documentation</a> for setup instructions.\n",
       "</p>\n",
       "<p>\n",
       "  If you're reading this message in another frontend (for example, a static\n",
       "  rendering on GitHub or <a href=\"https://nbviewer.jupyter.org/\">NBViewer</a>),\n",
       "  it may mean that your frontend doesn't currently support widgets.\n",
       "</p>\n"
      ],
      "text/plain": [
       "MapView(basemaps=['dark-gray', 'dark-gray-vector', 'gray', 'gray-vector', 'hybrid', 'national-geographic', 'oceans', 'osm', 'satellite', 'streets', 'streets-navigation-vector', 'streets-night-vector', 'streets-relief-vector', 'streets-vector', 'terrain', 'topo', 'topo-vector'], center=[0, 0])"
      ]
     },
     "metadata": {},
     "output_type": "display_data"
    }
   ],
   "source": [
    "madison_map = gis.map('Seattle')\n",
    "madison_map"
   ]
  },
  {
   "cell_type": "code",
   "execution_count": 28,
   "metadata": {},
   "outputs": [],
   "source": [
    "madison_map.add_layer(madison_street)"
   ]
  },
  {
   "cell_type": "markdown",
   "metadata": {},
   "source": [
    "\n",
    "Apply a Buffer of 0.5 miles to MadisonStreet to determine the area that the bike route would service."
   ]
  },
  {
   "cell_type": "code",
   "execution_count": 191,
   "metadata": {},
   "outputs": [],
   "source": [
    "from arcgis.features.use_proximity import create_buffers"
   ]
  },
  {
   "cell_type": "code",
   "execution_count": 192,
   "metadata": {},
   "outputs": [],
   "source": [
    "buffer_street = create_buffers(madison_street_layer, dissolve_type='Dissolve', distances=[0.5],\n",
    "               ring_type='Rings', units='Miles', output_name=\"buffer_0f_madis0n_Street\")"
   ]
  },
  {
   "cell_type": "code",
   "execution_count": 187,
   "metadata": {},
   "outputs": [],
   "source": [
    "buffer_street_layer = buffer_street.layers[0]"
   ]
  },
  {
   "cell_type": "code",
   "execution_count": 188,
   "metadata": {},
   "outputs": [
    {
     "data": {
      "application/vnd.jupyter.widget-view+json": {
       "model_id": "5dc6adbe573b426db2123ca86f12f824",
       "version_major": 2,
       "version_minor": 0
      },
      "text/html": [
       "<p>Failed to display Jupyter Widget of type <code>MapView</code>.</p>\n",
       "<p>\n",
       "  If you're reading this message in the Jupyter Notebook or JupyterLab Notebook, it may mean\n",
       "  that the widgets JavaScript is still loading. If this message persists, it\n",
       "  likely means that the widgets JavaScript library is either not installed or\n",
       "  not enabled. See the <a href=\"https://ipywidgets.readthedocs.io/en/stable/user_install.html\">Jupyter\n",
       "  Widgets Documentation</a> for setup instructions.\n",
       "</p>\n",
       "<p>\n",
       "  If you're reading this message in another frontend (for example, a static\n",
       "  rendering on GitHub or <a href=\"https://nbviewer.jupyter.org/\">NBViewer</a>),\n",
       "  it may mean that your frontend doesn't currently support widgets.\n",
       "</p>\n"
      ],
      "text/plain": [
       "MapView(basemaps=['dark-gray', 'dark-gray-vector', 'gray', 'gray-vector', 'hybrid', 'national-geographic', 'oceans', 'osm', 'satellite', 'streets', 'streets-navigation-vector', 'streets-night-vector', 'streets-relief-vector', 'streets-vector', 'terrain', 'topo', 'topo-vector'], center=[0, 0])"
      ]
     },
     "metadata": {},
     "output_type": "display_data"
    }
   ],
   "source": [
    "buffer_street_map = gis.map('Seattle')\n",
    "buffer_street_map"
   ]
  },
  {
   "cell_type": "code",
   "execution_count": 189,
   "metadata": {},
   "outputs": [],
   "source": [
    "buffer_street_map.add_layer(buffer_street)"
   ]
  },
  {
   "cell_type": "markdown",
   "metadata": {},
   "source": [
    "Repeat the process (selecting, buffering, and calculating the length of the segments) for 10th Ave E/Broadway E."
   ]
  },
  {
   "cell_type": "code",
   "execution_count": 120,
   "metadata": {},
   "outputs": [],
   "source": [
    "broadway_10thave = find_existing_locations(input_layers=[{'url': busy_streets_layer.url}, {'url': bike_route_neighbourhood.url}], \n",
    "                        expressions=[{\"operator\":\"\",\"layer\":0,\"where\":\"ORD_STNAME = '10TH AVE E'\"},\n",
    "                                     {\"operator\":\"or\",\"layer\":0,\"where\":\"OBJECTID = 789\"},\n",
    "                                     {\"operator\":\"or\",\"layer\":0,\"where\":\"ORD_STNAME = 'BROADWAY'\"},\n",
    "                                     {\"operator\":\"or\",\"layer\":0,\"where\":\"ORD_STNAME = 'BROADWAY E'\"},\n",
    "                                     {\"operator\":\"and\",\"layer\":0,\"selectingLayer\":1,\"spatialRel\":\"withinDistance\",\"distance\":0.001,\"units\":\"Feet\"}],\n",
    "                                       output_name='Broadway_10th_AV_E')"
   ]
  },
  {
   "cell_type": "code",
   "execution_count": 101,
   "metadata": {},
   "outputs": [],
   "source": [
    "broadway_10thave_layer = broadway_10thave.layers[0]"
   ]
  },
  {
   "cell_type": "code",
   "execution_count": 121,
   "metadata": {},
   "outputs": [
    {
     "data": {
      "application/vnd.jupyter.widget-view+json": {
       "model_id": "2c6c4b22bb27480783775d2145f653e4",
       "version_major": 2,
       "version_minor": 0
      },
      "text/html": [
       "<p>Failed to display Jupyter Widget of type <code>MapView</code>.</p>\n",
       "<p>\n",
       "  If you're reading this message in the Jupyter Notebook or JupyterLab Notebook, it may mean\n",
       "  that the widgets JavaScript is still loading. If this message persists, it\n",
       "  likely means that the widgets JavaScript library is either not installed or\n",
       "  not enabled. See the <a href=\"https://ipywidgets.readthedocs.io/en/stable/user_install.html\">Jupyter\n",
       "  Widgets Documentation</a> for setup instructions.\n",
       "</p>\n",
       "<p>\n",
       "  If you're reading this message in another frontend (for example, a static\n",
       "  rendering on GitHub or <a href=\"https://nbviewer.jupyter.org/\">NBViewer</a>),\n",
       "  it may mean that your frontend doesn't currently support widgets.\n",
       "</p>\n"
      ],
      "text/plain": [
       "MapView(basemaps=['dark-gray', 'dark-gray-vector', 'gray', 'gray-vector', 'hybrid', 'national-geographic', 'oceans', 'osm', 'satellite', 'streets', 'streets-navigation-vector', 'streets-night-vector', 'streets-relief-vector', 'streets-vector', 'terrain', 'topo', 'topo-vector'], center=[0, 0])"
      ]
     },
     "metadata": {},
     "output_type": "display_data"
    }
   ],
   "source": [
    "broadway_10thave_map = gis.map('Seattle')\n",
    "broadway_10thave_map"
   ]
  },
  {
   "cell_type": "code",
   "execution_count": 122,
   "metadata": {},
   "outputs": [],
   "source": [
    "broadway_10thave_map.add_layer(broadway_10thave)"
   ]
  },
  {
   "cell_type": "code",
   "execution_count": 104,
   "metadata": {},
   "outputs": [],
   "source": [
    "buffer_street_broadway = create_buffers(broadway_10thave_layer, dissolve_type='Dissolve', distances=[0.5],\n",
    "               ring_type='Rings', units='Miles', output_name=\"buffer_of_br0adway_street\")"
   ]
  },
  {
   "cell_type": "code",
   "execution_count": 105,
   "metadata": {},
   "outputs": [
    {
     "data": {
      "application/vnd.jupyter.widget-view+json": {
       "model_id": "73699e3bdffe4a2e8e911465ab91a512",
       "version_major": 2,
       "version_minor": 0
      },
      "text/html": [
       "<p>Failed to display Jupyter Widget of type <code>MapView</code>.</p>\n",
       "<p>\n",
       "  If you're reading this message in the Jupyter Notebook or JupyterLab Notebook, it may mean\n",
       "  that the widgets JavaScript is still loading. If this message persists, it\n",
       "  likely means that the widgets JavaScript library is either not installed or\n",
       "  not enabled. See the <a href=\"https://ipywidgets.readthedocs.io/en/stable/user_install.html\">Jupyter\n",
       "  Widgets Documentation</a> for setup instructions.\n",
       "</p>\n",
       "<p>\n",
       "  If you're reading this message in another frontend (for example, a static\n",
       "  rendering on GitHub or <a href=\"https://nbviewer.jupyter.org/\">NBViewer</a>),\n",
       "  it may mean that your frontend doesn't currently support widgets.\n",
       "</p>\n"
      ],
      "text/plain": [
       "MapView(basemaps=['dark-gray', 'dark-gray-vector', 'gray', 'gray-vector', 'hybrid', 'national-geographic', 'oceans', 'osm', 'satellite', 'streets', 'streets-navigation-vector', 'streets-night-vector', 'streets-relief-vector', 'streets-vector', 'terrain', 'topo', 'topo-vector'], center=[0, 0])"
      ]
     },
     "metadata": {},
     "output_type": "display_data"
    }
   ],
   "source": [
    "buffer_street_broadway_map = gis.map('Seattle')\n",
    "buffer_street_broadway_map"
   ]
  },
  {
   "cell_type": "code",
   "execution_count": 106,
   "metadata": {},
   "outputs": [],
   "source": [
    "buffer_street_broadway_map.add_layer(buffer_street_broadway)"
   ]
  },
  {
   "cell_type": "markdown",
   "metadata": {},
   "source": [
    "Repeat the process once more for 24th Ave and 23rd Ave."
   ]
  },
  {
   "cell_type": "code",
   "execution_count": 126,
   "metadata": {},
   "outputs": [],
   "source": [
    "ave_2324 = find_existing_locations(input_layers=[{'url': busy_streets_layer.url}, {'url': bike_route_neighbourhood.url}], \n",
    "                        expressions=[{\"operator\":\"\",\"layer\":0,\"where\":\"ORD_STNAME = '23RD AVE'\"},\n",
    "                                     {\"operator\":\"or\",\"layer\":0,\"where\":\"ORD_STNAME = '23RD AVE E'\"},\n",
    "                                     {\"operator\":\"or\",\"layer\":0,\"where\":\"ORD_STNAME = '24TH AVE E'\"},\n",
    "                                     {\"operator\":\"or\",\"layer\":0,\"where\":\"ORD_STNAME = 'TURNER WAY E'\"},\n",
    "                                     {\"operator\":\"and\",\"layer\":0,\"selectingLayer\":1,\"spatialRel\":\"withinDistance\",\"distance\":0.001,\"units\":\"Feet\"}],\n",
    "                                       output_name='23_AVE_24_AVE')"
   ]
  },
  {
   "cell_type": "code",
   "execution_count": 130,
   "metadata": {},
   "outputs": [],
   "source": [
    "ave_2324_layer = ave_2324.layers[0]"
   ]
  },
  {
   "cell_type": "code",
   "execution_count": 128,
   "metadata": {},
   "outputs": [
    {
     "data": {
      "application/vnd.jupyter.widget-view+json": {
       "model_id": "47b4c307e7ef4e6684359fbc31d7a0ef",
       "version_major": 2,
       "version_minor": 0
      },
      "text/html": [
       "<p>Failed to display Jupyter Widget of type <code>MapView</code>.</p>\n",
       "<p>\n",
       "  If you're reading this message in the Jupyter Notebook or JupyterLab Notebook, it may mean\n",
       "  that the widgets JavaScript is still loading. If this message persists, it\n",
       "  likely means that the widgets JavaScript library is either not installed or\n",
       "  not enabled. See the <a href=\"https://ipywidgets.readthedocs.io/en/stable/user_install.html\">Jupyter\n",
       "  Widgets Documentation</a> for setup instructions.\n",
       "</p>\n",
       "<p>\n",
       "  If you're reading this message in another frontend (for example, a static\n",
       "  rendering on GitHub or <a href=\"https://nbviewer.jupyter.org/\">NBViewer</a>),\n",
       "  it may mean that your frontend doesn't currently support widgets.\n",
       "</p>\n"
      ],
      "text/plain": [
       "MapView(basemaps=['dark-gray', 'dark-gray-vector', 'gray', 'gray-vector', 'hybrid', 'national-geographic', 'oceans', 'osm', 'satellite', 'streets', 'streets-navigation-vector', 'streets-night-vector', 'streets-relief-vector', 'streets-vector', 'terrain', 'topo', 'topo-vector'], center=[0, 0])"
      ]
     },
     "metadata": {},
     "output_type": "display_data"
    }
   ],
   "source": [
    "ave_2324_map = gis.map('Seattle')\n",
    "ave_2324_map"
   ]
  },
  {
   "cell_type": "code",
   "execution_count": 129,
   "metadata": {},
   "outputs": [],
   "source": [
    "ave_2324_map.add_layer(ave_2324)"
   ]
  },
  {
   "cell_type": "code",
   "execution_count": 131,
   "metadata": {},
   "outputs": [],
   "source": [
    "buffer_street_2324ave = create_buffers(ave_2324_layer, dissolve_type='Dissolve', distances=[0.5],\n",
    "               ring_type='Rings', units='Miles', output_name=\"Buffer_0f_2324ave_Street\")"
   ]
  },
  {
   "cell_type": "code",
   "execution_count": 132,
   "metadata": {},
   "outputs": [
    {
     "data": {
      "application/vnd.jupyter.widget-view+json": {
       "model_id": "207c9d367bbc45d39880b138ba49d1a8",
       "version_major": 2,
       "version_minor": 0
      },
      "text/html": [
       "<p>Failed to display Jupyter Widget of type <code>MapView</code>.</p>\n",
       "<p>\n",
       "  If you're reading this message in the Jupyter Notebook or JupyterLab Notebook, it may mean\n",
       "  that the widgets JavaScript is still loading. If this message persists, it\n",
       "  likely means that the widgets JavaScript library is either not installed or\n",
       "  not enabled. See the <a href=\"https://ipywidgets.readthedocs.io/en/stable/user_install.html\">Jupyter\n",
       "  Widgets Documentation</a> for setup instructions.\n",
       "</p>\n",
       "<p>\n",
       "  If you're reading this message in another frontend (for example, a static\n",
       "  rendering on GitHub or <a href=\"https://nbviewer.jupyter.org/\">NBViewer</a>),\n",
       "  it may mean that your frontend doesn't currently support widgets.\n",
       "</p>\n"
      ],
      "text/plain": [
       "MapView(basemaps=['dark-gray', 'dark-gray-vector', 'gray', 'gray-vector', 'hybrid', 'national-geographic', 'oceans', 'osm', 'satellite', 'streets', 'streets-navigation-vector', 'streets-night-vector', 'streets-relief-vector', 'streets-vector', 'terrain', 'topo', 'topo-vector'], center=[0, 0])"
      ]
     },
     "metadata": {},
     "output_type": "display_data"
    }
   ],
   "source": [
    "buffer_street_2324ave_map = gis.map('Seattle')\n",
    "buffer_street_2324ave_map"
   ]
  },
  {
   "cell_type": "code",
   "execution_count": 133,
   "metadata": {},
   "outputs": [],
   "source": [
    "buffer_street_2324ave_map.add_layer(buffer_street_2324ave)"
   ]
  },
  {
   "cell_type": "code",
   "execution_count": 143,
   "metadata": {},
   "outputs": [
    {
     "data": {
      "application/vnd.jupyter.widget-view+json": {
       "model_id": "85b198f822824adcaa9ee9debd615aa8",
       "version_major": 2,
       "version_minor": 0
      },
      "text/html": [
       "<p>Failed to display Jupyter Widget of type <code>MapView</code>.</p>\n",
       "<p>\n",
       "  If you're reading this message in the Jupyter Notebook or JupyterLab Notebook, it may mean\n",
       "  that the widgets JavaScript is still loading. If this message persists, it\n",
       "  likely means that the widgets JavaScript library is either not installed or\n",
       "  not enabled. See the <a href=\"https://ipywidgets.readthedocs.io/en/stable/user_install.html\">Jupyter\n",
       "  Widgets Documentation</a> for setup instructions.\n",
       "</p>\n",
       "<p>\n",
       "  If you're reading this message in another frontend (for example, a static\n",
       "  rendering on GitHub or <a href=\"https://nbviewer.jupyter.org/\">NBViewer</a>),\n",
       "  it may mean that your frontend doesn't currently support widgets.\n",
       "</p>\n"
      ],
      "text/plain": [
       "MapView(basemaps=['dark-gray', 'dark-gray-vector', 'gray', 'gray-vector', 'hybrid', 'national-geographic', 'oceans', 'osm', 'satellite', 'streets', 'streets-navigation-vector', 'streets-night-vector', 'streets-relief-vector', 'streets-vector', 'terrain', 'topo', 'topo-vector'], center=[0, 0])"
      ]
     },
     "metadata": {},
     "output_type": "display_data"
    }
   ],
   "source": [
    "all_buffers_map = gis.map('Seattle')\n",
    "all_buffers_map"
   ]
  },
  {
   "cell_type": "code",
   "execution_count": 144,
   "metadata": {},
   "outputs": [],
   "source": [
    "all_buffers_map.add_layer(buffer_street)\n",
    "all_buffers_map.add_layer(buffer_street_broadway)\n",
    "all_buffers_map.add_layer(buffer_street_2324ave)"
   ]
  },
  {
   "cell_type": "markdown",
   "metadata": {},
   "source": [
    "## Determine the effectiveness of the selected routes"
   ]
  },
  {
   "cell_type": "markdown",
   "metadata": {},
   "source": [
    "The length of potential bike lanes within the neighborhood will be compared to the length of all of the streets within the neighborhood. Select the streets (SEGMENT_TY=1) within Capitol Hill using Find Existing Locations. "
   ]
  },
  {
   "cell_type": "code",
   "execution_count": 125,
   "metadata": {},
   "outputs": [],
   "source": [
    "capitol_hill_streets = find_existing_locations(input_layers=[{'url': bike_route_streets.url}, {'url': bike_route_neighbourhood.url}], \n",
    "                        expressions=[{\"operator\":\"\",\"layer\":0,\"where\":\"SEGMENT_TY = 1\"},\n",
    "                                     {\"operator\":\"and\",\"layer\":0,\"selectingLayer\":1,\"spatialRel\":\"withinDistance\",\"distance\":3.5,\"units\":\"Feet\"}],\n",
    "                                       output_name='capitol_hill_street')"
   ]
  },
  {
   "cell_type": "markdown",
   "metadata": {},
   "source": [
    "## Applying population data"
   ]
  },
  {
   "cell_type": "markdown",
   "metadata": {},
   "source": [
    "Use Merge Layers tool to combine the three buffers into a single layer. You will have to run the tool twice to merge all three buffers."
   ]
  },
  {
   "cell_type": "code",
   "execution_count": 134,
   "metadata": {},
   "outputs": [],
   "source": [
    "from arcgis.features.manage_data import merge_layers"
   ]
  },
  {
   "cell_type": "code",
   "execution_count": 139,
   "metadata": {},
   "outputs": [],
   "source": [
    "merge_of_madison_broadway_buffer = merge_layers(buffer_street, buffer_street_broadway, output_name='merge1')"
   ]
  },
  {
   "cell_type": "code",
   "execution_count": 140,
   "metadata": {},
   "outputs": [],
   "source": [
    "merge_all_buffers = merge_layers(merge_of_madison_broadway_buffer, buffer_street_2324ave, output_name='merge')"
   ]
  },
  {
   "cell_type": "code",
   "execution_count": 141,
   "metadata": {},
   "outputs": [
    {
     "data": {
      "application/vnd.jupyter.widget-view+json": {
       "model_id": "3114ded4f7d6464c9ff64cb95864474a",
       "version_major": 2,
       "version_minor": 0
      },
      "text/html": [
       "<p>Failed to display Jupyter Widget of type <code>MapView</code>.</p>\n",
       "<p>\n",
       "  If you're reading this message in the Jupyter Notebook or JupyterLab Notebook, it may mean\n",
       "  that the widgets JavaScript is still loading. If this message persists, it\n",
       "  likely means that the widgets JavaScript library is either not installed or\n",
       "  not enabled. See the <a href=\"https://ipywidgets.readthedocs.io/en/stable/user_install.html\">Jupyter\n",
       "  Widgets Documentation</a> for setup instructions.\n",
       "</p>\n",
       "<p>\n",
       "  If you're reading this message in another frontend (for example, a static\n",
       "  rendering on GitHub or <a href=\"https://nbviewer.jupyter.org/\">NBViewer</a>),\n",
       "  it may mean that your frontend doesn't currently support widgets.\n",
       "</p>\n"
      ],
      "text/plain": [
       "MapView(basemaps=['dark-gray', 'dark-gray-vector', 'gray', 'gray-vector', 'hybrid', 'national-geographic', 'oceans', 'osm', 'satellite', 'streets', 'streets-navigation-vector', 'streets-night-vector', 'streets-relief-vector', 'streets-vector', 'terrain', 'topo', 'topo-vector'], center=[0, 0])"
      ]
     },
     "metadata": {},
     "output_type": "display_data"
    }
   ],
   "source": [
    "buffer_map = gis.map('Seattle')\n",
    "buffer_map"
   ]
  },
  {
   "cell_type": "code",
   "execution_count": 145,
   "metadata": {},
   "outputs": [],
   "source": [
    "buffer_map.add_layer(merge_all_buffers)"
   ]
  },
  {
   "cell_type": "markdown",
   "metadata": {},
   "source": [
    "Use Dissolve Boundaries tool on the merged buffers so that all of the buffers are in a single polygon."
   ]
  },
  {
   "cell_type": "code",
   "execution_count": 146,
   "metadata": {},
   "outputs": [],
   "source": [
    "from arcgis.features.manage_data import dissolve_boundaries"
   ]
  },
  {
   "cell_type": "code",
   "execution_count": 147,
   "metadata": {},
   "outputs": [],
   "source": [
    "dissolve = dissolve_boundaries(merge_all_buffers, output_name='dissolvedLayer')"
   ]
  },
  {
   "cell_type": "code",
   "execution_count": 151,
   "metadata": {},
   "outputs": [
    {
     "data": {
      "application/vnd.jupyter.widget-view+json": {
       "model_id": "bfb483e26cc444b38b6bc40c9b07a6b9",
       "version_major": 2,
       "version_minor": 0
      },
      "text/html": [
       "<p>Failed to display Jupyter Widget of type <code>MapView</code>.</p>\n",
       "<p>\n",
       "  If you're reading this message in the Jupyter Notebook or JupyterLab Notebook, it may mean\n",
       "  that the widgets JavaScript is still loading. If this message persists, it\n",
       "  likely means that the widgets JavaScript library is either not installed or\n",
       "  not enabled. See the <a href=\"https://ipywidgets.readthedocs.io/en/stable/user_install.html\">Jupyter\n",
       "  Widgets Documentation</a> for setup instructions.\n",
       "</p>\n",
       "<p>\n",
       "  If you're reading this message in another frontend (for example, a static\n",
       "  rendering on GitHub or <a href=\"https://nbviewer.jupyter.org/\">NBViewer</a>),\n",
       "  it may mean that your frontend doesn't currently support widgets.\n",
       "</p>\n"
      ],
      "text/plain": [
       "MapView(basemaps=['dark-gray', 'dark-gray-vector', 'gray', 'gray-vector', 'hybrid', 'national-geographic', 'oceans', 'osm', 'satellite', 'streets', 'streets-navigation-vector', 'streets-night-vector', 'streets-relief-vector', 'streets-vector', 'terrain', 'topo', 'topo-vector'], center=[0, 0])"
      ]
     },
     "metadata": {},
     "output_type": "display_data"
    }
   ],
   "source": [
    "dissolve_map = gis.map('Seattle')\n",
    "dissolve_map"
   ]
  },
  {
   "cell_type": "code",
   "execution_count": 152,
   "metadata": {},
   "outputs": [],
   "source": [
    "dissolve_map.add_layer(dissolve)"
   ]
  },
  {
   "cell_type": "markdown",
   "metadata": {},
   "source": [
    "Use Overlay Layers tool to clip the dissolved buffers to the shape of Capitol Hill. The clipped buffers will be used to determine the number of Capitol Hill residents that live within 1/2 mile of the bike routes."
   ]
  },
  {
   "cell_type": "code",
   "execution_count": 154,
   "metadata": {},
   "outputs": [],
   "source": [
    "from arcgis.features.manage_data import overlay_layers"
   ]
  },
  {
   "cell_type": "code",
   "execution_count": 164,
   "metadata": {},
   "outputs": [],
   "source": [
    "cliped_buffer = overlay_layers(dissolve, bike_route_neighbourhood, tolerance=0, context={},\n",
    "                           output_name=\"clipedbuffer\")"
   ]
  },
  {
   "cell_type": "code",
   "execution_count": 170,
   "metadata": {},
   "outputs": [],
   "source": [
    "cliped_buffer_layer = cliped_buffer.layers[0]"
   ]
  },
  {
   "cell_type": "code",
   "execution_count": 166,
   "metadata": {},
   "outputs": [
    {
     "data": {
      "application/vnd.jupyter.widget-view+json": {
       "model_id": "ed6f09939bea4816a647336255b7e722",
       "version_major": 2,
       "version_minor": 0
      },
      "text/html": [
       "<p>Failed to display Jupyter Widget of type <code>MapView</code>.</p>\n",
       "<p>\n",
       "  If you're reading this message in the Jupyter Notebook or JupyterLab Notebook, it may mean\n",
       "  that the widgets JavaScript is still loading. If this message persists, it\n",
       "  likely means that the widgets JavaScript library is either not installed or\n",
       "  not enabled. See the <a href=\"https://ipywidgets.readthedocs.io/en/stable/user_install.html\">Jupyter\n",
       "  Widgets Documentation</a> for setup instructions.\n",
       "</p>\n",
       "<p>\n",
       "  If you're reading this message in another frontend (for example, a static\n",
       "  rendering on GitHub or <a href=\"https://nbviewer.jupyter.org/\">NBViewer</a>),\n",
       "  it may mean that your frontend doesn't currently support widgets.\n",
       "</p>\n"
      ],
      "text/plain": [
       "MapView(basemaps=['dark-gray', 'dark-gray-vector', 'gray', 'gray-vector', 'hybrid', 'national-geographic', 'oceans', 'osm', 'satellite', 'streets', 'streets-navigation-vector', 'streets-night-vector', 'streets-relief-vector', 'streets-vector', 'terrain', 'topo', 'topo-vector'], center=[0, 0])"
      ]
     },
     "metadata": {},
     "output_type": "display_data"
    }
   ],
   "source": [
    "cliped_buffer_map = gis.map('Seattle')\n",
    "cliped_buffer_map"
   ]
  },
  {
   "cell_type": "code",
   "execution_count": 167,
   "metadata": {},
   "outputs": [],
   "source": [
    "cliped_buffer_map.add_layer(cliped_buffer)"
   ]
  },
  {
   "cell_type": "markdown",
   "metadata": {},
   "source": [
    "Use Enrich Layer tool to add population data to the clipped layer made in the previous step.  "
   ]
  },
  {
   "cell_type": "code",
   "execution_count": 168,
   "metadata": {},
   "outputs": [],
   "source": [
    "from arcgis.features.enrich_data import enrich_layer"
   ]
  },
  {
   "cell_type": "code",
   "execution_count": 171,
   "metadata": {},
   "outputs": [],
   "source": [
    "clipped_enrich = enrich_layer(cliped_buffer_layer, \n",
    "                              analysis_variables=[\"AtRisk.TOTPOP_CY\"], \n",
    "                              output_name='enrich_pop')"
   ]
  },
  {
   "cell_type": "markdown",
   "metadata": {},
   "source": [
    "Use Enrich Layer to add population data to Capitol Hill. Use the same population variable as in the previous step."
   ]
  },
  {
   "cell_type": "code",
   "execution_count": 172,
   "metadata": {},
   "outputs": [],
   "source": [
    "capitolhill_enrich = enrich_layer(bike_route_neighbourhood, \n",
    "                              analysis_variables=[\"AtRisk.TOTPOP_CY\"], \n",
    "                              output_name='capitolhill_enrich_pop')"
   ]
  },
  {
   "cell_type": "code",
   "execution_count": 48,
   "metadata": {},
   "outputs": [
    {
     "ename": "NameError",
     "evalue": "name 'clipped_enrich' is not defined",
     "output_type": "error",
     "traceback": [
      "\u001b[1;31m---------------------------------------------------------------------------\u001b[0m",
      "\u001b[1;31mNameError\u001b[0m                                 Traceback (most recent call last)",
      "\u001b[1;32m<ipython-input-48-63ce74e837cf>\u001b[0m in \u001b[0;36m<module>\u001b[1;34m()\u001b[0m\n\u001b[1;32m----> 1\u001b[1;33m gt = clipped_enrich.layers[0].query(where='1=1', returnGeometry=False, spatialRel='esriSpatialRelIntersects',\n\u001b[0m\u001b[0;32m      2\u001b[0m                                \u001b[0moutFields\u001b[0m\u001b[1;33m=\u001b[0m\u001b[1;34m'TOTPOP_CY'\u001b[0m\u001b[1;33m,\u001b[0m\u001b[1;33m\u001b[0m\u001b[0m\n\u001b[0;32m      3\u001b[0m                                outStatistics=[{\"statisticType\":\"count\",\"onStatisticField\":\"TOTPOP_CY\",\"outStatisticFieldName\":\"countField\"},{\"statisticType\":\"sum\",\"onStatisticField\":\"TOTPOP_CY\",\"outStatisticFieldName\":\"sumField\"},{\"statisticType\":\"min\",\"onStatisticField\":\"TOTPOP_CY\",\"outStatisticFieldName\":\"minField\"},{\"statisticType\":\"max\",\"onStatisticField\":\"TOTPOP_CY\",\"outStatisticFieldName\":\"maxField\"},{\"statisticType\":\"avg\",\"onStatisticField\":\"TOTPOP_CY\",\"outStatisticFieldName\":\"avgField\"},{\"statisticType\":\"stddev\",\"onStatisticField\":\"TOTPOP_CY\",\"outStatisticFieldName\":\"stddevField\"}])\n",
      "\u001b[1;31mNameError\u001b[0m: name 'clipped_enrich' is not defined"
     ]
    }
   ],
   "source": [
    "gt = clipped_enrich.layers[0].query(where='1=1', returnGeometry=False, spatialRel='esriSpatialRelIntersects',\n",
    "                               outFields='TOTPOP_CY',\n",
    "                               outStatistics=[{\"statisticType\":\"count\",\"onStatisticField\":\"TOTPOP_CY\",\"outStatisticFieldName\":\"countField\"},{\"statisticType\":\"sum\",\"onStatisticField\":\"TOTPOP_CY\",\"outStatisticFieldName\":\"sumField\"},{\"statisticType\":\"min\",\"onStatisticField\":\"TOTPOP_CY\",\"outStatisticFieldName\":\"minField\"},{\"statisticType\":\"max\",\"onStatisticField\":\"TOTPOP_CY\",\"outStatisticFieldName\":\"maxField\"},{\"statisticType\":\"avg\",\"onStatisticField\":\"TOTPOP_CY\",\"outStatisticFieldName\":\"avgField\"},{\"statisticType\":\"stddev\",\"onStatisticField\":\"TOTPOP_CY\",\"outStatisticFieldName\":\"stddevField\"}])"
   ]
  }
 ],
 "metadata": {
  "kernelspec": {
   "display_name": "Python 3",
   "language": "python",
   "name": "python3"
  },
  "language_info": {
   "codemirror_mode": {
    "name": "ipython",
    "version": 3
   },
   "file_extension": ".py",
   "mimetype": "text/x-python",
   "name": "python",
   "nbconvert_exporter": "python",
   "pygments_lexer": "ipython3",
   "version": "3.6.4"
  }
 },
 "nbformat": 4,
 "nbformat_minor": 2
}
