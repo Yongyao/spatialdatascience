{
 "cells": [
  {
   "cell_type": "markdown",
   "metadata": {},
   "source": [
    "# <font size=\"7\"> Overview: Designate Bike Routes for Commuting Professionals </font>"
   ]
  },
  {
   "cell_type": "markdown",
   "metadata": {},
   "source": [
    "<font size=\"6\">Changing your commute method </font>\n",
    "\n",
    "A long commute each morning and evening is a part of the workday for many professionals. Businesses, cities, and individuals have begun to realize the practical and health-related benefits of switching out a vehicle for a bicycle when traveling to and from work. More bicycle commuters means less traffic congestion on streets, less cars idling at stoplights, and overall less vehicle-related air pollution. Businesses and individuals realize that people who are more physically active also tend to be healthier overall. For businesses, this means fewer employees taking sick days. For individuals, it may mean less money spent on medical bills, gym memberships, and gas or vehicle repairs. All of these factors have led to a push for more bike lanes in cities to make commuting via bicycle easier and safer.\n",
    "\n",
    "<font size=\"6\">Making roads safe for bikers </font>\n",
    "\n",
    "The City of Seattle, Washington, has undertaken a project to increase the number of bike lanes within the City. One aspect of the project is the addition of protected bike lanes on busy streets that offer a barrier between the bike lane and cars driving on the road. The Urban Planner in charge of the project decides that, when the project is complete, every residence will be within ½ mile of a bike route. The ½-mile goal will increase bike lane accessibility in all neighborhoods across the City so all residents will have the option to bike, regardless of where they live within the City. He also aims for at least 5 percent of the total length of streets to have bicycle lanes, a figure that is on par with Portland, Oregon, one of the most bicycle-friendly cities in the United States. The following analysis and workflow explores high-demand areas for commuters to get the project started and determine whether the Planner's goals are realistic in Seattle."
   ]
  },
  {
   "cell_type": "markdown",
   "metadata": {},
   "source": [
    "![](bikeroutesimages/road.png)"
   ]
  },
  {
   "cell_type": "markdown",
   "metadata": {},
   "source": [
    "A protected bike lane in Vancouver, British Columbia, Canada (<a href=\"http://desktop.arcgis.com/en/analytics/case-studies/designate-bike-routes-for-commuters.htm#ESRI_SECTION2_EADFB8AF6E804A318C8095BB4AA374E8\">photo info </a>)"
   ]
  },
  {
   "cell_type": "markdown",
   "metadata": {},
   "source": [
    "Where are the high-demand neighborhoods?\n",
    "\n",
    "<a href=\"http://doc.arcgis.com/en/esri-demographics/data/tapestry-segmentation.htm\">Esri Tapestry Segmentation</a> is a resource for businesses that classifies every ZIP Code in the United States into one of <a href=\"http://doc.arcgis.com/en/esri-demographics/data/tapestry-segmentation.htm#ESRI_SECTION1_87F5D845F8E04723AE1F4F502FF3B636\">67 segments</a> based on demographic and socioeconomic factors. The segment classification of each ZIP Code can be used to understand the people who live there, from their lifestyle choices to their consumer habits. The Tapestry data can be accessed <a href=\"https://www.esri.com/en-us/arcgis/products/tapestry-segmentation/overview\">online</a> in a basic form or as feature layers and data enrichment in ArcGIS Online (requires an <a href=\"https://www.esri.com/en-us/arcgis/trial\">ArcGIS Online subscription</a> and consumes <a href=\"http://doc.arcgis.com/en/arcgis-online/reference/credits.htm\">credits</a>.)\n",
    "\n",
    "The Esri Tapestry Segmentation was used to select a neighborhood in the vicinity of the downtown office core where commuting professionals are expected to live. The neighborhood in the 98112 ZIP Code, called Capitol Hill, contains the <a href=\"http://downloads.esri.com/esri_content_doc/dbl/us/tapestry/segment6.pdf\">Urban Chic</a>, <a href=\"http://downloads.esri.com/esri_content_doc/dbl/us/tapestry/segment10.pdf\">Laptops and Lattes</a>, and <a href=\"http://downloads.esri.com/esri_content_doc/dbl/us/tapestry/segment11.pdf\">Metro Renters segments</a>. All three of the segments designated in the ZIP Code mention environmental awareness and biking, which makes the ZIP Code a good choice to get the bike lane project started. The 98112 ZIP Code was also chosen for its proximity to the downtown office core and its median income and age, which indicate it is an area where young professionals may live."
   ]
  },
  {
   "cell_type": "markdown",
   "metadata": {},
   "source": [
    "Esri Community Tapestry provides information about the income, age, and population density at the state, county, and ZIP Code levels."
   ]
  },
  {
   "cell_type": "markdown",
   "metadata": {},
   "source": [
    "Which roads would make good bike routes?\n",
    "\n",
    "Protected bike lanes can be built on arterial streets because a barrier offers protection from road traffic. The streets designated for bike routes were chosen so the routes would be straight, direct, and have maximum coverage. Madison Street was the first street chosen because it runs directly between Capitol Hill and Downtown.\n",
    "![](bikeroutesimages/madison.jpg)\n",
    "Madison Street runs directly from Capitol Hill to Downtown, making it a good candidate for a protected bike lane.\n",
    "\n",
    "\n",
    "Part of the purpose of this analysis is for the Urban Planner to determine the amount of coverage the bike lanes have within the neighborhood, including the percentage of street length with bike routes and the number of people within ½ mile of a bike route. Since the analysis is focused on one high-demand neighborhood, the coverage metrics were only calculated for the area within Capitol Hill, even though the bike lanes would, in reality, stretch outside of the neighborhood's boundaries. Three bike routes were required to cover the neighborhood with ½-mile buffers. The three bike routes are long, straight, and reach to the different edges of the neighborhood. Madison Street also intersects with the other two streets, although one of the intersection points is located outside of Capitol Hill, which makes it easy for a commuter to travel down one of the north–south streets and take Madison Street the rest of the way downtown."
   ]
  },
  {
   "cell_type": "markdown",
   "metadata": {},
   "source": [
    "![](bikeroutesimages/route.jpg)\n",
    "Three bike routes were required to cover Capitol Hill with ½-mile buffers."
   ]
  },
  {
   "cell_type": "markdown",
   "metadata": {},
   "source": [
    "How much coverage do the chosen routes offer?\n",
    "\n",
    "\n",
    "The total length of streets in Capitol Hill was calculated as well as the total length of the three bike routes within Capitol Hill. The two lengths were used to calculate a percentage of total street length that has a designated bike route. The calculation works out to just over 6 percent, which is larger than the target 5 percent that the Urban Planner chose to put Seattle on par with Portland.\n",
    "![](bikeroutesimages/street.jpg)\n",
    "The total length of streets in Capitol Hill was used to calculate a percentage of street length with designated bike routes.\n",
    "\n",
    "\n",
    "The Planner must also determine how much of the neighborhood is within ½ mile of a bike lane. The goal the planner has set is to have the entire city within ½ mile of a bike lane to maximize the accessibility of the lanes to all of the residents. The Planner calculates the area of Capitol Hill as well as the area of the ½-mile buffers that are within the neighborhood. He then calculates the percentage of Capitol Hill that is within the ½-mile buffer. The percentage works out to approximately 97.7 percent, which is very close to the target.\n",
    "![](bikeroutesimages/buffers.jpg)\n",
    "\n",
    "The buffers were clipped to the shape of Capitol Hill and used to calculate a percentage of area within ½ mile of designated bike routes."
   ]
  },
  {
   "cell_type": "markdown",
   "metadata": {},
   "source": [
    "How many people are within ½ mile of the bike lanes?\n",
    "While it is important to have a high percentage of the area of Capitol Hill within the bike lanes, it is more important to make sure the residents live within that area. The Urban Planner has access to census data, as well as building footprints for Seattle, so he decides to use Filtered Area Weighting to determine both the population of Capitol Hill and the number of Capitol Hill residents within ½ mile of the bike lanes. The two populations can then be used to calculate the percentage of Capitol Hill residents that are within ½ mile of a bike route.\n",
    "\n",
    "Area Weighting can be a useful tool when you are trying to quantify population or demographic data within new boundaries. The figure below will be used as an example to explain two Area Weighting techniques. The hypothetical community in the figure contains three neighborhoods (blue, green, and orange) with known populations as well as an area of interest (yellow) with an unknown population. Area Weighting can be used to calculate the population of the yellow circle by multiplying the population of each neighborhood by the percentage of area within the circle and adding the three results. The estimated population in the example below is the following:\n",
    "(10*0.55) + (2*0.30) + (5*0.40)\n",
    "= 8.1\n",
    "\n",
    "![](bikeroutesimages/chart.png)\n",
    "\n",
    "The population of the yellow circle can be estimated using Area Weighting. The estimated population is approximately eight people.\n",
    "The population estimate in the figure above is approximately eight people using a simple Area Weighting technique. However, the Area Weighting method seen above is very simplistic: it assumes the population is distributed uniformly across each neighborhood. A uniform population distribution is rarely seen in the real world; for instance, if the community seen above had a lake within its boundaries, there would be a large area with no population at all. A Filtered Area Weighting methodology can be used to reduce the error associated with making an estimate on area alone. A Filtered Area Weighting model uses an ancillary feature, such as building locations, to give a more accurate depiction of what proportion of the population is within the area of interest. In the example below, the houses represent where the population is located. The new estimated population within the yellow circle is the following:\n",
    "(10*(4/8)) + (2*(1/2)) + (5*(1/5))\n",
    "= 7\n",
    "\n",
    "![](bikeroutesimages/chart2.png)\n",
    "\n",
    "The population of the yellow circle can also be estimated using Filtered Area Weighting, with house locations as the ancillary feature. The new estimated population is seven people.\n",
    "\n",
    "The Planner used his population estimations to calculate the percentage of the Capitol Hill population located within ½ mile of a bike route. He determined that approximately 99.5 percent of the population is within the ½-mile buffers."
   ]
  },
  {
   "cell_type": "markdown",
   "metadata": {},
   "source": [
    "## Workflow using Python ArcGIS"
   ]
  },
  {
   "cell_type": "markdown",
   "metadata": {},
   "source": [
    "Establish a connection to your organization which could be an ArcGIS Online organization or an ArcGIS Enterprise. To be able to run the code using ArcGIS python, you would need to provide credentials of a user within an ArcGIS Online organization."
   ]
  },
  {
   "cell_type": "code",
   "execution_count": 2,
   "metadata": {},
   "outputs": [],
   "source": [
    "from arcgis import *"
   ]
  },
  {
   "cell_type": "code",
   "execution_count": 3,
   "metadata": {},
   "outputs": [],
   "source": [
    "gis = GIS(\"https://deldev.maps.arcgis.com\", \"demos_deldev\", \"DelDevs12\")"
   ]
  },
  {
   "cell_type": "markdown",
   "metadata": {},
   "source": [
    "Search the data and begin performing the analysis"
   ]
  },
  {
   "cell_type": "markdown",
   "metadata": {},
   "source": [
    "Accessing the content property of your gis object you can use the `search()` method. \n",
    "Search for **seatle_bike_routes** content made by other users by turning the **outside_org** to True."
   ]
  },
  {
   "cell_type": "code",
   "execution_count": 4,
   "metadata": {},
   "outputs": [
    {
     "data": {
      "text/html": [
       "<div class=\"item_container\" style=\"height: auto; overflow: hidden; border: 1px solid #cfcfcf; border-radius: 2px; background: #f6fafa; line-height: 1.21429em; padding: 10px;\">\n",
       "                    <div class=\"item_left\" style=\"width: 210px; float: left;\">\n",
       "                       <a href='https://deldev.maps.arcgis.com/home/item.html?id=0e199091d6b9416b9abb6655e1975d44' target='_blank'>\n",
       "                        <img src='data:image/png;base64,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' width='200' height='133' class=\"itemThumbnail\">\n",
       "                       </a>\n",
       "                    </div>\n",
       "\n",
       "                    <div class=\"item_right\"     style=\"float: none; width: auto; overflow: hidden;\">\n",
       "                        <a href='https://deldev.maps.arcgis.com/home/item.html?id=0e199091d6b9416b9abb6655e1975d44' target='_blank'><b>SeattleBikeRoutes</b>\n",
       "                        </a>\n",
       "                        <br/>Seattle bike routes case study<img src='https://deldev.maps.arcgis.com/home/js/jsapi/esri/css/images/item_type_icons/featureshosted16.png' style=\"vertical-align:middle;\">Feature Layer Collection by VickiCove\n",
       "                        <br/>Last Modified: April 12, 2016\n",
       "                        <br/>0 comments, 38 views\n",
       "                    </div>\n",
       "                </div>\n",
       "                "
      ],
      "text/plain": [
       "<Item title:\"SeattleBikeRoutes\" type:Feature Layer Collection owner:VickiCove>"
      ]
     },
     "execution_count": 4,
     "metadata": {},
     "output_type": "execute_result"
    }
   ],
   "source": [
    "seattle_bike_routes = gis.content.search('title: \"SeattleBikeRoutes\"', 'Feature layer', outside_org=True)[0]\n",
    "seattle_bike_routes"
   ]
  },
  {
   "cell_type": "markdown",
   "metadata": {},
   "source": [
    "Import the **display** module to display the items."
   ]
  },
  {
   "cell_type": "code",
   "execution_count": 5,
   "metadata": {},
   "outputs": [],
   "source": [
    "from IPython.display import display"
   ]
  },
  {
   "cell_type": "code",
   "execution_count": 6,
   "metadata": {},
   "outputs": [
    {
     "data": {
      "text/plain": [
       "'Streets'"
      ]
     },
     "metadata": {},
     "output_type": "display_data"
    },
    {
     "data": {
      "text/plain": [
       "'Neighborhoods'"
      ]
     },
     "metadata": {},
     "output_type": "display_data"
    },
    {
     "data": {
      "text/plain": [
       "'Zoning'"
      ]
     },
     "metadata": {},
     "output_type": "display_data"
    }
   ],
   "source": [
    "for lyr in seattle_bike_routes.layers:\n",
    "    display(lyr.properties.name)"
   ]
  },
  {
   "cell_type": "markdown",
   "metadata": {},
   "source": [
    "Since the item is a Feature Layer Collection, accessing the layers property will give us a list of FeatureLayer objects."
   ]
  },
  {
   "cell_type": "code",
   "execution_count": 7,
   "metadata": {},
   "outputs": [],
   "source": [
    "bike_route_zoning = seattle_bike_routes.layers[2]"
   ]
  },
  {
   "cell_type": "markdown",
   "metadata": {},
   "source": [
    "The GIS object includes a map widget for displaying geographic locations, visualizing GIS content, as well as the results of your analysis. To use the map widget, call gis.map() and assign it to a variable."
   ]
  },
  {
   "cell_type": "code",
   "execution_count": 8,
   "metadata": {},
   "outputs": [
    {
     "data": {
      "application/vnd.jupyter.widget-view+json": {
       "model_id": "156801aaa3984eeaa5d080552ddcdcbd",
       "version_major": 2,
       "version_minor": 0
      },
      "text/html": [
       "<p>Failed to display Jupyter Widget of type <code>MapView</code>.</p>\n",
       "<p>\n",
       "  If you're reading this message in the Jupyter Notebook or JupyterLab Notebook, it may mean\n",
       "  that the widgets JavaScript is still loading. If this message persists, it\n",
       "  likely means that the widgets JavaScript library is either not installed or\n",
       "  not enabled. See the <a href=\"https://ipywidgets.readthedocs.io/en/stable/user_install.html\">Jupyter\n",
       "  Widgets Documentation</a> for setup instructions.\n",
       "</p>\n",
       "<p>\n",
       "  If you're reading this message in another frontend (for example, a static\n",
       "  rendering on GitHub or <a href=\"https://nbviewer.jupyter.org/\">NBViewer</a>),\n",
       "  it may mean that your frontend doesn't currently support widgets.\n",
       "</p>\n"
      ],
      "text/plain": [
       "MapView(basemaps=['dark-gray', 'dark-gray-vector', 'gray', 'gray-vector', 'hybrid', 'national-geographic', 'oceans', 'osm', 'satellite', 'streets', 'streets-navigation-vector', 'streets-night-vector', 'streets-relief-vector', 'streets-vector', 'terrain', 'topo', 'topo-vector'], center=[0, 0])"
      ]
     },
     "metadata": {},
     "output_type": "display_data"
    }
   ],
   "source": [
    "bike_zoning_map = gis.map('Seattle')\n",
    "bike_zoning_map"
   ]
  },
  {
   "cell_type": "markdown",
   "metadata": {},
   "source": [
    "![](bikeroutesimages/1.PNG)"
   ]
  },
  {
   "cell_type": "markdown",
   "metadata": {},
   "source": [
    "Identify expected commuter neighbourhoods"
   ]
  },
  {
   "cell_type": "markdown",
   "metadata": {},
   "source": [
    "Use a Filter on the Zoning layer to select the downtown office core. The downtown office core is a good starting point for creating commuter bike lanes because it is expected to have a large number of commuters each day."
   ]
  },
  {
   "cell_type": "code",
   "execution_count": 9,
   "metadata": {},
   "outputs": [],
   "source": [
    "bike_route_zoning.filter = \"(ZONELUT_DE = 'Downtown Office Core 1') OR (ZONELUT_DE = 'Downtown Office Core 2')\""
   ]
  },
  {
   "cell_type": "code",
   "execution_count": 10,
   "metadata": {},
   "outputs": [
    {
     "data": {
      "application/vnd.jupyter.widget-view+json": {
       "model_id": "2a0cc7d2d1324707adec3635532a71a0",
       "version_major": 2,
       "version_minor": 0
      },
      "text/html": [
       "<p>Failed to display Jupyter Widget of type <code>MapView</code>.</p>\n",
       "<p>\n",
       "  If you're reading this message in the Jupyter Notebook or JupyterLab Notebook, it may mean\n",
       "  that the widgets JavaScript is still loading. If this message persists, it\n",
       "  likely means that the widgets JavaScript library is either not installed or\n",
       "  not enabled. See the <a href=\"https://ipywidgets.readthedocs.io/en/stable/user_install.html\">Jupyter\n",
       "  Widgets Documentation</a> for setup instructions.\n",
       "</p>\n",
       "<p>\n",
       "  If you're reading this message in another frontend (for example, a static\n",
       "  rendering on GitHub or <a href=\"https://nbviewer.jupyter.org/\">NBViewer</a>),\n",
       "  it may mean that your frontend doesn't currently support widgets.\n",
       "</p>\n"
      ],
      "text/plain": [
       "MapView(basemaps=['dark-gray', 'dark-gray-vector', 'gray', 'gray-vector', 'hybrid', 'national-geographic', 'oceans', 'osm', 'satellite', 'streets', 'streets-navigation-vector', 'streets-night-vector', 'streets-relief-vector', 'streets-vector', 'terrain', 'topo', 'topo-vector'], center=[0, 0])"
      ]
     },
     "metadata": {},
     "output_type": "display_data"
    }
   ],
   "source": [
    "fltr_mp = gis.map('Seattle')\n",
    "fltr_mp"
   ]
  },
  {
   "cell_type": "code",
   "execution_count": 11,
   "metadata": {},
   "outputs": [],
   "source": [
    "fltr_mp.add_layer({\"type\":\"FeatureLayer\", \n",
    "               \"url\":bike_route_zoning.url,\n",
    "               \"definition_expression\" : \"(ZONELUT_DE = 'Downtown Office Core 1') OR (ZONELUT_DE = 'Downtown Office Core 2')\",\n",
    "               \n",
    "              })"
   ]
  },
  {
   "cell_type": "markdown",
   "metadata": {},
   "source": [
    "![](bikeroutesimages/downtown.PNG)"
   ]
  },
  {
   "cell_type": "markdown",
   "metadata": {},
   "source": [
    "Esri's Tapestry Segmentation is a resource for businesses that classifies every Zip code in the United States into one of 67 segments based on demographic and socioeconomic factors.  \n",
    "\n",
    "Navigate to the <a href=\"https://www.esri.com/en-us/arcgis/products/tapestry-segmentation/overviewEsri\"> Tapestry Segmentation website </a>. Enter Zip Code 98101 to find downtown Seattle."
   ]
  },
  {
   "cell_type": "markdown",
   "metadata": {},
   "source": [
    "![](bikeroutesimages/tapestry.jpg)"
   ]
  },
  {
   "cell_type": "markdown",
   "metadata": {},
   "source": [
    "- Click on the Income tab and explore the area surrounding the downtown office core.\n",
    "Most of the zip codes around the downtown are in the $47, 728 to $67, 106 income range. Zip code 98112 is slightly higher in the $67, 107 to $99, 321 range.\n",
    "\n",
    "- Click on the Age tab and explore the area surrounding the downtown office core.\n",
    "The median age in the 98112 zip code is relatively young (between 34.8 and 41.8). It is also surrounded by zip codes with slightly younger median ages (between 14.8 and 34.7).\n",
    "\n",
    "- Click on the 98112 zip code and explore the information in the Tapestry, Income and Age tabs. Use the down arrows on the Top Tapestry Segments to learn more about the Urban Chic, Laptops and Lattes, and Metro Renters classifications. Do the same for the Tapestry Segments in the neighboring 98102 and 98122 zip codes.\n",
    "Based on the Tapestry Segments, these zip codes seem to have a lot of young, health-conscious professionals who would be likely to bike to and from work."
   ]
  },
  {
   "cell_type": "markdown",
   "metadata": {},
   "source": [
    "Anothe option is to search for Esri's Tapestry Segmentation layers in ArcGIS online. The Tapestry Segmentation layers can be zoomed in further to areas as small as Block Groups. "
   ]
  },
  {
   "cell_type": "code",
   "execution_count": 12,
   "metadata": {},
   "outputs": [],
   "source": [
    "tapestry_segmentation = gis.content.search('\"2017 USA Tapestry segmentation\"','Map Image Layer', outside_org=True)"
   ]
  },
  {
   "cell_type": "code",
   "execution_count": 13,
   "metadata": {},
   "outputs": [
    {
     "data": {
      "text/html": [
       "<div class=\"item_container\" style=\"height: auto; overflow: hidden; border: 1px solid #cfcfcf; border-radius: 2px; background: #f6fafa; line-height: 1.21429em; padding: 10px;\">\n",
       "                    <div class=\"item_left\" style=\"width: 210px; float: left;\">\n",
       "                       <a href='https://deldev.maps.arcgis.com/home/item.html?id=2aaac52171ec4221a09e2b392f09f9e5' target='_blank'>\n",
       "                        <img src='data:image/png;base64,iVBORw0KGgoAAAANSUhEUgAAAMgAAACFCAIAAACR/CB7AAAACXBIWXMAAA7EAAAOxAGVKw4bAAAIwklEQVR4nO2du4obWRCGy8s+gQLR6AUkwYDZWE4E29YDSLBoQGA2mWhjgRKNE4PDDTtbEHhYsB+gUeBkFZuBAVkvIIQCvYI3qJnymW6N1JdzU/f/BabVunQP/buqTp1TdV79+PGDANDNL65vIMmS1q5vAWjglVcWaxTPdodt0GjdDCYhdV3fDiiOF8Ja0jqk7iieffn+lYiGnT4R3Qwm8gGI7OJwL6xRPOMDVhUR9ZptIgoard1hywefBx9c3R4ohmNhsapEUkfpNdvsHNWTsGGe40xYLCmOqE4Li2EzJojUoDA/cSMsDtJX+w0R9ZptPsiLSG0+nqrnITUfcCAsCdJ1IQpb7Te9Zpt1Bnm55VfXN6AB1eCt9pv3dx+JiMZTaMsh3iVIy1PMsQK92BaWdj8I/MSSK+SJmiheQFU1wYaweAxIcFJ1woawJLMA6kMFg3fgAzaENR9Ph51+InUOqo0NYYXU/Tz4MB9Poa36YM8VhtSFtuoDYixgBKtTOiF1aTyN4gWyD5XHtsXieCtotIJGq9dswzNWFUvCWtJ6FM9G8YxT8LyUiuVl5waAZWwIa0lrnsxhDyh1OLvD1tAMz2q/ieKFiV8GGTEeY6lr+mRNC6KrymNWWOm1DJBUTTDoCtnlIUKvJwaFJQNASpVCgMpjPHjnAWDaA8KSVRtLCdKjxVtRvCCEXBXFuLA4254+ebv7ZPrSwCE2LNbRapnb4Hp0P7NwdeAEnTFW3g5Eiap5UCW0WSxOr0dEu8P2bMkof1jXpYGHaBNWSF0aTIgoihdRvDhqjTiuerh/wCr4ymOvxN5yBdiw00fzI4fYW4/Fvo/noUHlsbRshicN4QHrg9WFflBVfbC0HsvCVYBX2LNY5WcG08WJmG30Fkt1heVzocNO/2Yw4ZXy/JKbK/O/wDcsWayQukGjpaohl7Hhb72/+8jhP3+Xi2DVDwB/0CMsqZJIs6S1+pakG7IH8myr+CvyrZvBhLvD05Oq0krlSyPCc4LZBClP3cgkz/u7j6yMYaefMU0qvbjlu3yG35UUqDpHpKbKsMmFK8wmSHmeJ4oXj49WWT+TMafFuweI1RHrRc/nIvlCfEZS/PxWFC/oubbE1AFzuGnHvaS1WKATqNMy3Bc+7yzNm7t3fDAfT3lXFe4sj9ke07jcQODL96/S5F2co5zhxtqqESpgZhLWS4B/NI3jnSnSqLGXqq0ysIEkIgnOOOyDtszhrM+7umEJBz3y+IWg0WL/VdJzSTMS9WQ69gIacdbGKKSuPFQ+iOKFWJRes81xuq5kAdeikdI2QsvPgpfwqz+WZAo4vg6p+9KawcKodiuKF8hyGcL9foXCm7t3nFVnVUkQtjts/xv/o+sqamyHEaI5fNlLZxTPeDCYeNLmhm+sKkJaywzuLVaisEJVlYlHnrjc0XQrKI9jYUmm1OYSddHWYzU2sg8GcCYsSV3a3/hZAvbE9CK0pRE3MZZMrdDT/qg2nyhf63b3Se4B2QftOEg38LiM1x1cvb4id/GN6Ak12dqxarFkqP/T6wXOVHUbXC+DZ0ks+EGNWC1Y5Wwnnl8dsGexVrtvSEXWB+Mxlqxavg2uTV8L+IMpi6XmIeH7aogpYUXxAo6vzrif0gGVpEiMJZlr2R4HDUVBgnwWK5GIEoUhigIJ4AqBEfxaQQoqA4QFjABhASNAWMAIENYlcUFpHV+KKS6Fs+VipjdG4KU+/ud3IKwcSFemE58x3cD38erWl93mBXms8yRKET3p/az2Cbt6fdULfiOfpIYY6zw3g8nusOVuJb/337q+nUdW+w3f0s1gchtcc8sCQ4XdBX4WrjAHu8P2y7829mvJCLe3YCtVrH9YFrjyJcpZRgVXmIklrd/+/afru3iG6grpKfbiEhUikp4XJZ0jtzGj/C2lYLEyEcULbp7rSYBFfCf7jfSpe2S/kcbSPD4NHa2KQ4yVAw/LD48Kfdjpz8dTtlhlUl9LWhfeVAsWKyur/abn+h7OIr166Ck2onuioOCvRfFChLvab1a7b9nL9SCsHPjjB19CbOrP2ChbbxVJqUg/C3retpOIHu4fOKmRBQiranBrsVy7jSY+n/4ub9GQqyYUwqo4QaNVsttqsUZAENZ5ysSw9knc7Ut3rrbcOWGuCreXQh7rPHk9iysk1ZTenyGtj8fQ/mTgWKZpGdIN57kZTC5iY8TVfsNxtzqaI6Jes51op8P/VdRNr7QDV1g10vN63C6fj3n0l9EA7w7bwt064QozcUHekFLejacU2Zjl2nSNjxFjGeRShFWeApmFoyDGOs9ljQrLIBvVll/XhRgLPEPXwhtYrPOE1J2PpxcxMCwG71yk9zchrLrDktodtnpb7cMV1hpWFQ8A9baOhsXKBHvDYaev3WW4RR2U6C3EgLCyElK3eu3gJeOl/U+DsHLgT3GVdrT/aRBWPqpntAyl6CCs3Mz/+Mv1LehHe0EihJWPkLq94Lcq5bQMVYgg3ZCbkLpRo0Xer3/PiKFNaCCsInCk5U8fh8IMO31DIxKsbiiONJ+5RHlxQs7cJg8QVlnS64D9x8JGyRCWBlhb8tJnkakVrUaBsPSgDtelOZtvClO705gGwjJCYiv1RMEMPaUlLSvPggcUICyziMLkjDxay8FZ3j5EJYGwXKJLW5ywDRotmZ9J/6ZlYSGP5RHJZlcvfGDY6auelONxDp4k1HM+mIDFcoyMKFkcfHxUClKSpU6Ei5NNBE+ssERVNGKseiEi4JdHS81OpwlOl5WKtmx6Q0xCu4cbHsvLdEU/d+g7YWxOa0V91/T+BgKE5R2JoiD2X2XMjAReNoMtCKv6qErldgwWLgph+UgFKhmRbvCUkLq8YY6WqIh/Tc1BmAajwhrB63zsTBdCWDUikdcwCoQFjIDgHRgBwgJGgLCAEdwL64I20AbZ8St4L9yjF/iGe4uVQN2AGVwuflksZhTPrK35B4bwzmIR0e6wtba6AxjCR4tlM0EMDOGjsEAF+B/YK8dUa0r7oQAAAABJRU5ErkJggg==' width='200' height='133' class=\"itemThumbnail\">\n",
       "                       </a>\n",
       "                    </div>\n",
       "\n",
       "                    <div class=\"item_right\"     style=\"float: none; width: auto; overflow: hidden;\">\n",
       "                        <a href='https://deldev.maps.arcgis.com/home/item.html?id=2aaac52171ec4221a09e2b392f09f9e5' target='_blank'><b>2017 USA Tapestry Segmentation Layer - Demo</b>\n",
       "                        </a>\n",
       "                        <br/>This layer shows the dominant LifeMode Summary Group in the United States in 2017 by state, county, ZIP Code, tract, and block group based on Esri's Tapestry Segmentation system. ArcGIS Online subscription required.<img src='https://deldev.maps.arcgis.com/home/js/jsapi/esri/css/images/item_type_icons/mapimages16.png' style=\"vertical-align:middle;\">Map Image Layer by esri_devlabs\n",
       "                        <br/>Last Modified: January 24, 2018\n",
       "                        <br/>0 comments, 6,102 views\n",
       "                    </div>\n",
       "                </div>\n",
       "                "
      ],
      "text/plain": [
       "<Item title:\"2017 USA Tapestry Segmentation Layer - Demo\" type:Map Image Layer owner:esri_devlabs>"
      ]
     },
     "metadata": {},
     "output_type": "display_data"
    },
    {
     "data": {
      "text/html": [
       "<div class=\"item_container\" style=\"height: auto; overflow: hidden; border: 1px solid #cfcfcf; border-radius: 2px; background: #f6fafa; line-height: 1.21429em; padding: 10px;\">\n",
       "                    <div class=\"item_left\" style=\"width: 210px; float: left;\">\n",
       "                       <a href='https://deldev.maps.arcgis.com/home/item.html?id=bfb483f746c749d1b7ac0dcbb4744a61' target='_blank'>\n",
       "                        <img src='data:image/png;base64,iVBORw0KGgoAAAANSUhEUgAAAMgAAACFCAIAAACR/CB7AAAACXBIWXMAAA7EAAAOxAGVKw4bAAABbElEQVR4nO3SwQ3AIBDAsNL9dz6WIEJC9gR5ZM3MB6f9twN4k7FIGIuEsUgYi4SxSBiLhLFIGIuEsUgYi4SxSBiLhLFIGIuEsUgYi4SxSBiLhLFIGIuEsUgYi4SxSBiLhLFIGIuEsUgYi4SxSBiLhLFIGIuEsUgYi4SxSBiLhLFIGIuEsUgYi4SxSBiLhLFIGIuEsUgYi4SxSBiLhLFIGIuEsUgYi4SxSBiLhLFIGIuEsUgYi4SxSBiLhLFIGIuEsUgYi4SxSBiLhLFIGIuEsUgYi4SxSBiLhLFIGIuEsUgYi4SxSBiLhLFIGIuEsUgYi4SxSBiLhLFIGIuEsUgYi4SxSBiLhLFIGIuEsUgYi4SxSBiLhLFIGIuEsUgYi4SxSBiLhLFIGIuEsUgYi4SxSBiLhLFIGIuEsUgYi4SxSBiLhLFIGIuEsUgYi4SxSBiLhLFIGIuEsUgYi4SxSBiLhLFIGIuEsUgYi4SxSGy4dQQHgizXSQAAAABJRU5ErkJggg==' width='200' height='133' class=\"itemThumbnail\">\n",
       "                       </a>\n",
       "                    </div>\n",
       "\n",
       "                    <div class=\"item_right\"     style=\"float: none; width: auto; overflow: hidden;\">\n",
       "                        <a href='https://deldev.maps.arcgis.com/home/item.html?id=bfb483f746c749d1b7ac0dcbb4744a61' target='_blank'><b>2017 USA Tapestry Segmentation-Copy</b>\n",
       "                        </a>\n",
       "                        <br/>This layer shows the dominant LifeMode Summary Group in the United States in 2017 by state, county, ZIP Code, tract, and block group based on Esri's Tapestry Segmentation system. ArcGIS Online subscription required.<img src='https://deldev.maps.arcgis.com/home/js/jsapi/esri/css/images/item_type_icons/mapimages16.png' style=\"vertical-align:middle;\">Map Image Layer by William.Floyd@cbre.com_dimension\n",
       "                        <br/>Last Modified: August 16, 2017\n",
       "                        <br/>0 comments, 216 views\n",
       "                    </div>\n",
       "                </div>\n",
       "                "
      ],
      "text/plain": [
       "<Item title:\"2017 USA Tapestry Segmentation-Copy\" type:Map Image Layer owner:William.Floyd@cbre.com_dimension>"
      ]
     },
     "metadata": {},
     "output_type": "display_data"
    },
    {
     "data": {
      "text/html": [
       "<div class=\"item_container\" style=\"height: auto; overflow: hidden; border: 1px solid #cfcfcf; border-radius: 2px; background: #f6fafa; line-height: 1.21429em; padding: 10px;\">\n",
       "                    <div class=\"item_left\" style=\"width: 210px; float: left;\">\n",
       "                       <a href='https://deldev.maps.arcgis.com/home/item.html?id=eda0f20edc8448adaa3373cce237a57f' target='_blank'>\n",
       "                        <img src='data:image/png;base64,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' width='200' height='133' class=\"itemThumbnail\">\n",
       "                       </a>\n",
       "                    </div>\n",
       "\n",
       "                    <div class=\"item_right\"     style=\"float: none; width: auto; overflow: hidden;\">\n",
       "                        <a href='https://deldev.maps.arcgis.com/home/item.html?id=eda0f20edc8448adaa3373cce237a57f' target='_blank'><b>2017 USA Tapestry Segmentation</b>\n",
       "                        </a>\n",
       "                        <br/>This layer shows the dominant LifeMode Summary Group in the United States in 2017 by state, county, ZIP Code, tract, and block group based on Esri's Tapestry Segmentation system. ArcGIS Online subscription required.<img src='https://deldev.maps.arcgis.com/home/js/jsapi/esri/css/images/item_type_icons/mapimages16.png' style=\"vertical-align:middle;\">Map Image Layer by esri\n",
       "                        <br/>Last Modified: August 16, 2018\n",
       "                        <br/>0 comments, 1,79,439 views\n",
       "                    </div>\n",
       "                </div>\n",
       "                "
      ],
      "text/plain": [
       "<Item title:\"2017 USA Tapestry Segmentation\" type:Map Image Layer owner:esri>"
      ]
     },
     "metadata": {},
     "output_type": "display_data"
    },
    {
     "data": {
      "text/html": [
       "<div class=\"item_container\" style=\"height: auto; overflow: hidden; border: 1px solid #cfcfcf; border-radius: 2px; background: #f6fafa; line-height: 1.21429em; padding: 10px;\">\n",
       "                    <div class=\"item_left\" style=\"width: 210px; float: left;\">\n",
       "                       <a href='https://deldev.maps.arcgis.com/home/item.html?id=25b2d57154a4476ebbdf9df6b03aed4d' target='_blank'>\n",
       "                        <img src='data:image/png;base64,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' width='200' height='133' class=\"itemThumbnail\">\n",
       "                       </a>\n",
       "                    </div>\n",
       "\n",
       "                    <div class=\"item_right\"     style=\"float: none; width: auto; overflow: hidden;\">\n",
       "                        <a href='https://deldev.maps.arcgis.com/home/item.html?id=25b2d57154a4476ebbdf9df6b03aed4d' target='_blank'><b>2017 USA Tapestry Segmentation - Copy</b>\n",
       "                        </a>\n",
       "                        <br/>This layer shows the dominant LifeMode Summary Group in the United States in 2017 by state, county, ZIP Code, tract, and block group based on Esri's Tapestry Segmentation system. ArcGIS Online subscription required.<img src='https://deldev.maps.arcgis.com/home/js/jsapi/esri/css/images/item_type_icons/mapimages16.png' style=\"vertical-align:middle;\">Map Image Layer by kelly.peoples@cbre.com_dimension\n",
       "                        <br/>Last Modified: October 07, 2017\n",
       "                        <br/>0 comments, 475 views\n",
       "                    </div>\n",
       "                </div>\n",
       "                "
      ],
      "text/plain": [
       "<Item title:\"2017 USA Tapestry Segmentation - Copy\" type:Map Image Layer owner:kelly.peoples@cbre.com_dimension>"
      ]
     },
     "metadata": {},
     "output_type": "display_data"
    },
    {
     "data": {
      "text/html": [
       "<div class=\"item_container\" style=\"height: auto; overflow: hidden; border: 1px solid #cfcfcf; border-radius: 2px; background: #f6fafa; line-height: 1.21429em; padding: 10px;\">\n",
       "                    <div class=\"item_left\" style=\"width: 210px; float: left;\">\n",
       "                       <a href='https://deldev.maps.arcgis.com/home/item.html?id=928258c6a0564be8aca6070cf3b1f53b' target='_blank'>\n",
       "                        <img src='data:image/png;base64,iVBORw0KGgoAAAANSUhEUgAAAMgAAACFCAIAAACR/CB7AAAACXBIWXMAAA7EAAAOxAGVKw4bAAABbElEQVR4nO3SwQ3AIBDAsNL9dz6WIEJC9gR5ZM3MB6f9twN4k7FIGIuEsUgYi4SxSBiLhLFIGIuEsUgYi4SxSBiLhLFIGIuEsUgYi4SxSBiLhLFIGIuEsUgYi4SxSBiLhLFIGIuEsUgYi4SxSBiLhLFIGIuEsUgYi4SxSBiLhLFIGIuEsUgYi4SxSBiLhLFIGIuEsUgYi4SxSBiLhLFIGIuEsUgYi4SxSBiLhLFIGIuEsUgYi4SxSBiLhLFIGIuEsUgYi4SxSBiLhLFIGIuEsUgYi4SxSBiLhLFIGIuEsUgYi4SxSBiLhLFIGIuEsUgYi4SxSBiLhLFIGIuEsUgYi4SxSBiLhLFIGIuEsUgYi4SxSBiLhLFIGIuEsUgYi4SxSBiLhLFIGIuEsUgYi4SxSBiLhLFIGIuEsUgYi4SxSBiLhLFIGIuEsUgYi4SxSBiLhLFIGIuEsUgYi4SxSBiLhLFIGIuEsUgYi4SxSGy4dQQHgizXSQAAAABJRU5ErkJggg==' width='200' height='133' class=\"itemThumbnail\">\n",
       "                       </a>\n",
       "                    </div>\n",
       "\n",
       "                    <div class=\"item_right\"     style=\"float: none; width: auto; overflow: hidden;\">\n",
       "                        <a href='https://deldev.maps.arcgis.com/home/item.html?id=928258c6a0564be8aca6070cf3b1f53b' target='_blank'><b>2017 USA Tapestry Segmentation - Copy</b>\n",
       "                        </a>\n",
       "                        <br/>This layer shows the dominant LifeMode Summary Group in the United States in 2017 by state, county, ZIP Code, tract, and block group based on Esri's Tapestry Segmentation system. ArcGIS Online subscription required.<img src='https://deldev.maps.arcgis.com/home/js/jsapi/esri/css/images/item_type_icons/mapimages16.png' style=\"vertical-align:middle;\">Map Image Layer by swoodward@lbschools.net\n",
       "                        <br/>Last Modified: April 06, 2018\n",
       "                        <br/>0 comments, 165 views\n",
       "                    </div>\n",
       "                </div>\n",
       "                "
      ],
      "text/plain": [
       "<Item title:\"2017 USA Tapestry Segmentation - Copy\" type:Map Image Layer owner:swoodward@lbschools.net>"
      ]
     },
     "metadata": {},
     "output_type": "display_data"
    }
   ],
   "source": [
    "for item in tapestry_segmentation:\n",
    "    display(item)"
   ]
  },
  {
   "cell_type": "markdown",
   "metadata": {},
   "source": [
    "![](bikeroutesimages/layer.PNG)"
   ]
  },
  {
   "cell_type": "markdown",
   "metadata": {},
   "source": [
    "Click on some of the segments in the vicinity of the Downtown area. The area north-east of the Downtown seems to have a large population of young professionals based on the median age and income values. As you move further from Downtown to the north-east (green and orange segments), the median ages increase slightly and the median incomes also increase. Based on the Tapestry descriptions this area is home to young, health-conscious and environmentally-conscious professionals. Therefore, it will serve as a good target for the bike routes."
   ]
  },
  {
   "cell_type": "markdown",
   "metadata": {},
   "source": [
    "Click on the neighbourhood polygon to find out more about the neighbourhood identified with the tapestry segmentation data.The name of the neighbourhood is Capitol Hill."
   ]
  },
  {
   "cell_type": "code",
   "execution_count": 14,
   "metadata": {},
   "outputs": [],
   "source": [
    "bike_route_neighbourhood = seattle_bike_routes.layers[1]"
   ]
  },
  {
   "cell_type": "markdown",
   "metadata": {},
   "source": [
    "Apply a Filter to the Neighborhoods so that only Capitol Hill is showing."
   ]
  },
  {
   "cell_type": "code",
   "execution_count": 15,
   "metadata": {},
   "outputs": [],
   "source": [
    "bike_route_neighbourhood.filter = \"L_HOOD = 'CAPITOL HILL'\""
   ]
  },
  {
   "cell_type": "code",
   "execution_count": 16,
   "metadata": {},
   "outputs": [
    {
     "data": {
      "application/vnd.jupyter.widget-view+json": {
       "model_id": "cd5aae44b20243efbbeba78cc918d0da",
       "version_major": 2,
       "version_minor": 0
      },
      "text/html": [
       "<p>Failed to display Jupyter Widget of type <code>MapView</code>.</p>\n",
       "<p>\n",
       "  If you're reading this message in the Jupyter Notebook or JupyterLab Notebook, it may mean\n",
       "  that the widgets JavaScript is still loading. If this message persists, it\n",
       "  likely means that the widgets JavaScript library is either not installed or\n",
       "  not enabled. See the <a href=\"https://ipywidgets.readthedocs.io/en/stable/user_install.html\">Jupyter\n",
       "  Widgets Documentation</a> for setup instructions.\n",
       "</p>\n",
       "<p>\n",
       "  If you're reading this message in another frontend (for example, a static\n",
       "  rendering on GitHub or <a href=\"https://nbviewer.jupyter.org/\">NBViewer</a>),\n",
       "  it may mean that your frontend doesn't currently support widgets.\n",
       "</p>\n"
      ],
      "text/plain": [
       "MapView(basemaps=['dark-gray', 'dark-gray-vector', 'gray', 'gray-vector', 'hybrid', 'national-geographic', 'oceans', 'osm', 'satellite', 'streets', 'streets-navigation-vector', 'streets-night-vector', 'streets-relief-vector', 'streets-vector', 'terrain', 'topo', 'topo-vector'], center=[0, 0])"
      ]
     },
     "metadata": {},
     "output_type": "display_data"
    }
   ],
   "source": [
    "hill_map = gis.map('Seattle')\n",
    "hill_map"
   ]
  },
  {
   "cell_type": "code",
   "execution_count": 17,
   "metadata": {},
   "outputs": [],
   "source": [
    "hill_map.add_layer({\"type\":\"FeatureLayer\", \n",
    "               \"url\":bike_route_neighbourhood.url,\n",
    "               \"definition_expression\" : \"L_HOOD = 'CAPITOL HILL'\",\n",
    "               \n",
    "              })"
   ]
  },
  {
   "cell_type": "markdown",
   "metadata": {},
   "source": [
    "![](bikeroutesimages/L_hood.PNG)"
   ]
  },
  {
   "cell_type": "code",
   "execution_count": 18,
   "metadata": {},
   "outputs": [],
   "source": [
    "bike_route_streets = seattle_bike_routes.layers[0]"
   ]
  },
  {
   "cell_type": "code",
   "execution_count": 19,
   "metadata": {
    "scrolled": true
   },
   "outputs": [
    {
     "data": {
      "application/vnd.jupyter.widget-view+json": {
       "model_id": "d54f18a453434d9788ff928882230a7d",
       "version_major": 2,
       "version_minor": 0
      },
      "text/html": [
       "<p>Failed to display Jupyter Widget of type <code>MapView</code>.</p>\n",
       "<p>\n",
       "  If you're reading this message in the Jupyter Notebook or JupyterLab Notebook, it may mean\n",
       "  that the widgets JavaScript is still loading. If this message persists, it\n",
       "  likely means that the widgets JavaScript library is either not installed or\n",
       "  not enabled. See the <a href=\"https://ipywidgets.readthedocs.io/en/stable/user_install.html\">Jupyter\n",
       "  Widgets Documentation</a> for setup instructions.\n",
       "</p>\n",
       "<p>\n",
       "  If you're reading this message in another frontend (for example, a static\n",
       "  rendering on GitHub or <a href=\"https://nbviewer.jupyter.org/\">NBViewer</a>),\n",
       "  it may mean that your frontend doesn't currently support widgets.\n",
       "</p>\n"
      ],
      "text/plain": [
       "MapView(basemaps=['dark-gray', 'dark-gray-vector', 'gray', 'gray-vector', 'hybrid', 'national-geographic', 'oceans', 'osm', 'satellite', 'streets', 'streets-navigation-vector', 'streets-night-vector', 'streets-relief-vector', 'streets-vector', 'terrain', 'topo', 'topo-vector'], center=[0, 0])"
      ]
     },
     "metadata": {},
     "output_type": "display_data"
    }
   ],
   "source": [
    "bike_street_map = gis.map('Seattle')\n",
    "bike_street_map"
   ]
  },
  {
   "cell_type": "markdown",
   "metadata": {},
   "source": [
    "![](bikeroutesimages/2.PNG)"
   ]
  },
  {
   "cell_type": "code",
   "execution_count": 20,
   "metadata": {},
   "outputs": [],
   "source": [
    "bike_street_map.add_layer(bike_route_streets)"
   ]
  },
  {
   "cell_type": "markdown",
   "metadata": {},
   "source": [
    "In order for Capitol Hill to be a good candidate for commuting bike routes the whole neighborhood must be within a reasonable biking distance from the downtown. Use the Measure tool (available in a web map) to calculate the approximate distance people in Capitol Hill may have to commute to get to the Downtown Office Core. The furthest points are approximately 3.7 miles apart, which is an easy distance for most young adults to bike."
   ]
  },
  {
   "cell_type": "markdown",
   "metadata": {},
   "source": [
    "Identify potential bike routes\n",
    "\n",
    "The Streets layer includes main streets, trails, and other street types. Look at the trails first to determine if they can be used for commuting.\n",
    "Filter the Streets so that only the trails are showing.\n",
    "There are only three trails in the neighborhood and they are not long enough to be used for commuting. Remove the filter from the Streets layer."
   ]
  },
  {
   "cell_type": "code",
   "execution_count": 21,
   "metadata": {},
   "outputs": [
    {
     "data": {
      "application/vnd.jupyter.widget-view+json": {
       "model_id": "35531b4b9c8c44f890ecd4b9f8550001",
       "version_major": 2,
       "version_minor": 0
      },
      "text/html": [
       "<p>Failed to display Jupyter Widget of type <code>MapView</code>.</p>\n",
       "<p>\n",
       "  If you're reading this message in the Jupyter Notebook or JupyterLab Notebook, it may mean\n",
       "  that the widgets JavaScript is still loading. If this message persists, it\n",
       "  likely means that the widgets JavaScript library is either not installed or\n",
       "  not enabled. See the <a href=\"https://ipywidgets.readthedocs.io/en/stable/user_install.html\">Jupyter\n",
       "  Widgets Documentation</a> for setup instructions.\n",
       "</p>\n",
       "<p>\n",
       "  If you're reading this message in another frontend (for example, a static\n",
       "  rendering on GitHub or <a href=\"https://nbviewer.jupyter.org/\">NBViewer</a>),\n",
       "  it may mean that your frontend doesn't currently support widgets.\n",
       "</p>\n"
      ],
      "text/plain": [
       "MapView(basemaps=['dark-gray', 'dark-gray-vector', 'gray', 'gray-vector', 'hybrid', 'national-geographic', 'oceans', 'osm', 'satellite', 'streets', 'streets-navigation-vector', 'streets-night-vector', 'streets-relief-vector', 'streets-vector', 'terrain', 'topo', 'topo-vector'], center=[0, 0])"
      ]
     },
     "metadata": {},
     "output_type": "display_data"
    }
   ],
   "source": [
    "bike_street_filtered_map = gis.map('Seattle')\n",
    "bike_street_filtered_map"
   ]
  },
  {
   "cell_type": "markdown",
   "metadata": {},
   "source": [
    "![](bikeroutesimages/3.PNG)"
   ]
  },
  {
   "cell_type": "code",
   "execution_count": 22,
   "metadata": {},
   "outputs": [],
   "source": [
    "bike_street_filtered_map.add_layer({\"type\":\"FeatureLayer\", \n",
    "               \"url\":bike_route_streets.url,\n",
    "               \"definition_expression\" : \"SEGMENT_TY = 8\",\n",
    "               \n",
    "              })"
   ]
  },
  {
   "cell_type": "markdown",
   "metadata": {},
   "source": [
    "There are not enough trails in the Capitol Hill neighborhood so bike lanes will have to be created on pre-existing streets. Since Seattle wants to build protected bike lanes, we will look at busier streets first to find the most direct routes. \n",
    "Use Find Existing Locations tool to select the arterial streets."
   ]
  },
  {
   "cell_type": "code",
   "execution_count": 23,
   "metadata": {},
   "outputs": [],
   "source": [
    "from arcgis.features.find_locations import find_existing_locations"
   ]
  },
  {
   "cell_type": "code",
   "execution_count": 24,
   "metadata": {},
   "outputs": [
    {
     "data": {
      "text/plain": [
       "'https://services6.arcgis.com/sdbe23RSJ4l0hdpd/arcgis/rest/services/SeattleBikeRoutes/FeatureServer/0'"
      ]
     },
     "execution_count": 24,
     "metadata": {},
     "output_type": "execute_result"
    }
   ],
   "source": [
    " bike_route_streets.url"
   ]
  },
  {
   "cell_type": "code",
   "execution_count": 25,
   "metadata": {},
   "outputs": [],
   "source": [
    "arterial_streets = find_existing_locations(input_layers=[ {'url': bike_route_streets.url}], \n",
    "                        expressions=[{\"operator\":\"\",\"layer\":0,\"where\":\"SEGMENT_TY = 1\"},\n",
    "                                     {\"operator\":\"and\",\"layer\":0,\"where\":\"ARTERIAL_C = 1\"}],\n",
    "                                       output_name='arterial street1')"
   ]
  },
  {
   "cell_type": "code",
   "execution_count": 26,
   "metadata": {},
   "outputs": [],
   "source": [
    "from arcgis.features import FeatureLayerCollection"
   ]
  },
  {
   "cell_type": "code",
   "execution_count": 27,
   "metadata": {},
   "outputs": [
    {
     "data": {
      "text/plain": [
       "<FeatureSet> 6605 features"
      ]
     },
     "execution_count": 27,
     "metadata": {},
     "output_type": "execute_result"
    }
   ],
   "source": [
    "arterial_streets.layers[0].query(return_geometry=False, where='1=1')"
   ]
  },
  {
   "cell_type": "code",
   "execution_count": 28,
   "metadata": {},
   "outputs": [
    {
     "data": {
      "text/html": [
       "<div class=\"item_container\" style=\"height: auto; overflow: hidden; border: 1px solid #cfcfcf; border-radius: 2px; background: #f6fafa; line-height: 1.21429em; padding: 10px;\">\n",
       "                    <div class=\"item_left\" style=\"width: 210px; float: left;\">\n",
       "                       <a href='https://deldev.maps.arcgis.com/home/item.html?id=aa51bc76bd174fd6b2220173b1e1d7bb' target='_blank'>\n",
       "                        <img src='http://static.arcgis.com/images/desktopapp.png' class=\"itemThumbnail\">\n",
       "                       </a>\n",
       "                    </div>\n",
       "\n",
       "                    <div class=\"item_right\"     style=\"float: none; width: auto; overflow: hidden;\">\n",
       "                        <a href='https://deldev.maps.arcgis.com/home/item.html?id=aa51bc76bd174fd6b2220173b1e1d7bb' target='_blank'><b>arterial street1</b>\n",
       "                        </a>\n",
       "                        <br/><img src='https://deldev.maps.arcgis.com/home/js/jsapi/esri/css/images/item_type_icons/featureshosted16.png' style=\"vertical-align:middle;\">Feature Layer Collection by demos_deldev\n",
       "                        <br/>Last Modified: September 04, 2018\n",
       "                        <br/>0 comments, 0 views\n",
       "                    </div>\n",
       "                </div>\n",
       "                "
      ],
      "text/plain": [
       "<Item title:\"arterial street1\" type:Feature Layer Collection owner:demos_deldev>"
      ]
     },
     "execution_count": 28,
     "metadata": {},
     "output_type": "execute_result"
    }
   ],
   "source": [
    "arterial_streets"
   ]
  },
  {
   "cell_type": "code",
   "execution_count": 29,
   "metadata": {},
   "outputs": [
    {
     "data": {
      "application/vnd.jupyter.widget-view+json": {
       "model_id": "c8c68650cefc4687a7e7605717caeb02",
       "version_major": 2,
       "version_minor": 0
      },
      "text/html": [
       "<p>Failed to display Jupyter Widget of type <code>MapView</code>.</p>\n",
       "<p>\n",
       "  If you're reading this message in the Jupyter Notebook or JupyterLab Notebook, it may mean\n",
       "  that the widgets JavaScript is still loading. If this message persists, it\n",
       "  likely means that the widgets JavaScript library is either not installed or\n",
       "  not enabled. See the <a href=\"https://ipywidgets.readthedocs.io/en/stable/user_install.html\">Jupyter\n",
       "  Widgets Documentation</a> for setup instructions.\n",
       "</p>\n",
       "<p>\n",
       "  If you're reading this message in another frontend (for example, a static\n",
       "  rendering on GitHub or <a href=\"https://nbviewer.jupyter.org/\">NBViewer</a>),\n",
       "  it may mean that your frontend doesn't currently support widgets.\n",
       "</p>\n"
      ],
      "text/plain": [
       "MapView(basemaps=['dark-gray', 'dark-gray-vector', 'gray', 'gray-vector', 'hybrid', 'national-geographic', 'oceans', 'osm', 'satellite', 'streets', 'streets-navigation-vector', 'streets-night-vector', 'streets-relief-vector', 'streets-vector', 'terrain', 'topo', 'topo-vector'], center=[0, 0])"
      ]
     },
     "metadata": {},
     "output_type": "display_data"
    }
   ],
   "source": [
    "arteraial_map = gis.map('Seattle')\n",
    "arteraial_map"
   ]
  },
  {
   "cell_type": "markdown",
   "metadata": {},
   "source": [
    "![](bikeroutesimages/4.PNG)"
   ]
  },
  {
   "cell_type": "code",
   "execution_count": 30,
   "metadata": {},
   "outputs": [],
   "source": [
    "arteraial_map.add_layer(arterial_streets)"
   ]
  },
  {
   "cell_type": "markdown",
   "metadata": {},
   "source": [
    "Examine the arterial roads in and around the Capitol Hill neighborhood. One road runs through the entire south-eastern side of the neighborhood and into the Downtown Office Core. According to the basemap the street is called E Madison St. Click the street and check the information in the pop-up box.\n",
    "The highlighted line shows that the streets are stored as segments, with their breaks at each intersection, rather than as single continuous lines. Therefore, the segments need to be collected together to be used as a continuous street. The ORD_STREET and ORD_STNAME fields will be used to make street selections."
   ]
  },
  {
   "cell_type": "markdown",
   "metadata": {},
   "source": [
    "The highlighted line shows that the streets are stored as segments, with their breaks at each intersection, rather than as single continuous lines. Therefore, the segments need to be collected together to be used as a continuous street. The ORD_STREET and ORD_STNAME fields will be used to make street selections.\n",
    " "
   ]
  },
  {
   "cell_type": "markdown",
   "metadata": {},
   "source": [
    "![](bikeroutesimages/Emadison.PNG)"
   ]
  },
  {
   "cell_type": "code",
   "execution_count": 31,
   "metadata": {},
   "outputs": [],
   "source": [
    "arterial_streets_layer = arterial_streets.layers[0]"
   ]
  },
  {
   "cell_type": "code",
   "execution_count": 32,
   "metadata": {},
   "outputs": [
    {
     "data": {
      "text/plain": [
       "'https://services6.arcgis.com/SMX5BErCXLM7eDtY/arcgis/rest/services/arterial street1/FeatureServer/0'"
      ]
     },
     "execution_count": 32,
     "metadata": {},
     "output_type": "execute_result"
    }
   ],
   "source": [
    "arterial_streets_layer.url"
   ]
  },
  {
   "cell_type": "code",
   "execution_count": 33,
   "metadata": {},
   "outputs": [
    {
     "data": {
      "text/plain": [
       "'https://services6.arcgis.com/sdbe23RSJ4l0hdpd/arcgis/rest/services/SeattleBikeRoutes/FeatureServer/1'"
      ]
     },
     "execution_count": 33,
     "metadata": {},
     "output_type": "execute_result"
    }
   ],
   "source": [
    "bike_route_neighbourhood.url"
   ]
  },
  {
   "cell_type": "code",
   "execution_count": 34,
   "metadata": {},
   "outputs": [
    {
     "data": {
      "text/plain": [
       "'https://services6.arcgis.com/SMX5BErCXLM7eDtY/arcgis/rest/services/arterial street1/FeatureServer/0'"
      ]
     },
     "execution_count": 34,
     "metadata": {},
     "output_type": "execute_result"
    }
   ],
   "source": [
    "arterial_streets_layer.url"
   ]
  },
  {
   "cell_type": "markdown",
   "metadata": {},
   "source": [
    "# Python API Bug!!!"
   ]
  },
  {
   "cell_type": "code",
   "execution_count": 34,
   "metadata": {},
   "outputs": [
    {
     "ename": "TypeError",
     "evalue": "Object of type 'FeatureLayer' is not JSON serializable",
     "output_type": "error",
     "traceback": [
      "\u001b[1;31m---------------------------------------------------------------------------\u001b[0m",
      "\u001b[1;31mTypeError\u001b[0m                                 Traceback (most recent call last)",
      "\u001b[1;32m<ipython-input-34-36f29e1ef2f7>\u001b[0m in \u001b[0;36m<module>\u001b[1;34m()\u001b[0m\n\u001b[0;32m      2\u001b[0m                         expressions=[{\"operator\":\"\",\"layer\":0,\"where\":\"ORD_STREET = 'MADISON'\"},\n\u001b[0;32m      3\u001b[0m                                      {\"operator\":\"and\",\"layer\":0,\"selectingLayer\":1,\"spatialRel\":\"withinDistance\",\"distance\":3.5,\"units\":\"Feet\"}],\n\u001b[1;32m----> 4\u001b[1;33m                                        output_name='Madison Street')\n\u001b[0m",
      "\u001b[1;32m~\\Anaconda3\\lib\\site-packages\\arcgis\\features\\find_locations.py\u001b[0m in \u001b[0;36mfind_existing_locations\u001b[1;34m(input_layers, expressions, output_name, context, gis)\u001b[0m\n\u001b[0;32m     53\u001b[0m         \u001b[0mexpressions\u001b[0m\u001b[1;33m,\u001b[0m\u001b[1;33m\u001b[0m\u001b[0m\n\u001b[0;32m     54\u001b[0m         \u001b[0moutput_name\u001b[0m\u001b[1;33m,\u001b[0m\u001b[1;33m\u001b[0m\u001b[0m\n\u001b[1;32m---> 55\u001b[1;33m         context)\n\u001b[0m\u001b[0;32m     56\u001b[0m \u001b[1;33m\u001b[0m\u001b[0m\n\u001b[0;32m     57\u001b[0m \u001b[1;33m\u001b[0m\u001b[0m\n",
      "\u001b[1;32m~\\Anaconda3\\lib\\site-packages\\arcgis\\_impl\\tools.py\u001b[0m in \u001b[0;36mfind_existing_locations\u001b[1;34m(self, input_layers, expressions, output_name, context)\u001b[0m\n\u001b[0;32m   1316\u001b[0m             \u001b[0mparams\u001b[0m\u001b[1;33m[\u001b[0m\u001b[1;34m\"context\"\u001b[0m\u001b[1;33m]\u001b[0m \u001b[1;33m=\u001b[0m \u001b[0mcontext\u001b[0m\u001b[1;33m\u001b[0m\u001b[0m\n\u001b[0;32m   1317\u001b[0m \u001b[1;33m\u001b[0m\u001b[0m\n\u001b[1;32m-> 1318\u001b[1;33m         \u001b[0mtask_url\u001b[0m\u001b[1;33m,\u001b[0m \u001b[0mjob_info\u001b[0m\u001b[1;33m,\u001b[0m \u001b[0mjob_id\u001b[0m \u001b[1;33m=\u001b[0m \u001b[0msuper\u001b[0m\u001b[1;33m(\u001b[0m\u001b[1;33m)\u001b[0m\u001b[1;33m.\u001b[0m\u001b[0m_analysis_job\u001b[0m\u001b[1;33m(\u001b[0m\u001b[0mtask\u001b[0m\u001b[1;33m,\u001b[0m \u001b[0mparams\u001b[0m\u001b[1;33m)\u001b[0m\u001b[1;33m\u001b[0m\u001b[0m\n\u001b[0m\u001b[0;32m   1319\u001b[0m \u001b[1;33m\u001b[0m\u001b[0m\n\u001b[0;32m   1320\u001b[0m         \u001b[0mjob_info\u001b[0m \u001b[1;33m=\u001b[0m \u001b[0msuper\u001b[0m\u001b[1;33m(\u001b[0m\u001b[1;33m)\u001b[0m\u001b[1;33m.\u001b[0m\u001b[0m_analysis_job_status\u001b[0m\u001b[1;33m(\u001b[0m\u001b[0mtask_url\u001b[0m\u001b[1;33m,\u001b[0m \u001b[0mjob_info\u001b[0m\u001b[1;33m)\u001b[0m\u001b[1;33m\u001b[0m\u001b[0m\n",
      "\u001b[1;32m~\\Anaconda3\\lib\\site-packages\\arcgis\\_impl\\tools.py\u001b[0m in \u001b[0;36m_analysis_job\u001b[1;34m(self, task, params)\u001b[0m\n\u001b[0;32m    142\u001b[0m         \u001b[0mparams\u001b[0m\u001b[1;33m[\u001b[0m\u001b[1;34m\"f\"\u001b[0m\u001b[1;33m]\u001b[0m \u001b[1;33m=\u001b[0m \u001b[1;34m\"json\"\u001b[0m\u001b[1;33m\u001b[0m\u001b[0m\n\u001b[0;32m    143\u001b[0m \u001b[1;33m\u001b[0m\u001b[0m\n\u001b[1;32m--> 144\u001b[1;33m         \u001b[0mresp\u001b[0m \u001b[1;33m=\u001b[0m \u001b[0mself\u001b[0m\u001b[1;33m.\u001b[0m\u001b[0m_con\u001b[0m\u001b[1;33m.\u001b[0m\u001b[0mpost\u001b[0m\u001b[1;33m(\u001b[0m\u001b[0msubmit_url\u001b[0m\u001b[1;33m,\u001b[0m \u001b[0mparams\u001b[0m\u001b[1;33m,\u001b[0m \u001b[0mtoken\u001b[0m\u001b[1;33m=\u001b[0m\u001b[0mself\u001b[0m\u001b[1;33m.\u001b[0m\u001b[0m_token\u001b[0m\u001b[1;33m)\u001b[0m\u001b[1;33m\u001b[0m\u001b[0m\n\u001b[0m\u001b[0;32m    145\u001b[0m         \u001b[1;31m#print(resp)\u001b[0m\u001b[1;33m\u001b[0m\u001b[1;33m\u001b[0m\u001b[0m\n\u001b[0;32m    146\u001b[0m         \u001b[1;32mreturn\u001b[0m \u001b[0mtask_url\u001b[0m\u001b[1;33m,\u001b[0m \u001b[0mresp\u001b[0m\u001b[1;33m,\u001b[0m \u001b[0mresp\u001b[0m\u001b[1;33m[\u001b[0m\u001b[1;34m'jobId'\u001b[0m\u001b[1;33m]\u001b[0m\u001b[1;33m\u001b[0m\u001b[0m\n",
      "\u001b[1;32m~\\Anaconda3\\lib\\site-packages\\arcgis\\_impl\\connection.py\u001b[0m in \u001b[0;36mpost\u001b[1;34m(self, path, postdata, files, ssl, compress, is_retry, use_ordered_dict, add_token, verify_cert, token, try_json, out_folder, file_name, force_bytes, add_headers)\u001b[0m\n\u001b[0;32m   1086\u001b[0m             \u001b[0mencoded_postdata\u001b[0m \u001b[1;33m=\u001b[0m \u001b[1;32mNone\u001b[0m\u001b[1;33m\u001b[0m\u001b[0m\n\u001b[0;32m   1087\u001b[0m             \u001b[1;32mif\u001b[0m \u001b[0mpostdata\u001b[0m\u001b[1;33m:\u001b[0m\u001b[1;33m\u001b[0m\u001b[0m\n\u001b[1;32m-> 1088\u001b[1;33m                 \u001b[0mpostdata\u001b[0m \u001b[1;33m=\u001b[0m \u001b[1;33m{\u001b[0m\u001b[0mk\u001b[0m\u001b[1;33m:\u001b[0m \u001b[0mjsonize_dict\u001b[0m\u001b[1;33m(\u001b[0m\u001b[0mv\u001b[0m\u001b[1;33m)\u001b[0m \u001b[1;32mfor\u001b[0m \u001b[0mk\u001b[0m\u001b[1;33m,\u001b[0m \u001b[0mv\u001b[0m \u001b[1;32min\u001b[0m \u001b[0mpostdata\u001b[0m\u001b[1;33m.\u001b[0m\u001b[0mitems\u001b[0m\u001b[1;33m(\u001b[0m\u001b[1;33m)\u001b[0m\u001b[1;33m}\u001b[0m\u001b[1;33m\u001b[0m\u001b[0m\n\u001b[0m\u001b[0;32m   1089\u001b[0m                 \u001b[0mencoded_postdata\u001b[0m \u001b[1;33m=\u001b[0m \u001b[0murlencode\u001b[0m\u001b[1;33m(\u001b[0m\u001b[0mpostdata\u001b[0m\u001b[1;33m)\u001b[0m\u001b[1;33m\u001b[0m\u001b[0m\n\u001b[0;32m   1090\u001b[0m             \u001b[1;32mif\u001b[0m \u001b[0mself\u001b[0m\u001b[1;33m.\u001b[0m\u001b[0m_referer\u001b[0m\u001b[1;33m:\u001b[0m\u001b[1;33m\u001b[0m\u001b[0m\n",
      "\u001b[1;32m~\\Anaconda3\\lib\\site-packages\\arcgis\\_impl\\connection.py\u001b[0m in \u001b[0;36m<dictcomp>\u001b[1;34m(.0)\u001b[0m\n\u001b[0;32m   1086\u001b[0m             \u001b[0mencoded_postdata\u001b[0m \u001b[1;33m=\u001b[0m \u001b[1;32mNone\u001b[0m\u001b[1;33m\u001b[0m\u001b[0m\n\u001b[0;32m   1087\u001b[0m             \u001b[1;32mif\u001b[0m \u001b[0mpostdata\u001b[0m\u001b[1;33m:\u001b[0m\u001b[1;33m\u001b[0m\u001b[0m\n\u001b[1;32m-> 1088\u001b[1;33m                 \u001b[0mpostdata\u001b[0m \u001b[1;33m=\u001b[0m \u001b[1;33m{\u001b[0m\u001b[0mk\u001b[0m\u001b[1;33m:\u001b[0m \u001b[0mjsonize_dict\u001b[0m\u001b[1;33m(\u001b[0m\u001b[0mv\u001b[0m\u001b[1;33m)\u001b[0m \u001b[1;32mfor\u001b[0m \u001b[0mk\u001b[0m\u001b[1;33m,\u001b[0m \u001b[0mv\u001b[0m \u001b[1;32min\u001b[0m \u001b[0mpostdata\u001b[0m\u001b[1;33m.\u001b[0m\u001b[0mitems\u001b[0m\u001b[1;33m(\u001b[0m\u001b[1;33m)\u001b[0m\u001b[1;33m}\u001b[0m\u001b[1;33m\u001b[0m\u001b[0m\n\u001b[0m\u001b[0;32m   1089\u001b[0m                 \u001b[0mencoded_postdata\u001b[0m \u001b[1;33m=\u001b[0m \u001b[0murlencode\u001b[0m\u001b[1;33m(\u001b[0m\u001b[0mpostdata\u001b[0m\u001b[1;33m)\u001b[0m\u001b[1;33m\u001b[0m\u001b[0m\n\u001b[0;32m   1090\u001b[0m             \u001b[1;32mif\u001b[0m \u001b[0mself\u001b[0m\u001b[1;33m.\u001b[0m\u001b[0m_referer\u001b[0m\u001b[1;33m:\u001b[0m\u001b[1;33m\u001b[0m\u001b[0m\n",
      "\u001b[1;32m~\\Anaconda3\\lib\\site-packages\\arcgis\\_impl\\connection.py\u001b[0m in \u001b[0;36mjsonize_dict\u001b[1;34m(val)\u001b[0m\n\u001b[0;32m    198\u001b[0m \u001b[1;32mdef\u001b[0m \u001b[0mjsonize_dict\u001b[0m\u001b[1;33m(\u001b[0m\u001b[0mval\u001b[0m\u001b[1;33m)\u001b[0m\u001b[1;33m:\u001b[0m\u001b[1;33m\u001b[0m\u001b[0m\n\u001b[0;32m    199\u001b[0m     \u001b[1;32mif\u001b[0m \u001b[0misinstance\u001b[0m\u001b[1;33m(\u001b[0m\u001b[0mval\u001b[0m\u001b[1;33m,\u001b[0m \u001b[1;33m(\u001b[0m\u001b[0mdict\u001b[0m\u001b[1;33m,\u001b[0m \u001b[0mlist\u001b[0m\u001b[1;33m)\u001b[0m\u001b[1;33m)\u001b[0m\u001b[1;33m:\u001b[0m\u001b[1;33m\u001b[0m\u001b[0m\n\u001b[1;32m--> 200\u001b[1;33m         \u001b[1;32mreturn\u001b[0m \u001b[0mjson\u001b[0m\u001b[1;33m.\u001b[0m\u001b[0mdumps\u001b[0m\u001b[1;33m(\u001b[0m\u001b[0mval\u001b[0m\u001b[1;33m)\u001b[0m\u001b[1;33m\u001b[0m\u001b[0m\n\u001b[0m\u001b[0;32m    201\u001b[0m     \u001b[1;32melse\u001b[0m\u001b[1;33m:\u001b[0m\u001b[1;33m\u001b[0m\u001b[0m\n\u001b[0;32m    202\u001b[0m         \u001b[1;32mreturn\u001b[0m \u001b[0mval\u001b[0m\u001b[1;33m\u001b[0m\u001b[0m\n",
      "\u001b[1;32m~\\Anaconda3\\lib\\json\\__init__.py\u001b[0m in \u001b[0;36mdumps\u001b[1;34m(obj, skipkeys, ensure_ascii, check_circular, allow_nan, cls, indent, separators, default, sort_keys, **kw)\u001b[0m\n\u001b[0;32m    229\u001b[0m         \u001b[0mcls\u001b[0m \u001b[1;32mis\u001b[0m \u001b[1;32mNone\u001b[0m \u001b[1;32mand\u001b[0m \u001b[0mindent\u001b[0m \u001b[1;32mis\u001b[0m \u001b[1;32mNone\u001b[0m \u001b[1;32mand\u001b[0m \u001b[0mseparators\u001b[0m \u001b[1;32mis\u001b[0m \u001b[1;32mNone\u001b[0m \u001b[1;32mand\u001b[0m\u001b[1;33m\u001b[0m\u001b[0m\n\u001b[0;32m    230\u001b[0m         default is None and not sort_keys and not kw):\n\u001b[1;32m--> 231\u001b[1;33m         \u001b[1;32mreturn\u001b[0m \u001b[0m_default_encoder\u001b[0m\u001b[1;33m.\u001b[0m\u001b[0mencode\u001b[0m\u001b[1;33m(\u001b[0m\u001b[0mobj\u001b[0m\u001b[1;33m)\u001b[0m\u001b[1;33m\u001b[0m\u001b[0m\n\u001b[0m\u001b[0;32m    232\u001b[0m     \u001b[1;32mif\u001b[0m \u001b[0mcls\u001b[0m \u001b[1;32mis\u001b[0m \u001b[1;32mNone\u001b[0m\u001b[1;33m:\u001b[0m\u001b[1;33m\u001b[0m\u001b[0m\n\u001b[0;32m    233\u001b[0m         \u001b[0mcls\u001b[0m \u001b[1;33m=\u001b[0m \u001b[0mJSONEncoder\u001b[0m\u001b[1;33m\u001b[0m\u001b[0m\n",
      "\u001b[1;32m~\\Anaconda3\\lib\\json\\encoder.py\u001b[0m in \u001b[0;36mencode\u001b[1;34m(self, o)\u001b[0m\n\u001b[0;32m    197\u001b[0m         \u001b[1;31m# exceptions aren't as detailed.  The list call should be roughly\u001b[0m\u001b[1;33m\u001b[0m\u001b[1;33m\u001b[0m\u001b[0m\n\u001b[0;32m    198\u001b[0m         \u001b[1;31m# equivalent to the PySequence_Fast that ''.join() would do.\u001b[0m\u001b[1;33m\u001b[0m\u001b[1;33m\u001b[0m\u001b[0m\n\u001b[1;32m--> 199\u001b[1;33m         \u001b[0mchunks\u001b[0m \u001b[1;33m=\u001b[0m \u001b[0mself\u001b[0m\u001b[1;33m.\u001b[0m\u001b[0miterencode\u001b[0m\u001b[1;33m(\u001b[0m\u001b[0mo\u001b[0m\u001b[1;33m,\u001b[0m \u001b[0m_one_shot\u001b[0m\u001b[1;33m=\u001b[0m\u001b[1;32mTrue\u001b[0m\u001b[1;33m)\u001b[0m\u001b[1;33m\u001b[0m\u001b[0m\n\u001b[0m\u001b[0;32m    200\u001b[0m         \u001b[1;32mif\u001b[0m \u001b[1;32mnot\u001b[0m \u001b[0misinstance\u001b[0m\u001b[1;33m(\u001b[0m\u001b[0mchunks\u001b[0m\u001b[1;33m,\u001b[0m \u001b[1;33m(\u001b[0m\u001b[0mlist\u001b[0m\u001b[1;33m,\u001b[0m \u001b[0mtuple\u001b[0m\u001b[1;33m)\u001b[0m\u001b[1;33m)\u001b[0m\u001b[1;33m:\u001b[0m\u001b[1;33m\u001b[0m\u001b[0m\n\u001b[0;32m    201\u001b[0m             \u001b[0mchunks\u001b[0m \u001b[1;33m=\u001b[0m \u001b[0mlist\u001b[0m\u001b[1;33m(\u001b[0m\u001b[0mchunks\u001b[0m\u001b[1;33m)\u001b[0m\u001b[1;33m\u001b[0m\u001b[0m\n",
      "\u001b[1;32m~\\Anaconda3\\lib\\json\\encoder.py\u001b[0m in \u001b[0;36miterencode\u001b[1;34m(self, o, _one_shot)\u001b[0m\n\u001b[0;32m    255\u001b[0m                 \u001b[0mself\u001b[0m\u001b[1;33m.\u001b[0m\u001b[0mkey_separator\u001b[0m\u001b[1;33m,\u001b[0m \u001b[0mself\u001b[0m\u001b[1;33m.\u001b[0m\u001b[0mitem_separator\u001b[0m\u001b[1;33m,\u001b[0m \u001b[0mself\u001b[0m\u001b[1;33m.\u001b[0m\u001b[0msort_keys\u001b[0m\u001b[1;33m,\u001b[0m\u001b[1;33m\u001b[0m\u001b[0m\n\u001b[0;32m    256\u001b[0m                 self.skipkeys, _one_shot)\n\u001b[1;32m--> 257\u001b[1;33m         \u001b[1;32mreturn\u001b[0m \u001b[0m_iterencode\u001b[0m\u001b[1;33m(\u001b[0m\u001b[0mo\u001b[0m\u001b[1;33m,\u001b[0m \u001b[1;36m0\u001b[0m\u001b[1;33m)\u001b[0m\u001b[1;33m\u001b[0m\u001b[0m\n\u001b[0m\u001b[0;32m    258\u001b[0m \u001b[1;33m\u001b[0m\u001b[0m\n\u001b[0;32m    259\u001b[0m def _make_iterencode(markers, _default, _encoder, _indent, _floatstr,\n",
      "\u001b[1;32m~\\Anaconda3\\lib\\json\\encoder.py\u001b[0m in \u001b[0;36mdefault\u001b[1;34m(self, o)\u001b[0m\n\u001b[0;32m    178\u001b[0m         \"\"\"\n\u001b[0;32m    179\u001b[0m         raise TypeError(\"Object of type '%s' is not JSON serializable\" %\n\u001b[1;32m--> 180\u001b[1;33m                         o.__class__.__name__)\n\u001b[0m\u001b[0;32m    181\u001b[0m \u001b[1;33m\u001b[0m\u001b[0m\n\u001b[0;32m    182\u001b[0m     \u001b[1;32mdef\u001b[0m \u001b[0mencode\u001b[0m\u001b[1;33m(\u001b[0m\u001b[0mself\u001b[0m\u001b[1;33m,\u001b[0m \u001b[0mo\u001b[0m\u001b[1;33m)\u001b[0m\u001b[1;33m:\u001b[0m\u001b[1;33m\u001b[0m\u001b[0m\n",
      "\u001b[1;31mTypeError\u001b[0m: Object of type 'FeatureLayer' is not JSON serializable"
     ]
    }
   ],
   "source": [
    "madison_street = find_existing_locations(input_layers=[arterial_streets_layer, bike_route_neighbourhood], \n",
    "                        expressions=[{\"operator\":\"\",\"layer\":0,\"where\":\"ORD_STREET = 'MADISON'\"},\n",
    "                                     {\"operator\":\"and\",\"layer\":0,\"selectingLayer\":1,\"spatialRel\":\"withinDistance\",\"distance\":3.5,\"units\":\"Feet\"}],\n",
    "                                       output_name='Madison Street')"
   ]
  },
  {
   "cell_type": "markdown",
   "metadata": {},
   "source": [
    "Use Find Existing Locations to select the segments of Madison Street that are within 3.5 feet of Capitol Hill. The distance has to be used because the street shares a border with Capitol Hill and some segments are located just outside of the boundary. Note that the actual bike lane would run all the way to the Downtown Office Core , but this analysis is determining how well the lanes service a specific neighborhood, so only the sections of the road within that neighborhood are required. The Neighborhoods filter will be applied to the tool."
   ]
  },
  {
   "cell_type": "code",
   "execution_count": 35,
   "metadata": {},
   "outputs": [],
   "source": [
    "madison_street = find_existing_locations(input_layers=[ {'url': arterial_streets_layer.url}, {'url': bike_route_neighbourhood.url}], \n",
    "                        expressions=[{\"operator\":\"\",\"layer\":0,\"where\":\"ORD_STREET = 'MADISON'\"},\n",
    "                                     {\"operator\":\"and\",\"layer\":1,\"where\":\"L_HOOD = 'CAPITOL HILL'\"},\n",
    "                                     {\"operator\":\"and\",\"layer\":0,\"selectingLayer\":1,\"spatialRel\":\"withinDistance\",\"distance\":3.5,\"units\":\"Feet\"}],\n",
    "                                       output_name='Madison street1')"
   ]
  },
  {
   "cell_type": "code",
   "execution_count": 36,
   "metadata": {},
   "outputs": [
    {
     "data": {
      "text/html": [
       "<div class=\"item_container\" style=\"height: auto; overflow: hidden; border: 1px solid #cfcfcf; border-radius: 2px; background: #f6fafa; line-height: 1.21429em; padding: 10px;\">\n",
       "                    <div class=\"item_left\" style=\"width: 210px; float: left;\">\n",
       "                       <a href='https://deldev.maps.arcgis.com/home/item.html?id=87de24fe640247099b20a6093e25c179' target='_blank'>\n",
       "                        <img src='http://static.arcgis.com/images/desktopapp.png' class=\"itemThumbnail\">\n",
       "                       </a>\n",
       "                    </div>\n",
       "\n",
       "                    <div class=\"item_right\"     style=\"float: none; width: auto; overflow: hidden;\">\n",
       "                        <a href='https://deldev.maps.arcgis.com/home/item.html?id=87de24fe640247099b20a6093e25c179' target='_blank'><b>Madison street1</b>\n",
       "                        </a>\n",
       "                        <br/><img src='https://deldev.maps.arcgis.com/home/js/jsapi/esri/css/images/item_type_icons/featureshosted16.png' style=\"vertical-align:middle;\">Feature Layer Collection by demos_deldev\n",
       "                        <br/>Last Modified: September 04, 2018\n",
       "                        <br/>0 comments, 0 views\n",
       "                    </div>\n",
       "                </div>\n",
       "                "
      ],
      "text/plain": [
       "<Item title:\"Madison street1\" type:Feature Layer Collection owner:demos_deldev>"
      ]
     },
     "execution_count": 36,
     "metadata": {},
     "output_type": "execute_result"
    }
   ],
   "source": [
    "madison_street"
   ]
  },
  {
   "cell_type": "markdown",
   "metadata": {},
   "source": [
    "Calculate the statistics for the madison_street layer."
   ]
  },
  {
   "cell_type": "code",
   "execution_count": 37,
   "metadata": {},
   "outputs": [],
   "source": [
    "fs = madison_street.layers[0].query(where='1=1', returnGeometry=False, spatialRel='esriSpatialRelIntersects',\n",
    "                               outFields='Length',\n",
    "                               outStatistics=[{\"statisticType\":\"count\",\"onStatisticField\":\"Length\",\"outStatisticFieldName\":\"countField\"},{\"statisticType\":\"sum\",\"onStatisticField\":\"Length\",\"outStatisticFieldName\":\"sumField\"},{\"statisticType\":\"min\",\"onStatisticField\":\"Length\",\"outStatisticFieldName\":\"minField\"},{\"statisticType\":\"max\",\"onStatisticField\":\"Length\",\"outStatisticFieldName\":\"maxField\"},{\"statisticType\":\"avg\",\"onStatisticField\":\"Length\",\"outStatisticFieldName\":\"avgField\"},{\"statisticType\":\"stddev\",\"onStatisticField\":\"Length\",\"outStatisticFieldName\":\"stddevField\"}])"
   ]
  },
  {
   "cell_type": "code",
   "execution_count": 38,
   "metadata": {},
   "outputs": [
    {
     "data": {
      "text/html": [
       "<div>\n",
       "<style scoped>\n",
       "    .dataframe tbody tr th:only-of-type {\n",
       "        vertical-align: middle;\n",
       "    }\n",
       "\n",
       "    .dataframe tbody tr th {\n",
       "        vertical-align: top;\n",
       "    }\n",
       "\n",
       "    .dataframe thead th {\n",
       "        text-align: right;\n",
       "    }\n",
       "</style>\n",
       "<table border=\"1\" class=\"dataframe\">\n",
       "  <thead>\n",
       "    <tr style=\"text-align: right;\">\n",
       "      <th></th>\n",
       "      <th>avgField</th>\n",
       "      <th>countField</th>\n",
       "      <th>maxField</th>\n",
       "      <th>minField</th>\n",
       "      <th>stddevField</th>\n",
       "      <th>sumField</th>\n",
       "      <th>SHAPE</th>\n",
       "    </tr>\n",
       "  </thead>\n",
       "  <tbody>\n",
       "    <tr>\n",
       "      <th>0</th>\n",
       "      <td>0.060375</td>\n",
       "      <td>41</td>\n",
       "      <td>0.176863</td>\n",
       "      <td>0.015123</td>\n",
       "      <td>0.032105</td>\n",
       "      <td>2.475384</td>\n",
       "      <td>{'spatialReference': {'wkid': 2926, 'latestWki...</td>\n",
       "    </tr>\n",
       "  </tbody>\n",
       "</table>\n",
       "</div>"
      ],
      "text/plain": [
       "   avgField  countField  maxField  minField  stddevField  sumField  \\\n",
       "0  0.060375          41  0.176863  0.015123     0.032105  2.475384   \n",
       "\n",
       "                                               SHAPE  \n",
       "0  {'spatialReference': {'wkid': 2926, 'latestWki...  "
      ]
     },
     "execution_count": 38,
     "metadata": {},
     "output_type": "execute_result"
    }
   ],
   "source": [
    "fs.df"
   ]
  },
  {
   "cell_type": "markdown",
   "metadata": {},
   "source": [
    "The length of the street within Capitol Hill is 2.48 miles.Note this distance for future use."
   ]
  },
  {
   "cell_type": "code",
   "execution_count": 39,
   "metadata": {},
   "outputs": [
    {
     "data": {
      "text/plain": [
       "\"L_HOOD = 'CAPITOL HILL'\""
      ]
     },
     "execution_count": 39,
     "metadata": {},
     "output_type": "execute_result"
    }
   ],
   "source": [
    "bike_route_neighbourhood.filter"
   ]
  },
  {
   "cell_type": "code",
   "execution_count": 40,
   "metadata": {},
   "outputs": [],
   "source": [
    "madison_street_layer = madison_street.layers[0]"
   ]
  },
  {
   "cell_type": "code",
   "execution_count": 41,
   "metadata": {},
   "outputs": [
    {
     "data": {
      "application/vnd.jupyter.widget-view+json": {
       "model_id": "ad27cec4e87c47a8ba291668c9803c13",
       "version_major": 2,
       "version_minor": 0
      },
      "text/html": [
       "<p>Failed to display Jupyter Widget of type <code>MapView</code>.</p>\n",
       "<p>\n",
       "  If you're reading this message in the Jupyter Notebook or JupyterLab Notebook, it may mean\n",
       "  that the widgets JavaScript is still loading. If this message persists, it\n",
       "  likely means that the widgets JavaScript library is either not installed or\n",
       "  not enabled. See the <a href=\"https://ipywidgets.readthedocs.io/en/stable/user_install.html\">Jupyter\n",
       "  Widgets Documentation</a> for setup instructions.\n",
       "</p>\n",
       "<p>\n",
       "  If you're reading this message in another frontend (for example, a static\n",
       "  rendering on GitHub or <a href=\"https://nbviewer.jupyter.org/\">NBViewer</a>),\n",
       "  it may mean that your frontend doesn't currently support widgets.\n",
       "</p>\n"
      ],
      "text/plain": [
       "MapView(basemaps=['dark-gray', 'dark-gray-vector', 'gray', 'gray-vector', 'hybrid', 'national-geographic', 'oceans', 'osm', 'satellite', 'streets', 'streets-navigation-vector', 'streets-night-vector', 'streets-relief-vector', 'streets-vector', 'terrain', 'topo', 'topo-vector'], center=[0, 0])"
      ]
     },
     "metadata": {},
     "output_type": "display_data"
    }
   ],
   "source": [
    "madison_map = gis.map('Seattle')\n",
    "madison_map"
   ]
  },
  {
   "cell_type": "markdown",
   "metadata": {},
   "source": [
    "![](bikeroutesimages/5.PNG)"
   ]
  },
  {
   "cell_type": "code",
   "execution_count": 42,
   "metadata": {},
   "outputs": [],
   "source": [
    "madison_map.add_layer(madison_street)"
   ]
  },
  {
   "cell_type": "markdown",
   "metadata": {},
   "source": [
    "\n",
    "Apply a Buffer of 0.5 miles to MadisonStreet to determine the area that the bike route would service."
   ]
  },
  {
   "cell_type": "code",
   "execution_count": 43,
   "metadata": {},
   "outputs": [],
   "source": [
    "from arcgis.features.use_proximity import create_buffers"
   ]
  },
  {
   "cell_type": "code",
   "execution_count": 44,
   "metadata": {},
   "outputs": [],
   "source": [
    "buffer_street = create_buffers(madison_street_layer, dissolve_type='Dissolve', distances=[0.5],\n",
    "               ring_type='Rings', units='Miles', output_name=\"buffer_madison_street1\")"
   ]
  },
  {
   "cell_type": "code",
   "execution_count": 45,
   "metadata": {},
   "outputs": [],
   "source": [
    "buffer_street_layer = buffer_street.layers[0]"
   ]
  },
  {
   "cell_type": "code",
   "execution_count": 46,
   "metadata": {},
   "outputs": [
    {
     "data": {
      "application/vnd.jupyter.widget-view+json": {
       "model_id": "2ec34e5da0f74431891902c6a1002a5b",
       "version_major": 2,
       "version_minor": 0
      },
      "text/html": [
       "<p>Failed to display Jupyter Widget of type <code>MapView</code>.</p>\n",
       "<p>\n",
       "  If you're reading this message in the Jupyter Notebook or JupyterLab Notebook, it may mean\n",
       "  that the widgets JavaScript is still loading. If this message persists, it\n",
       "  likely means that the widgets JavaScript library is either not installed or\n",
       "  not enabled. See the <a href=\"https://ipywidgets.readthedocs.io/en/stable/user_install.html\">Jupyter\n",
       "  Widgets Documentation</a> for setup instructions.\n",
       "</p>\n",
       "<p>\n",
       "  If you're reading this message in another frontend (for example, a static\n",
       "  rendering on GitHub or <a href=\"https://nbviewer.jupyter.org/\">NBViewer</a>),\n",
       "  it may mean that your frontend doesn't currently support widgets.\n",
       "</p>\n"
      ],
      "text/plain": [
       "MapView(basemaps=['dark-gray', 'dark-gray-vector', 'gray', 'gray-vector', 'hybrid', 'national-geographic', 'oceans', 'osm', 'satellite', 'streets', 'streets-navigation-vector', 'streets-night-vector', 'streets-relief-vector', 'streets-vector', 'terrain', 'topo', 'topo-vector'], center=[0, 0])"
      ]
     },
     "metadata": {},
     "output_type": "display_data"
    }
   ],
   "source": [
    "buffer_street_map = gis.map('Seattle')\n",
    "buffer_street_map"
   ]
  },
  {
   "cell_type": "markdown",
   "metadata": {},
   "source": [
    "![](bikeroutesimages/6.PNG)"
   ]
  },
  {
   "cell_type": "code",
   "execution_count": 47,
   "metadata": {},
   "outputs": [],
   "source": [
    "buffer_street_map.add_layer(buffer_street)"
   ]
  },
  {
   "cell_type": "markdown",
   "metadata": {},
   "source": [
    "The bike route services the eastern edge of the neighbourhood.More bikes routes will need to be choosen in the central and western portion of the neighbourhood."
   ]
  },
  {
   "cell_type": "markdown",
   "metadata": {},
   "source": [
    "Repeat the process (selecting, buffering, and calculating the length of the segments) for 10th Ave E/Broadway E."
   ]
  },
  {
   "cell_type": "code",
   "execution_count": 49,
   "metadata": {},
   "outputs": [],
   "source": [
    "broadway_ave = find_existing_locations(input_layers=[{'url': arterial_streets_layer.url}, {'url': bike_route_neighbourhood.url}], \n",
    "                        expressions=[{\"operator\":\"\",\"layer\":0,\"where\":\"ORD_STNAME = '10TH AVE E'\"},\n",
    "                                     {\"operator\":\"and\",\"layer\":1,\"where\":\"L_HOOD = 'CAPITOL HILL'\"},\n",
    "                                     {\"operator\":\"or\",\"layer\":0,\"where\":\"OBJECTID = 789\"},\n",
    "                                     {\"operator\":\"or\",\"layer\":0,\"where\":\"ORD_STNAME = 'BROADWAY'\"},\n",
    "                                     {\"operator\":\"or\",\"layer\":0,\"where\":\"ORD_STNAME = 'BROADWAY E'\"},\n",
    "                                     {\"operator\":\"and\",\"layer\":0,\"selectingLayer\":1,\"spatialRel\":\"withinDistance\",\"distance\":0.001,\"units\":\"Feet\"}],\n",
    "                                       output_name='Broadway_ave1')"
   ]
  },
  {
   "cell_type": "code",
   "execution_count": 50,
   "metadata": {},
   "outputs": [],
   "source": [
    "broadway_ave_layer = broadway_ave.layers[0]"
   ]
  },
  {
   "cell_type": "code",
   "execution_count": 51,
   "metadata": {},
   "outputs": [
    {
     "data": {
      "application/vnd.jupyter.widget-view+json": {
       "model_id": "d684f349a11947938b09dbc174f0d7e4",
       "version_major": 2,
       "version_minor": 0
      },
      "text/html": [
       "<p>Failed to display Jupyter Widget of type <code>MapView</code>.</p>\n",
       "<p>\n",
       "  If you're reading this message in the Jupyter Notebook or JupyterLab Notebook, it may mean\n",
       "  that the widgets JavaScript is still loading. If this message persists, it\n",
       "  likely means that the widgets JavaScript library is either not installed or\n",
       "  not enabled. See the <a href=\"https://ipywidgets.readthedocs.io/en/stable/user_install.html\">Jupyter\n",
       "  Widgets Documentation</a> for setup instructions.\n",
       "</p>\n",
       "<p>\n",
       "  If you're reading this message in another frontend (for example, a static\n",
       "  rendering on GitHub or <a href=\"https://nbviewer.jupyter.org/\">NBViewer</a>),\n",
       "  it may mean that your frontend doesn't currently support widgets.\n",
       "</p>\n"
      ],
      "text/plain": [
       "MapView(basemaps=['dark-gray', 'dark-gray-vector', 'gray', 'gray-vector', 'hybrid', 'national-geographic', 'oceans', 'osm', 'satellite', 'streets', 'streets-navigation-vector', 'streets-night-vector', 'streets-relief-vector', 'streets-vector', 'terrain', 'topo', 'topo-vector'], center=[0, 0])"
      ]
     },
     "metadata": {},
     "output_type": "display_data"
    }
   ],
   "source": [
    "broadway_ave_map = gis.map('Seattle')\n",
    "broadway_ave_map"
   ]
  },
  {
   "cell_type": "markdown",
   "metadata": {},
   "source": [
    "![](bikeroutesimages/7.PNG)"
   ]
  },
  {
   "cell_type": "code",
   "execution_count": 52,
   "metadata": {},
   "outputs": [],
   "source": [
    "broadway_ave_map.add_layer(broadway_ave)"
   ]
  },
  {
   "cell_type": "markdown",
   "metadata": {},
   "source": [
    "Create buffer for this street also."
   ]
  },
  {
   "cell_type": "code",
   "execution_count": 53,
   "metadata": {},
   "outputs": [],
   "source": [
    "buffer_street_broadway = create_buffers(broadway_ave_layer, dissolve_type='Dissolve', distances=[0.5],\n",
    "               ring_type='Rings', units='Miles', output_name=\"buffer_broadway_street1\")"
   ]
  },
  {
   "cell_type": "code",
   "execution_count": 54,
   "metadata": {},
   "outputs": [
    {
     "data": {
      "application/vnd.jupyter.widget-view+json": {
       "model_id": "cf210aeacb8e4f8c9c4b9c170f86b210",
       "version_major": 2,
       "version_minor": 0
      },
      "text/html": [
       "<p>Failed to display Jupyter Widget of type <code>MapView</code>.</p>\n",
       "<p>\n",
       "  If you're reading this message in the Jupyter Notebook or JupyterLab Notebook, it may mean\n",
       "  that the widgets JavaScript is still loading. If this message persists, it\n",
       "  likely means that the widgets JavaScript library is either not installed or\n",
       "  not enabled. See the <a href=\"https://ipywidgets.readthedocs.io/en/stable/user_install.html\">Jupyter\n",
       "  Widgets Documentation</a> for setup instructions.\n",
       "</p>\n",
       "<p>\n",
       "  If you're reading this message in another frontend (for example, a static\n",
       "  rendering on GitHub or <a href=\"https://nbviewer.jupyter.org/\">NBViewer</a>),\n",
       "  it may mean that your frontend doesn't currently support widgets.\n",
       "</p>\n"
      ],
      "text/plain": [
       "MapView(basemaps=['dark-gray', 'dark-gray-vector', 'gray', 'gray-vector', 'hybrid', 'national-geographic', 'oceans', 'osm', 'satellite', 'streets', 'streets-navigation-vector', 'streets-night-vector', 'streets-relief-vector', 'streets-vector', 'terrain', 'topo', 'topo-vector'], center=[0, 0])"
      ]
     },
     "metadata": {},
     "output_type": "display_data"
    }
   ],
   "source": [
    "buffer_street_broadway_map = gis.map('Seattle')\n",
    "buffer_street_broadway_map"
   ]
  },
  {
   "cell_type": "markdown",
   "metadata": {},
   "source": [
    "![](bikeroutesimages/buffer.PNG)"
   ]
  },
  {
   "cell_type": "code",
   "execution_count": 55,
   "metadata": {},
   "outputs": [],
   "source": [
    "buffer_street_broadway_map.add_layer(buffer_street_broadway)"
   ]
  },
  {
   "cell_type": "markdown",
   "metadata": {},
   "source": [
    "A bike route is still needed in the central portion of Capitol Hill."
   ]
  },
  {
   "cell_type": "markdown",
   "metadata": {},
   "source": [
    "Repeat the process once more for 24th Ave and 23rd Ave."
   ]
  },
  {
   "cell_type": "code",
   "execution_count": 56,
   "metadata": {},
   "outputs": [],
   "source": [
    "ave = find_existing_locations(input_layers=[{'url': arterial_streets_layer.url}, {'url': bike_route_neighbourhood.url}], \n",
    "                        expressions=[{\"operator\":\"\",\"layer\":0,\"where\":\"ORD_STNAME = '23RD AVE'\"},\n",
    "                                     {\"operator\":\"and\",\"layer\":1,\"where\":\"L_HOOD = 'CAPITOL HILL'\"},\n",
    "                                     {\"operator\":\"or\",\"layer\":0,\"where\":\"ORD_STNAME = '23RD AVE E'\"},\n",
    "                                     {\"operator\":\"or\",\"layer\":0,\"where\":\"ORD_STNAME = '24TH AVE E'\"},\n",
    "                                     {\"operator\":\"or\",\"layer\":0,\"where\":\"ORD_STNAME = 'TURNER WAY E'\"},\n",
    "                                     {\"operator\":\"and\",\"layer\":0,\"selectingLayer\":1,\"spatialRel\":\"withinDistance\",\"distance\":0.001,\"units\":\"Feet\"}],\n",
    "                                       output_name='street 23rd 24th AVE1')"
   ]
  },
  {
   "cell_type": "code",
   "execution_count": 57,
   "metadata": {},
   "outputs": [],
   "source": [
    "ave_layer = ave.layers[0]"
   ]
  },
  {
   "cell_type": "code",
   "execution_count": 58,
   "metadata": {},
   "outputs": [
    {
     "data": {
      "application/vnd.jupyter.widget-view+json": {
       "model_id": "5ce9d481828743928001fcdf3c002353",
       "version_major": 2,
       "version_minor": 0
      },
      "text/html": [
       "<p>Failed to display Jupyter Widget of type <code>MapView</code>.</p>\n",
       "<p>\n",
       "  If you're reading this message in the Jupyter Notebook or JupyterLab Notebook, it may mean\n",
       "  that the widgets JavaScript is still loading. If this message persists, it\n",
       "  likely means that the widgets JavaScript library is either not installed or\n",
       "  not enabled. See the <a href=\"https://ipywidgets.readthedocs.io/en/stable/user_install.html\">Jupyter\n",
       "  Widgets Documentation</a> for setup instructions.\n",
       "</p>\n",
       "<p>\n",
       "  If you're reading this message in another frontend (for example, a static\n",
       "  rendering on GitHub or <a href=\"https://nbviewer.jupyter.org/\">NBViewer</a>),\n",
       "  it may mean that your frontend doesn't currently support widgets.\n",
       "</p>\n"
      ],
      "text/plain": [
       "MapView(basemaps=['dark-gray', 'dark-gray-vector', 'gray', 'gray-vector', 'hybrid', 'national-geographic', 'oceans', 'osm', 'satellite', 'streets', 'streets-navigation-vector', 'streets-night-vector', 'streets-relief-vector', 'streets-vector', 'terrain', 'topo', 'topo-vector'], center=[0, 0])"
      ]
     },
     "metadata": {},
     "output_type": "display_data"
    }
   ],
   "source": [
    "ave_map = gis.map('Seattle')\n",
    "ave_map"
   ]
  },
  {
   "cell_type": "markdown",
   "metadata": {},
   "source": [
    "![](bikeroutesimages/9.PNG)"
   ]
  },
  {
   "cell_type": "code",
   "execution_count": 59,
   "metadata": {},
   "outputs": [],
   "source": [
    "ave_map.add_layer(ave)"
   ]
  },
  {
   "cell_type": "markdown",
   "metadata": {},
   "source": [
    "Repeat the process to create bufferfor this street as well."
   ]
  },
  {
   "cell_type": "code",
   "execution_count": 60,
   "metadata": {},
   "outputs": [],
   "source": [
    "buffer_street_ave = create_buffers(ave_layer, dissolve_type='Dissolve', distances=[0.5],\n",
    "               ring_type='Rings', units='Miles', output_name=\"Buffer_2324ave_Street1\")"
   ]
  },
  {
   "cell_type": "code",
   "execution_count": 61,
   "metadata": {},
   "outputs": [
    {
     "data": {
      "application/vnd.jupyter.widget-view+json": {
       "model_id": "8435cb87cb394ecaa43b9aa084e5e5a6",
       "version_major": 2,
       "version_minor": 0
      },
      "text/html": [
       "<p>Failed to display Jupyter Widget of type <code>MapView</code>.</p>\n",
       "<p>\n",
       "  If you're reading this message in the Jupyter Notebook or JupyterLab Notebook, it may mean\n",
       "  that the widgets JavaScript is still loading. If this message persists, it\n",
       "  likely means that the widgets JavaScript library is either not installed or\n",
       "  not enabled. See the <a href=\"https://ipywidgets.readthedocs.io/en/stable/user_install.html\">Jupyter\n",
       "  Widgets Documentation</a> for setup instructions.\n",
       "</p>\n",
       "<p>\n",
       "  If you're reading this message in another frontend (for example, a static\n",
       "  rendering on GitHub or <a href=\"https://nbviewer.jupyter.org/\">NBViewer</a>),\n",
       "  it may mean that your frontend doesn't currently support widgets.\n",
       "</p>\n"
      ],
      "text/plain": [
       "MapView(basemaps=['dark-gray', 'dark-gray-vector', 'gray', 'gray-vector', 'hybrid', 'national-geographic', 'oceans', 'osm', 'satellite', 'streets', 'streets-navigation-vector', 'streets-night-vector', 'streets-relief-vector', 'streets-vector', 'terrain', 'topo', 'topo-vector'], center=[0, 0])"
      ]
     },
     "metadata": {},
     "output_type": "display_data"
    }
   ],
   "source": [
    "buffer_street_map = gis.map('Seattle')\n",
    "buffer_street_map"
   ]
  },
  {
   "cell_type": "markdown",
   "metadata": {},
   "source": [
    "![](bikeroutesimages/10.PNG)"
   ]
  },
  {
   "cell_type": "code",
   "execution_count": 62,
   "metadata": {},
   "outputs": [],
   "source": [
    "buffer_street_map.add_layer(buffer_street_ave)"
   ]
  },
  {
   "cell_type": "code",
   "execution_count": 63,
   "metadata": {},
   "outputs": [
    {
     "data": {
      "application/vnd.jupyter.widget-view+json": {
       "model_id": "b0999aeba7084318b42cc2014c8878c0",
       "version_major": 2,
       "version_minor": 0
      },
      "text/html": [
       "<p>Failed to display Jupyter Widget of type <code>MapView</code>.</p>\n",
       "<p>\n",
       "  If you're reading this message in the Jupyter Notebook or JupyterLab Notebook, it may mean\n",
       "  that the widgets JavaScript is still loading. If this message persists, it\n",
       "  likely means that the widgets JavaScript library is either not installed or\n",
       "  not enabled. See the <a href=\"https://ipywidgets.readthedocs.io/en/stable/user_install.html\">Jupyter\n",
       "  Widgets Documentation</a> for setup instructions.\n",
       "</p>\n",
       "<p>\n",
       "  If you're reading this message in another frontend (for example, a static\n",
       "  rendering on GitHub or <a href=\"https://nbviewer.jupyter.org/\">NBViewer</a>),\n",
       "  it may mean that your frontend doesn't currently support widgets.\n",
       "</p>\n"
      ],
      "text/plain": [
       "MapView(basemaps=['dark-gray', 'dark-gray-vector', 'gray', 'gray-vector', 'hybrid', 'national-geographic', 'oceans', 'osm', 'satellite', 'streets', 'streets-navigation-vector', 'streets-night-vector', 'streets-relief-vector', 'streets-vector', 'terrain', 'topo', 'topo-vector'], center=[0, 0])"
      ]
     },
     "metadata": {},
     "output_type": "display_data"
    }
   ],
   "source": [
    "all_buffers_map = gis.map('Seattle')\n",
    "all_buffers_map"
   ]
  },
  {
   "cell_type": "markdown",
   "metadata": {},
   "source": [
    "![](bikeroutesimages/all_buffer.PNG)"
   ]
  },
  {
   "cell_type": "code",
   "execution_count": 65,
   "metadata": {},
   "outputs": [],
   "source": [
    "all_buffers_map.add_layer(buffer_street)\n",
    "all_buffers_map.add_layer(buffer_street_broadway)\n",
    "all_buffers_map.add_layer(buffer_street_ave)"
   ]
  },
  {
   "cell_type": "markdown",
   "metadata": {},
   "source": [
    "The buffered roads now cover most of the neighbourhood."
   ]
  },
  {
   "cell_type": "markdown",
   "metadata": {},
   "source": [
    "Determine the effectiveness of the selected routes"
   ]
  },
  {
   "cell_type": "markdown",
   "metadata": {},
   "source": [
    "The length of potential bike lanes within the neighborhood will be compared to the length of all of the streets within the neighborhood. Select the streets (SEGMENT_TY=1) within Capitol Hill using Find Existing Locations. "
   ]
  },
  {
   "cell_type": "code",
   "execution_count": 66,
   "metadata": {},
   "outputs": [],
   "source": [
    "capitol_hill_streets = find_existing_locations(input_layers=[{'url': bike_route_streets.url}, {'url': bike_route_neighbourhood.url}], \n",
    "                        expressions=[{\"operator\":\"\",\"layer\":0,\"where\":\"SEGMENT_TY = 1\"},\n",
    "                                     {\"operator\":\"and\",\"layer\":1,\"where\":\"L_HOOD = 'CAPITOL HILL'\"},\n",
    "                                     {\"operator\":\"and\",\"layer\":0,\"selectingLayer\":1,\"spatialRel\":\"withinDistance\",\"distance\":3.5,\"units\":\"Feet\"}],\n",
    "                                       output_name='Capitol_Hill1')"
   ]
  },
  {
   "cell_type": "code",
   "execution_count": null,
   "metadata": {},
   "outputs": [],
   "source": [
    "capitol_hill_streets"
   ]
  },
  {
   "cell_type": "markdown",
   "metadata": {},
   "source": [
    "Use **summarize** to calculate the total length of roads in Capitol Hill."
   ]
  },
  {
   "cell_type": "code",
   "execution_count": 67,
   "metadata": {},
   "outputs": [],
   "source": [
    "st = capitol_hill_streets.layers[0].query(where='1=1', returnGeometry=False, spatialRel='esriSpatialRelIntersects',\n",
    "                               outFields='Length',\n",
    "                               outStatistics=[{\"statisticType\":\"count\",\"onStatisticField\":\"Length\",\"outStatisticFieldName\":\"countField\"},{\"statisticType\":\"sum\",\"onStatisticField\":\"Length\",\"outStatisticFieldName\":\"sumField\"},{\"statisticType\":\"min\",\"onStatisticField\":\"Length\",\"outStatisticFieldName\":\"minField\"},{\"statisticType\":\"max\",\"onStatisticField\":\"Length\",\"outStatisticFieldName\":\"maxField\"},{\"statisticType\":\"avg\",\"onStatisticField\":\"Length\",\"outStatisticFieldName\":\"avgField\"},{\"statisticType\":\"stddev\",\"onStatisticField\":\"Length\",\"outStatisticFieldName\":\"stddevField\"}])"
   ]
  },
  {
   "cell_type": "code",
   "execution_count": 68,
   "metadata": {},
   "outputs": [
    {
     "data": {
      "text/html": [
       "<div>\n",
       "<style scoped>\n",
       "    .dataframe tbody tr th:only-of-type {\n",
       "        vertical-align: middle;\n",
       "    }\n",
       "\n",
       "    .dataframe tbody tr th {\n",
       "        vertical-align: top;\n",
       "    }\n",
       "\n",
       "    .dataframe thead th {\n",
       "        text-align: right;\n",
       "    }\n",
       "</style>\n",
       "<table border=\"1\" class=\"dataframe\">\n",
       "  <thead>\n",
       "    <tr style=\"text-align: right;\">\n",
       "      <th></th>\n",
       "      <th>avgField</th>\n",
       "      <th>countField</th>\n",
       "      <th>maxField</th>\n",
       "      <th>minField</th>\n",
       "      <th>stddevField</th>\n",
       "      <th>sumField</th>\n",
       "      <th>SHAPE</th>\n",
       "    </tr>\n",
       "  </thead>\n",
       "  <tbody>\n",
       "    <tr>\n",
       "      <th>0</th>\n",
       "      <td>0.068718</td>\n",
       "      <td>1361</td>\n",
       "      <td>0.944354</td>\n",
       "      <td>0.002864</td>\n",
       "      <td>0.047955</td>\n",
       "      <td>93.52469</td>\n",
       "      <td>{'spatialReference': {'wkid': 2926, 'latestWki...</td>\n",
       "    </tr>\n",
       "  </tbody>\n",
       "</table>\n",
       "</div>"
      ],
      "text/plain": [
       "   avgField  countField  maxField  minField  stddevField  sumField  \\\n",
       "0  0.068718        1361  0.944354  0.002864     0.047955  93.52469   \n",
       "\n",
       "                                               SHAPE  \n",
       "0  {'spatialReference': {'wkid': 2926, 'latestWki...  "
      ]
     },
     "execution_count": 68,
     "metadata": {},
     "output_type": "execute_result"
    }
   ],
   "source": [
    "st.df"
   ]
  },
  {
   "cell_type": "markdown",
   "metadata": {},
   "source": [
    "The total length of roads within Capitol Hill is 93.5 miles.\n",
    "Use the sums from the three potential routes along with the sum from the current step to calculate the percentage of road length being used within the neighborhood. The percentage works out to approximately 6.57%, which is a low estimate because many of the line segments extend outside of Capitol Hill."
   ]
  },
  {
   "cell_type": "markdown",
   "metadata": {},
   "source": [
    "Use **merge_layers** tool to combine the three buffers into a single layer. You will have to run the tool twice to merge all three buffers."
   ]
  },
  {
   "cell_type": "code",
   "execution_count": 69,
   "metadata": {},
   "outputs": [],
   "source": [
    "from arcgis.features.manage_data import merge_layers"
   ]
  },
  {
   "cell_type": "code",
   "execution_count": 71,
   "metadata": {},
   "outputs": [],
   "source": [
    "merge_of_madison_broadway_buffer = merge_layers(buffer_street, buffer_street_broadway, output_name='merge 1')"
   ]
  },
  {
   "cell_type": "code",
   "execution_count": 73,
   "metadata": {},
   "outputs": [
    {
     "data": {
      "text/html": [
       "<div class=\"item_container\" style=\"height: auto; overflow: hidden; border: 1px solid #cfcfcf; border-radius: 2px; background: #f6fafa; line-height: 1.21429em; padding: 10px;\">\n",
       "                    <div class=\"item_left\" style=\"width: 210px; float: left;\">\n",
       "                       <a href='https://deldev.maps.arcgis.com/home/item.html?id=daf6c828fa904a38aec8e4f10b4d40f0' target='_blank'>\n",
       "                        <img src='http://static.arcgis.com/images/desktopapp.png' class=\"itemThumbnail\">\n",
       "                       </a>\n",
       "                    </div>\n",
       "\n",
       "                    <div class=\"item_right\"     style=\"float: none; width: auto; overflow: hidden;\">\n",
       "                        <a href='https://deldev.maps.arcgis.com/home/item.html?id=daf6c828fa904a38aec8e4f10b4d40f0' target='_blank'><b>merge 1</b>\n",
       "                        </a>\n",
       "                        <br/><img src='https://deldev.maps.arcgis.com/home/js/jsapi/esri/css/images/item_type_icons/featureshosted16.png' style=\"vertical-align:middle;\">Feature Layer Collection by demos_deldev\n",
       "                        <br/>Last Modified: September 04, 2018\n",
       "                        <br/>0 comments, 0 views\n",
       "                    </div>\n",
       "                </div>\n",
       "                "
      ],
      "text/plain": [
       "<Item title:\"merge 1\" type:Feature Layer Collection owner:demos_deldev>"
      ]
     },
     "execution_count": 73,
     "metadata": {},
     "output_type": "execute_result"
    }
   ],
   "source": [
    "merge_of_madison_broadway_buffer"
   ]
  },
  {
   "cell_type": "code",
   "execution_count": 74,
   "metadata": {},
   "outputs": [],
   "source": [
    "merge_all_buffers = merge_layers(merge_of_madison_broadway_buffer, buffer_street_ave, output_name='merge 2')"
   ]
  },
  {
   "cell_type": "code",
   "execution_count": 75,
   "metadata": {},
   "outputs": [
    {
     "data": {
      "text/html": [
       "<div class=\"item_container\" style=\"height: auto; overflow: hidden; border: 1px solid #cfcfcf; border-radius: 2px; background: #f6fafa; line-height: 1.21429em; padding: 10px;\">\n",
       "                    <div class=\"item_left\" style=\"width: 210px; float: left;\">\n",
       "                       <a href='https://deldev.maps.arcgis.com/home/item.html?id=f5fd3699d5de4628b1f86a41b727af24' target='_blank'>\n",
       "                        <img src='http://static.arcgis.com/images/desktopapp.png' class=\"itemThumbnail\">\n",
       "                       </a>\n",
       "                    </div>\n",
       "\n",
       "                    <div class=\"item_right\"     style=\"float: none; width: auto; overflow: hidden;\">\n",
       "                        <a href='https://deldev.maps.arcgis.com/home/item.html?id=f5fd3699d5de4628b1f86a41b727af24' target='_blank'><b>merge 2</b>\n",
       "                        </a>\n",
       "                        <br/><img src='https://deldev.maps.arcgis.com/home/js/jsapi/esri/css/images/item_type_icons/featureshosted16.png' style=\"vertical-align:middle;\">Feature Layer Collection by demos_deldev\n",
       "                        <br/>Last Modified: September 04, 2018\n",
       "                        <br/>0 comments, 0 views\n",
       "                    </div>\n",
       "                </div>\n",
       "                "
      ],
      "text/plain": [
       "<Item title:\"merge 2\" type:Feature Layer Collection owner:demos_deldev>"
      ]
     },
     "execution_count": 75,
     "metadata": {},
     "output_type": "execute_result"
    }
   ],
   "source": [
    "merge_all_buffers"
   ]
  },
  {
   "cell_type": "code",
   "execution_count": 76,
   "metadata": {},
   "outputs": [
    {
     "data": {
      "application/vnd.jupyter.widget-view+json": {
       "model_id": "81da520ab5014a26b5edadd427f20b44",
       "version_major": 2,
       "version_minor": 0
      },
      "text/html": [
       "<p>Failed to display Jupyter Widget of type <code>MapView</code>.</p>\n",
       "<p>\n",
       "  If you're reading this message in the Jupyter Notebook or JupyterLab Notebook, it may mean\n",
       "  that the widgets JavaScript is still loading. If this message persists, it\n",
       "  likely means that the widgets JavaScript library is either not installed or\n",
       "  not enabled. See the <a href=\"https://ipywidgets.readthedocs.io/en/stable/user_install.html\">Jupyter\n",
       "  Widgets Documentation</a> for setup instructions.\n",
       "</p>\n",
       "<p>\n",
       "  If you're reading this message in another frontend (for example, a static\n",
       "  rendering on GitHub or <a href=\"https://nbviewer.jupyter.org/\">NBViewer</a>),\n",
       "  it may mean that your frontend doesn't currently support widgets.\n",
       "</p>\n"
      ],
      "text/plain": [
       "MapView(basemaps=['dark-gray', 'dark-gray-vector', 'gray', 'gray-vector', 'hybrid', 'national-geographic', 'oceans', 'osm', 'satellite', 'streets', 'streets-navigation-vector', 'streets-night-vector', 'streets-relief-vector', 'streets-vector', 'terrain', 'topo', 'topo-vector'], center=[0, 0])"
      ]
     },
     "metadata": {},
     "output_type": "display_data"
    }
   ],
   "source": [
    "buffer_map = gis.map('Seattle')\n",
    "buffer_map"
   ]
  },
  {
   "cell_type": "markdown",
   "metadata": {},
   "source": [
    "![](bikeroutesimages/merge.PNG)"
   ]
  },
  {
   "cell_type": "code",
   "execution_count": 77,
   "metadata": {},
   "outputs": [],
   "source": [
    "buffer_map.add_layer(merge_all_buffers)"
   ]
  },
  {
   "cell_type": "markdown",
   "metadata": {},
   "source": [
    "Use Dissolve Boundaries tool on the merged buffers so that all of the buffers are in a single polygon."
   ]
  },
  {
   "cell_type": "code",
   "execution_count": 78,
   "metadata": {},
   "outputs": [],
   "source": [
    "from arcgis.features.manage_data import dissolve_boundaries"
   ]
  },
  {
   "cell_type": "code",
   "execution_count": 79,
   "metadata": {},
   "outputs": [],
   "source": [
    "dissolve = dissolve_boundaries(merge_all_buffers, output_name='dissolved Layer1')"
   ]
  },
  {
   "cell_type": "code",
   "execution_count": 80,
   "metadata": {},
   "outputs": [
    {
     "data": {
      "application/vnd.jupyter.widget-view+json": {
       "model_id": "90ab1bb2e0c1408aadea235c24301955",
       "version_major": 2,
       "version_minor": 0
      },
      "text/html": [
       "<p>Failed to display Jupyter Widget of type <code>MapView</code>.</p>\n",
       "<p>\n",
       "  If you're reading this message in the Jupyter Notebook or JupyterLab Notebook, it may mean\n",
       "  that the widgets JavaScript is still loading. If this message persists, it\n",
       "  likely means that the widgets JavaScript library is either not installed or\n",
       "  not enabled. See the <a href=\"https://ipywidgets.readthedocs.io/en/stable/user_install.html\">Jupyter\n",
       "  Widgets Documentation</a> for setup instructions.\n",
       "</p>\n",
       "<p>\n",
       "  If you're reading this message in another frontend (for example, a static\n",
       "  rendering on GitHub or <a href=\"https://nbviewer.jupyter.org/\">NBViewer</a>),\n",
       "  it may mean that your frontend doesn't currently support widgets.\n",
       "</p>\n"
      ],
      "text/plain": [
       "MapView(basemaps=['dark-gray', 'dark-gray-vector', 'gray', 'gray-vector', 'hybrid', 'national-geographic', 'oceans', 'osm', 'satellite', 'streets', 'streets-navigation-vector', 'streets-night-vector', 'streets-relief-vector', 'streets-vector', 'terrain', 'topo', 'topo-vector'], center=[0, 0])"
      ]
     },
     "metadata": {},
     "output_type": "display_data"
    }
   ],
   "source": [
    "dissolve_map = gis.map('Seattle')\n",
    "dissolve_map"
   ]
  },
  {
   "cell_type": "markdown",
   "metadata": {},
   "source": [
    "![](bikeroutesimages/dissolved.PNG)"
   ]
  },
  {
   "cell_type": "code",
   "execution_count": 81,
   "metadata": {},
   "outputs": [],
   "source": [
    "dissolve_map.add_layer(dissolve)"
   ]
  },
  {
   "cell_type": "markdown",
   "metadata": {},
   "source": [
    "Use Overlay Layers tool to clip the dissolved buffers to the shape of Capitol Hill. The clipped buffers will be used to determine the number of Capitol Hill residents that live within 1/2 mile of the bike routes."
   ]
  },
  {
   "cell_type": "code",
   "execution_count": 82,
   "metadata": {},
   "outputs": [],
   "source": [
    "from arcgis.features.manage_data import overlay_layers"
   ]
  },
  {
   "cell_type": "code",
   "execution_count": 83,
   "metadata": {},
   "outputs": [],
   "source": [
    "cliped_buffer = overlay_layers(dissolve, bike_route_neighbourhood, tolerance=0, context={},\n",
    "                           output_name=\"Cliped Buffer1\")"
   ]
  },
  {
   "cell_type": "code",
   "execution_count": 84,
   "metadata": {},
   "outputs": [],
   "source": [
    "cliped_buffer_layer = cliped_buffer.layers[0]"
   ]
  },
  {
   "cell_type": "code",
   "execution_count": 85,
   "metadata": {},
   "outputs": [
    {
     "data": {
      "application/vnd.jupyter.widget-view+json": {
       "model_id": "5420dde760b04600a19056f639217476",
       "version_major": 2,
       "version_minor": 0
      },
      "text/html": [
       "<p>Failed to display Jupyter Widget of type <code>MapView</code>.</p>\n",
       "<p>\n",
       "  If you're reading this message in the Jupyter Notebook or JupyterLab Notebook, it may mean\n",
       "  that the widgets JavaScript is still loading. If this message persists, it\n",
       "  likely means that the widgets JavaScript library is either not installed or\n",
       "  not enabled. See the <a href=\"https://ipywidgets.readthedocs.io/en/stable/user_install.html\">Jupyter\n",
       "  Widgets Documentation</a> for setup instructions.\n",
       "</p>\n",
       "<p>\n",
       "  If you're reading this message in another frontend (for example, a static\n",
       "  rendering on GitHub or <a href=\"https://nbviewer.jupyter.org/\">NBViewer</a>),\n",
       "  it may mean that your frontend doesn't currently support widgets.\n",
       "</p>\n"
      ],
      "text/plain": [
       "MapView(basemaps=['dark-gray', 'dark-gray-vector', 'gray', 'gray-vector', 'hybrid', 'national-geographic', 'oceans', 'osm', 'satellite', 'streets', 'streets-navigation-vector', 'streets-night-vector', 'streets-relief-vector', 'streets-vector', 'terrain', 'topo', 'topo-vector'], center=[0, 0])"
      ]
     },
     "metadata": {},
     "output_type": "display_data"
    }
   ],
   "source": [
    "cliped_buffer_map = gis.map('Seattle')\n",
    "cliped_buffer_map"
   ]
  },
  {
   "cell_type": "markdown",
   "metadata": {},
   "source": [
    "![](bikeroutesimages/14.PNG)"
   ]
  },
  {
   "cell_type": "code",
   "execution_count": 86,
   "metadata": {},
   "outputs": [],
   "source": [
    "cliped_buffer_map.add_layer(cliped_buffer)"
   ]
  },
  {
   "cell_type": "markdown",
   "metadata": {},
   "source": [
    "Use **enrich_layer** tool to add population data to the clipped_buffer_layer made in the previous step.  "
   ]
  },
  {
   "cell_type": "code",
   "execution_count": 87,
   "metadata": {},
   "outputs": [],
   "source": [
    "from arcgis.features.enrich_data import enrich_layer"
   ]
  },
  {
   "cell_type": "code",
   "execution_count": 88,
   "metadata": {},
   "outputs": [],
   "source": [
    "clipped_enrich = enrich_layer(cliped_buffer_layer, \n",
    "                              analysis_variables=[\"AtRisk.TOTPOP_CY\"], \n",
    "                              output_name='enriched with pop1')"
   ]
  },
  {
   "cell_type": "markdown",
   "metadata": {},
   "source": [
    "Use enrich_layer to add population data to Capitol Hill. Use the same population variable as in the previous step."
   ]
  },
  {
   "cell_type": "code",
   "execution_count": 89,
   "metadata": {},
   "outputs": [],
   "source": [
    "capitolhill_enrich = enrich_layer(bike_route_neighbourhood, \n",
    "                              analysis_variables=[\"AtRisk.TOTPOP_CY\"], \n",
    "                              output_name='capitolhill enriched with pop1')"
   ]
  },
  {
   "cell_type": "code",
   "execution_count": 90,
   "metadata": {},
   "outputs": [],
   "source": [
    "gt = clipped_enrich.layers[0].query(where='1=1', returnGeometry=False, spatialRel='esriSpatialRelIntersects',\n",
    "                               outFields='TOTPOP_CY',\n",
    "                               outStatistics=[{\"statisticType\":\"count\",\"onStatisticField\":\"TOTPOP_CY\",\"outStatisticFieldName\":\"countField\"},{\"statisticType\":\"sum\",\"onStatisticField\":\"TOTPOP_CY\",\"outStatisticFieldName\":\"sumField\"},{\"statisticType\":\"min\",\"onStatisticField\":\"TOTPOP_CY\",\"outStatisticFieldName\":\"minField\"},{\"statisticType\":\"max\",\"onStatisticField\":\"TOTPOP_CY\",\"outStatisticFieldName\":\"maxField\"},{\"statisticType\":\"avg\",\"onStatisticField\":\"TOTPOP_CY\",\"outStatisticFieldName\":\"avgField\"},{\"statisticType\":\"stddev\",\"onStatisticField\":\"TOTPOP_CY\",\"outStatisticFieldName\":\"stddevField\"}])"
   ]
  },
  {
   "cell_type": "code",
   "execution_count": 91,
   "metadata": {},
   "outputs": [
    {
     "data": {
      "text/html": [
       "<div>\n",
       "<style scoped>\n",
       "    .dataframe tbody tr th:only-of-type {\n",
       "        vertical-align: middle;\n",
       "    }\n",
       "\n",
       "    .dataframe tbody tr th {\n",
       "        vertical-align: top;\n",
       "    }\n",
       "\n",
       "    .dataframe thead th {\n",
       "        text-align: right;\n",
       "    }\n",
       "</style>\n",
       "<table border=\"1\" class=\"dataframe\">\n",
       "  <thead>\n",
       "    <tr style=\"text-align: right;\">\n",
       "      <th></th>\n",
       "      <th>avgField</th>\n",
       "      <th>countField</th>\n",
       "      <th>maxField</th>\n",
       "      <th>minField</th>\n",
       "      <th>stddevField</th>\n",
       "      <th>sumField</th>\n",
       "      <th>SHAPE</th>\n",
       "    </tr>\n",
       "  </thead>\n",
       "  <tbody>\n",
       "    <tr>\n",
       "      <th>0</th>\n",
       "      <td>9886.2</td>\n",
       "      <td>5</td>\n",
       "      <td>27189</td>\n",
       "      <td>1263</td>\n",
       "      <td>10397.063081</td>\n",
       "      <td>49431</td>\n",
       "      <td>{'spatialReference': {'wkid': 2926, 'latestWki...</td>\n",
       "    </tr>\n",
       "  </tbody>\n",
       "</table>\n",
       "</div>"
      ],
      "text/plain": [
       "   avgField  countField  maxField  minField   stddevField  sumField  \\\n",
       "0    9886.2           5     27189      1263  10397.063081     49431   \n",
       "\n",
       "                                               SHAPE  \n",
       "0  {'spatialReference': {'wkid': 2926, 'latestWki...  "
      ]
     },
     "execution_count": 91,
     "metadata": {},
     "output_type": "execute_result"
    }
   ],
   "source": [
    "gt.df"
   ]
  },
  {
   "cell_type": "code",
   "execution_count": 92,
   "metadata": {},
   "outputs": [],
   "source": [
    "st = capitolhill_enrich.layers[0].query(where='1=1', returnGeometry=False, spatialRel='esriSpatialRelIntersects',\n",
    "                               outFields='TOTPOP_CY',\n",
    "                               outStatistics=[{\"statisticType\":\"count\",\"onStatisticField\":\"TOTPOP_CY\",\"outStatisticFieldName\":\"countField\"},{\"statisticType\":\"sum\",\"onStatisticField\":\"TOTPOP_CY\",\"outStatisticFieldName\":\"sumField\"},{\"statisticType\":\"min\",\"onStatisticField\":\"TOTPOP_CY\",\"outStatisticFieldName\":\"minField\"},{\"statisticType\":\"max\",\"onStatisticField\":\"TOTPOP_CY\",\"outStatisticFieldName\":\"maxField\"},{\"statisticType\":\"avg\",\"onStatisticField\":\"TOTPOP_CY\",\"outStatisticFieldName\":\"avgField\"},{\"statisticType\":\"stddev\",\"onStatisticField\":\"TOTPOP_CY\",\"outStatisticFieldName\":\"stddevField\"}])"
   ]
  },
  {
   "cell_type": "code",
   "execution_count": 93,
   "metadata": {},
   "outputs": [
    {
     "data": {
      "text/html": [
       "<div>\n",
       "<style scoped>\n",
       "    .dataframe tbody tr th:only-of-type {\n",
       "        vertical-align: middle;\n",
       "    }\n",
       "\n",
       "    .dataframe tbody tr th {\n",
       "        vertical-align: top;\n",
       "    }\n",
       "\n",
       "    .dataframe thead th {\n",
       "        text-align: right;\n",
       "    }\n",
       "</style>\n",
       "<table border=\"1\" class=\"dataframe\">\n",
       "  <thead>\n",
       "    <tr style=\"text-align: right;\">\n",
       "      <th></th>\n",
       "      <th>avgField</th>\n",
       "      <th>countField</th>\n",
       "      <th>maxField</th>\n",
       "      <th>minField</th>\n",
       "      <th>stddevField</th>\n",
       "      <th>sumField</th>\n",
       "      <th>SHAPE</th>\n",
       "    </tr>\n",
       "  </thead>\n",
       "  <tbody>\n",
       "    <tr>\n",
       "      <th>0</th>\n",
       "      <td>9950.8</td>\n",
       "      <td>5</td>\n",
       "      <td>27189</td>\n",
       "      <td>1549</td>\n",
       "      <td>10333.549787</td>\n",
       "      <td>49754</td>\n",
       "      <td>{'spatialReference': {'wkid': 2926, 'latestWki...</td>\n",
       "    </tr>\n",
       "  </tbody>\n",
       "</table>\n",
       "</div>"
      ],
      "text/plain": [
       "   avgField  countField  maxField  minField   stddevField  sumField  \\\n",
       "0    9950.8           5     27189      1549  10333.549787     49754   \n",
       "\n",
       "                                               SHAPE  \n",
       "0  {'spatialReference': {'wkid': 2926, 'latestWki...  "
      ]
     },
     "execution_count": 93,
     "metadata": {},
     "output_type": "execute_result"
    }
   ],
   "source": [
    "st.df"
   ]
  },
  {
   "cell_type": "markdown",
   "metadata": {},
   "source": [
    "Approximately 99.3% of Capitol Hill's residents are within 1/2 mile of a bike lane."
   ]
  }
 ],
 "metadata": {
  "kernelspec": {
   "display_name": "Python 3",
   "language": "python",
   "name": "python3"
  },
  "language_info": {
   "codemirror_mode": {
    "name": "ipython",
    "version": 3
   },
   "file_extension": ".py",
   "mimetype": "text/x-python",
   "name": "python",
   "nbconvert_exporter": "python",
   "pygments_lexer": "ipython3",
   "version": "3.6.4"
  }
 },
 "nbformat": 4,
 "nbformat_minor": 2
}
