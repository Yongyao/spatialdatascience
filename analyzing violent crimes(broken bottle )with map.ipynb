{
 "cells": [
  {
   "cell_type": "markdown",
   "metadata": {},
   "source": [
    "# Broken Bottles\n",
    "Despite an overall decline in crime, the bloodshed and violence continues in many of the City's poorest neighborhoods. Frustrated and distressed, community and religious leaders are calling for immediate action. Citing studies linking alcohol to <A HREF=\"https://www.ncbi.nlm.nih.gov/labs/articles/11496969/\">gang violence</A> and to other violent crime, they are putting pressure on city and state officials to close liquor establishments, to decline new liquor license requests, and to reduce access to alcohol in the most violent neighborhoods. Meanwhile, local business owners are banding together, rallying to block the proposed restrictions. They cite violations of the fifth and fourteenth U.S. Constitutional Amendments and claim the proposed restrictions would negatively impact the social fabric and tourism of the City.\n",
    "\n",
    "The Chief of Police is asking you, the Crime Analyst, to determine if there is indeed a relationship between violent crime and liquor establishments in your City. She wants your recommendations for an effective solution.\n",
    "\n",
    "You know that this<A HREF=\"http://venturacountylimits.org/resource_documents/VC_IssueBrief_AlcRetail_2010_web.pdf\"> issue</A> has surfaced for different cities around the country and that a number of<A HREF=\"http://www.jrsa.org/ibrrc/references/New_Mexico/NM_PlaceCrime.pdf\"> research studies </A>have demonstrated a <A HREF=\"https://www.ncbi.nlm.nih.gov/pmc/articles/PMC3412911/\"> correlation between liquor establishments and violent crime</A>. There are also theoretical explanations supporting this relationship such as<A HREF=\"http://desktop.arcgis.com/en/analytics/case-studies/broken-bottles-6-references.htm#GUID-ED803264-CDA1-401F-94C9-A8F021F8C858\"> routine activity theory </A>and <A HREF=\"http://desktop.arcgis.com/en/analytics/case-studies/broken-bottles-6-references.htm#ESRI_SECTION1_191B9FDB5308478A9F08568B485A145B\">social disorganization theory</A>.\n",
    "\n",
    "Your workflow is summarized below."
   ]
  },
  {
   "cell_type": "markdown",
   "metadata": {},
   "source": [
    "![](images/A.png)"
   ]
  },
  {
   "cell_type": "markdown",
   "metadata": {},
   "source": [
    "### What data will you need?\n",
    "Since you are interested in violent crime, you collect data for the homicides, rape, robbery, aggravated assault, and aggravated battery incidents over the past year. Next, using<A HREF=\"http://www.esri.com/software/businessanalyst\"> ArcGIS Business Analyst</A>, you obtain a dataset of businesses that either sell or serve alcohol (this includes bars, nightclubs, lounges, taverns, liquor stores, and so on). If you need additional data, you will use the<A HREF=\"http://resources.arcgis.com/en/communities/sharepoint/01t800000007000000.htm\"> data enrichment</A> tools in ArcGIS to get it. Your point data is shown below."
   ]
  },
  {
   "cell_type": "markdown",
   "metadata": {},
   "source": [
    "![](images/B.png)"
   ]
  },
  {
   "cell_type": "markdown",
   "metadata": {},
   "source": [
    "It is difficult to discern spatial patterns with so many points on the map."
   ]
  },
  {
   "cell_type": "markdown",
   "metadata": {},
   "source": [
    "\n",
    "### Where are the violent crime hot spots? Where are the hot spots for businesses selling or serving alcohol?<BR> Do they overlap?\n",
    "To make sense of the more than 22,000 crime points, and over 1,500 business points, you map them using hot spot analysis. These maps show you the statistically significant hot spots (red) and cold spots (blue) for violent crime and for liquor establishments. If violent crime is linked to liquor establishments, you expect to see spatial correspondence between their activity spaces."
   ]
  },
  {
   "cell_type": "markdown",
   "metadata": {},
   "source": [
    "![](images/C.png)"
   ]
  },
  {
   "cell_type": "markdown",
   "metadata": {},
   "source": [
    "The violent crime and liquor vendor hot spot maps look very different."
   ]
  },
  {
   "cell_type": "markdown",
   "metadata": {},
   "source": [
    "You notice some overlap in the downtown area. To ensure that the remediation efforts you propose focus on your city's most vulnerable neighborhoods, while avoiding areas that could impact tourism, you will need a better understanding of neighborhood poverty patterns within those overlap areas."
   ]
  },
  {
   "cell_type": "markdown",
   "metadata": {},
   "source": [
    "### Where are the City's most vulnerable neighborhoods?\n",
    "You obtain the data needed to create a hot spot map of poverty."
   ]
  },
  {
   "cell_type": "markdown",
   "metadata": {},
   "source": [
    "![](images/D.png)"
   ]
  },
  {
   "cell_type": "markdown",
   "metadata": {},
   "source": [
    "The red areas are statistically significant hot spots for poverty."
   ]
  },
  {
   "cell_type": "markdown",
   "metadata": {},
   "source": [
    "### Which areas should be included in a moratorium on new liquor licenses?\n",
    "You will recommend remediation measures for statistically significant hot spots (99 percent confidence) across all three variables: violent crime, existing liquor establishments, and poverty. To find these areas, you overlay all three maps, keeping only the hot spot locations that overlap."
   ]
  },
  {
   "cell_type": "markdown",
   "metadata": {},
   "source": [
    "![](images/E.png)"
   ]
  },
  {
   "cell_type": "markdown",
   "metadata": {},
   "source": [
    "With the exception of the small overlapping areas identified above, you didn't find a strong spatial correlation between violent crime and businesses that sell or serve alcohol.\n",
    "\n",
    "Still, the community representatives have indicated that the problem is serious. While you work with numbers every day, you know that there are real faces—real people—behind your data. You decide to dig deeper.\n",
    "\n",
    "### Has violent crime been increasing in the City? If so, where?\n",
    "Space-time pattern mining will show you if violent crime has been increasing or not. The maps below show the results of this analysis. You notice several locations with intensifying violent crime hot spots and a number of persistent hot spots as well. Consecutive hot spots are also worrisome; these represent hot spot locations that have been statistically significant for several of the most recent time periods."
   ]
  },
  {
   "cell_type": "markdown",
   "metadata": {},
   "source": [
    "![](images/F.png)"
   ]
  },
  {
   "cell_type": "markdown",
   "metadata": {},
   "source": [
    "There are several concerning trends including new, intensifying, and persistent hot spot areas.<BR><BR>\n",
    "The 3D map below is zoomed in to the area of both sporadic and consecutive violent crime hot spot trends in the downtown area. The green squares at the base of the map delineate one of the liquor moratorium remediation areas you identified above. Each bin in the 3D stack represents a four-week time period, with the most recent time period at the top. The darkest red bins reflect locations and time periods with intense violent crime activity."
   ]
  },
  {
   "cell_type": "markdown",
   "metadata": {},
   "source": [
    "![](images/G.png)"
   ]
  },
  {
   "cell_type": "markdown",
   "metadata": {},
   "source": [
    "A 3D view of violent crime trends downtown"
   ]
  },
  {
   "cell_type": "markdown",
   "metadata": {},
   "source": [
    "There are definitely locations around the City where violent crime is persistent and even intensifying; most of these do not correspond to high densities of businesses serving or selling alcohol, however.\n",
    "\n",
    "### What else might be contributing to violent crime?<BR>\n",
    "Two years ago the City implemented a Summer Jobs Program that has proven tremendously effective at reducing violent crime. You obtain unemployment data and repeat your hot spot analysis to see if you find a stronger spatial correlation between unemployment and violent crime than you did between liquor establishments and violent crime. Interestingly, you do."
   ]
  },
  {
   "cell_type": "markdown",
   "metadata": {},
   "source": [
    "![](images/H.png)"
   ]
  },
  {
   "cell_type": "markdown",
   "metadata": {},
   "source": [
    "There are a number of locations where the violent crime and unemployment hot spots overlap"
   ]
  },
  {
   "cell_type": "markdown",
   "metadata": {},
   "source": [
    "### Where do persistent, intensifying, and consecutive hot spots overlap with unemployment hot spots?\n",
    "You will recommend remediation measures for the areas where persistent, intensifying, and consecutive hot spot trends overlap with the statistically significant unemployment hot spots (99 percent confidence)."
   ]
  },
  {
   "cell_type": "markdown",
   "metadata": {},
   "source": [
    "![](images/I.png)"
   ]
  },
  {
   "cell_type": "markdown",
   "metadata": {},
   "source": [
    "Overlap between violent crime trends and unemployment hot spots\n",
    "The blue areas are the locations where intensifying, persistent, and consecutive hot spot trends overlap with the most intense unemployment hot spots."
   ]
  },
  {
   "cell_type": "markdown",
   "metadata": {},
   "source": [
    "### Which specific high schools should be targeted for an expanded summer jobs program?<BR>\n",
    "You identify high schools within a quarter mile of the remediation areas where high violent crime and high unemployment overlap."
   ]
  },
  {
   "cell_type": "markdown",
   "metadata": {},
   "source": [
    "![](images/J.png)"
   ]
  },
  {
   "cell_type": "markdown",
   "metadata": {},
   "source": [
    "You will recommend that several schools be included in an expanded summer jobs program.<BR><BR>\n",
    "Your analyses have gone well! You have several recommendations to propose to the Chief of Police.\n",
    "\n"
   ]
  },
  {
   "cell_type": "markdown",
   "metadata": {},
   "source": [
    "### Final recommendations"
   ]
  },
  {
   "cell_type": "markdown",
   "metadata": {},
   "source": [
    "![](images/K.png)"
   ]
  },
  {
   "cell_type": "markdown",
   "metadata": {},
   "source": [
    "Your final report will include the map above showing your recommendations below."
   ]
  },
  {
   "cell_type": "markdown",
   "metadata": {},
   "source": [
    "![](images/L.PNG)"
   ]
  },
  {
   "cell_type": "markdown",
   "metadata": {},
   "source": [
    "# Analyzing violent crime, workflow\n",
    "## Workflow using Python ArcGIS\n"
   ]
  },
  {
   "cell_type": "markdown",
   "metadata": {},
   "source": [
    "Connect your ArcGIS online organization."
   ]
  },
  {
   "cell_type": "code",
   "execution_count": 2,
   "metadata": {},
   "outputs": [],
   "source": [
    "from arcgis import *"
   ]
  },
  {
   "cell_type": "code",
   "execution_count": 3,
   "metadata": {},
   "outputs": [],
   "source": [
    "gis = GIS(\"https://deldev.maps.arcgis.com\", \"demo_deldev\", \"P@ssword123\")"
   ]
  },
  {
   "cell_type": "markdown",
   "metadata": {},
   "source": [
    "Accessing the content property of your gis object you can use the `search()` method. \n",
    "Search for **CrimeAnalysisData** content made by other users by turning the **outside_org** to True."
   ]
  },
  {
   "cell_type": "code",
   "execution_count": 3,
   "metadata": {},
   "outputs": [],
   "source": [
    "items = gis.content.search('title:CrimeAnalysisData owner:lscott_ANGP', outside_org=True)"
   ]
  },
  {
   "cell_type": "markdown",
   "metadata": {},
   "source": [
    "Importing the **display** module"
   ]
  },
  {
   "cell_type": "code",
   "execution_count": 4,
   "metadata": {},
   "outputs": [],
   "source": [
    "from IPython.display import display"
   ]
  },
  {
   "cell_type": "code",
   "execution_count": 5,
   "metadata": {},
   "outputs": [
    {
     "data": {
      "text/html": [
       "<div class=\"item_container\" style=\"height: auto; overflow: hidden; border: 1px solid #cfcfcf; border-radius: 2px; background: #f6fafa; line-height: 1.21429em; padding: 10px;\">\n",
       "                    <div class=\"item_left\" style=\"width: 210px; float: left;\">\n",
       "                       <a href='https://deldev.maps.arcgis.com/home/item.html?id=ada3bf6996f340f59f23af5f92f6267b' target='_blank'>\n",
       "                        <img src='data:image/png;base64,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' width='200' height='133' class=\"itemThumbnail\">\n",
       "                       </a>\n",
       "                    </div>\n",
       "\n",
       "                    <div class=\"item_right\"     style=\"float: none; width: auto; overflow: hidden;\">\n",
       "                        <a href='https://deldev.maps.arcgis.com/home/item.html?id=ada3bf6996f340f59f23af5f92f6267b' target='_blank'><b>CrimeAnalysisData</b>\n",
       "                        </a>\n",
       "                        <br/>This service has all of the data needed to work through the Analyzing Violent Crime case study.  Much of the data was obtained from www.cityofchicago.org<img src='https://deldev.maps.arcgis.com/home/js/jsapi/esri/css/images/item_type_icons/featureshosted16.png' style=\"vertical-align:middle;\">Feature Layer Collection by lscott_ANGP\n",
       "                        <br/>Last Modified: April 22, 2016\n",
       "                        <br/>0 comments, 2,187 views\n",
       "                    </div>\n",
       "                </div>\n",
       "                "
      ],
      "text/plain": [
       "<Item title:\"CrimeAnalysisData\" type:Feature Layer Collection owner:lscott_ANGP>"
      ]
     },
     "metadata": {},
     "output_type": "display_data"
    }
   ],
   "source": [
    "for item in items:\n",
    "    display(item)"
   ]
  },
  {
   "cell_type": "markdown",
   "metadata": {},
   "source": [
    "Getting the first item "
   ]
  },
  {
   "cell_type": "code",
   "execution_count": 6,
   "metadata": {},
   "outputs": [],
   "source": [
    "crime_item = items[0]"
   ]
  },
  {
   "cell_type": "markdown",
   "metadata": {},
   "source": [
    "Since the item is a Feature Layer Collection, accessing the layers property will give us a list of FeatureLayer objects."
   ]
  },
  {
   "cell_type": "code",
   "execution_count": 7,
   "metadata": {},
   "outputs": [],
   "source": [
    "lyrs = crime_item.layers"
   ]
  },
  {
   "cell_type": "markdown",
   "metadata": {},
   "source": [
    "The code below cycles through the layers and print their names."
   ]
  },
  {
   "cell_type": "code",
   "execution_count": 8,
   "metadata": {},
   "outputs": [
    {
     "name": "stdout",
     "output_type": "stream",
     "text": [
      "Public High Schools\n",
      "Liquor Vendors\n",
      "Violent Crime 2014\n",
      "Analysis Boundary\n"
     ]
    }
   ],
   "source": [
    "for lyr in lyrs:\n",
    "    print(lyr.properties.name)"
   ]
  },
  {
   "cell_type": "markdown",
   "metadata": {},
   "source": [
    "Getting the second layer and saving it in **violent_crimes**."
   ]
  },
  {
   "cell_type": "code",
   "execution_count": 9,
   "metadata": {},
   "outputs": [],
   "source": [
    "violent_crimes = lyrs[2]"
   ]
  },
  {
   "cell_type": "code",
   "execution_count": 10,
   "metadata": {},
   "outputs": [],
   "source": [
    "analysis_boundary = lyrs[3]"
   ]
  },
  {
   "cell_type": "code",
   "execution_count": 11,
   "metadata": {},
   "outputs": [
    {
     "data": {
      "text/plain": [
       "<FeatureLayer url:\"https://services1.arcgis.com/hLJbHVT9ZrDIzK0I/arcgis/rest/services/CrimeAnalysisData/FeatureServer/2\">"
      ]
     },
     "execution_count": 11,
     "metadata": {},
     "output_type": "execute_result"
    }
   ],
   "source": [
    "violent_crimes"
   ]
  },
  {
   "cell_type": "markdown",
   "metadata": {},
   "source": [
    "The GIS object includes a map widget for displaying geographic locations, visualizing GIS content, as well as the results of your analysis. To use the map widget, call gis.map() and assign it to a variable."
   ]
  },
  {
   "cell_type": "code",
   "execution_count": 12,
   "metadata": {},
   "outputs": [
    {
     "data": {
      "application/vnd.jupyter.widget-view+json": {
       "model_id": "fede0cc82d0449809086d3ebf598a609",
       "version_major": 2,
       "version_minor": 0
      },
      "text/html": [
       "<p>Failed to display Jupyter Widget of type <code>MapView</code>.</p>\n",
       "<p>\n",
       "  If you're reading this message in the Jupyter Notebook or JupyterLab Notebook, it may mean\n",
       "  that the widgets JavaScript is still loading. If this message persists, it\n",
       "  likely means that the widgets JavaScript library is either not installed or\n",
       "  not enabled. See the <a href=\"https://ipywidgets.readthedocs.io/en/stable/user_install.html\">Jupyter\n",
       "  Widgets Documentation</a> for setup instructions.\n",
       "</p>\n",
       "<p>\n",
       "  If you're reading this message in another frontend (for example, a static\n",
       "  rendering on GitHub or <a href=\"https://nbviewer.jupyter.org/\">NBViewer</a>),\n",
       "  it may mean that your frontend doesn't currently support widgets.\n",
       "</p>\n"
      ],
      "text/plain": [
       "MapView(basemaps=['dark-gray', 'dark-gray-vector', 'gray', 'gray-vector', 'hybrid', 'national-geographic', 'oceans', 'osm', 'satellite', 'streets', 'streets-navigation-vector', 'streets-night-vector', 'streets-relief-vector', 'streets-vector', 'terrain', 'topo', 'topo-vector'], center=[0, 0])"
      ]
     },
     "metadata": {},
     "output_type": "display_data"
    }
   ],
   "source": [
    "chicago_map = gis.map('Chicago')\n",
    "chicago_map"
   ]
  },
  {
   "cell_type": "markdown",
   "metadata": {},
   "source": [
    "![](images/map1.PNG)"
   ]
  },
  {
   "cell_type": "markdown",
   "metadata": {},
   "source": [
    "## Analyzing patterns in featurte data\n",
    "`GIS` has a set of tools to help you identify, quantify and visualize satial patterns in your data by identifying areas of statistically significant clusters. \n",
    "The  `find_hot_spots` tool allows you to visualize areas having significant clusters."
   ]
  },
  {
   "cell_type": "code",
   "execution_count": 13,
   "metadata": {},
   "outputs": [],
   "source": [
    "from arcgis.features.analyze_patterns import find_hot_spots"
   ]
  },
  {
   "cell_type": "code",
   "execution_count": 14,
   "metadata": {},
   "outputs": [],
   "source": [
    "crime_hot_spots = find_hot_spots(violent_crimes, output_name='Crime_Hot_Spots', bounding_polygon_layer= analysis_boundary)"
   ]
  },
  {
   "cell_type": "code",
   "execution_count": 15,
   "metadata": {},
   "outputs": [
    {
     "data": {
      "text/html": [
       "<div class=\"item_container\" style=\"height: auto; overflow: hidden; border: 1px solid #cfcfcf; border-radius: 2px; background: #f6fafa; line-height: 1.21429em; padding: 10px;\">\n",
       "                    <div class=\"item_left\" style=\"width: 210px; float: left;\">\n",
       "                       <a href='https://deldev.maps.arcgis.com/home/item.html?id=8968074f55044b5ebfa8f126f10823ab' target='_blank'>\n",
       "                        <img src='http://static.arcgis.com/images/desktopapp.png' class=\"itemThumbnail\">\n",
       "                       </a>\n",
       "                    </div>\n",
       "\n",
       "                    <div class=\"item_right\"     style=\"float: none; width: auto; overflow: hidden;\">\n",
       "                        <a href='https://deldev.maps.arcgis.com/home/item.html?id=8968074f55044b5ebfa8f126f10823ab' target='_blank'><b>Crime_Hot_Spots</b>\n",
       "                        </a>\n",
       "                        <br/><img src='https://deldev.maps.arcgis.com/home/js/jsapi/esri/css/images/item_type_icons/featureshosted16.png' style=\"vertical-align:middle;\">Feature Layer Collection by demo_deldev\n",
       "                        <br/>Last Modified: June 17, 2018\n",
       "                        <br/>0 comments, 0 views\n",
       "                    </div>\n",
       "                </div>\n",
       "                "
      ],
      "text/plain": [
       "<Item title:\"Crime_Hot_Spots\" type:Feature Layer Collection owner:demo_deldev>"
      ]
     },
     "execution_count": 15,
     "metadata": {},
     "output_type": "execute_result"
    }
   ],
   "source": [
    "crime_hot_spots"
   ]
  },
  {
   "cell_type": "code",
   "execution_count": 16,
   "metadata": {},
   "outputs": [
    {
     "data": {
      "application/vnd.jupyter.widget-view+json": {
       "model_id": "d25a2c9adaae4c0ab6aaf5cad1498517",
       "version_major": 2,
       "version_minor": 0
      },
      "text/html": [
       "<p>Failed to display Jupyter Widget of type <code>MapView</code>.</p>\n",
       "<p>\n",
       "  If you're reading this message in the Jupyter Notebook or JupyterLab Notebook, it may mean\n",
       "  that the widgets JavaScript is still loading. If this message persists, it\n",
       "  likely means that the widgets JavaScript library is either not installed or\n",
       "  not enabled. See the <a href=\"https://ipywidgets.readthedocs.io/en/stable/user_install.html\">Jupyter\n",
       "  Widgets Documentation</a> for setup instructions.\n",
       "</p>\n",
       "<p>\n",
       "  If you're reading this message in another frontend (for example, a static\n",
       "  rendering on GitHub or <a href=\"https://nbviewer.jupyter.org/\">NBViewer</a>),\n",
       "  it may mean that your frontend doesn't currently support widgets.\n",
       "</p>\n"
      ],
      "text/plain": [
       "MapView(basemaps=['dark-gray', 'dark-gray-vector', 'gray', 'gray-vector', 'hybrid', 'national-geographic', 'oceans', 'osm', 'satellite', 'streets', 'streets-navigation-vector', 'streets-night-vector', 'streets-relief-vector', 'streets-vector', 'terrain', 'topo', 'topo-vector'], center=[0, 0])"
      ]
     },
     "metadata": {},
     "output_type": "display_data"
    }
   ],
   "source": [
    "crime_spots_map = gis.map('Chicago')\n",
    "crime_spots_map"
   ]
  },
  {
   "cell_type": "markdown",
   "metadata": {},
   "source": [
    "![](images/map2.PNG)"
   ]
  },
  {
   "cell_type": "markdown",
   "metadata": {},
   "source": [
    "You can add a number of different layer objects such as FeatureLayer, FeatureCollection, ImageryLayer, MapImageLayer to the map\n",
    "by calling the add_layer() method."
   ]
  },
  {
   "cell_type": "code",
   "execution_count": 17,
   "metadata": {},
   "outputs": [],
   "source": [
    "crime_spots_map.add_layer(crime_hot_spots)"
   ]
  },
  {
   "cell_type": "markdown",
   "metadata": {},
   "source": [
    "Getting the liquor_vendors layer from the lyrs item"
   ]
  },
  {
   "cell_type": "code",
   "execution_count": 18,
   "metadata": {},
   "outputs": [],
   "source": [
    "liquor_vendors = lyrs[1]"
   ]
  },
  {
   "cell_type": "markdown",
   "metadata": {},
   "source": [
    "Find hotspots for **liquor_vendors** layer"
   ]
  },
  {
   "cell_type": "code",
   "execution_count": 19,
   "metadata": {},
   "outputs": [],
   "source": [
    "liquor_vendor_hot_spots = find_hot_spots(liquor_vendors,\n",
    "                                         output_name='liquor Hot Spots', aggregation_polygon_layer= crime_hot_spots)"
   ]
  },
  {
   "cell_type": "code",
   "execution_count": 20,
   "metadata": {
    "scrolled": true
   },
   "outputs": [
    {
     "data": {
      "text/html": [
       "<div class=\"item_container\" style=\"height: auto; overflow: hidden; border: 1px solid #cfcfcf; border-radius: 2px; background: #f6fafa; line-height: 1.21429em; padding: 10px;\">\n",
       "                    <div class=\"item_left\" style=\"width: 210px; float: left;\">\n",
       "                       <a href='https://deldev.maps.arcgis.com/home/item.html?id=66d4dfa808644e78a43667d77be86d77' target='_blank'>\n",
       "                        <img src='http://static.arcgis.com/images/desktopapp.png' class=\"itemThumbnail\">\n",
       "                       </a>\n",
       "                    </div>\n",
       "\n",
       "                    <div class=\"item_right\"     style=\"float: none; width: auto; overflow: hidden;\">\n",
       "                        <a href='https://deldev.maps.arcgis.com/home/item.html?id=66d4dfa808644e78a43667d77be86d77' target='_blank'><b>liquor Hot Spots</b>\n",
       "                        </a>\n",
       "                        <br/><img src='https://deldev.maps.arcgis.com/home/js/jsapi/esri/css/images/item_type_icons/featureshosted16.png' style=\"vertical-align:middle;\">Feature Layer Collection by demo_deldev\n",
       "                        <br/>Last Modified: June 17, 2018\n",
       "                        <br/>0 comments, 1 views\n",
       "                    </div>\n",
       "                </div>\n",
       "                "
      ],
      "text/plain": [
       "<Item title:\"liquor Hot Spots\" type:Feature Layer Collection owner:demo_deldev>"
      ]
     },
     "execution_count": 20,
     "metadata": {},
     "output_type": "execute_result"
    }
   ],
   "source": [
    "liquor_vendor_hot_spots"
   ]
  },
  {
   "cell_type": "markdown",
   "metadata": {},
   "source": [
    "visualizing **liquor_vendor_hot_spots** on map"
   ]
  },
  {
   "cell_type": "code",
   "execution_count": 21,
   "metadata": {},
   "outputs": [
    {
     "data": {
      "application/vnd.jupyter.widget-view+json": {
       "model_id": "cc93a0c6249442f38b486b639680fcdc",
       "version_major": 2,
       "version_minor": 0
      },
      "text/html": [
       "<p>Failed to display Jupyter Widget of type <code>MapView</code>.</p>\n",
       "<p>\n",
       "  If you're reading this message in the Jupyter Notebook or JupyterLab Notebook, it may mean\n",
       "  that the widgets JavaScript is still loading. If this message persists, it\n",
       "  likely means that the widgets JavaScript library is either not installed or\n",
       "  not enabled. See the <a href=\"https://ipywidgets.readthedocs.io/en/stable/user_install.html\">Jupyter\n",
       "  Widgets Documentation</a> for setup instructions.\n",
       "</p>\n",
       "<p>\n",
       "  If you're reading this message in another frontend (for example, a static\n",
       "  rendering on GitHub or <a href=\"https://nbviewer.jupyter.org/\">NBViewer</a>),\n",
       "  it may mean that your frontend doesn't currently support widgets.\n",
       "</p>\n"
      ],
      "text/plain": [
       "MapView(basemaps=['dark-gray', 'dark-gray-vector', 'gray', 'gray-vector', 'hybrid', 'national-geographic', 'oceans', 'osm', 'satellite', 'streets', 'streets-navigation-vector', 'streets-night-vector', 'streets-relief-vector', 'streets-vector', 'terrain', 'topo', 'topo-vector'], center=[0, 0])"
      ]
     },
     "metadata": {},
     "output_type": "display_data"
    }
   ],
   "source": [
    "liquor_hot_spots_map = gis.map('Chicago')\n",
    "liquor_hot_spots_map"
   ]
  },
  {
   "cell_type": "code",
   "execution_count": 22,
   "metadata": {},
   "outputs": [],
   "source": [
    "liquor_hot_spots_map.add_layer(liquor_vendor_hot_spots)"
   ]
  },
  {
   "cell_type": "markdown",
   "metadata": {},
   "source": [
    "![](images/map3.PNG)"
   ]
  },
  {
   "cell_type": "markdown",
   "metadata": {},
   "source": [
    "### Enriching study areas\n",
    "The `enrich_layer` tool gives you demographic and landascape data for the people, places, and businesses in a specific area, or within a selected travel time or distance from a location. "
   ]
  },
  {
   "cell_type": "code",
   "execution_count": 23,
   "metadata": {},
   "outputs": [],
   "source": [
    "from arcgis.features.enrich_data import enrich_layer"
   ]
  },
  {
   "cell_type": "markdown",
   "metadata": {},
   "source": [
    "you can add analysis variables as a list variables you want to enrich your data with."
   ]
  },
  {
   "cell_type": "code",
   "execution_count": 24,
   "metadata": {},
   "outputs": [],
   "source": [
    "enriched_layer = enrich_layer(crime_hot_spots, \n",
    "                              analysis_variables=[\"households.ACSHHBPOV\"], \n",
    "                              output_name='Poverty Data')"
   ]
  },
  {
   "cell_type": "code",
   "execution_count": 25,
   "metadata": {},
   "outputs": [
    {
     "data": {
      "text/html": [
       "<div class=\"item_container\" style=\"height: auto; overflow: hidden; border: 1px solid #cfcfcf; border-radius: 2px; background: #f6fafa; line-height: 1.21429em; padding: 10px;\">\n",
       "                    <div class=\"item_left\" style=\"width: 210px; float: left;\">\n",
       "                       <a href='https://deldev.maps.arcgis.com/home/item.html?id=8422bf03e7d1473b9836747f5d831be6' target='_blank'>\n",
       "                        <img src='http://static.arcgis.com/images/desktopapp.png' class=\"itemThumbnail\">\n",
       "                       </a>\n",
       "                    </div>\n",
       "\n",
       "                    <div class=\"item_right\"     style=\"float: none; width: auto; overflow: hidden;\">\n",
       "                        <a href='https://deldev.maps.arcgis.com/home/item.html?id=8422bf03e7d1473b9836747f5d831be6' target='_blank'><b>Poverty Data</b>\n",
       "                        </a>\n",
       "                        <br/><img src='https://deldev.maps.arcgis.com/home/js/jsapi/esri/css/images/item_type_icons/featureshosted16.png' style=\"vertical-align:middle;\">Feature Layer Collection by demo_deldev\n",
       "                        <br/>Last Modified: June 17, 2018\n",
       "                        <br/>0 comments, 0 views\n",
       "                    </div>\n",
       "                </div>\n",
       "                "
      ],
      "text/plain": [
       "<Item title:\"Poverty Data\" type:Feature Layer Collection owner:demo_deldev>"
      ]
     },
     "execution_count": 25,
     "metadata": {},
     "output_type": "execute_result"
    }
   ],
   "source": [
    "enriched_layer"
   ]
  },
  {
   "cell_type": "markdown",
   "metadata": {},
   "source": [
    "Loading map and visualizing"
   ]
  },
  {
   "cell_type": "code",
   "execution_count": 26,
   "metadata": {},
   "outputs": [
    {
     "data": {
      "application/vnd.jupyter.widget-view+json": {
       "model_id": "170a025746514ac689a9d0eb83bdbf7d",
       "version_major": 2,
       "version_minor": 0
      },
      "text/html": [
       "<p>Failed to display Jupyter Widget of type <code>MapView</code>.</p>\n",
       "<p>\n",
       "  If you're reading this message in the Jupyter Notebook or JupyterLab Notebook, it may mean\n",
       "  that the widgets JavaScript is still loading. If this message persists, it\n",
       "  likely means that the widgets JavaScript library is either not installed or\n",
       "  not enabled. See the <a href=\"https://ipywidgets.readthedocs.io/en/stable/user_install.html\">Jupyter\n",
       "  Widgets Documentation</a> for setup instructions.\n",
       "</p>\n",
       "<p>\n",
       "  If you're reading this message in another frontend (for example, a static\n",
       "  rendering on GitHub or <a href=\"https://nbviewer.jupyter.org/\">NBViewer</a>),\n",
       "  it may mean that your frontend doesn't currently support widgets.\n",
       "</p>\n"
      ],
      "text/plain": [
       "MapView(basemaps=['dark-gray', 'dark-gray-vector', 'gray', 'gray-vector', 'hybrid', 'national-geographic', 'oceans', 'osm', 'satellite', 'streets', 'streets-navigation-vector', 'streets-night-vector', 'streets-relief-vector', 'streets-vector', 'terrain', 'topo', 'topo-vector'], center=[0, 0])"
      ]
     },
     "metadata": {},
     "output_type": "display_data"
    }
   ],
   "source": [
    "crime_enriched_map = gis.map('Chicago')\n",
    "crime_enriched_map"
   ]
  },
  {
   "cell_type": "code",
   "execution_count": 27,
   "metadata": {},
   "outputs": [],
   "source": [
    "crime_enriched_map.add_layer(enriched_layer)"
   ]
  },
  {
   "cell_type": "markdown",
   "metadata": {},
   "source": [
    "![](images/map4.PNG)"
   ]
  },
  {
   "cell_type": "markdown",
   "metadata": {},
   "source": [
    "You can find hot spots of the enriched_layer keeping the parameter analysis_field as the field from the analyisis variable."
   ]
  },
  {
   "cell_type": "code",
   "execution_count": 28,
   "metadata": {},
   "outputs": [],
   "source": [
    "poverty_data_hot_spots = find_hot_spots(enriched_layer, analysis_field='ACSHHBPOV',\n",
    "                                         output_name='poverty enriched hot spots')"
   ]
  },
  {
   "cell_type": "markdown",
   "metadata": {},
   "source": [
    "Load the map again to visualize the poverty_data_hot_spots"
   ]
  },
  {
   "cell_type": "code",
   "execution_count": 29,
   "metadata": {
    "scrolled": true
   },
   "outputs": [
    {
     "data": {
      "application/vnd.jupyter.widget-view+json": {
       "model_id": "cc9623c048fd4ce2abc650f138ffe987",
       "version_major": 2,
       "version_minor": 0
      },
      "text/html": [
       "<p>Failed to display Jupyter Widget of type <code>MapView</code>.</p>\n",
       "<p>\n",
       "  If you're reading this message in the Jupyter Notebook or JupyterLab Notebook, it may mean\n",
       "  that the widgets JavaScript is still loading. If this message persists, it\n",
       "  likely means that the widgets JavaScript library is either not installed or\n",
       "  not enabled. See the <a href=\"https://ipywidgets.readthedocs.io/en/stable/user_install.html\">Jupyter\n",
       "  Widgets Documentation</a> for setup instructions.\n",
       "</p>\n",
       "<p>\n",
       "  If you're reading this message in another frontend (for example, a static\n",
       "  rendering on GitHub or <a href=\"https://nbviewer.jupyter.org/\">NBViewer</a>),\n",
       "  it may mean that your frontend doesn't currently support widgets.\n",
       "</p>\n"
      ],
      "text/plain": [
       "MapView(basemaps=['dark-gray', 'dark-gray-vector', 'gray', 'gray-vector', 'hybrid', 'national-geographic', 'oceans', 'osm', 'satellite', 'streets', 'streets-navigation-vector', 'streets-night-vector', 'streets-relief-vector', 'streets-vector', 'terrain', 'topo', 'topo-vector'], center=[0, 0])"
      ]
     },
     "metadata": {},
     "output_type": "display_data"
    }
   ],
   "source": [
    "poverty_data_hot_spots_map = gis.map('Chicago')\n",
    "poverty_data_hot_spots_map"
   ]
  },
  {
   "cell_type": "code",
   "execution_count": 30,
   "metadata": {},
   "outputs": [],
   "source": [
    "poverty_data_hot_spots_map.add_layer(poverty_data_hot_spots)"
   ]
  },
  {
   "cell_type": "markdown",
   "metadata": {},
   "source": [
    "![](images/map5.PNG)"
   ]
  },
  {
   "cell_type": "markdown",
   "metadata": {},
   "source": [
    "Filter the crime_hot_spots,liquor_vendor_hot_spots, poverty_data_hot_spots by selecting only those places where the Gi_Bin attribute is 3 (this is the code for statistically significant hot spots at the 99 percent confidence level)"
   ]
  },
  {
   "cell_type": "code",
   "execution_count": 31,
   "metadata": {},
   "outputs": [],
   "source": [
    "crimelayer = crime_hot_spots.layers[0]\n",
    "crimelayer.filter = \"Gi_Bin = 3\""
   ]
  },
  {
   "cell_type": "code",
   "execution_count": 32,
   "metadata": {},
   "outputs": [],
   "source": [
    "liquorlayer = liquor_vendor_hot_spots.layers[0]\n",
    "liquorlayer.filter = \"Gi_Bin = 3\""
   ]
  },
  {
   "cell_type": "code",
   "execution_count": 34,
   "metadata": {},
   "outputs": [],
   "source": [
    "povertylayer = poverty_data_hot_spots.layers[0]\n",
    "povertylayer.filter = \"Gi_Bin = 3\""
   ]
  },
  {
   "cell_type": "markdown",
   "metadata": {},
   "source": [
    "# overlay_layers tool \n",
    "`overlay_layers` combines two or more layers into one single layer. You can think of overlay as peering through a stack of maps and creating a single map containing all the information found in the stack.\n",
    "The `Overlay Layers` tool requires two inputs: an input layer and an overlay layer. \n",
    "Use Overlay Layers to combine two layers into a single layer using an intersect, union, or erase method. "
   ]
  },
  {
   "cell_type": "code",
   "execution_count": 35,
   "metadata": {},
   "outputs": [],
   "source": [
    "from arcgis.features.manage_data import overlay_layers"
   ]
  },
  {
   "cell_type": "code",
   "execution_count": 36,
   "metadata": {},
   "outputs": [],
   "source": [
    "intersect_of_crime_vendor = overlay_layers(crimelayer, liquorlayer, tolerance=0, context={},\n",
    "                           output_name=\"intersect of crime vendor\")"
   ]
  },
  {
   "cell_type": "code",
   "execution_count": 37,
   "metadata": {},
   "outputs": [
    {
     "data": {
      "text/html": [
       "<div class=\"item_container\" style=\"height: auto; overflow: hidden; border: 1px solid #cfcfcf; border-radius: 2px; background: #f6fafa; line-height: 1.21429em; padding: 10px;\">\n",
       "                    <div class=\"item_left\" style=\"width: 210px; float: left;\">\n",
       "                       <a href='https://deldev.maps.arcgis.com/home/item.html?id=b910c92d38974dad97441076c9de38cf' target='_blank'>\n",
       "                        <img src='http://static.arcgis.com/images/desktopapp.png' class=\"itemThumbnail\">\n",
       "                       </a>\n",
       "                    </div>\n",
       "\n",
       "                    <div class=\"item_right\"     style=\"float: none; width: auto; overflow: hidden;\">\n",
       "                        <a href='https://deldev.maps.arcgis.com/home/item.html?id=b910c92d38974dad97441076c9de38cf' target='_blank'><b>intersect of crime vendor</b>\n",
       "                        </a>\n",
       "                        <br/><img src='https://deldev.maps.arcgis.com/home/js/jsapi/esri/css/images/item_type_icons/featureshosted16.png' style=\"vertical-align:middle;\">Feature Layer Collection by demo_deldev\n",
       "                        <br/>Last Modified: June 17, 2018\n",
       "                        <br/>0 comments, 0 views\n",
       "                    </div>\n",
       "                </div>\n",
       "                "
      ],
      "text/plain": [
       "<Item title:\"intersect of crime vendor\" type:Feature Layer Collection owner:demo_deldev>"
      ]
     },
     "execution_count": 37,
     "metadata": {},
     "output_type": "execute_result"
    }
   ],
   "source": [
    "intersect_of_crime_vendor"
   ]
  },
  {
   "cell_type": "code",
   "execution_count": 38,
   "metadata": {},
   "outputs": [],
   "source": [
    "intersected = overlay_layers(intersect_of_crime_vendor, poverty_data_hot_spots,\n",
    "                             output_name=\"intersect of crime vendor poverty\")"
   ]
  },
  {
   "cell_type": "code",
   "execution_count": 39,
   "metadata": {},
   "outputs": [
    {
     "data": {
      "text/html": [
       "<div class=\"item_container\" style=\"height: auto; overflow: hidden; border: 1px solid #cfcfcf; border-radius: 2px; background: #f6fafa; line-height: 1.21429em; padding: 10px;\">\n",
       "                    <div class=\"item_left\" style=\"width: 210px; float: left;\">\n",
       "                       <a href='https://deldev.maps.arcgis.com/home/item.html?id=bbfaa2d0ed8b4d449b2abe5f6a86f6fe' target='_blank'>\n",
       "                        <img src='http://static.arcgis.com/images/desktopapp.png' class=\"itemThumbnail\">\n",
       "                       </a>\n",
       "                    </div>\n",
       "\n",
       "                    <div class=\"item_right\"     style=\"float: none; width: auto; overflow: hidden;\">\n",
       "                        <a href='https://deldev.maps.arcgis.com/home/item.html?id=bbfaa2d0ed8b4d449b2abe5f6a86f6fe' target='_blank'><b>intersect of crime vendor poverty</b>\n",
       "                        </a>\n",
       "                        <br/><img src='https://deldev.maps.arcgis.com/home/js/jsapi/esri/css/images/item_type_icons/featureshosted16.png' style=\"vertical-align:middle;\">Feature Layer Collection by demo_deldev\n",
       "                        <br/>Last Modified: June 17, 2018\n",
       "                        <br/>0 comments, 0 views\n",
       "                    </div>\n",
       "                </div>\n",
       "                "
      ],
      "text/plain": [
       "<Item title:\"intersect of crime vendor poverty\" type:Feature Layer Collection owner:demo_deldev>"
      ]
     },
     "execution_count": 39,
     "metadata": {},
     "output_type": "execute_result"
    }
   ],
   "source": [
    "intersected"
   ]
  },
  {
   "cell_type": "markdown",
   "metadata": {},
   "source": [
    "Load the overlay layer on the map."
   ]
  },
  {
   "cell_type": "code",
   "execution_count": 40,
   "metadata": {},
   "outputs": [
    {
     "data": {
      "application/vnd.jupyter.widget-view+json": {
       "model_id": "9b3e0acfc1ca4e7b8f729886ec43b604",
       "version_major": 2,
       "version_minor": 0
      },
      "text/html": [
       "<p>Failed to display Jupyter Widget of type <code>MapView</code>.</p>\n",
       "<p>\n",
       "  If you're reading this message in the Jupyter Notebook or JupyterLab Notebook, it may mean\n",
       "  that the widgets JavaScript is still loading. If this message persists, it\n",
       "  likely means that the widgets JavaScript library is either not installed or\n",
       "  not enabled. See the <a href=\"https://ipywidgets.readthedocs.io/en/stable/user_install.html\">Jupyter\n",
       "  Widgets Documentation</a> for setup instructions.\n",
       "</p>\n",
       "<p>\n",
       "  If you're reading this message in another frontend (for example, a static\n",
       "  rendering on GitHub or <a href=\"https://nbviewer.jupyter.org/\">NBViewer</a>),\n",
       "  it may mean that your frontend doesn't currently support widgets.\n",
       "</p>\n"
      ],
      "text/plain": [
       "MapView(basemaps=['dark-gray', 'dark-gray-vector', 'gray', 'gray-vector', 'hybrid', 'national-geographic', 'oceans', 'osm', 'satellite', 'streets', 'streets-navigation-vector', 'streets-night-vector', 'streets-relief-vector', 'streets-vector', 'terrain', 'topo', 'topo-vector'], center=[0, 0])"
      ]
     },
     "metadata": {},
     "output_type": "display_data"
    }
   ],
   "source": [
    "intersected_map = gis.map('Chicago')\n",
    "intersected_map"
   ]
  },
  {
   "cell_type": "code",
   "execution_count": 41,
   "metadata": {},
   "outputs": [],
   "source": [
    "intersected_map.add_layer(intersected)"
   ]
  },
  {
   "cell_type": "markdown",
   "metadata": {},
   "source": [
    "![](images/map6.PNG)"
   ]
  },
  {
   "cell_type": "markdown",
   "metadata": {},
   "source": [
    "Acsesing the content property of your gis use `search()` method to search for **crime_trend** feature layer collection outside organization."
   ]
  },
  {
   "cell_type": "code",
   "execution_count": 42,
   "metadata": {},
   "outputs": [],
   "source": [
    "crime_trend = gis.content.search('title:ViolentCrimeTrend owner:lscott_ANGP', outside_org=True)"
   ]
  },
  {
   "cell_type": "markdown",
   "metadata": {},
   "source": [
    "Display the items of the contents searchd."
   ]
  },
  {
   "cell_type": "code",
   "execution_count": 43,
   "metadata": {},
   "outputs": [
    {
     "data": {
      "text/html": [
       "<div class=\"item_container\" style=\"height: auto; overflow: hidden; border: 1px solid #cfcfcf; border-radius: 2px; background: #f6fafa; line-height: 1.21429em; padding: 10px;\">\n",
       "                    <div class=\"item_left\" style=\"width: 210px; float: left;\">\n",
       "                       <a href='https://deldev.maps.arcgis.com/home/item.html?id=fda8eef13b90478694dbcc2a86ce255c' target='_blank'>\n",
       "                        <img src='data:image/png;base64,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' width='200' height='133' class=\"itemThumbnail\">\n",
       "                       </a>\n",
       "                    </div>\n",
       "\n",
       "                    <div class=\"item_right\"     style=\"float: none; width: auto; overflow: hidden;\">\n",
       "                        <a href='https://deldev.maps.arcgis.com/home/item.html?id=fda8eef13b90478694dbcc2a86ce255c' target='_blank'><b>ViolentCrimeTrends</b>\n",
       "                        </a>\n",
       "                        <br/>2014 Violent Crime Trends<img src='https://deldev.maps.arcgis.com/home/js/jsapi/esri/css/images/item_type_icons/featureshosted16.png' style=\"vertical-align:middle;\">Feature Layer Collection by lscott_ANGP\n",
       "                        <br/>Last Modified: April 23, 2016\n",
       "                        <br/>0 comments, 623 views\n",
       "                    </div>\n",
       "                </div>\n",
       "                "
      ],
      "text/plain": [
       "<Item title:\"ViolentCrimeTrends\" type:Feature Layer Collection owner:lscott_ANGP>"
      ]
     },
     "metadata": {},
     "output_type": "display_data"
    }
   ],
   "source": [
    "for item in crime_trend:\n",
    "    display(item)"
   ]
  },
  {
   "cell_type": "markdown",
   "metadata": {},
   "source": [
    "Get the first item from crime_trend. "
   ]
  },
  {
   "cell_type": "code",
   "execution_count": 44,
   "metadata": {},
   "outputs": [],
   "source": [
    "crime_trend_item = crime_trend[0]"
   ]
  },
  {
   "cell_type": "code",
   "execution_count": 45,
   "metadata": {},
   "outputs": [
    {
     "data": {
      "text/html": [
       "<div class=\"item_container\" style=\"height: auto; overflow: hidden; border: 1px solid #cfcfcf; border-radius: 2px; background: #f6fafa; line-height: 1.21429em; padding: 10px;\">\n",
       "                    <div class=\"item_left\" style=\"width: 210px; float: left;\">\n",
       "                       <a href='https://deldev.maps.arcgis.com/home/item.html?id=fda8eef13b90478694dbcc2a86ce255c' target='_blank'>\n",
       "                        <img src='data:image/png;base64,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' width='200' height='133' class=\"itemThumbnail\">\n",
       "                       </a>\n",
       "                    </div>\n",
       "\n",
       "                    <div class=\"item_right\"     style=\"float: none; width: auto; overflow: hidden;\">\n",
       "                        <a href='https://deldev.maps.arcgis.com/home/item.html?id=fda8eef13b90478694dbcc2a86ce255c' target='_blank'><b>ViolentCrimeTrends</b>\n",
       "                        </a>\n",
       "                        <br/>2014 Violent Crime Trends<img src='https://deldev.maps.arcgis.com/home/js/jsapi/esri/css/images/item_type_icons/featureshosted16.png' style=\"vertical-align:middle;\">Feature Layer Collection by lscott_ANGP\n",
       "                        <br/>Last Modified: April 23, 2016\n",
       "                        <br/>0 comments, 623 views\n",
       "                    </div>\n",
       "                </div>\n",
       "                "
      ],
      "text/plain": [
       "<Item title:\"ViolentCrimeTrends\" type:Feature Layer Collection owner:lscott_ANGP>"
      ]
     },
     "execution_count": 45,
     "metadata": {},
     "output_type": "execute_result"
    }
   ],
   "source": [
    "crime_trend_item"
   ]
  },
  {
   "cell_type": "markdown",
   "metadata": {},
   "source": [
    "Assign a variable name **crime_trend_layer** to the first layer from the features layer collection ."
   ]
  },
  {
   "cell_type": "code",
   "execution_count": 46,
   "metadata": {},
   "outputs": [],
   "source": [
    "crime_trend_layer = crime_trend_item.layers[0]"
   ]
  },
  {
   "cell_type": "markdown",
   "metadata": {},
   "source": [
    "Load and visualize the crime_trend_layer on map."
   ]
  },
  {
   "cell_type": "code",
   "execution_count": 47,
   "metadata": {},
   "outputs": [
    {
     "data": {
      "application/vnd.jupyter.widget-view+json": {
       "model_id": "d252dd81d2714ae6a738d4fc96ad55a8",
       "version_major": 2,
       "version_minor": 0
      },
      "text/html": [
       "<p>Failed to display Jupyter Widget of type <code>MapView</code>.</p>\n",
       "<p>\n",
       "  If you're reading this message in the Jupyter Notebook or JupyterLab Notebook, it may mean\n",
       "  that the widgets JavaScript is still loading. If this message persists, it\n",
       "  likely means that the widgets JavaScript library is either not installed or\n",
       "  not enabled. See the <a href=\"https://ipywidgets.readthedocs.io/en/stable/user_install.html\">Jupyter\n",
       "  Widgets Documentation</a> for setup instructions.\n",
       "</p>\n",
       "<p>\n",
       "  If you're reading this message in another frontend (for example, a static\n",
       "  rendering on GitHub or <a href=\"https://nbviewer.jupyter.org/\">NBViewer</a>),\n",
       "  it may mean that your frontend doesn't currently support widgets.\n",
       "</p>\n"
      ],
      "text/plain": [
       "MapView(basemaps=['dark-gray', 'dark-gray-vector', 'gray', 'gray-vector', 'hybrid', 'national-geographic', 'oceans', 'osm', 'satellite', 'streets', 'streets-navigation-vector', 'streets-night-vector', 'streets-relief-vector', 'streets-vector', 'terrain', 'topo', 'topo-vector'], center=[0, 0])"
      ]
     },
     "metadata": {},
     "output_type": "display_data"
    }
   ],
   "source": [
    "crime_trends_map = gis.map('Chicago')\n",
    "crime_trends_map"
   ]
  },
  {
   "cell_type": "code",
   "execution_count": 48,
   "metadata": {},
   "outputs": [],
   "source": [
    "crime_trends_map.add_layer(crime_trend_layer)"
   ]
  },
  {
   "cell_type": "markdown",
   "metadata": {},
   "source": [
    "![](images/map7.PNG)"
   ]
  },
  {
   "cell_type": "markdown",
   "metadata": {},
   "source": [
    "Use the `enrich_layer` tool to add more demographic information to the layer."
   ]
  },
  {
   "cell_type": "code",
   "execution_count": 49,
   "metadata": {},
   "outputs": [],
   "source": [
    "crime_trend_enriched_unemployment = enrich_layer(crime_trend_layer, \n",
    "                              analysis_variables=[\"industry.UNEMPRT_CY\"], \n",
    "                              output_name='Unemployment enriched layer')"
   ]
  },
  {
   "cell_type": "markdown",
   "metadata": {},
   "source": [
    "Use find_hot_spots tool to spot hot spots of **cime_trend_enriched_unemployment** layer."
   ]
  },
  {
   "cell_type": "code",
   "execution_count": 50,
   "metadata": {},
   "outputs": [],
   "source": [
    "unemployment_rate_hot_spots = find_hot_spots(crime_trend_enriched_unemployment,\n",
    "                                             analysis_field='UNEMPRT_CY',\n",
    "                                         output_name='unemployment Rate hotspots')"
   ]
  },
  {
   "cell_type": "markdown",
   "metadata": {},
   "source": [
    "Load and visualize hot spots on map."
   ]
  },
  {
   "cell_type": "code",
   "execution_count": 51,
   "metadata": {},
   "outputs": [
    {
     "data": {
      "application/vnd.jupyter.widget-view+json": {
       "model_id": "ec67d8801eee4512bb5a0c65f4f3903f",
       "version_major": 2,
       "version_minor": 0
      },
      "text/html": [
       "<p>Failed to display Jupyter Widget of type <code>MapView</code>.</p>\n",
       "<p>\n",
       "  If you're reading this message in the Jupyter Notebook or JupyterLab Notebook, it may mean\n",
       "  that the widgets JavaScript is still loading. If this message persists, it\n",
       "  likely means that the widgets JavaScript library is either not installed or\n",
       "  not enabled. See the <a href=\"https://ipywidgets.readthedocs.io/en/stable/user_install.html\">Jupyter\n",
       "  Widgets Documentation</a> for setup instructions.\n",
       "</p>\n",
       "<p>\n",
       "  If you're reading this message in another frontend (for example, a static\n",
       "  rendering on GitHub or <a href=\"https://nbviewer.jupyter.org/\">NBViewer</a>),\n",
       "  it may mean that your frontend doesn't currently support widgets.\n",
       "</p>\n"
      ],
      "text/plain": [
       "MapView(basemaps=['dark-gray', 'dark-gray-vector', 'gray', 'gray-vector', 'hybrid', 'national-geographic', 'oceans', 'osm', 'satellite', 'streets', 'streets-navigation-vector', 'streets-night-vector', 'streets-relief-vector', 'streets-vector', 'terrain', 'topo', 'topo-vector'], center=[0, 0])"
      ]
     },
     "metadata": {},
     "output_type": "display_data"
    }
   ],
   "source": [
    "unemployment_rate_hot_spots_map = gis.map('Chicago')\n",
    "unemployment_rate_hot_spots_map"
   ]
  },
  {
   "cell_type": "code",
   "execution_count": 52,
   "metadata": {},
   "outputs": [],
   "source": [
    "unemployment_rate_hot_spots_map.add_layer(unemployment_rate_hot_spots)"
   ]
  },
  {
   "cell_type": "markdown",
   "metadata": {},
   "source": [
    "![](images/map8.PNG)"
   ]
  },
  {
   "cell_type": "markdown",
   "metadata": {},
   "source": [
    "filter unemployment_rate_hot_spots to select locations where the Gi_Bin Fixed 4554_FDR field is 3 (this is the code for statistically significant hot spots at the 99 percent confidence level).\n",
    "Filter the most intense unemployment hot spots"
   ]
  },
  {
   "cell_type": "code",
   "execution_count": 53,
   "metadata": {},
   "outputs": [],
   "source": [
    "unemployment_rate_hot_spots.layers[0].filter = \"Gi_Bin = 3\""
   ]
  },
  {
   "cell_type": "markdown",
   "metadata": {},
   "source": [
    "For the crime trends map, you are interested in specific Pattern Type values: Intensifying, Consecutive, and Persistent hot spots. "
   ]
  },
  {
   "cell_type": "code",
   "execution_count": 54,
   "metadata": {},
   "outputs": [],
   "source": [
    "crime_trend_layer.filter = \"(PATTERN = 'Consecutive Hot Spot') OR (PATTERN = 'Intensifying Hot Spot') OR (PATTERN = 'Persistent Hot Spot')\""
   ]
  },
  {
   "cell_type": "markdown",
   "metadata": {},
   "source": [
    "Use `overlay_layers` tool to find areas that are common to crime trend layer and unemployment_rate_hot_spots."
   ]
  },
  {
   "cell_type": "code",
   "execution_count": 55,
   "metadata": {},
   "outputs": [],
   "source": [
    "overlay = overlay_layers(crime_trend_layer, unemployment_rate_hot_spots,\n",
    "                         output_name=\"Overlay UnEmployment Crimetrend\")"
   ]
  },
  {
   "cell_type": "code",
   "execution_count": 56,
   "metadata": {},
   "outputs": [
    {
     "data": {
      "text/html": [
       "<div class=\"item_container\" style=\"height: auto; overflow: hidden; border: 1px solid #cfcfcf; border-radius: 2px; background: #f6fafa; line-height: 1.21429em; padding: 10px;\">\n",
       "                    <div class=\"item_left\" style=\"width: 210px; float: left;\">\n",
       "                       <a href='https://deldev.maps.arcgis.com/home/item.html?id=ec4a304cbbc04ba1847af51ec4e8a538' target='_blank'>\n",
       "                        <img src='http://static.arcgis.com/images/desktopapp.png' class=\"itemThumbnail\">\n",
       "                       </a>\n",
       "                    </div>\n",
       "\n",
       "                    <div class=\"item_right\"     style=\"float: none; width: auto; overflow: hidden;\">\n",
       "                        <a href='https://deldev.maps.arcgis.com/home/item.html?id=ec4a304cbbc04ba1847af51ec4e8a538' target='_blank'><b>Overlay UnEmployment Crimetrend</b>\n",
       "                        </a>\n",
       "                        <br/><img src='https://deldev.maps.arcgis.com/home/js/jsapi/esri/css/images/item_type_icons/featureshosted16.png' style=\"vertical-align:middle;\">Feature Layer Collection by demo_deldev\n",
       "                        <br/>Last Modified: June 17, 2018\n",
       "                        <br/>0 comments, 0 views\n",
       "                    </div>\n",
       "                </div>\n",
       "                "
      ],
      "text/plain": [
       "<Item title:\"Overlay UnEmployment Crimetrend\" type:Feature Layer Collection owner:demo_deldev>"
      ]
     },
     "execution_count": 56,
     "metadata": {},
     "output_type": "execute_result"
    }
   ],
   "source": [
    "overlay"
   ]
  },
  {
   "cell_type": "markdown",
   "metadata": {},
   "source": [
    "Load and visualize on map."
   ]
  },
  {
   "cell_type": "code",
   "execution_count": 57,
   "metadata": {},
   "outputs": [
    {
     "data": {
      "application/vnd.jupyter.widget-view+json": {
       "model_id": "41f9e48bbeae462f990113dd80b8e945",
       "version_major": 2,
       "version_minor": 0
      },
      "text/html": [
       "<p>Failed to display Jupyter Widget of type <code>MapView</code>.</p>\n",
       "<p>\n",
       "  If you're reading this message in the Jupyter Notebook or JupyterLab Notebook, it may mean\n",
       "  that the widgets JavaScript is still loading. If this message persists, it\n",
       "  likely means that the widgets JavaScript library is either not installed or\n",
       "  not enabled. See the <a href=\"https://ipywidgets.readthedocs.io/en/stable/user_install.html\">Jupyter\n",
       "  Widgets Documentation</a> for setup instructions.\n",
       "</p>\n",
       "<p>\n",
       "  If you're reading this message in another frontend (for example, a static\n",
       "  rendering on GitHub or <a href=\"https://nbviewer.jupyter.org/\">NBViewer</a>),\n",
       "  it may mean that your frontend doesn't currently support widgets.\n",
       "</p>\n"
      ],
      "text/plain": [
       "MapView(basemaps=['dark-gray', 'dark-gray-vector', 'gray', 'gray-vector', 'hybrid', 'national-geographic', 'oceans', 'osm', 'satellite', 'streets', 'streets-navigation-vector', 'streets-night-vector', 'streets-relief-vector', 'streets-vector', 'terrain', 'topo', 'topo-vector'], center=[0, 0])"
      ]
     },
     "metadata": {},
     "output_type": "display_data"
    }
   ],
   "source": [
    "overlay_map = gis.map('Chicago')\n",
    "overlay_map"
   ]
  },
  {
   "cell_type": "code",
   "execution_count": 58,
   "metadata": {},
   "outputs": [],
   "source": [
    "overlay_map.add_layer(overlay)"
   ]
  },
  {
   "cell_type": "markdown",
   "metadata": {},
   "source": [
    "![](images/map9.PNG)"
   ]
  },
  {
   "cell_type": "markdown",
   "metadata": {},
   "source": [
    "Getting the first layer and saving it in **public_high_school_layer**."
   ]
  },
  {
   "cell_type": "code",
   "execution_count": 59,
   "metadata": {},
   "outputs": [],
   "source": [
    "public_high_school_layer = lyrs[0]"
   ]
  },
  {
   "cell_type": "code",
   "execution_count": 60,
   "metadata": {},
   "outputs": [],
   "source": [
    "from arcgis.features.find_locations import find_existing_locations "
   ]
  },
  {
   "cell_type": "code",
   "execution_count": 61,
   "metadata": {},
   "outputs": [
    {
     "data": {
      "text/plain": [
       "'https://services1.arcgis.com/hLJbHVT9ZrDIzK0I/arcgis/rest/services/CrimeAnalysisData/FeatureServer/0'"
      ]
     },
     "execution_count": 61,
     "metadata": {},
     "output_type": "execute_result"
    }
   ],
   "source": [
    "public_high_school_layer.url"
   ]
  },
  {
   "cell_type": "code",
   "execution_count": 62,
   "metadata": {},
   "outputs": [],
   "source": [
    "nearby_schools = find_existing_locations(input_layers=[ {'url': public_high_school_layer.url},\n",
    "                                                       {'url': crime_trend_enriched_unemployment.layers[0].url}], \n",
    "                        expressions=[{\"operator\":\"\",\"layer\":0,\"selectingLayer\":1,\"spatialRel\":\"withinDistance\",\n",
    "                                      \"distance\":0.25,\"units\":\"Miles\"}], output_name='Nearby_Schools')"
   ]
  },
  {
   "cell_type": "code",
   "execution_count": 63,
   "metadata": {},
   "outputs": [
    {
     "data": {
      "text/html": [
       "<div class=\"item_container\" style=\"height: auto; overflow: hidden; border: 1px solid #cfcfcf; border-radius: 2px; background: #f6fafa; line-height: 1.21429em; padding: 10px;\">\n",
       "                    <div class=\"item_left\" style=\"width: 210px; float: left;\">\n",
       "                       <a href='https://deldev.maps.arcgis.com/home/item.html?id=2326274ec7194eee884c4cb2831adcb3' target='_blank'>\n",
       "                        <img src='http://static.arcgis.com/images/desktopapp.png' class=\"itemThumbnail\">\n",
       "                       </a>\n",
       "                    </div>\n",
       "\n",
       "                    <div class=\"item_right\"     style=\"float: none; width: auto; overflow: hidden;\">\n",
       "                        <a href='https://deldev.maps.arcgis.com/home/item.html?id=2326274ec7194eee884c4cb2831adcb3' target='_blank'><b>Nearby_Schools</b>\n",
       "                        </a>\n",
       "                        <br/><img src='https://deldev.maps.arcgis.com/home/js/jsapi/esri/css/images/item_type_icons/featureshosted16.png' style=\"vertical-align:middle;\">Feature Layer Collection by demo_deldev\n",
       "                        <br/>Last Modified: June 17, 2018\n",
       "                        <br/>0 comments, 0 views\n",
       "                    </div>\n",
       "                </div>\n",
       "                "
      ],
      "text/plain": [
       "<Item title:\"Nearby_Schools\" type:Feature Layer Collection owner:demo_deldev>"
      ]
     },
     "execution_count": 63,
     "metadata": {},
     "output_type": "execute_result"
    }
   ],
   "source": [
    "nearby_schools"
   ]
  },
  {
   "cell_type": "code",
   "execution_count": 64,
   "metadata": {},
   "outputs": [
    {
     "data": {
      "application/vnd.jupyter.widget-view+json": {
       "model_id": "1660810ee1864adc85cc7db2b57f9601",
       "version_major": 2,
       "version_minor": 0
      },
      "text/html": [
       "<p>Failed to display Jupyter Widget of type <code>MapView</code>.</p>\n",
       "<p>\n",
       "  If you're reading this message in the Jupyter Notebook or JupyterLab Notebook, it may mean\n",
       "  that the widgets JavaScript is still loading. If this message persists, it\n",
       "  likely means that the widgets JavaScript library is either not installed or\n",
       "  not enabled. See the <a href=\"https://ipywidgets.readthedocs.io/en/stable/user_install.html\">Jupyter\n",
       "  Widgets Documentation</a> for setup instructions.\n",
       "</p>\n",
       "<p>\n",
       "  If you're reading this message in another frontend (for example, a static\n",
       "  rendering on GitHub or <a href=\"https://nbviewer.jupyter.org/\">NBViewer</a>),\n",
       "  it may mean that your frontend doesn't currently support widgets.\n",
       "</p>\n"
      ],
      "text/plain": [
       "MapView(basemaps=['dark-gray', 'dark-gray-vector', 'gray', 'gray-vector', 'hybrid', 'national-geographic', 'oceans', 'osm', 'satellite', 'streets', 'streets-navigation-vector', 'streets-night-vector', 'streets-relief-vector', 'streets-vector', 'terrain', 'topo', 'topo-vector'], center=[0, 0])"
      ]
     },
     "metadata": {},
     "output_type": "display_data"
    }
   ],
   "source": [
    "selected_high_schools_map = gis.map('Chicago')\n",
    "selected_high_schools_map"
   ]
  },
  {
   "cell_type": "code",
   "execution_count": 65,
   "metadata": {},
   "outputs": [],
   "source": [
    "selected_high_schools_map.add_layer(nearby_schools)"
   ]
  },
  {
   "cell_type": "markdown",
   "metadata": {},
   "source": [
    "![](images/map10.PNG)"
   ]
  },
  {
   "cell_type": "code",
   "execution_count": null,
   "metadata": {},
   "outputs": [],
   "source": []
  }
 ],
 "metadata": {
  "kernelspec": {
   "display_name": "Python 3",
   "language": "python",
   "name": "python3"
  },
  "language_info": {
   "codemirror_mode": {
    "name": "ipython",
    "version": 3
   },
   "file_extension": ".py",
   "mimetype": "text/x-python",
   "name": "python",
   "nbconvert_exporter": "python",
   "pygments_lexer": "ipython3",
   "version": "3.6.4"
  }
 },
 "nbformat": 4,
 "nbformat_minor": 2
}
